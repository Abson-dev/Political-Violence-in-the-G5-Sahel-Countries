{
 "cells": [
  {
   "cell_type": "markdown",
   "id": "b3cb0f13",
   "metadata": {},
   "source": [
    "## Technical requirements\n",
    "\n",
    "```bash\n",
    "conda create -n gee python\n",
    "conda activate gee\n",
    "conda install -c conda-forge mamba\n",
    "mamba install -c conda-forge pygis\n",
    "```\n"
   ]
  },
  {
   "cell_type": "code",
   "execution_count": null,
   "id": "246fa7f6",
   "metadata": {},
   "outputs": [],
   "source": [
    "#%pip install pygis"
   ]
  },
  {
   "cell_type": "code",
   "execution_count": 1,
   "id": "2640c6a7",
   "metadata": {},
   "outputs": [],
   "source": [
    "import ee\n",
    "import geemap\n",
    "import leafmap\n",
    "#https://medium.com/@geonextgis/getting-started-with-geemap-a-guide-to-working-with-feature-and-image-collections-dfa438d59621"
   ]
  },
  {
   "cell_type": "code",
   "execution_count": 2,
   "id": "53d0026c",
   "metadata": {},
   "outputs": [
    {
     "data": {
      "text/html": [
       "\n",
       "            <style>\n",
       "                .geemap-dark {\n",
       "                    --jp-widgets-color: white;\n",
       "                    --jp-widgets-label-color: white;\n",
       "                    --jp-ui-font-color1: white;\n",
       "                    --jp-layout-color2: #454545;\n",
       "                    background-color: #383838;\n",
       "                }\n",
       "\n",
       "                .geemap-dark .jupyter-button {\n",
       "                    --jp-layout-color3: #383838;\n",
       "                }\n",
       "\n",
       "                .geemap-colab {\n",
       "                    background-color: var(--colab-primary-surface-color, white);\n",
       "                }\n",
       "\n",
       "                .geemap-colab .jupyter-button {\n",
       "                    --jp-layout-color3: var(--colab-primary-surface-color, white);\n",
       "                }\n",
       "            </style>\n",
       "            "
      ],
      "text/plain": [
       "<IPython.core.display.HTML object>"
      ]
     },
     "metadata": {},
     "output_type": "display_data"
    }
   ],
   "source": [
    "geemap.ee_initialize()"
   ]
  },
  {
   "cell_type": "markdown",
   "id": "537b60ac",
   "metadata": {},
   "source": [
    "## Load data"
   ]
  },
  {
   "cell_type": "code",
   "execution_count": 178,
   "id": "9bb0f4be",
   "metadata": {},
   "outputs": [
    {
     "data": {
      "text/html": [
       "\n",
       "            <style>\n",
       "                .geemap-dark {\n",
       "                    --jp-widgets-color: white;\n",
       "                    --jp-widgets-label-color: white;\n",
       "                    --jp-ui-font-color1: white;\n",
       "                    --jp-layout-color2: #454545;\n",
       "                    background-color: #383838;\n",
       "                }\n",
       "\n",
       "                .geemap-dark .jupyter-button {\n",
       "                    --jp-layout-color3: #383838;\n",
       "                }\n",
       "\n",
       "                .geemap-colab {\n",
       "                    background-color: var(--colab-primary-surface-color, white);\n",
       "                }\n",
       "\n",
       "                .geemap-colab .jupyter-button {\n",
       "                    --jp-layout-color3: var(--colab-primary-surface-color, white);\n",
       "                }\n",
       "            </style>\n",
       "            "
      ],
      "text/plain": [
       "<IPython.core.display.HTML object>"
      ]
     },
     "metadata": {},
     "output_type": "display_data"
    }
   ],
   "source": [
    "WorldPop = ee.ImageCollection(\"WorldPop/GP/100m/pop\")\n",
    "pop_sahel = ee.Image(\"projects/ee-aboubacarhema94/assets/ACLED/Sahel_pop_2020_UNadj_constrained\")\n",
    "sahel_adm2 = ee.FeatureCollection(\"projects/ee-aboubacarhema94/assets/ACLED/G5_Sahel_adm2\")\n",
    "events_diffusion = ee.FeatureCollection(\"projects/ee-aboubacarhema94/assets/ACLED/G5_Sahel_Diffusion\")\n",
    "geometry = ee.Geometry.Polygon(\n",
    "        [[[-19.7019400534855, 29.93665627910383],\n",
    "          [-19.7019400534855, 5.813630636937255],\n",
    "          [26.967981821514496, 5.813630636937255],\n",
    "          [26.967981821514496, 29.93665627910383]]])\n",
    "\n",
    "pop_sahel = ee.Image(pop_sahel)"
   ]
  },
  {
   "cell_type": "code",
   "execution_count": 179,
   "id": "2f9fcc30",
   "metadata": {},
   "outputs": [
    {
     "data": {
      "text/html": [
       "\n",
       "            <style>\n",
       "                .geemap-dark {\n",
       "                    --jp-widgets-color: white;\n",
       "                    --jp-widgets-label-color: white;\n",
       "                    --jp-ui-font-color1: white;\n",
       "                    --jp-layout-color2: #454545;\n",
       "                    background-color: #383838;\n",
       "                }\n",
       "\n",
       "                .geemap-dark .jupyter-button {\n",
       "                    --jp-layout-color3: #383838;\n",
       "                }\n",
       "\n",
       "                .geemap-colab {\n",
       "                    background-color: var(--colab-primary-surface-color, white);\n",
       "                }\n",
       "\n",
       "                .geemap-colab .jupyter-button {\n",
       "                    --jp-layout-color3: var(--colab-primary-surface-color, white);\n",
       "                }\n",
       "            </style>\n",
       "            "
      ],
      "text/plain": [
       "<IPython.core.display.HTML object>"
      ]
     },
     "metadata": {},
     "output_type": "display_data"
    }
   ],
   "source": [
    "viz_pop = {\n",
    "  'min': 0.0,\n",
    "  'max': 250.0,\n",
    "  'palette': ['24126c', '1fff4f', 'd4ff50'],\n",
    "}"
   ]
  },
  {
   "cell_type": "code",
   "execution_count": 180,
   "id": "5c1f931c",
   "metadata": {},
   "outputs": [
    {
     "data": {
      "text/html": [
       "\n",
       "            <style>\n",
       "                .geemap-dark {\n",
       "                    --jp-widgets-color: white;\n",
       "                    --jp-widgets-label-color: white;\n",
       "                    --jp-ui-font-color1: white;\n",
       "                    --jp-layout-color2: #454545;\n",
       "                    background-color: #383838;\n",
       "                }\n",
       "\n",
       "                .geemap-dark .jupyter-button {\n",
       "                    --jp-layout-color3: #383838;\n",
       "                }\n",
       "\n",
       "                .geemap-colab {\n",
       "                    background-color: var(--colab-primary-surface-color, white);\n",
       "                }\n",
       "\n",
       "                .geemap-colab .jupyter-button {\n",
       "                    --jp-layout-color3: var(--colab-primary-surface-color, white);\n",
       "                }\n",
       "            </style>\n",
       "            "
      ],
      "text/plain": [
       "<IPython.core.display.HTML object>"
      ]
     },
     "metadata": {},
     "output_type": "display_data"
    }
   ],
   "source": [
    "#Extract the projection before doing any computation\n",
    "projection = pop_sahel.projection()\n",
    "#print(ee.Number(projection.nominalScale()))"
   ]
  },
  {
   "cell_type": "code",
   "execution_count": 181,
   "id": "a9ee42ec",
   "metadata": {},
   "outputs": [
    {
     "data": {
      "text/html": [
       "\n",
       "            <style>\n",
       "                .geemap-dark {\n",
       "                    --jp-widgets-color: white;\n",
       "                    --jp-widgets-label-color: white;\n",
       "                    --jp-ui-font-color1: white;\n",
       "                    --jp-layout-color2: #454545;\n",
       "                    background-color: #383838;\n",
       "                }\n",
       "\n",
       "                .geemap-dark .jupyter-button {\n",
       "                    --jp-layout-color3: #383838;\n",
       "                }\n",
       "\n",
       "                .geemap-colab {\n",
       "                    background-color: var(--colab-primary-surface-color, white);\n",
       "                }\n",
       "\n",
       "                .geemap-colab .jupyter-button {\n",
       "                    --jp-layout-color3: var(--colab-primary-surface-color, white);\n",
       "                }\n",
       "            </style>\n",
       "            "
      ],
      "text/plain": [
       "<IPython.core.display.HTML object>"
      ]
     },
     "metadata": {},
     "output_type": "display_data"
    },
    {
     "data": {
      "application/vnd.jupyter.widget-view+json": {
       "model_id": "fb253df9ab9b46ab836c97c5acba5187",
       "version_major": 2,
       "version_minor": 0
      },
      "text/plain": [
       "Map(center=[0, 0], controls=(WidgetControl(options=['position', 'transparent_bg'], widget=SearchDataGUI(childr…"
      ]
     },
     "execution_count": 181,
     "metadata": {},
     "output_type": "execute_result"
    }
   ],
   "source": [
    "Map = geemap.Map()\n",
    "# Creat an interactive map\n",
    "#Map = Map.addLayer(WorldPop, viz_pop, 'Population Sahel', 0);\n",
    "Map.addLayer(pop_sahel, viz_pop, 'Population Sahel', True, 1)\n",
    "Map.addLayer(sahel_adm2, {'color': 'purple'}, \"sahel adm2\")\n",
    "Map.centerObject(sahel_adm2)\n",
    "Map"
   ]
  },
  {
   "cell_type": "code",
   "execution_count": 182,
   "id": "898c4dc8",
   "metadata": {
    "scrolled": true
   },
   "outputs": [
    {
     "data": {
      "text/html": [
       "\n",
       "            <style>\n",
       "                .geemap-dark {\n",
       "                    --jp-widgets-color: white;\n",
       "                    --jp-widgets-label-color: white;\n",
       "                    --jp-ui-font-color1: white;\n",
       "                    --jp-layout-color2: #454545;\n",
       "                    background-color: #383838;\n",
       "                }\n",
       "\n",
       "                .geemap-dark .jupyter-button {\n",
       "                    --jp-layout-color3: #383838;\n",
       "                }\n",
       "\n",
       "                .geemap-colab {\n",
       "                    background-color: var(--colab-primary-surface-color, white);\n",
       "                }\n",
       "\n",
       "                .geemap-colab .jupyter-button {\n",
       "                    --jp-layout-color3: var(--colab-primary-surface-color, white);\n",
       "                }\n",
       "            </style>\n",
       "            "
      ],
      "text/plain": [
       "<IPython.core.display.HTML object>"
      ]
     },
     "metadata": {},
     "output_type": "display_data"
    },
    {
     "name": "stdout",
     "output_type": "stream",
     "text": [
      "Computing statistics ...\n",
      "Generating URL ...\n",
      "Downloading data from https://earthengine.googleapis.com/v1/projects/earthengine-legacy/tables/4a551329f63de6286f99c12b54872243-f2d08717c29ce3b63ad157a6d65a6fdd:getFeatures\n",
      "Please wait ...\n",
      "Data downloaded to C:\\Users\\AHema\\OneDrive - CGIAR\\Desktop\\2023\\NORAD\\Political Violence in the G5 Sahel Countries\\Conflict diffusion indicator\\scripts\\pop_sahel_stats.csv\n"
     ]
    }
   ],
   "source": [
    "pop_sahel_stats = 'pop_sahel_stats.csv'\n",
    "geemap.zonal_stats(\n",
    "    pop_sahel,\n",
    "    sahel_adm2,\n",
    "    pop_sahel_stats,\n",
    "    statistics_type='SUM',\n",
    "    scale=100, \n",
    "    return_fc=False\n",
    ")\n"
   ]
  },
  {
   "cell_type": "markdown",
   "id": "343fb41f",
   "metadata": {},
   "source": [
    "## Start conflict diffusion indicator computation"
   ]
  },
  {
   "cell_type": "code",
   "execution_count": 183,
   "id": "ec8ab8a2",
   "metadata": {},
   "outputs": [
    {
     "data": {
      "text/html": [
       "\n",
       "            <style>\n",
       "                .geemap-dark {\n",
       "                    --jp-widgets-color: white;\n",
       "                    --jp-widgets-label-color: white;\n",
       "                    --jp-ui-font-color1: white;\n",
       "                    --jp-layout-color2: #454545;\n",
       "                    background-color: #383838;\n",
       "                }\n",
       "\n",
       "                .geemap-dark .jupyter-button {\n",
       "                    --jp-layout-color3: #383838;\n",
       "                }\n",
       "\n",
       "                .geemap-colab {\n",
       "                    background-color: var(--colab-primary-surface-color, white);\n",
       "                }\n",
       "\n",
       "                .geemap-colab .jupyter-button {\n",
       "                    --jp-layout-color3: var(--colab-primary-surface-color, white);\n",
       "                }\n",
       "            </style>\n",
       "            "
      ],
      "text/plain": [
       "<IPython.core.display.HTML object>"
      ]
     },
     "metadata": {},
     "output_type": "display_data"
    }
   ],
   "source": [
    "\n",
    "# year of event\n",
    "year = 2018\n",
    "\n",
    "#\n",
    "pop_seuil = 50\n",
    "\n",
    "#\n",
    "nb_events = 3"
   ]
  },
  {
   "cell_type": "markdown",
   "id": "90885232",
   "metadata": {},
   "source": [
    "1. Create a spatial grid of 10km-by-10km"
   ]
  },
  {
   "cell_type": "code",
   "execution_count": 184,
   "id": "fafb0dcd",
   "metadata": {},
   "outputs": [
    {
     "data": {
      "text/html": [
       "\n",
       "            <style>\n",
       "                .geemap-dark {\n",
       "                    --jp-widgets-color: white;\n",
       "                    --jp-widgets-label-color: white;\n",
       "                    --jp-ui-font-color1: white;\n",
       "                    --jp-layout-color2: #454545;\n",
       "                    background-color: #383838;\n",
       "                }\n",
       "\n",
       "                .geemap-dark .jupyter-button {\n",
       "                    --jp-layout-color3: #383838;\n",
       "                }\n",
       "\n",
       "                .geemap-colab {\n",
       "                    background-color: var(--colab-primary-surface-color, white);\n",
       "                }\n",
       "\n",
       "                .geemap-colab .jupyter-button {\n",
       "                    --jp-layout-color3: var(--colab-primary-surface-color, white);\n",
       "                }\n",
       "            </style>\n",
       "            "
      ],
      "text/plain": [
       "<IPython.core.display.HTML object>"
      ]
     },
     "metadata": {},
     "output_type": "display_data"
    }
   ],
   "source": [
    "# ****** Aggregation to 10km ****** #\n",
    "country_pop = pop_sahel\n",
    "\n",
    "# Get the projection at required scale\n",
    "projectionAt1k = projection.atScale(1000)\n",
    "projectionAt10k = projection.atScale(10000)\n",
    "\n",
    "# Step1: 100m to 1000m\n",
    "country_popAt1k = country_pop \\\n",
    "  .reduceResolution(**{\n",
    "    'reducer': ee.Reducer.sum().unweighted(),\n",
    "    'maxPixels': 1024\n",
    "  }) \\\n",
    "  .reproject(**{\n",
    "    'crs': projectionAt1k\n",
    "  })\n",
    "# Step2: 1000m to 10000m\n",
    "country_popAt10k = country_popAt1k \\\n",
    "  .reduceResolution(**{\n",
    "    'reducer': ee.Reducer.sum().unweighted(),\n",
    "    'maxPixels': 1024\n",
    "  }) \\\n",
    "  .reproject(**{\n",
    "    'crs': projectionAt10k\n",
    "  })"
   ]
  },
  {
   "cell_type": "code",
   "execution_count": 185,
   "id": "abf5cb1e",
   "metadata": {},
   "outputs": [
    {
     "data": {
      "text/html": [
       "\n",
       "            <style>\n",
       "                .geemap-dark {\n",
       "                    --jp-widgets-color: white;\n",
       "                    --jp-widgets-label-color: white;\n",
       "                    --jp-ui-font-color1: white;\n",
       "                    --jp-layout-color2: #454545;\n",
       "                    background-color: #383838;\n",
       "                }\n",
       "\n",
       "                .geemap-dark .jupyter-button {\n",
       "                    --jp-layout-color3: #383838;\n",
       "                }\n",
       "\n",
       "                .geemap-colab {\n",
       "                    background-color: var(--colab-primary-surface-color, white);\n",
       "                }\n",
       "\n",
       "                .geemap-colab .jupyter-button {\n",
       "                    --jp-layout-color3: var(--colab-primary-surface-color, white);\n",
       "                }\n",
       "            </style>\n",
       "            "
      ],
      "text/plain": [
       "<IPython.core.display.HTML object>"
      ]
     },
     "metadata": {},
     "output_type": "display_data"
    },
    {
     "data": {
      "application/vnd.jupyter.widget-view+json": {
       "model_id": "fb253df9ab9b46ab836c97c5acba5187",
       "version_major": 2,
       "version_minor": 0
      },
      "text/plain": [
       "Map(bottom=3995.0, center=[17.369569793340958, 3.4630404598133353], controls=(WidgetControl(options=['position…"
      ]
     },
     "execution_count": 185,
     "metadata": {},
     "output_type": "execute_result"
    }
   ],
   "source": [
    "Map.addLayer(country_popAt1k.clip(sahel_adm2), viz_pop, 'Population Sahel 1km', 1)\n",
    "Map.addLayer(country_popAt10k.clip(sahel_adm2), viz_pop, 'Population Sahel 10km', 1)\n",
    "Map"
   ]
  },
  {
   "cell_type": "markdown",
   "id": "c1fef0e9",
   "metadata": {},
   "source": [
    "2. Remove grid cells with less than 100 habitants using population data from WorldPop (pop_country)"
   ]
  },
  {
   "cell_type": "code",
   "execution_count": 186,
   "id": "de2a1f2f",
   "metadata": {},
   "outputs": [
    {
     "data": {
      "text/html": [
       "\n",
       "            <style>\n",
       "                .geemap-dark {\n",
       "                    --jp-widgets-color: white;\n",
       "                    --jp-widgets-label-color: white;\n",
       "                    --jp-ui-font-color1: white;\n",
       "                    --jp-layout-color2: #454545;\n",
       "                    background-color: #383838;\n",
       "                }\n",
       "\n",
       "                .geemap-dark .jupyter-button {\n",
       "                    --jp-layout-color3: #383838;\n",
       "                }\n",
       "\n",
       "                .geemap-colab {\n",
       "                    background-color: var(--colab-primary-surface-color, white);\n",
       "                }\n",
       "\n",
       "                .geemap-colab .jupyter-button {\n",
       "                    --jp-layout-color3: var(--colab-primary-surface-color, white);\n",
       "                }\n",
       "            </style>\n",
       "            "
      ],
      "text/plain": [
       "<IPython.core.display.HTML object>"
      ]
     },
     "metadata": {},
     "output_type": "display_data"
    },
    {
     "data": {
      "application/vnd.jupyter.widget-view+json": {
       "model_id": "fb253df9ab9b46ab836c97c5acba5187",
       "version_major": 2,
       "version_minor": 0
      },
      "text/plain": [
       "Map(bottom=3995.0, center=[17.369569793340958, 3.4630404598133353], controls=(WidgetControl(options=['position…"
      ]
     },
     "execution_count": 186,
     "metadata": {},
     "output_type": "execute_result"
    }
   ],
   "source": [
    "country_popAt10k_100 = country_popAt10k.gte(pop_seuil)\n",
    "country_popAt10k_100 = country_popAt10k_100.updateMask(country_popAt10k_100.neq(0))\n",
    "bin = {'min': 0, 'max': 1, 'palette': ['red', 'green']}\n",
    "Map.addLayer(country_popAt10k_100, bin, 'Population 10km gt ' , 1)#'Population 10km gt ' + pop_seuil + ' habitants'\n",
    "Map\n"
   ]
  },
  {
   "cell_type": "code",
   "execution_count": 187,
   "id": "f0e79395",
   "metadata": {},
   "outputs": [
    {
     "data": {
      "text/html": [
       "\n",
       "            <style>\n",
       "                .geemap-dark {\n",
       "                    --jp-widgets-color: white;\n",
       "                    --jp-widgets-label-color: white;\n",
       "                    --jp-ui-font-color1: white;\n",
       "                    --jp-layout-color2: #454545;\n",
       "                    background-color: #383838;\n",
       "                }\n",
       "\n",
       "                .geemap-dark .jupyter-button {\n",
       "                    --jp-layout-color3: #383838;\n",
       "                }\n",
       "\n",
       "                .geemap-colab {\n",
       "                    background-color: var(--colab-primary-surface-color, white);\n",
       "                }\n",
       "\n",
       "                .geemap-colab .jupyter-button {\n",
       "                    --jp-layout-color3: var(--colab-primary-surface-color, white);\n",
       "                }\n",
       "            </style>\n",
       "            "
      ],
      "text/plain": [
       "<IPython.core.display.HTML object>"
      ]
     },
     "metadata": {},
     "output_type": "display_data"
    }
   ],
   "source": [
    "country_popAt10k_100 = country_popAt10k_100.unmask(0).rename('grid_cells_gte')#'grid_cells_gte' + pop_seuil + 'habitants'"
   ]
  },
  {
   "cell_type": "markdown",
   "id": "1303db4b",
   "metadata": {},
   "source": [
    "3. Identify grid cells with at least 10 conflict events per year using events_diffusion layer"
   ]
  },
  {
   "cell_type": "markdown",
   "id": "08dc6ae1",
   "metadata": {},
   "source": [
    "3.1 Number of Conflict event"
   ]
  },
  {
   "cell_type": "code",
   "execution_count": 136,
   "id": "d34c2730",
   "metadata": {},
   "outputs": [
    {
     "data": {
      "text/html": [
       "\n",
       "            <style>\n",
       "                .geemap-dark {\n",
       "                    --jp-widgets-color: white;\n",
       "                    --jp-widgets-label-color: white;\n",
       "                    --jp-ui-font-color1: white;\n",
       "                    --jp-layout-color2: #454545;\n",
       "                    background-color: #383838;\n",
       "                }\n",
       "\n",
       "                .geemap-dark .jupyter-button {\n",
       "                    --jp-layout-color3: #383838;\n",
       "                }\n",
       "\n",
       "                .geemap-colab {\n",
       "                    background-color: var(--colab-primary-surface-color, white);\n",
       "                }\n",
       "\n",
       "                .geemap-colab .jupyter-button {\n",
       "                    --jp-layout-color3: var(--colab-primary-surface-color, white);\n",
       "                }\n",
       "            </style>\n",
       "            "
      ],
      "text/plain": [
       "<IPython.core.display.HTML object>"
      ]
     },
     "metadata": {},
     "output_type": "display_data"
    },
    {
     "data": {
      "text/plain": [
       "\"\\nimport geemap.chart as chart\\n\\nfeatures = events_diffusion.select('event_type')\\ndf = geemap.ee_to_df(features, sort_columns=True)\\ndf\\n\""
      ]
     },
     "execution_count": 136,
     "metadata": {},
     "output_type": "execute_result"
    }
   ],
   "source": [
    "'''\n",
    "import geemap.chart as chart\n",
    "\n",
    "features = events_diffusion.select('event_type')\n",
    "df = geemap.ee_to_df(features, sort_columns=True)\n",
    "df\n",
    "'''"
   ]
  },
  {
   "cell_type": "code",
   "execution_count": 188,
   "id": "581dfd22",
   "metadata": {},
   "outputs": [
    {
     "data": {
      "text/html": [
       "\n",
       "            <style>\n",
       "                .geemap-dark {\n",
       "                    --jp-widgets-color: white;\n",
       "                    --jp-widgets-label-color: white;\n",
       "                    --jp-ui-font-color1: white;\n",
       "                    --jp-layout-color2: #454545;\n",
       "                    background-color: #383838;\n",
       "                }\n",
       "\n",
       "                .geemap-dark .jupyter-button {\n",
       "                    --jp-layout-color3: #383838;\n",
       "                }\n",
       "\n",
       "                .geemap-colab {\n",
       "                    background-color: var(--colab-primary-surface-color, white);\n",
       "                }\n",
       "\n",
       "                .geemap-colab .jupyter-button {\n",
       "                    --jp-layout-color3: var(--colab-primary-surface-color, white);\n",
       "                }\n",
       "            </style>\n",
       "            "
      ],
      "text/plain": [
       "<IPython.core.display.HTML object>"
      ]
     },
     "metadata": {},
     "output_type": "display_data"
    }
   ],
   "source": [
    "events_diffusion_country_year = events_diffusion \\\n",
    "                                              .filter(ee.Filter.eq('year', year))\n",
    "\n",
    "#calculating the number of non-null values\n"
   ]
  },
  {
   "cell_type": "markdown",
   "id": "8feca8e7",
   "metadata": {},
   "source": [
    "3.2 Vizualise Conflict event layer"
   ]
  },
  {
   "cell_type": "code",
   "execution_count": 189,
   "id": "e8821aac",
   "metadata": {},
   "outputs": [
    {
     "data": {
      "text/html": [
       "\n",
       "            <style>\n",
       "                .geemap-dark {\n",
       "                    --jp-widgets-color: white;\n",
       "                    --jp-widgets-label-color: white;\n",
       "                    --jp-ui-font-color1: white;\n",
       "                    --jp-layout-color2: #454545;\n",
       "                    background-color: #383838;\n",
       "                }\n",
       "\n",
       "                .geemap-dark .jupyter-button {\n",
       "                    --jp-layout-color3: #383838;\n",
       "                }\n",
       "\n",
       "                .geemap-colab {\n",
       "                    background-color: var(--colab-primary-surface-color, white);\n",
       "                }\n",
       "\n",
       "                .geemap-colab .jupyter-button {\n",
       "                    --jp-layout-color3: var(--colab-primary-surface-color, white);\n",
       "                }\n",
       "            </style>\n",
       "            "
      ],
      "text/plain": [
       "<IPython.core.display.HTML object>"
      ]
     },
     "metadata": {},
     "output_type": "display_data"
    },
    {
     "data": {
      "application/vnd.jupyter.widget-view+json": {
       "model_id": "fb253df9ab9b46ab836c97c5acba5187",
       "version_major": 2,
       "version_minor": 0
      },
      "text/plain": [
       "Map(bottom=3995.0, center=[17.369569793340958, 3.4630404598133353], controls=(WidgetControl(options=['position…"
      ]
     },
     "execution_count": 189,
     "metadata": {},
     "output_type": "execute_result"
    }
   ],
   "source": [
    "# Use style() to visualize the points\n",
    "eventsStyled = {\n",
    "    'color': 'red',\n",
    "    'pointSize': 1,\n",
    "    'pointShape': 'triangle',\n",
    "    'width': 3,\n",
    "}\n",
    "\n",
    "Map.addLayer(events_diffusion_country_year.style(**eventsStyled), {}, \"conflict events\")\n",
    "Map"
   ]
  },
  {
   "cell_type": "markdown",
   "id": "c29955ba",
   "metadata": {},
   "source": [
    "3.3 Create image from conflict events layer\n",
    "\n"
   ]
  },
  {
   "cell_type": "code",
   "execution_count": 190,
   "id": "3d47c8db",
   "metadata": {},
   "outputs": [
    {
     "data": {
      "text/html": [
       "\n",
       "            <style>\n",
       "                .geemap-dark {\n",
       "                    --jp-widgets-color: white;\n",
       "                    --jp-widgets-label-color: white;\n",
       "                    --jp-ui-font-color1: white;\n",
       "                    --jp-layout-color2: #454545;\n",
       "                    background-color: #383838;\n",
       "                }\n",
       "\n",
       "                .geemap-dark .jupyter-button {\n",
       "                    --jp-layout-color3: #383838;\n",
       "                }\n",
       "\n",
       "                .geemap-colab {\n",
       "                    background-color: var(--colab-primary-surface-color, white);\n",
       "                }\n",
       "\n",
       "                .geemap-colab .jupyter-button {\n",
       "                    --jp-layout-color3: var(--colab-primary-surface-color, white);\n",
       "                }\n",
       "            </style>\n",
       "            "
      ],
      "text/plain": [
       "<IPython.core.display.HTML object>"
      ]
     },
     "metadata": {},
     "output_type": "display_data"
    }
   ],
   "source": [
    "#/ add dummy property to use for reduceToImage\n",
    "\n",
    "def func_dlg(feature):\n",
    "  return feature.set('dummy',1)\n",
    "\n",
    "if_events = ee.FeatureCollection(events_diffusion_country_year).map(func_dlg)\n"
   ]
  },
  {
   "cell_type": "code",
   "execution_count": 191,
   "id": "4a72a8c6",
   "metadata": {},
   "outputs": [
    {
     "data": {
      "text/html": [
       "\n",
       "            <style>\n",
       "                .geemap-dark {\n",
       "                    --jp-widgets-color: white;\n",
       "                    --jp-widgets-label-color: white;\n",
       "                    --jp-ui-font-color1: white;\n",
       "                    --jp-layout-color2: #454545;\n",
       "                    background-color: #383838;\n",
       "                }\n",
       "\n",
       "                .geemap-dark .jupyter-button {\n",
       "                    --jp-layout-color3: #383838;\n",
       "                }\n",
       "\n",
       "                .geemap-colab {\n",
       "                    background-color: var(--colab-primary-surface-color, white);\n",
       "                }\n",
       "\n",
       "                .geemap-colab .jupyter-button {\n",
       "                    --jp-layout-color3: var(--colab-primary-surface-color, white);\n",
       "                }\n",
       "            </style>\n",
       "            "
      ],
      "text/plain": [
       "<IPython.core.display.HTML object>"
      ]
     },
     "metadata": {},
     "output_type": "display_data"
    }
   ],
   "source": [
    "eventsImg = if_events.reduceToImage(['dummy'], ee.Reducer.sum().unweighted()) \\\n",
    "  .unmask(0) \\\n",
    "  .reproject('epsg:4326', None, 10000) \\\n",
    "  .clip(geometry)\n"
   ]
  },
  {
   "cell_type": "code",
   "execution_count": 192,
   "id": "adfd9316",
   "metadata": {},
   "outputs": [
    {
     "data": {
      "text/html": [
       "\n",
       "            <style>\n",
       "                .geemap-dark {\n",
       "                    --jp-widgets-color: white;\n",
       "                    --jp-widgets-label-color: white;\n",
       "                    --jp-ui-font-color1: white;\n",
       "                    --jp-layout-color2: #454545;\n",
       "                    background-color: #383838;\n",
       "                }\n",
       "\n",
       "                .geemap-dark .jupyter-button {\n",
       "                    --jp-layout-color3: #383838;\n",
       "                }\n",
       "\n",
       "                .geemap-colab {\n",
       "                    background-color: var(--colab-primary-surface-color, white);\n",
       "                }\n",
       "\n",
       "                .geemap-colab .jupyter-button {\n",
       "                    --jp-layout-color3: var(--colab-primary-surface-color, white);\n",
       "                }\n",
       "            </style>\n",
       "            "
      ],
      "text/plain": [
       "<IPython.core.display.HTML object>"
      ]
     },
     "metadata": {},
     "output_type": "display_data"
    },
    {
     "name": "stdout",
     "output_type": "stream",
     "text": [
      "Computing statistics ...\n",
      "Generating URL ...\n",
      "Downloading data from https://earthengine.googleapis.com/v1/projects/earthengine-legacy/tables/03dbe698a7cb64ef3012987a85adac07-223f0b06c5ab43859feb4be14125a8bb:getFeatures\n",
      "Please wait ...\n",
      "Data downloaded to C:\\Users\\AHema\\OneDrive - CGIAR\\Desktop\\2023\\NORAD\\Political Violence in the G5 Sahel Countries\\Conflict diffusion indicator\\scripts\\events_sahel_stats.csv\n"
     ]
    }
   ],
   "source": [
    "events_sahel_stats = 'events_sahel_stats.csv'\n",
    "geemap.zonal_stats(\n",
    "    eventsImg,\n",
    "    sahel_adm2,\n",
    "    events_sahel_stats,\n",
    "    statistics_type='SUM',\n",
    "    scale=10000, \n",
    "    return_fc=False\n",
    ")"
   ]
  },
  {
   "cell_type": "code",
   "execution_count": 193,
   "id": "d51cba8a",
   "metadata": {},
   "outputs": [
    {
     "data": {
      "text/html": [
       "\n",
       "            <style>\n",
       "                .geemap-dark {\n",
       "                    --jp-widgets-color: white;\n",
       "                    --jp-widgets-label-color: white;\n",
       "                    --jp-ui-font-color1: white;\n",
       "                    --jp-layout-color2: #454545;\n",
       "                    background-color: #383838;\n",
       "                }\n",
       "\n",
       "                .geemap-dark .jupyter-button {\n",
       "                    --jp-layout-color3: #383838;\n",
       "                }\n",
       "\n",
       "                .geemap-colab {\n",
       "                    background-color: var(--colab-primary-surface-color, white);\n",
       "                }\n",
       "\n",
       "                .geemap-colab .jupyter-button {\n",
       "                    --jp-layout-color3: var(--colab-primary-surface-color, white);\n",
       "                }\n",
       "            </style>\n",
       "            "
      ],
      "text/plain": [
       "<IPython.core.display.HTML object>"
      ]
     },
     "metadata": {},
     "output_type": "display_data"
    },
    {
     "data": {
      "application/vnd.jupyter.widget-view+json": {
       "model_id": "fb253df9ab9b46ab836c97c5acba5187",
       "version_major": 2,
       "version_minor": 0
      },
      "text/plain": [
       "Map(bottom=3995.0, center=[17.369569793340958, 3.4630404598133353], controls=(WidgetControl(options=['position…"
      ]
     },
     "execution_count": 193,
     "metadata": {},
     "output_type": "execute_result"
    }
   ],
   "source": [
    "viz_events = {\n",
    "  'min': 0.0,\n",
    "  'max': 34.0,\n",
    "  'palette': [\n",
    "    \"00ff00\",\"1A492C\",\"071EC4\",\"B5CA36\",\"729EAC\",\"8EA5DE\",\n",
    "    \"818991\",\"62A3C3\",\"CCF4FE\",\"74F0B9\",\"yellow\",\"C72144\",\n",
    "    \"56613B\",\"C14683\",\"C31C25\",\"5F6253\",\"11BF85\",\"A61B26\",\n",
    "    \"99FBC5\",\"188AAA\",\"C2D7F1\",\"B7D9D8\",\"856F96\",\"109C6B\",\n",
    "    \"2DE3F4\",\"9A777D\",\"151796\",\"C033D8\",\"510037\",\"640C21\",\n",
    "    \"31A191\",\"223AB0\",\"B692AC\",\"2DE3F4\",\n",
    "  ]\n",
    "}\n",
    "eventsImg_viz = eventsImg.updateMask(eventsImg.neq(0))\n",
    "Map.addLayer(eventsImg_viz.clip(sahel_adm2), viz_events , 'Number of Conflict event',1)\n",
    "Map"
   ]
  },
  {
   "cell_type": "code",
   "execution_count": 194,
   "id": "87189c0d",
   "metadata": {},
   "outputs": [
    {
     "data": {
      "text/html": [
       "\n",
       "            <style>\n",
       "                .geemap-dark {\n",
       "                    --jp-widgets-color: white;\n",
       "                    --jp-widgets-label-color: white;\n",
       "                    --jp-ui-font-color1: white;\n",
       "                    --jp-layout-color2: #454545;\n",
       "                    background-color: #383838;\n",
       "                }\n",
       "\n",
       "                .geemap-dark .jupyter-button {\n",
       "                    --jp-layout-color3: #383838;\n",
       "                }\n",
       "\n",
       "                .geemap-colab {\n",
       "                    background-color: var(--colab-primary-surface-color, white);\n",
       "                }\n",
       "\n",
       "                .geemap-colab .jupyter-button {\n",
       "                    --jp-layout-color3: var(--colab-primary-surface-color, white);\n",
       "                }\n",
       "            </style>\n",
       "            "
      ],
      "text/plain": [
       "<IPython.core.display.HTML object>"
      ]
     },
     "metadata": {},
     "output_type": "display_data"
    },
    {
     "data": {
      "application/vnd.jupyter.widget-view+json": {
       "model_id": "fb253df9ab9b46ab836c97c5acba5187",
       "version_major": 2,
       "version_minor": 0
      },
      "text/plain": [
       "Map(bottom=3995.0, center=[17.369569793340958, 3.4630404598133353], controls=(WidgetControl(options=['position…"
      ]
     },
     "execution_count": 194,
     "metadata": {},
     "output_type": "execute_result"
    }
   ],
   "source": [
    "multiplication = country_popAt10k_100.multiply(eventsImg)\n",
    "multiplication_10 = multiplication.gte(nb_events)\n",
    "multiplication_10 = multiplication_10.updateMask(multiplication_10.neq(0))\n",
    "Map.addLayer(multiplication_10.clip(sahel_adm2), bin, 'grid cells needed', 1)\n",
    "Map"
   ]
  },
  {
   "cell_type": "code",
   "execution_count": 195,
   "id": "e1d92bfa",
   "metadata": {},
   "outputs": [
    {
     "data": {
      "text/html": [
       "\n",
       "            <style>\n",
       "                .geemap-dark {\n",
       "                    --jp-widgets-color: white;\n",
       "                    --jp-widgets-label-color: white;\n",
       "                    --jp-ui-font-color1: white;\n",
       "                    --jp-layout-color2: #454545;\n",
       "                    background-color: #383838;\n",
       "                }\n",
       "\n",
       "                .geemap-dark .jupyter-button {\n",
       "                    --jp-layout-color3: #383838;\n",
       "                }\n",
       "\n",
       "                .geemap-colab {\n",
       "                    background-color: var(--colab-primary-surface-color, white);\n",
       "                }\n",
       "\n",
       "                .geemap-colab .jupyter-button {\n",
       "                    --jp-layout-color3: var(--colab-primary-surface-color, white);\n",
       "                }\n",
       "            </style>\n",
       "            "
      ],
      "text/plain": [
       "<IPython.core.display.HTML object>"
      ]
     },
     "metadata": {},
     "output_type": "display_data"
    }
   ],
   "source": [
    "multiplication_10 = multiplication_10.unmask(0).rename('grid_cells_needed')\n"
   ]
  },
  {
   "cell_type": "code",
   "execution_count": 200,
   "id": "3388729d",
   "metadata": {},
   "outputs": [
    {
     "data": {
      "text/html": [
       "\n",
       "            <style>\n",
       "                .geemap-dark {\n",
       "                    --jp-widgets-color: white;\n",
       "                    --jp-widgets-label-color: white;\n",
       "                    --jp-ui-font-color1: white;\n",
       "                    --jp-layout-color2: #454545;\n",
       "                    background-color: #383838;\n",
       "                }\n",
       "\n",
       "                .geemap-dark .jupyter-button {\n",
       "                    --jp-layout-color3: #383838;\n",
       "                }\n",
       "\n",
       "                .geemap-colab {\n",
       "                    background-color: var(--colab-primary-surface-color, white);\n",
       "                }\n",
       "\n",
       "                .geemap-colab .jupyter-button {\n",
       "                    --jp-layout-color3: var(--colab-primary-surface-color, white);\n",
       "                }\n",
       "            </style>\n",
       "            "
      ],
      "text/plain": [
       "<IPython.core.display.HTML object>"
      ]
     },
     "metadata": {},
     "output_type": "display_data"
    }
   ],
   "source": [
    "stacked_image = multiplication_10.addBands(country_popAt10k_100)\n",
    "#Create a function to calculate the feature class with ADM2 Name\n",
    "def calculateFeatureSum(feature):\n",
    "    events = stacked_image.reduceRegion(**{\n",
    "    'reducer': ee.Reducer.sum().unweighted(),\n",
    "    'geometry': feature.geometry(),#.buffer(10),\n",
    "    'scale': projectionAt10k.nominalScale(),\n",
    "    'maxPixels': 1e20\n",
    "    })\n",
    "    adm_level = feature.get('admin2Pcod')\n",
    "    return ee.Feature(\n",
    "      feature.geometry(),\n",
    "      events.set('admin2Pcod', adm_level))"
   ]
  },
  {
   "cell_type": "code",
   "execution_count": 201,
   "id": "b009de25",
   "metadata": {},
   "outputs": [
    {
     "data": {
      "text/html": [
       "\n",
       "            <style>\n",
       "                .geemap-dark {\n",
       "                    --jp-widgets-color: white;\n",
       "                    --jp-widgets-label-color: white;\n",
       "                    --jp-ui-font-color1: white;\n",
       "                    --jp-layout-color2: #454545;\n",
       "                    background-color: #383838;\n",
       "                }\n",
       "\n",
       "                .geemap-dark .jupyter-button {\n",
       "                    --jp-layout-color3: #383838;\n",
       "                }\n",
       "\n",
       "                .geemap-colab {\n",
       "                    background-color: var(--colab-primary-surface-color, white);\n",
       "                }\n",
       "\n",
       "                .geemap-colab .jupyter-button {\n",
       "                    --jp-layout-color3: var(--colab-primary-surface-color, white);\n",
       "                }\n",
       "            </style>\n",
       "            "
      ],
      "text/plain": [
       "<IPython.core.display.HTML object>"
      ]
     },
     "metadata": {},
     "output_type": "display_data"
    }
   ],
   "source": [
    "#Map Function to Create\n",
    "Feature_byADM2 = sahel_adm2.map(calculateFeatureSum)\n",
    "#geemap.ee_to_csv(Feature_byADM2, filename='conflict_diffusion_indicator.csv')"
   ]
  },
  {
   "cell_type": "markdown",
   "id": "00a7269a",
   "metadata": {},
   "source": [
    "4. Compute the proportion of high violence grid cells to total cells per adm2/year"
   ]
  },
  {
   "cell_type": "code",
   "execution_count": 202,
   "id": "34db23e3",
   "metadata": {},
   "outputs": [
    {
     "data": {
      "text/html": [
       "\n",
       "            <style>\n",
       "                .geemap-dark {\n",
       "                    --jp-widgets-color: white;\n",
       "                    --jp-widgets-label-color: white;\n",
       "                    --jp-ui-font-color1: white;\n",
       "                    --jp-layout-color2: #454545;\n",
       "                    background-color: #383838;\n",
       "                }\n",
       "\n",
       "                .geemap-dark .jupyter-button {\n",
       "                    --jp-layout-color3: #383838;\n",
       "                }\n",
       "\n",
       "                .geemap-colab {\n",
       "                    background-color: var(--colab-primary-surface-color, white);\n",
       "                }\n",
       "\n",
       "                .geemap-colab .jupyter-button {\n",
       "                    --jp-layout-color3: var(--colab-primary-surface-color, white);\n",
       "                }\n",
       "            </style>\n",
       "            "
      ],
      "text/plain": [
       "<IPython.core.display.HTML object>"
      ]
     },
     "metadata": {},
     "output_type": "display_data"
    }
   ],
   "source": [
    "def indicator(feature):\n",
    "  #\n",
    "  val = ee.Number(feature.get('grid_cells_needed')).divide(ee.Number(feature.get('grid_cells_gte')))\n",
    "  return feature.set('conflict_diffusion_indicator', val)\n",
    "\n",
    "Feature_byADM2 = Feature_byADM2.map(indicator)"
   ]
  },
  {
   "cell_type": "markdown",
   "id": "ad741c95",
   "metadata": {},
   "source": [
    "## Export to CSV"
   ]
  },
  {
   "cell_type": "code",
   "execution_count": 203,
   "id": "79ab03dc",
   "metadata": {},
   "outputs": [
    {
     "data": {
      "text/html": [
       "\n",
       "            <style>\n",
       "                .geemap-dark {\n",
       "                    --jp-widgets-color: white;\n",
       "                    --jp-widgets-label-color: white;\n",
       "                    --jp-ui-font-color1: white;\n",
       "                    --jp-layout-color2: #454545;\n",
       "                    background-color: #383838;\n",
       "                }\n",
       "\n",
       "                .geemap-dark .jupyter-button {\n",
       "                    --jp-layout-color3: #383838;\n",
       "                }\n",
       "\n",
       "                .geemap-colab {\n",
       "                    background-color: var(--colab-primary-surface-color, white);\n",
       "                }\n",
       "\n",
       "                .geemap-colab .jupyter-button {\n",
       "                    --jp-layout-color3: var(--colab-primary-surface-color, white);\n",
       "                }\n",
       "            </style>\n",
       "            "
      ],
      "text/plain": [
       "<IPython.core.display.HTML object>"
      ]
     },
     "metadata": {},
     "output_type": "display_data"
    }
   ],
   "source": [
    "geemap.ee_to_csv(Feature_byADM2, filename='conflict_diffusion_indicator.csv')"
   ]
  },
  {
   "cell_type": "code",
   "execution_count": 154,
   "id": "7bfe42d6",
   "metadata": {},
   "outputs": [
    {
     "data": {
      "text/html": [
       "\n",
       "            <style>\n",
       "                .geemap-dark {\n",
       "                    --jp-widgets-color: white;\n",
       "                    --jp-widgets-label-color: white;\n",
       "                    --jp-ui-font-color1: white;\n",
       "                    --jp-layout-color2: #454545;\n",
       "                    background-color: #383838;\n",
       "                }\n",
       "\n",
       "                .geemap-dark .jupyter-button {\n",
       "                    --jp-layout-color3: #383838;\n",
       "                }\n",
       "\n",
       "                .geemap-colab {\n",
       "                    background-color: var(--colab-primary-surface-color, white);\n",
       "                }\n",
       "\n",
       "                .geemap-colab .jupyter-button {\n",
       "                    --jp-layout-color3: var(--colab-primary-surface-color, white);\n",
       "                }\n",
       "            </style>\n",
       "            "
      ],
      "text/plain": [
       "<IPython.core.display.HTML object>"
      ]
     },
     "metadata": {},
     "output_type": "display_data"
    }
   ],
   "source": [
    "'''\n",
    "snippet = \"\"\"\n",
    "Export.table.toDrive({\n",
    "    collection: Feature_byADM2,\n",
    "    fileNamePrefix: 'events_diffusion_Count' + country + year + 'grid_cells_gte' + pop_seuil + 'habitants_gte' + nb_events,\n",
    "    description: 'events_diffusion_Count' + country + year + 'grid_cells_gte' + pop_seuil + 'habitants_gte' + nb_events ,\n",
    "    //folder: \"\", //set based on user preference\n",
    "    fileFormat: 'CSV',\n",
    "    selectors: ['admin2Pcod', 'grid_cells_gte' + pop_seuil + 'habitants_gte' + nb_events + 'events','grid_cells_gte' + pop_seuil + 'habitants','conflict_diffusion_indicator']\n",
    "    });\n",
    " \n",
    "\"\"\"\n",
    "\n",
    "geemap.js_snippet_to_py(snippet, add_new_cell=True, import_ee=False)\n",
    "'''"
   ]
  }
 ],
 "metadata": {
  "kernelspec": {
   "display_name": "Python 3 (ipykernel)",
   "language": "python",
   "name": "python3"
  },
  "language_info": {
   "codemirror_mode": {
    "name": "ipython",
    "version": 3
   },
   "file_extension": ".py",
   "mimetype": "text/x-python",
   "name": "python",
   "nbconvert_exporter": "python",
   "pygments_lexer": "ipython3",
   "version": "3.11.5"
  }
 },
 "nbformat": 4,
 "nbformat_minor": 5
}
