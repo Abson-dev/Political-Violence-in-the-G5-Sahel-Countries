{
 "cells": [
  {
   "cell_type": "markdown",
   "id": "a4238176",
   "metadata": {},
   "source": [
    "## Technical requirements\n",
    "\n",
    "```bash\n",
    "conda create -n gee python\n",
    "conda activate gee\n",
    "conda install -c conda-forge mamba\n",
    "mamba install -c conda-forge pygis\n",
    "```\n"
   ]
  },
  {
   "cell_type": "code",
   "execution_count": null,
   "id": "6cde7a43",
   "metadata": {},
   "outputs": [],
   "source": [
    "#%pip install pygis"
   ]
  },
  {
   "cell_type": "code",
   "execution_count": 1,
   "id": "8de8c05d",
   "metadata": {},
   "outputs": [],
   "source": [
    "import ee\n",
    "import geemap"
   ]
  },
  {
   "cell_type": "code",
   "execution_count": 2,
   "id": "4df638de",
   "metadata": {},
   "outputs": [
    {
     "data": {
      "text/html": [
       "\n",
       "            <style>\n",
       "                .geemap-dark {\n",
       "                    --jp-widgets-color: white;\n",
       "                    --jp-widgets-label-color: white;\n",
       "                    --jp-ui-font-color1: white;\n",
       "                    --jp-layout-color2: #454545;\n",
       "                    background-color: #383838;\n",
       "                }\n",
       "\n",
       "                .geemap-dark .jupyter-button {\n",
       "                    --jp-layout-color3: #383838;\n",
       "                }\n",
       "\n",
       "                .geemap-colab {\n",
       "                    background-color: var(--colab-primary-surface-color, white);\n",
       "                }\n",
       "\n",
       "                .geemap-colab .jupyter-button {\n",
       "                    --jp-layout-color3: var(--colab-primary-surface-color, white);\n",
       "                }\n",
       "            </style>\n",
       "            "
      ],
      "text/plain": [
       "<IPython.core.display.HTML object>"
      ]
     },
     "metadata": {},
     "output_type": "display_data"
    }
   ],
   "source": [
    "geemap.ee_initialize()"
   ]
  },
  {
   "cell_type": "markdown",
   "id": "f40b62fe",
   "metadata": {},
   "source": [
    "## Load data"
   ]
  },
  {
   "cell_type": "code",
   "execution_count": 4,
   "id": "e1405800",
   "metadata": {},
   "outputs": [
    {
     "data": {
      "text/html": [
       "\n",
       "            <style>\n",
       "                .geemap-dark {\n",
       "                    --jp-widgets-color: white;\n",
       "                    --jp-widgets-label-color: white;\n",
       "                    --jp-ui-font-color1: white;\n",
       "                    --jp-layout-color2: #454545;\n",
       "                    background-color: #383838;\n",
       "                }\n",
       "\n",
       "                .geemap-dark .jupyter-button {\n",
       "                    --jp-layout-color3: #383838;\n",
       "                }\n",
       "\n",
       "                .geemap-colab {\n",
       "                    background-color: var(--colab-primary-surface-color, white);\n",
       "                }\n",
       "\n",
       "                .geemap-colab .jupyter-button {\n",
       "                    --jp-layout-color3: var(--colab-primary-surface-color, white);\n",
       "                }\n",
       "            </style>\n",
       "            "
      ],
      "text/plain": [
       "<IPython.core.display.HTML object>"
      ]
     },
     "metadata": {},
     "output_type": "display_data"
    }
   ],
   "source": [
    "WorldPop = ee.ImageCollection(\"WorldPop/GP/100m/pop\")\n",
    "pop_sahel = ee.Image(\"projects/ee-aboubacarhema94/assets/ACLED/Sahel_pop_2020_UNadj_constrained\")\n",
    "sahel_adm2 = ee.FeatureCollection(\"projects/ee-aboubacarhema94/assets/ACLED/G5_Sahel_adm2\")\n",
    "events_diffusion = ee.FeatureCollection(\"projects/ee-aboubacarhema94/assets/ACLED/G5_Sahel_Diffusion\")\n",
    "geometry =ee.Geometry.Polygon(\n",
    "        [[[-18.199748102330243, 28.38016082795913],\n",
    "          [-18.199748102330243, 2.8095840714382856],\n",
    "          [27.327595647669753, 2.8095840714382856],\n",
    "          [27.327595647669753, 28.38016082795913]]], None, False)\n",
    "events_diffusion_period = ee.FeatureCollection(\"projects/ee-aboubacarhema94/assets/ACLED/G5_Sahel_Diffusion_period\")"
   ]
  },
  {
   "cell_type": "code",
   "execution_count": 36,
   "id": "3e044a4b",
   "metadata": {},
   "outputs": [
    {
     "data": {
      "text/html": [
       "\n",
       "            <style>\n",
       "                .geemap-dark {\n",
       "                    --jp-widgets-color: white;\n",
       "                    --jp-widgets-label-color: white;\n",
       "                    --jp-ui-font-color1: white;\n",
       "                    --jp-layout-color2: #454545;\n",
       "                    background-color: #383838;\n",
       "                }\n",
       "\n",
       "                .geemap-dark .jupyter-button {\n",
       "                    --jp-layout-color3: #383838;\n",
       "                }\n",
       "\n",
       "                .geemap-colab {\n",
       "                    background-color: var(--colab-primary-surface-color, white);\n",
       "                }\n",
       "\n",
       "                .geemap-colab .jupyter-button {\n",
       "                    --jp-layout-color3: var(--colab-primary-surface-color, white);\n",
       "                }\n",
       "            </style>\n",
       "            "
      ],
      "text/plain": [
       "<IPython.core.display.HTML object>"
      ]
     },
     "metadata": {},
     "output_type": "display_data"
    }
   ],
   "source": [
    "period_1_min = '2017-10-01'\n",
    "period_1_max = '2018-02-29'\n",
    "period_2_min = '2018-03-01'\n",
    "period_2_max = '2018-09-30'\n",
    "period_3_min = '2018-10-01'\n",
    "period_3_max = '2019-02-29'\n",
    "period_4_min = '2019-03-01'\n",
    "period_4_max = '2019-09-30'\n",
    "period_5_min = '2019-10-01'\n",
    "period_5_max = '2020-02-29'\n",
    "period_6_min = '2020-03-01'\n",
    "period_6_max = '2020-09-30'\n",
    "period_7_min = '2020-10-01'\n",
    "period_7_max = '2021-02-29'\n",
    "period_8_min = '2021-03-01'\n",
    "period_8_max = '2021-09-30'\n",
    "period_9_min = '2021-10-01'\n",
    "period_9_max = '2022-02-29'\n",
    "period_10_min = '2022-03-01'\n",
    "period_10_max = '2022-09-30'\n",
    "period_11_min = '2022-10-01'\n",
    "period_11_max = '2023-02-29'\n",
    "period_12_min = '2023-03-01'\n",
    "period_12_max = '2023-09-30'\n",
    "period_13_min = '2023-10-01'\n",
    "period_13_max = '2024-02-29'\n",
    "period_14_min = '2024-03-01'\n",
    "period_14_max = '2024-09-30'\n",
    "\n",
    "period_1 = \"Oct2017-Feb2018\"\n",
    "period_2 = \"Mar2018-Sep2018\"\n",
    "period_3 = \"Oct2018-Feb2019\"\n",
    "period_4 = \"Mar2019-Sep2019\"\n",
    "period_5 = \"Oct2019-Feb2020\"\n",
    "period_6 = \"Mar2020-Sep2020\"\n",
    "period_7 = \"Oct2020-Feb2021\"\n",
    "period_8 = \"Mar2021-Sep2021\"\n",
    "period_9 = \"Oct2021-Feb2022\"\n",
    "period_10 = \"Mar2022-Sep2022\"\n",
    "period_11 = \"Oct2022-Feb2023\"\n",
    "period_12 = \"Mar2023-Sep2023\"\n",
    "period_13 = \"Oct2023-Feb2024\"\n",
    "period_14 = \"Mar2024-Sep2024\""
   ]
  },
  {
   "cell_type": "code",
   "execution_count": 37,
   "id": "0cac7197",
   "metadata": {},
   "outputs": [
    {
     "data": {
      "text/html": [
       "\n",
       "            <style>\n",
       "                .geemap-dark {\n",
       "                    --jp-widgets-color: white;\n",
       "                    --jp-widgets-label-color: white;\n",
       "                    --jp-ui-font-color1: white;\n",
       "                    --jp-layout-color2: #454545;\n",
       "                    background-color: #383838;\n",
       "                }\n",
       "\n",
       "                .geemap-dark .jupyter-button {\n",
       "                    --jp-layout-color3: #383838;\n",
       "                }\n",
       "\n",
       "                .geemap-colab {\n",
       "                    background-color: var(--colab-primary-surface-color, white);\n",
       "                }\n",
       "\n",
       "                .geemap-colab .jupyter-button {\n",
       "                    --jp-layout-color3: var(--colab-primary-surface-color, white);\n",
       "                }\n",
       "            </style>\n",
       "            "
      ],
      "text/plain": [
       "<IPython.core.display.HTML object>"
      ]
     },
     "metadata": {},
     "output_type": "display_data"
    }
   ],
   "source": [
    "\n",
    "period_min = period_1_min\n",
    "period_max = period_1_max\n",
    "period = period_1\n",
    "\n",
    "\n",
    "pop_seuil = 50\n",
    "\n",
    "\n",
    "nb_events = 3\n",
    "\n"
   ]
  },
  {
   "cell_type": "code",
   "execution_count": 38,
   "id": "a462e69c",
   "metadata": {},
   "outputs": [
    {
     "data": {
      "text/html": [
       "\n",
       "            <style>\n",
       "                .geemap-dark {\n",
       "                    --jp-widgets-color: white;\n",
       "                    --jp-widgets-label-color: white;\n",
       "                    --jp-ui-font-color1: white;\n",
       "                    --jp-layout-color2: #454545;\n",
       "                    background-color: #383838;\n",
       "                }\n",
       "\n",
       "                .geemap-dark .jupyter-button {\n",
       "                    --jp-layout-color3: #383838;\n",
       "                }\n",
       "\n",
       "                .geemap-colab {\n",
       "                    background-color: var(--colab-primary-surface-color, white);\n",
       "                }\n",
       "\n",
       "                .geemap-colab .jupyter-button {\n",
       "                    --jp-layout-color3: var(--colab-primary-surface-color, white);\n",
       "                }\n",
       "            </style>\n",
       "            "
      ],
      "text/plain": [
       "<IPython.core.display.HTML object>"
      ]
     },
     "metadata": {},
     "output_type": "display_data"
    }
   ],
   "source": [
    "viz_pop = {\n",
    "  'min': 0.0,\n",
    "  'max': 250.0,\n",
    "  'palette': ['24126c', '1fff4f', 'd4ff50'],\n",
    "}"
   ]
  },
  {
   "cell_type": "code",
   "execution_count": 39,
   "id": "c8b900d7",
   "metadata": {},
   "outputs": [
    {
     "data": {
      "text/html": [
       "\n",
       "            <style>\n",
       "                .geemap-dark {\n",
       "                    --jp-widgets-color: white;\n",
       "                    --jp-widgets-label-color: white;\n",
       "                    --jp-ui-font-color1: white;\n",
       "                    --jp-layout-color2: #454545;\n",
       "                    background-color: #383838;\n",
       "                }\n",
       "\n",
       "                .geemap-dark .jupyter-button {\n",
       "                    --jp-layout-color3: #383838;\n",
       "                }\n",
       "\n",
       "                .geemap-colab {\n",
       "                    background-color: var(--colab-primary-surface-color, white);\n",
       "                }\n",
       "\n",
       "                .geemap-colab .jupyter-button {\n",
       "                    --jp-layout-color3: var(--colab-primary-surface-color, white);\n",
       "                }\n",
       "            </style>\n",
       "            "
      ],
      "text/plain": [
       "<IPython.core.display.HTML object>"
      ]
     },
     "metadata": {},
     "output_type": "display_data"
    }
   ],
   "source": [
    "#Extract the projection before doing any computation\n",
    "projection = pop_sahel.projection()\n",
    "#print(ee.Number(projection.nominalScale()))"
   ]
  },
  {
   "cell_type": "code",
   "execution_count": 40,
   "id": "3ceaf379",
   "metadata": {},
   "outputs": [
    {
     "data": {
      "text/html": [
       "\n",
       "            <style>\n",
       "                .geemap-dark {\n",
       "                    --jp-widgets-color: white;\n",
       "                    --jp-widgets-label-color: white;\n",
       "                    --jp-ui-font-color1: white;\n",
       "                    --jp-layout-color2: #454545;\n",
       "                    background-color: #383838;\n",
       "                }\n",
       "\n",
       "                .geemap-dark .jupyter-button {\n",
       "                    --jp-layout-color3: #383838;\n",
       "                }\n",
       "\n",
       "                .geemap-colab {\n",
       "                    background-color: var(--colab-primary-surface-color, white);\n",
       "                }\n",
       "\n",
       "                .geemap-colab .jupyter-button {\n",
       "                    --jp-layout-color3: var(--colab-primary-surface-color, white);\n",
       "                }\n",
       "            </style>\n",
       "            "
      ],
      "text/plain": [
       "<IPython.core.display.HTML object>"
      ]
     },
     "metadata": {},
     "output_type": "display_data"
    },
    {
     "data": {
      "application/vnd.jupyter.widget-view+json": {
       "model_id": "eb098d38bfac459db95fcda059fdd56f",
       "version_major": 2,
       "version_minor": 0
      },
      "text/plain": [
       "Map(center=[0, 0], controls=(WidgetControl(options=['position', 'transparent_bg'], widget=SearchDataGUI(childr…"
      ]
     },
     "execution_count": 40,
     "metadata": {},
     "output_type": "execute_result"
    }
   ],
   "source": [
    "Map = geemap.Map()\n",
    "# Creat an interactive map\n",
    "#Map = Map.addLayer(WorldPop, viz_pop, 'Population Sahel', 0);\n",
    "Map.addLayer(pop_sahel, viz_pop, 'Population Sahel', True, 1)\n",
    "Map.addLayer(sahel_adm2, {'color': 'purple'}, \"sahel adm2\")\n",
    "Map.centerObject(sahel_adm2)\n",
    "Map"
   ]
  },
  {
   "cell_type": "code",
   "execution_count": null,
   "id": "2b2c1b55",
   "metadata": {},
   "outputs": [],
   "source": [
    "'''\n",
    "pop_sahel_stats = 'pop_sahel_stats.csv'\n",
    "geemap.zonal_stats(\n",
    "    pop_sahel,\n",
    "    sahel_adm2,\n",
    "    pop_sahel_stats,\n",
    "    statistics_type='SUM',\n",
    "    scale=100, \n",
    "    return_fc=False\n",
    ")\n",
    "'''"
   ]
  },
  {
   "cell_type": "code",
   "execution_count": 41,
   "id": "94f56d40",
   "metadata": {},
   "outputs": [
    {
     "data": {
      "text/html": [
       "\n",
       "            <style>\n",
       "                .geemap-dark {\n",
       "                    --jp-widgets-color: white;\n",
       "                    --jp-widgets-label-color: white;\n",
       "                    --jp-ui-font-color1: white;\n",
       "                    --jp-layout-color2: #454545;\n",
       "                    background-color: #383838;\n",
       "                }\n",
       "\n",
       "                .geemap-dark .jupyter-button {\n",
       "                    --jp-layout-color3: #383838;\n",
       "                }\n",
       "\n",
       "                .geemap-colab {\n",
       "                    background-color: var(--colab-primary-surface-color, white);\n",
       "                }\n",
       "\n",
       "                .geemap-colab .jupyter-button {\n",
       "                    --jp-layout-color3: var(--colab-primary-surface-color, white);\n",
       "                }\n",
       "            </style>\n",
       "            "
      ],
      "text/plain": [
       "<IPython.core.display.HTML object>"
      ]
     },
     "metadata": {},
     "output_type": "display_data"
    },
    {
     "data": {
      "text/plain": [
       "{'max': {'b1': 4269.693359375},\n",
       " 'mean': {'b1': 13.01768505881743},\n",
       " 'min': {'b1': 0},\n",
       " 'std': {'b1': 20.775038775581848},\n",
       " 'sum': {'b1': 74382024.02896315}}"
      ]
     },
     "execution_count": 41,
     "metadata": {},
     "output_type": "execute_result"
    }
   ],
   "source": [
    "pop_sahel_stats = geemap.image_stats(pop_sahel, scale=100)\n",
    "pop_sahel_stats.getInfo()"
   ]
  },
  {
   "cell_type": "code",
   "execution_count": null,
   "id": "163d3838",
   "metadata": {},
   "outputs": [],
   "source": []
  },
  {
   "cell_type": "markdown",
   "id": "9b9cd1b8",
   "metadata": {},
   "source": [
    "## Start conflict diffusion indicator per period computation"
   ]
  },
  {
   "cell_type": "markdown",
   "id": "32373d83",
   "metadata": {},
   "source": [
    "1. Create a spatial grid of 10km-by-10km"
   ]
  },
  {
   "cell_type": "code",
   "execution_count": 42,
   "id": "fc6f1bba",
   "metadata": {},
   "outputs": [
    {
     "data": {
      "text/html": [
       "\n",
       "            <style>\n",
       "                .geemap-dark {\n",
       "                    --jp-widgets-color: white;\n",
       "                    --jp-widgets-label-color: white;\n",
       "                    --jp-ui-font-color1: white;\n",
       "                    --jp-layout-color2: #454545;\n",
       "                    background-color: #383838;\n",
       "                }\n",
       "\n",
       "                .geemap-dark .jupyter-button {\n",
       "                    --jp-layout-color3: #383838;\n",
       "                }\n",
       "\n",
       "                .geemap-colab {\n",
       "                    background-color: var(--colab-primary-surface-color, white);\n",
       "                }\n",
       "\n",
       "                .geemap-colab .jupyter-button {\n",
       "                    --jp-layout-color3: var(--colab-primary-surface-color, white);\n",
       "                }\n",
       "            </style>\n",
       "            "
      ],
      "text/plain": [
       "<IPython.core.display.HTML object>"
      ]
     },
     "metadata": {},
     "output_type": "display_data"
    }
   ],
   "source": [
    "# ****** Aggregation to 10km ****** #\n",
    "country_pop = pop_sahel\n",
    "\n",
    "# Get the projection at required scale\n",
    "projectionAt1k = projection.atScale(1000)\n",
    "projectionAt10k = projection.atScale(10000)\n",
    "\n",
    "# Step1: 100m to 1000m\n",
    "country_popAt1k = country_pop \\\n",
    "  .reduceResolution(**{\n",
    "    'reducer': ee.Reducer.sum().unweighted(),\n",
    "    'maxPixels': 1024\n",
    "  }) \\\n",
    "  .reproject(**{\n",
    "    'crs': projectionAt1k\n",
    "  })\n",
    "# Step2: 1000m to 10000m\n",
    "country_popAt10k = country_popAt1k \\\n",
    "  .reduceResolution(**{\n",
    "    'reducer': ee.Reducer.sum().unweighted(),\n",
    "    'maxPixels': 1024\n",
    "  }) \\\n",
    "  .reproject(**{\n",
    "    'crs': projectionAt10k\n",
    "  })"
   ]
  },
  {
   "cell_type": "code",
   "execution_count": 43,
   "id": "40922fb3",
   "metadata": {},
   "outputs": [
    {
     "data": {
      "text/html": [
       "\n",
       "            <style>\n",
       "                .geemap-dark {\n",
       "                    --jp-widgets-color: white;\n",
       "                    --jp-widgets-label-color: white;\n",
       "                    --jp-ui-font-color1: white;\n",
       "                    --jp-layout-color2: #454545;\n",
       "                    background-color: #383838;\n",
       "                }\n",
       "\n",
       "                .geemap-dark .jupyter-button {\n",
       "                    --jp-layout-color3: #383838;\n",
       "                }\n",
       "\n",
       "                .geemap-colab {\n",
       "                    background-color: var(--colab-primary-surface-color, white);\n",
       "                }\n",
       "\n",
       "                .geemap-colab .jupyter-button {\n",
       "                    --jp-layout-color3: var(--colab-primary-surface-color, white);\n",
       "                }\n",
       "            </style>\n",
       "            "
      ],
      "text/plain": [
       "<IPython.core.display.HTML object>"
      ]
     },
     "metadata": {},
     "output_type": "display_data"
    },
    {
     "data": {
      "application/vnd.jupyter.widget-view+json": {
       "model_id": "eb098d38bfac459db95fcda059fdd56f",
       "version_major": 2,
       "version_minor": 0
      },
      "text/plain": [
       "Map(bottom=3995.0, center=[17.369569793340958, 3.4630404598133353], controls=(WidgetControl(options=['position…"
      ]
     },
     "execution_count": 43,
     "metadata": {},
     "output_type": "execute_result"
    }
   ],
   "source": [
    "Map.addLayer(country_popAt1k.clip(sahel_adm2), viz_pop, 'Population Sahel 1km', 1)\n",
    "Map.addLayer(country_popAt10k.clip(sahel_adm2), viz_pop, 'Population Sahel 10km', 1)\n",
    "Map"
   ]
  },
  {
   "cell_type": "markdown",
   "id": "3314fd15",
   "metadata": {},
   "source": [
    "2. Remove grid cells with less than 100 habitants using population data from WorldPop (pop_country)"
   ]
  },
  {
   "cell_type": "code",
   "execution_count": 44,
   "id": "e30a16cf",
   "metadata": {},
   "outputs": [
    {
     "data": {
      "text/html": [
       "\n",
       "            <style>\n",
       "                .geemap-dark {\n",
       "                    --jp-widgets-color: white;\n",
       "                    --jp-widgets-label-color: white;\n",
       "                    --jp-ui-font-color1: white;\n",
       "                    --jp-layout-color2: #454545;\n",
       "                    background-color: #383838;\n",
       "                }\n",
       "\n",
       "                .geemap-dark .jupyter-button {\n",
       "                    --jp-layout-color3: #383838;\n",
       "                }\n",
       "\n",
       "                .geemap-colab {\n",
       "                    background-color: var(--colab-primary-surface-color, white);\n",
       "                }\n",
       "\n",
       "                .geemap-colab .jupyter-button {\n",
       "                    --jp-layout-color3: var(--colab-primary-surface-color, white);\n",
       "                }\n",
       "            </style>\n",
       "            "
      ],
      "text/plain": [
       "<IPython.core.display.HTML object>"
      ]
     },
     "metadata": {},
     "output_type": "display_data"
    },
    {
     "data": {
      "application/vnd.jupyter.widget-view+json": {
       "model_id": "eb098d38bfac459db95fcda059fdd56f",
       "version_major": 2,
       "version_minor": 0
      },
      "text/plain": [
       "Map(bottom=3995.0, center=[17.369569793340958, 3.4630404598133353], controls=(WidgetControl(options=['position…"
      ]
     },
     "execution_count": 44,
     "metadata": {},
     "output_type": "execute_result"
    }
   ],
   "source": [
    "country_popAt10k_100 = country_popAt10k.gte(pop_seuil)\n",
    "country_popAt10k_100 = country_popAt10k_100.updateMask(country_popAt10k_100.neq(0))\n",
    "bin = {'min': 0, 'max': 1, 'palette': ['red', 'green']}\n",
    "Map.addLayer(country_popAt10k_100, bin, 'Population 10km gt ' , 1)#'Population 10km gt ' + pop_seuil + ' habitants'\n",
    "Map"
   ]
  },
  {
   "cell_type": "code",
   "execution_count": 45,
   "id": "e6655175",
   "metadata": {},
   "outputs": [
    {
     "data": {
      "text/html": [
       "\n",
       "            <style>\n",
       "                .geemap-dark {\n",
       "                    --jp-widgets-color: white;\n",
       "                    --jp-widgets-label-color: white;\n",
       "                    --jp-ui-font-color1: white;\n",
       "                    --jp-layout-color2: #454545;\n",
       "                    background-color: #383838;\n",
       "                }\n",
       "\n",
       "                .geemap-dark .jupyter-button {\n",
       "                    --jp-layout-color3: #383838;\n",
       "                }\n",
       "\n",
       "                .geemap-colab {\n",
       "                    background-color: var(--colab-primary-surface-color, white);\n",
       "                }\n",
       "\n",
       "                .geemap-colab .jupyter-button {\n",
       "                    --jp-layout-color3: var(--colab-primary-surface-color, white);\n",
       "                }\n",
       "            </style>\n",
       "            "
      ],
      "text/plain": [
       "<IPython.core.display.HTML object>"
      ]
     },
     "metadata": {},
     "output_type": "display_data"
    }
   ],
   "source": [
    "country_popAt10k_100 = country_popAt10k_100.unmask(0).rename('grid_cells_gte')"
   ]
  },
  {
   "cell_type": "markdown",
   "id": "07ee4f02",
   "metadata": {},
   "source": [
    "3. Identify grid cells with at least 10 conflict events per year using events_diffusion layer"
   ]
  },
  {
   "cell_type": "markdown",
   "id": "171eb32c",
   "metadata": {},
   "source": [
    "3.1 Number of Conflict event"
   ]
  },
  {
   "cell_type": "code",
   "execution_count": null,
   "id": "3f9064b9",
   "metadata": {},
   "outputs": [],
   "source": []
  },
  {
   "cell_type": "code",
   "execution_count": 57,
   "id": "e32cf2c9",
   "metadata": {},
   "outputs": [
    {
     "data": {
      "text/html": [
       "\n",
       "            <style>\n",
       "                .geemap-dark {\n",
       "                    --jp-widgets-color: white;\n",
       "                    --jp-widgets-label-color: white;\n",
       "                    --jp-ui-font-color1: white;\n",
       "                    --jp-layout-color2: #454545;\n",
       "                    background-color: #383838;\n",
       "                }\n",
       "\n",
       "                .geemap-dark .jupyter-button {\n",
       "                    --jp-layout-color3: #383838;\n",
       "                }\n",
       "\n",
       "                .geemap-colab {\n",
       "                    background-color: var(--colab-primary-surface-color, white);\n",
       "                }\n",
       "\n",
       "                .geemap-colab .jupyter-button {\n",
       "                    --jp-layout-color3: var(--colab-primary-surface-color, white);\n",
       "                }\n",
       "            </style>\n",
       "            "
      ],
      "text/plain": [
       "<IPython.core.display.HTML object>"
      ]
     },
     "metadata": {},
     "output_type": "display_data"
    }
   ],
   "source": [
    "events_diffusion_year_period = events_diffusion_period\n",
    "\n",
    "def func_izg(feature):\n",
    "    num = ee.Number.parse(feature.get('event_date'))\n",
    "    readableDate = ee.Date(num)\n",
    "    stringDate = readableDate.format(\"YYYY-MM-dd\")\n",
    "    return feature.set('Date', stringDate)\n",
    "\n",
    "\n",
    "events_diffusion_year_period = ee.FeatureCollection(events_diffusion_year_period).map(func_izg)\n",
    "\n",
    "events_diffusion_period_needed = events_diffusion_year_period \\\n",
    ".filter(ee.Filter.gte('Date', period_min)) \\\n",
    ".filter(ee.Filter.lte('Date', period_max ))\n",
    "\n"
   ]
  },
  {
   "cell_type": "markdown",
   "id": "f7b16fa2",
   "metadata": {},
   "source": [
    "3.2 Vizualise Conflict event layer"
   ]
  },
  {
   "cell_type": "code",
   "execution_count": 58,
   "id": "1803540c",
   "metadata": {},
   "outputs": [
    {
     "data": {
      "text/html": [
       "\n",
       "            <style>\n",
       "                .geemap-dark {\n",
       "                    --jp-widgets-color: white;\n",
       "                    --jp-widgets-label-color: white;\n",
       "                    --jp-ui-font-color1: white;\n",
       "                    --jp-layout-color2: #454545;\n",
       "                    background-color: #383838;\n",
       "                }\n",
       "\n",
       "                .geemap-dark .jupyter-button {\n",
       "                    --jp-layout-color3: #383838;\n",
       "                }\n",
       "\n",
       "                .geemap-colab {\n",
       "                    background-color: var(--colab-primary-surface-color, white);\n",
       "                }\n",
       "\n",
       "                .geemap-colab .jupyter-button {\n",
       "                    --jp-layout-color3: var(--colab-primary-surface-color, white);\n",
       "                }\n",
       "            </style>\n",
       "            "
      ],
      "text/plain": [
       "<IPython.core.display.HTML object>"
      ]
     },
     "metadata": {},
     "output_type": "display_data"
    },
    {
     "data": {
      "application/vnd.jupyter.widget-view+json": {
       "model_id": "eb098d38bfac459db95fcda059fdd56f",
       "version_major": 2,
       "version_minor": 0
      },
      "text/plain": [
       "Map(bottom=121121.0, center=[13.93806578737278, -5.546035766601563], controls=(WidgetControl(options=['positio…"
      ]
     },
     "execution_count": 58,
     "metadata": {},
     "output_type": "execute_result"
    }
   ],
   "source": [
    "# Use style() to visualize the points\n",
    "eventsStyled = {\n",
    "    'color': 'red',\n",
    "    'pointSize': 1,\n",
    "    'pointShape': 'triangle',\n",
    "    'width': 3,\n",
    "}\n",
    "\n",
    "Map.addLayer(events_diffusion_period_needed.style(**eventsStyled), {}, \"conflict events\")\n",
    "Map"
   ]
  },
  {
   "cell_type": "markdown",
   "id": "4db64edf",
   "metadata": {},
   "source": [
    "3.3 Create image from conflict events layer"
   ]
  },
  {
   "cell_type": "code",
   "execution_count": 59,
   "id": "1b9eca71",
   "metadata": {},
   "outputs": [
    {
     "data": {
      "text/html": [
       "\n",
       "            <style>\n",
       "                .geemap-dark {\n",
       "                    --jp-widgets-color: white;\n",
       "                    --jp-widgets-label-color: white;\n",
       "                    --jp-ui-font-color1: white;\n",
       "                    --jp-layout-color2: #454545;\n",
       "                    background-color: #383838;\n",
       "                }\n",
       "\n",
       "                .geemap-dark .jupyter-button {\n",
       "                    --jp-layout-color3: #383838;\n",
       "                }\n",
       "\n",
       "                .geemap-colab {\n",
       "                    background-color: var(--colab-primary-surface-color, white);\n",
       "                }\n",
       "\n",
       "                .geemap-colab .jupyter-button {\n",
       "                    --jp-layout-color3: var(--colab-primary-surface-color, white);\n",
       "                }\n",
       "            </style>\n",
       "            "
      ],
      "text/plain": [
       "<IPython.core.display.HTML object>"
      ]
     },
     "metadata": {},
     "output_type": "display_data"
    }
   ],
   "source": [
    "#/ add dummy property to use for reduceToImage\n",
    "\n",
    "def func_dlg(feature):\n",
    "  return feature.set('dummy',1)\n",
    "\n",
    "if_events = ee.FeatureCollection(events_diffusion_period_needed).map(func_dlg)"
   ]
  },
  {
   "cell_type": "code",
   "execution_count": 60,
   "id": "f62533fc",
   "metadata": {},
   "outputs": [
    {
     "data": {
      "text/html": [
       "\n",
       "            <style>\n",
       "                .geemap-dark {\n",
       "                    --jp-widgets-color: white;\n",
       "                    --jp-widgets-label-color: white;\n",
       "                    --jp-ui-font-color1: white;\n",
       "                    --jp-layout-color2: #454545;\n",
       "                    background-color: #383838;\n",
       "                }\n",
       "\n",
       "                .geemap-dark .jupyter-button {\n",
       "                    --jp-layout-color3: #383838;\n",
       "                }\n",
       "\n",
       "                .geemap-colab {\n",
       "                    background-color: var(--colab-primary-surface-color, white);\n",
       "                }\n",
       "\n",
       "                .geemap-colab .jupyter-button {\n",
       "                    --jp-layout-color3: var(--colab-primary-surface-color, white);\n",
       "                }\n",
       "            </style>\n",
       "            "
      ],
      "text/plain": [
       "<IPython.core.display.HTML object>"
      ]
     },
     "metadata": {},
     "output_type": "display_data"
    }
   ],
   "source": [
    "eventsImg = if_events.reduceToImage(['dummy'], ee.Reducer.sum().unweighted()) \\\n",
    "  .unmask(0) \\\n",
    "  .reproject('epsg:4326', None, 10000) \\\n",
    "  .clip(geometry)\n"
   ]
  },
  {
   "cell_type": "code",
   "execution_count": 61,
   "id": "9d1438c2",
   "metadata": {},
   "outputs": [
    {
     "data": {
      "text/html": [
       "\n",
       "            <style>\n",
       "                .geemap-dark {\n",
       "                    --jp-widgets-color: white;\n",
       "                    --jp-widgets-label-color: white;\n",
       "                    --jp-ui-font-color1: white;\n",
       "                    --jp-layout-color2: #454545;\n",
       "                    background-color: #383838;\n",
       "                }\n",
       "\n",
       "                .geemap-dark .jupyter-button {\n",
       "                    --jp-layout-color3: #383838;\n",
       "                }\n",
       "\n",
       "                .geemap-colab {\n",
       "                    background-color: var(--colab-primary-surface-color, white);\n",
       "                }\n",
       "\n",
       "                .geemap-colab .jupyter-button {\n",
       "                    --jp-layout-color3: var(--colab-primary-surface-color, white);\n",
       "                }\n",
       "            </style>\n",
       "            "
      ],
      "text/plain": [
       "<IPython.core.display.HTML object>"
      ]
     },
     "metadata": {},
     "output_type": "display_data"
    },
    {
     "data": {
      "text/plain": [
       "{'max': {'sum': 13},\n",
       " 'mean': {'sum': 0.0016774647627744756},\n",
       " 'min': {'sum': 0},\n",
       " 'std': {'sum': 0.07047144897363503},\n",
       " 'sum': {'sum': 242}}"
      ]
     },
     "execution_count": 61,
     "metadata": {},
     "output_type": "execute_result"
    }
   ],
   "source": [
    "eventsImg_stats = geemap.image_stats(eventsImg, scale=10000)\n",
    "eventsImg_stats.getInfo()"
   ]
  },
  {
   "cell_type": "code",
   "execution_count": 62,
   "id": "fe6f3e3d",
   "metadata": {},
   "outputs": [
    {
     "data": {
      "text/html": [
       "\n",
       "            <style>\n",
       "                .geemap-dark {\n",
       "                    --jp-widgets-color: white;\n",
       "                    --jp-widgets-label-color: white;\n",
       "                    --jp-ui-font-color1: white;\n",
       "                    --jp-layout-color2: #454545;\n",
       "                    background-color: #383838;\n",
       "                }\n",
       "\n",
       "                .geemap-dark .jupyter-button {\n",
       "                    --jp-layout-color3: #383838;\n",
       "                }\n",
       "\n",
       "                .geemap-colab {\n",
       "                    background-color: var(--colab-primary-surface-color, white);\n",
       "                }\n",
       "\n",
       "                .geemap-colab .jupyter-button {\n",
       "                    --jp-layout-color3: var(--colab-primary-surface-color, white);\n",
       "                }\n",
       "            </style>\n",
       "            "
      ],
      "text/plain": [
       "<IPython.core.display.HTML object>"
      ]
     },
     "metadata": {},
     "output_type": "display_data"
    },
    {
     "data": {
      "application/vnd.jupyter.widget-view+json": {
       "model_id": "eb098d38bfac459db95fcda059fdd56f",
       "version_major": 2,
       "version_minor": 0
      },
      "text/plain": [
       "Map(bottom=3986.0, center=[17.727758609852284, -0.5932617187500001], controls=(WidgetControl(options=['positio…"
      ]
     },
     "execution_count": 62,
     "metadata": {},
     "output_type": "execute_result"
    }
   ],
   "source": [
    "viz_events = {\n",
    "  'min': 0.0,\n",
    "  'max': 34.0,\n",
    "  'palette': [\n",
    "    \"00ff00\",\"1A492C\",\"071EC4\",\"B5CA36\",\"729EAC\",\"8EA5DE\",\n",
    "    \"818991\",\"62A3C3\",\"CCF4FE\",\"74F0B9\",\"yellow\",\"C72144\",\n",
    "    \"56613B\",\"C14683\",\"C31C25\",\"5F6253\",\"11BF85\",\"A61B26\",\n",
    "    \"99FBC5\",\"188AAA\",\"C2D7F1\",\"B7D9D8\",\"856F96\",\"109C6B\",\n",
    "    \"2DE3F4\",\"9A777D\",\"151796\",\"C033D8\",\"510037\",\"640C21\",\n",
    "    \"31A191\",\"223AB0\",\"B692AC\",\"2DE3F4\",\n",
    "  ]\n",
    "}\n",
    "eventsImg_viz = eventsImg.updateMask(eventsImg.neq(0))\n",
    "Map.addLayer(eventsImg_viz.clip(sahel_adm2), viz_events , 'Number of Conflict event',1)\n",
    "Map"
   ]
  },
  {
   "cell_type": "code",
   "execution_count": 63,
   "id": "60c248b1",
   "metadata": {},
   "outputs": [
    {
     "data": {
      "text/html": [
       "\n",
       "            <style>\n",
       "                .geemap-dark {\n",
       "                    --jp-widgets-color: white;\n",
       "                    --jp-widgets-label-color: white;\n",
       "                    --jp-ui-font-color1: white;\n",
       "                    --jp-layout-color2: #454545;\n",
       "                    background-color: #383838;\n",
       "                }\n",
       "\n",
       "                .geemap-dark .jupyter-button {\n",
       "                    --jp-layout-color3: #383838;\n",
       "                }\n",
       "\n",
       "                .geemap-colab {\n",
       "                    background-color: var(--colab-primary-surface-color, white);\n",
       "                }\n",
       "\n",
       "                .geemap-colab .jupyter-button {\n",
       "                    --jp-layout-color3: var(--colab-primary-surface-color, white);\n",
       "                }\n",
       "            </style>\n",
       "            "
      ],
      "text/plain": [
       "<IPython.core.display.HTML object>"
      ]
     },
     "metadata": {},
     "output_type": "display_data"
    },
    {
     "data": {
      "application/vnd.jupyter.widget-view+json": {
       "model_id": "eb098d38bfac459db95fcda059fdd56f",
       "version_major": 2,
       "version_minor": 0
      },
      "text/plain": [
       "Map(bottom=3986.0, center=[17.727758609852284, -0.5932617187500001], controls=(WidgetControl(options=['positio…"
      ]
     },
     "execution_count": 63,
     "metadata": {},
     "output_type": "execute_result"
    }
   ],
   "source": [
    "multiplication = country_popAt10k_100.multiply(eventsImg)\n",
    "multiplication_10 = multiplication.gte(nb_events)\n",
    "multiplication_10 = multiplication_10.updateMask(multiplication_10.neq(0))\n",
    "Map.addLayer(multiplication_10.clip(sahel_adm2), bin, 'grid cells needed', 1)\n",
    "Map"
   ]
  },
  {
   "cell_type": "code",
   "execution_count": 64,
   "id": "cdb0a3f4",
   "metadata": {},
   "outputs": [
    {
     "data": {
      "text/html": [
       "\n",
       "            <style>\n",
       "                .geemap-dark {\n",
       "                    --jp-widgets-color: white;\n",
       "                    --jp-widgets-label-color: white;\n",
       "                    --jp-ui-font-color1: white;\n",
       "                    --jp-layout-color2: #454545;\n",
       "                    background-color: #383838;\n",
       "                }\n",
       "\n",
       "                .geemap-dark .jupyter-button {\n",
       "                    --jp-layout-color3: #383838;\n",
       "                }\n",
       "\n",
       "                .geemap-colab {\n",
       "                    background-color: var(--colab-primary-surface-color, white);\n",
       "                }\n",
       "\n",
       "                .geemap-colab .jupyter-button {\n",
       "                    --jp-layout-color3: var(--colab-primary-surface-color, white);\n",
       "                }\n",
       "            </style>\n",
       "            "
      ],
      "text/plain": [
       "<IPython.core.display.HTML object>"
      ]
     },
     "metadata": {},
     "output_type": "display_data"
    }
   ],
   "source": [
    "multiplication_10 = multiplication_10.unmask(0).rename('grid_cells_needed')\n"
   ]
  },
  {
   "cell_type": "code",
   "execution_count": 65,
   "id": "7a37c2ca",
   "metadata": {},
   "outputs": [
    {
     "data": {
      "text/html": [
       "\n",
       "            <style>\n",
       "                .geemap-dark {\n",
       "                    --jp-widgets-color: white;\n",
       "                    --jp-widgets-label-color: white;\n",
       "                    --jp-ui-font-color1: white;\n",
       "                    --jp-layout-color2: #454545;\n",
       "                    background-color: #383838;\n",
       "                }\n",
       "\n",
       "                .geemap-dark .jupyter-button {\n",
       "                    --jp-layout-color3: #383838;\n",
       "                }\n",
       "\n",
       "                .geemap-colab {\n",
       "                    background-color: var(--colab-primary-surface-color, white);\n",
       "                }\n",
       "\n",
       "                .geemap-colab .jupyter-button {\n",
       "                    --jp-layout-color3: var(--colab-primary-surface-color, white);\n",
       "                }\n",
       "            </style>\n",
       "            "
      ],
      "text/plain": [
       "<IPython.core.display.HTML object>"
      ]
     },
     "metadata": {},
     "output_type": "display_data"
    }
   ],
   "source": [
    "stacked_image = multiplication_10.addBands(country_popAt10k_100)\n",
    "#Create a function to calculate the feature class with ADM2 Name\n",
    "def calculateFeatureSum(feature):\n",
    "    events = stacked_image.reduceRegion(**{\n",
    "    'reducer': ee.Reducer.sum().unweighted(),\n",
    "    'geometry': feature.geometry(),#.buffer(10),\n",
    "    'scale': projectionAt10k.nominalScale(),\n",
    "    'maxPixels': 1e20\n",
    "    })\n",
    "    adm_level = feature.get('admin2Pcod')\n",
    "    return ee.Feature(\n",
    "      feature.geometry(),\n",
    "      events.set('admin2Pcod', adm_level))"
   ]
  },
  {
   "cell_type": "code",
   "execution_count": 66,
   "id": "e5d563c3",
   "metadata": {},
   "outputs": [
    {
     "data": {
      "text/html": [
       "\n",
       "            <style>\n",
       "                .geemap-dark {\n",
       "                    --jp-widgets-color: white;\n",
       "                    --jp-widgets-label-color: white;\n",
       "                    --jp-ui-font-color1: white;\n",
       "                    --jp-layout-color2: #454545;\n",
       "                    background-color: #383838;\n",
       "                }\n",
       "\n",
       "                .geemap-dark .jupyter-button {\n",
       "                    --jp-layout-color3: #383838;\n",
       "                }\n",
       "\n",
       "                .geemap-colab {\n",
       "                    background-color: var(--colab-primary-surface-color, white);\n",
       "                }\n",
       "\n",
       "                .geemap-colab .jupyter-button {\n",
       "                    --jp-layout-color3: var(--colab-primary-surface-color, white);\n",
       "                }\n",
       "            </style>\n",
       "            "
      ],
      "text/plain": [
       "<IPython.core.display.HTML object>"
      ]
     },
     "metadata": {},
     "output_type": "display_data"
    }
   ],
   "source": [
    "#Map Function to Create\n",
    "Feature_byADM2 = sahel_adm2.map(calculateFeatureSum)\n",
    "#geemap.ee_to_csv(Feature_byADM2, filename='conflict_diffusion_indicator.csv')"
   ]
  },
  {
   "cell_type": "markdown",
   "id": "385afaf3",
   "metadata": {},
   "source": [
    "4. Compute the proportion of high violence grid cells to total cells per adm2/year"
   ]
  },
  {
   "cell_type": "code",
   "execution_count": 67,
   "id": "660f523d",
   "metadata": {},
   "outputs": [
    {
     "data": {
      "text/html": [
       "\n",
       "            <style>\n",
       "                .geemap-dark {\n",
       "                    --jp-widgets-color: white;\n",
       "                    --jp-widgets-label-color: white;\n",
       "                    --jp-ui-font-color1: white;\n",
       "                    --jp-layout-color2: #454545;\n",
       "                    background-color: #383838;\n",
       "                }\n",
       "\n",
       "                .geemap-dark .jupyter-button {\n",
       "                    --jp-layout-color3: #383838;\n",
       "                }\n",
       "\n",
       "                .geemap-colab {\n",
       "                    background-color: var(--colab-primary-surface-color, white);\n",
       "                }\n",
       "\n",
       "                .geemap-colab .jupyter-button {\n",
       "                    --jp-layout-color3: var(--colab-primary-surface-color, white);\n",
       "                }\n",
       "            </style>\n",
       "            "
      ],
      "text/plain": [
       "<IPython.core.display.HTML object>"
      ]
     },
     "metadata": {},
     "output_type": "display_data"
    }
   ],
   "source": [
    "def indicator(feature):\n",
    "  #\n",
    "  val = ee.Number(feature.get('grid_cells_needed')).divide(ee.Number(feature.get('grid_cells_gte')))\n",
    "  return feature.set('conflict_diffusion_indicator', val)\n",
    "\n",
    "Feature_byADM2 = Feature_byADM2.map(indicator)"
   ]
  },
  {
   "cell_type": "markdown",
   "id": "2e130662",
   "metadata": {},
   "source": [
    "## Export to CSV"
   ]
  },
  {
   "cell_type": "code",
   "execution_count": 68,
   "id": "f717a1fb",
   "metadata": {},
   "outputs": [
    {
     "data": {
      "text/html": [
       "\n",
       "            <style>\n",
       "                .geemap-dark {\n",
       "                    --jp-widgets-color: white;\n",
       "                    --jp-widgets-label-color: white;\n",
       "                    --jp-ui-font-color1: white;\n",
       "                    --jp-layout-color2: #454545;\n",
       "                    background-color: #383838;\n",
       "                }\n",
       "\n",
       "                .geemap-dark .jupyter-button {\n",
       "                    --jp-layout-color3: #383838;\n",
       "                }\n",
       "\n",
       "                .geemap-colab {\n",
       "                    background-color: var(--colab-primary-surface-color, white);\n",
       "                }\n",
       "\n",
       "                .geemap-colab .jupyter-button {\n",
       "                    --jp-layout-color3: var(--colab-primary-surface-color, white);\n",
       "                }\n",
       "            </style>\n",
       "            "
      ],
      "text/plain": [
       "<IPython.core.display.HTML object>"
      ]
     },
     "metadata": {},
     "output_type": "display_data"
    }
   ],
   "source": [
    "geemap.ee_to_csv(Feature_byADM2, filename='conflict_diffusion_indicator_per_period.csv')"
   ]
  },
  {
   "cell_type": "code",
   "execution_count": 22,
   "id": "3cb89b47",
   "metadata": {},
   "outputs": [
    {
     "data": {
      "text/html": [
       "\n",
       "            <style>\n",
       "                .geemap-dark {\n",
       "                    --jp-widgets-color: white;\n",
       "                    --jp-widgets-label-color: white;\n",
       "                    --jp-ui-font-color1: white;\n",
       "                    --jp-layout-color2: #454545;\n",
       "                    background-color: #383838;\n",
       "                }\n",
       "\n",
       "                .geemap-dark .jupyter-button {\n",
       "                    --jp-layout-color3: #383838;\n",
       "                }\n",
       "\n",
       "                .geemap-colab {\n",
       "                    background-color: var(--colab-primary-surface-color, white);\n",
       "                }\n",
       "\n",
       "                .geemap-colab .jupyter-button {\n",
       "                    --jp-layout-color3: var(--colab-primary-surface-color, white);\n",
       "                }\n",
       "            </style>\n",
       "            "
      ],
      "text/plain": [
       "<IPython.core.display.HTML object>"
      ]
     },
     "metadata": {},
     "output_type": "display_data"
    }
   ],
   "source": [
    "\n",
    "snippet = \"\"\"\n",
    "var events_diffusion_year_period = events_diffusion_period\n",
    "  .map(function(feature){\n",
    "    var num = ee.Number.parse(feature.get('event_date'));\n",
    "    var readableDate = ee.Date(num);\n",
    "    var stringDate = readableDate.format(\"YYYY-MM-dd\");\n",
    "    return feature.set('Date', stringDate);\n",
    "  });\n",
    "  \n",
    "\n",
    "print('Number of Conflict events',\n",
    "      events_diffusion_year_period.aggregate_count('event_type'));\n",
    "      \n",
    "      \n",
    "var events_diffusion_period_needed = events_diffusion_year_period\n",
    ".filter(ee.Filter.gte('Date', period_min))\n",
    ".filter(ee.Filter.lte('Date', period_max ));\n",
    "\n",
    "//calculating the number of non-null values\n",
    "print('Number of Conflict event in this period',\n",
    "      events_diffusion_period_needed.aggregate_count('event_type'));\n",
    "      \n",
    "\n",
    "\n",
    " \n",
    "\"\"\"\n",
    "\n",
    "geemap.js_snippet_to_py(snippet, add_new_cell=True, import_ee=False)\n"
   ]
  },
  {
   "cell_type": "code",
   "execution_count": null,
   "id": "2ef85cc1",
   "metadata": {},
   "outputs": [],
   "source": [
    "events_diffusion_year_period = events_diffusion_period\n",
    "\n",
    "def func_izg(feature):\n",
    "    num = ee.Number.parse(feature.get('event_date'))\n",
    "    readableDate = ee.Date(num)\n",
    "    stringDate = readableDate.format(\"YYYY-MM-dd\")\n",
    "    return feature.set('Date', stringDate) \\\n",
    "  .map(func_izg)\n",
    "\n",
    "print('Number of Conflict events',\n",
    "      events_diffusion_year_period.aggregate_count('event_type'))\n",
    "\n",
    "events_diffusion_period_needed = events_diffusion_year_period \\\n",
    ".filter(ee.Filter.gte('Date', period_min)) \\\n",
    ".filter(ee.Filter.lte('Date', period_max ))\n",
    "\n",
    "#calculating the number of non-None values\n",
    "print('Number of Conflict event in this period',\n",
    "      events_diffusion_period_needed.aggregate_count('event_type'))\n",
    "\n",
    "m"
   ]
  },
  {
   "cell_type": "code",
   "execution_count": null,
   "id": "07ff03de",
   "metadata": {},
   "outputs": [],
   "source": [
    "m"
   ]
  },
  {
   "cell_type": "code",
   "execution_count": null,
   "id": "d16e539b",
   "metadata": {},
   "outputs": [],
   "source": []
  },
  {
   "cell_type": "code",
   "execution_count": null,
   "id": "5bad4d14",
   "metadata": {},
   "outputs": [],
   "source": [
    "\n",
    "\n"
   ]
  },
  {
   "cell_type": "code",
   "execution_count": null,
   "id": "a69d298c",
   "metadata": {},
   "outputs": [
    {
     "ename": "TraitError",
     "evalue": "The 'east' trait of a Map instance expected a float, not the NoneType None.",
     "output_type": "error",
     "traceback": [
      "\u001b[1;31m---------------------------------------------------------------------------\u001b[0m",
      "\u001b[1;31mTraitError\u001b[0m                                Traceback (most recent call last)",
      "File \u001b[1;32m~\\AppData\\Local\\anaconda3\\Lib\\site-packages\\ipywidgets\\widgets\\widget.py:766\u001b[0m, in \u001b[0;36mWidget._handle_msg\u001b[1;34m(self, msg)\u001b[0m\n\u001b[0;32m    764\u001b[0m         \u001b[38;5;28;01mif\u001b[39;00m \u001b[38;5;124m'\u001b[39m\u001b[38;5;124mbuffer_paths\u001b[39m\u001b[38;5;124m'\u001b[39m \u001b[38;5;129;01min\u001b[39;00m data:\n\u001b[0;32m    765\u001b[0m             _put_buffers(state, data[\u001b[38;5;124m'\u001b[39m\u001b[38;5;124mbuffer_paths\u001b[39m\u001b[38;5;124m'\u001b[39m], msg[\u001b[38;5;124m'\u001b[39m\u001b[38;5;124mbuffers\u001b[39m\u001b[38;5;124m'\u001b[39m])\n\u001b[1;32m--> 766\u001b[0m         \u001b[38;5;28mself\u001b[39m\u001b[38;5;241m.\u001b[39mset_state(state)\n\u001b[0;32m    768\u001b[0m \u001b[38;5;66;03m# Handle a state request.\u001b[39;00m\n\u001b[0;32m    769\u001b[0m \u001b[38;5;28;01melif\u001b[39;00m method \u001b[38;5;241m==\u001b[39m \u001b[38;5;124m'\u001b[39m\u001b[38;5;124mrequest_state\u001b[39m\u001b[38;5;124m'\u001b[39m:\n",
      "File \u001b[1;32m~\\AppData\\Local\\anaconda3\\Lib\\site-packages\\ipywidgets\\widgets\\widget.py:648\u001b[0m, in \u001b[0;36mWidget.set_state\u001b[1;34m(self, sync_data)\u001b[0m\n\u001b[0;32m    645\u001b[0m \u001b[38;5;28;01mif\u001b[39;00m name \u001b[38;5;129;01min\u001b[39;00m \u001b[38;5;28mself\u001b[39m\u001b[38;5;241m.\u001b[39mkeys:\n\u001b[0;32m    646\u001b[0m     from_json \u001b[38;5;241m=\u001b[39m \u001b[38;5;28mself\u001b[39m\u001b[38;5;241m.\u001b[39mtrait_metadata(name, \u001b[38;5;124m'\u001b[39m\u001b[38;5;124mfrom_json\u001b[39m\u001b[38;5;124m'\u001b[39m,\n\u001b[0;32m    647\u001b[0m                                     \u001b[38;5;28mself\u001b[39m\u001b[38;5;241m.\u001b[39m_trait_from_json)\n\u001b[1;32m--> 648\u001b[0m     \u001b[38;5;28mself\u001b[39m\u001b[38;5;241m.\u001b[39mset_trait(name, from_json(sync_data[name], \u001b[38;5;28mself\u001b[39m))\n",
      "File \u001b[1;32m~\\AppData\\Local\\anaconda3\\Lib\\site-packages\\traitlets\\traitlets.py:1738\u001b[0m, in \u001b[0;36mHasTraits.set_trait\u001b[1;34m(self, name, value)\u001b[0m\n\u001b[0;32m   1736\u001b[0m     \u001b[38;5;28;01mraise\u001b[39;00m TraitError(\u001b[38;5;124mf\u001b[39m\u001b[38;5;124m\"\u001b[39m\u001b[38;5;124mClass \u001b[39m\u001b[38;5;132;01m{\u001b[39;00m\u001b[38;5;28mcls\u001b[39m\u001b[38;5;241m.\u001b[39m\u001b[38;5;18m__name__\u001b[39m\u001b[38;5;132;01m}\u001b[39;00m\u001b[38;5;124m does not have a trait named \u001b[39m\u001b[38;5;132;01m{\u001b[39;00mname\u001b[38;5;132;01m}\u001b[39;00m\u001b[38;5;124m\"\u001b[39m)\n\u001b[0;32m   1737\u001b[0m \u001b[38;5;28;01melse\u001b[39;00m:\n\u001b[1;32m-> 1738\u001b[0m     \u001b[38;5;28mgetattr\u001b[39m(\u001b[38;5;28mcls\u001b[39m, name)\u001b[38;5;241m.\u001b[39mset(\u001b[38;5;28mself\u001b[39m, value)\n",
      "File \u001b[1;32m~\\AppData\\Local\\anaconda3\\Lib\\site-packages\\traitlets\\traitlets.py:703\u001b[0m, in \u001b[0;36mTraitType.set\u001b[1;34m(self, obj, value)\u001b[0m\n\u001b[0;32m    702\u001b[0m \u001b[38;5;28;01mdef\u001b[39;00m \u001b[38;5;21mset\u001b[39m(\u001b[38;5;28mself\u001b[39m, obj, value):\n\u001b[1;32m--> 703\u001b[0m     new_value \u001b[38;5;241m=\u001b[39m \u001b[38;5;28mself\u001b[39m\u001b[38;5;241m.\u001b[39m_validate(obj, value)\n\u001b[0;32m    704\u001b[0m     \u001b[38;5;28;01mtry\u001b[39;00m:\n\u001b[0;32m    705\u001b[0m         old_value \u001b[38;5;241m=\u001b[39m obj\u001b[38;5;241m.\u001b[39m_trait_values[\u001b[38;5;28mself\u001b[39m\u001b[38;5;241m.\u001b[39mname]\n",
      "File \u001b[1;32m~\\AppData\\Local\\anaconda3\\Lib\\site-packages\\traitlets\\traitlets.py:735\u001b[0m, in \u001b[0;36mTraitType._validate\u001b[1;34m(self, obj, value)\u001b[0m\n\u001b[0;32m    733\u001b[0m     \u001b[38;5;28;01mreturn\u001b[39;00m value\n\u001b[0;32m    734\u001b[0m \u001b[38;5;28;01mif\u001b[39;00m \u001b[38;5;28mhasattr\u001b[39m(\u001b[38;5;28mself\u001b[39m, \u001b[38;5;124m\"\u001b[39m\u001b[38;5;124mvalidate\u001b[39m\u001b[38;5;124m\"\u001b[39m):\n\u001b[1;32m--> 735\u001b[0m     value \u001b[38;5;241m=\u001b[39m \u001b[38;5;28mself\u001b[39m\u001b[38;5;241m.\u001b[39mvalidate(obj, value)\n\u001b[0;32m    736\u001b[0m \u001b[38;5;28;01mif\u001b[39;00m obj\u001b[38;5;241m.\u001b[39m_cross_validation_lock \u001b[38;5;129;01mis\u001b[39;00m \u001b[38;5;28;01mFalse\u001b[39;00m:\n\u001b[0;32m    737\u001b[0m     value \u001b[38;5;241m=\u001b[39m \u001b[38;5;28mself\u001b[39m\u001b[38;5;241m.\u001b[39m_cross_validate(obj, value)\n",
      "File \u001b[1;32m~\\AppData\\Local\\anaconda3\\Lib\\site-packages\\traitlets\\traitlets.py:2417\u001b[0m, in \u001b[0;36mFloat.validate\u001b[1;34m(self, obj, value)\u001b[0m\n\u001b[0;32m   2415\u001b[0m     value \u001b[38;5;241m=\u001b[39m \u001b[38;5;28mfloat\u001b[39m(value)\n\u001b[0;32m   2416\u001b[0m \u001b[38;5;28;01mif\u001b[39;00m \u001b[38;5;129;01mnot\u001b[39;00m \u001b[38;5;28misinstance\u001b[39m(value, \u001b[38;5;28mfloat\u001b[39m):\n\u001b[1;32m-> 2417\u001b[0m     \u001b[38;5;28mself\u001b[39m\u001b[38;5;241m.\u001b[39merror(obj, value)\n\u001b[0;32m   2418\u001b[0m \u001b[38;5;28;01mreturn\u001b[39;00m _validate_bounds(\u001b[38;5;28mself\u001b[39m, obj, value)\n",
      "File \u001b[1;32m~\\AppData\\Local\\anaconda3\\Lib\\site-packages\\traitlets\\traitlets.py:841\u001b[0m, in \u001b[0;36mTraitType.error\u001b[1;34m(self, obj, value, error, info)\u001b[0m\n\u001b[0;32m    835\u001b[0m \u001b[38;5;28;01melse\u001b[39;00m:\n\u001b[0;32m    836\u001b[0m     e \u001b[38;5;241m=\u001b[39m \u001b[38;5;124m\"\u001b[39m\u001b[38;5;124mThe \u001b[39m\u001b[38;5;124m'\u001b[39m\u001b[38;5;132;01m{}\u001b[39;00m\u001b[38;5;124m'\u001b[39m\u001b[38;5;124m trait expected \u001b[39m\u001b[38;5;132;01m{}\u001b[39;00m\u001b[38;5;124m, not \u001b[39m\u001b[38;5;132;01m{}\u001b[39;00m\u001b[38;5;124m.\u001b[39m\u001b[38;5;124m\"\u001b[39m\u001b[38;5;241m.\u001b[39mformat(\n\u001b[0;32m    837\u001b[0m         \u001b[38;5;28mself\u001b[39m\u001b[38;5;241m.\u001b[39mname,\n\u001b[0;32m    838\u001b[0m         \u001b[38;5;28mself\u001b[39m\u001b[38;5;241m.\u001b[39minfo(),\n\u001b[0;32m    839\u001b[0m         describe(\u001b[38;5;124m\"\u001b[39m\u001b[38;5;124mthe\u001b[39m\u001b[38;5;124m\"\u001b[39m, value),\n\u001b[0;32m    840\u001b[0m     )\n\u001b[1;32m--> 841\u001b[0m \u001b[38;5;28;01mraise\u001b[39;00m TraitError(e)\n",
      "\u001b[1;31mTraitError\u001b[0m: The 'east' trait of a Map instance expected a float, not the NoneType None."
     ]
    }
   ],
   "source": []
  },
  {
   "cell_type": "code",
   "execution_count": null,
   "id": "9f95c87a",
   "metadata": {},
   "outputs": [],
   "source": []
  },
  {
   "cell_type": "code",
   "execution_count": null,
   "id": "b6f48949",
   "metadata": {},
   "outputs": [],
   "source": []
  },
  {
   "cell_type": "code",
   "execution_count": null,
   "id": "98eb74a8",
   "metadata": {},
   "outputs": [],
   "source": []
  }
 ],
 "metadata": {
  "kernelspec": {
   "display_name": "Python 3 (ipykernel)",
   "language": "python",
   "name": "python3"
  },
  "language_info": {
   "codemirror_mode": {
    "name": "ipython",
    "version": 3
   },
   "file_extension": ".py",
   "mimetype": "text/x-python",
   "name": "python",
   "nbconvert_exporter": "python",
   "pygments_lexer": "ipython3",
   "version": "3.11.5"
  }
 },
 "nbformat": 4,
 "nbformat_minor": 5
}
