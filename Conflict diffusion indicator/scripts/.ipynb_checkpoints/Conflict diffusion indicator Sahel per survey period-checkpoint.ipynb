{
 "cells": [
  {
   "cell_type": "markdown",
   "id": "e2ae418a",
   "metadata": {},
   "source": [
    "# **Political Violence in the G5 Sahel Countries (2018-2023)**\n",
    "\n",
    "**An Application of ACLED’s Conflict Index Methodology**"
   ]
  },
  {
   "cell_type": "markdown",
   "id": "4358b887",
   "metadata": {},
   "source": [
    "\n",
    "```bash\n",
    "Author : Aboubacar HEMA\n",
    "Supervision : Wim MARIVOET\n",
    "Contact : a.hema@cgiar.org / w.marivoet@cgiar.org\n",
    "Role : Research Analyst at IFPRI\n",
    "Year : 2023\n",
    "```"
   ]
  },
  {
   "cell_type": "markdown",
   "id": "263fa95b",
   "metadata": {},
   "source": [
    "-----------------\n",
    "## **Objective**\n",
    "-----------------\n",
    "\n",
    "- To compute the **conflict diffusion indicator** per adm2/year by using ACLED’s Conflict Index Methodology , comprising the following steps: \n",
    "1. Create a spatial grid of 10km-by-10km \n",
    "2. Remove grid cells with less than 100 habitants using population data from WorldPop (pop_country)\n",
    "3. Identify grid cells with at least 10 conflict events per year using events_diffusion layer\n",
    "4. Compute the proportion of high violence grid cells to total cells per adm2/year\n"
   ]
  },
  {
   "cell_type": "markdown",
   "id": "98412992",
   "metadata": {},
   "source": [
    "-----------------\n",
    "## **Output**\n",
    "-----------------\n",
    "\n",
    "- [Political violence in the G5 Sahel Countries (2018-2023): An application of ACLED’s conflict index methodology](https://cgspace.cgiar.org/items/1d0dd9f6-e3b6-4be2-bc08-bd9a7171ee69) \n",
    "\n",
    "- [ACLED Conflict Index G5 Sahel (2018-2023)](https://dataverse.harvard.edu/dataset.xhtml?persistentId=doi:10.7910/DVN/T6UT9O)\n",
    "\n"
   ]
  },
  {
   "cell_type": "markdown",
   "id": "69bedbc8",
   "metadata": {},
   "source": [
    "-----------------\n",
    "## **Dataset**\n",
    "-----------------\n",
    "\n",
    "* ``pop_sahel`` [Constrained individual countries 2020 UN adjusted (100-meter resolution)](https://www.worldpop.org/) datasets for Mauritania, Mali, Burkina Faso, Niger, and Chad. Given the midpoint reference of 2020, it is assumed that any demographic change between 2018 and 2023 will have only a minor effect on the estimated diffusion indicator\n",
    "* ``sahel_adm2`` [UNOCHA Geographic dataset for Sahel (Administrative boundaries and settlements)](https://data.humdata.org/dataset/sahel-administrative-boundaries)\n",
    "* ``events_diffusion`` \t[ACLED Curated dataset for Africa (5 January 2024)](https://acleddata.com/data-export-tool/)\n",
    "* ``geometry`` the time stamp for drop-off\n",
    "\n",
    "\n",
    "\n",
    "From ACLED site:\n",
    "\n",
    "* ``Indicator`` Diffusion\n",
    "* ``Measure`` What proportion of the country experiences a high level of violence?\n",
    "* ``Significance`` Many conflicts can occur in a country simultaneously, adding to the geographic spread of conflict across states. This measure is an assessment of the geographic distribution of conflict. Each country is divided into a 10km-by-10km spatial grid. Grid cells that have a population of fewer than 100 people are excluded. Next, ACLED determines how many of a country’s geographic grid cells experience a high level of violence, defined as at least 10 events per year (representing the top 10% of cases).\n",
    "* ``The Diffusion indicator represents the proportion of high violence grid cells to total cells (i.e. the percentage of geographic area experiencing high levels of violence)`` "
   ]
  },
  {
   "cell_type": "markdown",
   "id": "961383c6",
   "metadata": {},
   "source": [
    "-----------------\n",
    "## **Technical requirements**\n",
    "-----------------\n",
    "\n",
    "\n",
    "```bash\n",
    "conda create -n gee python\n",
    "conda activate gee\n",
    "conda install -c conda-forge mamba\n",
    "mamba install -c conda-forge pygis\n",
    "pip install geemap\n",
    "pip install ee\n",
    "```"
   ]
  },
  {
   "cell_type": "markdown",
   "id": "61e63000",
   "metadata": {},
   "source": [
    "-----------------\n",
    "## **Import the necessary libraries**\n",
    "-----------------\n"
   ]
  },
  {
   "cell_type": "code",
   "execution_count": null,
   "id": "2fd94f67",
   "metadata": {},
   "outputs": [],
   "source": [
    "#%pip install pygis"
   ]
  },
  {
   "cell_type": "code",
   "execution_count": 2,
   "id": "b70a4284",
   "metadata": {},
   "outputs": [],
   "source": [
    "import ee\n",
    "import geemap\n",
    "\n",
    "# Basic libraries of python for numeric and dataframe computations\n",
    "import numpy as np                              \n",
    "import pandas as pd\n",
    "\n",
    "# Basic library for data visualization\n",
    "import matplotlib.pyplot as plt \n",
    "\n",
    "# Slightly advanced library for data visualization            \n",
    "import seaborn as sns  "
   ]
  },
  {
   "cell_type": "code",
   "execution_count": 3,
   "id": "866f7bc0",
   "metadata": {},
   "outputs": [
    {
     "data": {
      "text/html": [
       "\n",
       "            <style>\n",
       "                .geemap-dark {\n",
       "                    --jp-widgets-color: white;\n",
       "                    --jp-widgets-label-color: white;\n",
       "                    --jp-ui-font-color1: white;\n",
       "                    --jp-layout-color2: #454545;\n",
       "                    background-color: #383838;\n",
       "                }\n",
       "\n",
       "                .geemap-dark .jupyter-button {\n",
       "                    --jp-layout-color3: #383838;\n",
       "                }\n",
       "\n",
       "                .geemap-colab {\n",
       "                    background-color: var(--colab-primary-surface-color, white);\n",
       "                }\n",
       "\n",
       "                .geemap-colab .jupyter-button {\n",
       "                    --jp-layout-color3: var(--colab-primary-surface-color, white);\n",
       "                }\n",
       "            </style>\n",
       "            "
      ],
      "text/plain": [
       "<IPython.core.display.HTML object>"
      ]
     },
     "metadata": {},
     "output_type": "display_data"
    }
   ],
   "source": [
    "# Authenticate and Initialize Earth Engine\n",
    "geemap.ee_initialize()"
   ]
  },
  {
   "cell_type": "markdown",
   "id": "84888249",
   "metadata": {},
   "source": [
    "-----------------\n",
    "## **Load data**\n",
    "-----------------"
   ]
  },
  {
   "cell_type": "code",
   "execution_count": 4,
   "id": "c6a9a92c",
   "metadata": {},
   "outputs": [
    {
     "data": {
      "text/html": [
       "\n",
       "            <style>\n",
       "                .geemap-dark {\n",
       "                    --jp-widgets-color: white;\n",
       "                    --jp-widgets-label-color: white;\n",
       "                    --jp-ui-font-color1: white;\n",
       "                    --jp-layout-color2: #454545;\n",
       "                    background-color: #383838;\n",
       "                }\n",
       "\n",
       "                .geemap-dark .jupyter-button {\n",
       "                    --jp-layout-color3: #383838;\n",
       "                }\n",
       "\n",
       "                .geemap-colab {\n",
       "                    background-color: var(--colab-primary-surface-color, white);\n",
       "                }\n",
       "\n",
       "                .geemap-colab .jupyter-button {\n",
       "                    --jp-layout-color3: var(--colab-primary-surface-color, white);\n",
       "                }\n",
       "            </style>\n",
       "            "
      ],
      "text/plain": [
       "<IPython.core.display.HTML object>"
      ]
     },
     "metadata": {},
     "output_type": "display_data"
    }
   ],
   "source": [
    "pop_sahel = ee.Image(\"projects/ee-aboubacarhema94/assets/ACLED/Sahel_pop_2020_UNadj_constrained\")\n",
    "sahel_adm2 = ee.FeatureCollection(\"projects/ee-aboubacarhema94/assets/ACLED/G5_Sahel_adm2N\")\n",
    "geometry =ee.Geometry.Polygon(\n",
    "        [[[-18.199748102330243, 28.38016082795913],\n",
    "          [-18.199748102330243, 2.8095840714382856],\n",
    "          [27.327595647669753, 2.8095840714382856],\n",
    "          [27.327595647669753, 28.38016082795913]]], None, False)\n",
    "events_diffusion_period = ee.FeatureCollection(\"projects/ee-aboubacarhema94/assets/ACLED/G5_Sahel_Diffusion_period\")"
   ]
  },
  {
   "cell_type": "code",
   "execution_count": 5,
   "id": "16899df6",
   "metadata": {},
   "outputs": [
    {
     "data": {
      "text/html": [
       "\n",
       "            <style>\n",
       "                .geemap-dark {\n",
       "                    --jp-widgets-color: white;\n",
       "                    --jp-widgets-label-color: white;\n",
       "                    --jp-ui-font-color1: white;\n",
       "                    --jp-layout-color2: #454545;\n",
       "                    background-color: #383838;\n",
       "                }\n",
       "\n",
       "                .geemap-dark .jupyter-button {\n",
       "                    --jp-layout-color3: #383838;\n",
       "                }\n",
       "\n",
       "                .geemap-colab {\n",
       "                    background-color: var(--colab-primary-surface-color, white);\n",
       "                }\n",
       "\n",
       "                .geemap-colab .jupyter-button {\n",
       "                    --jp-layout-color3: var(--colab-primary-surface-color, white);\n",
       "                }\n",
       "            </style>\n",
       "            "
      ],
      "text/plain": [
       "<IPython.core.display.HTML object>"
      ]
     },
     "metadata": {},
     "output_type": "display_data"
    }
   ],
   "source": [
    "period_1_min = '2017-10-01'\n",
    "period_1_max = '2018-02-29'\n",
    "period_2_min = '2018-03-01'\n",
    "period_2_max = '2018-09-30'\n",
    "period_3_min = '2018-10-01'\n",
    "period_3_max = '2019-02-29'\n",
    "period_4_min = '2019-03-01'\n",
    "period_4_max = '2019-09-30'\n",
    "period_5_min = '2019-10-01'\n",
    "period_5_max = '2020-02-29'\n",
    "period_6_min = '2020-03-01'\n",
    "period_6_max = '2020-09-30'\n",
    "period_7_min = '2020-10-01'\n",
    "period_7_max = '2021-02-29'\n",
    "period_8_min = '2021-03-01'\n",
    "period_8_max = '2021-09-30'\n",
    "period_9_min = '2021-10-01'\n",
    "period_9_max = '2022-02-29'\n",
    "period_10_min = '2022-03-01'\n",
    "period_10_max = '2022-09-30'\n",
    "period_11_min = '2022-10-01'\n",
    "period_11_max = '2023-02-29'\n",
    "period_12_min = '2023-03-01'\n",
    "period_12_max = '2023-09-30'\n",
    "period_13_min = '2023-10-01'\n",
    "period_13_max = '2024-02-29'\n",
    "period_14_min = '2024-03-01'\n",
    "period_14_max = '2024-09-30'\n",
    "\n",
    "period_1 = \"Oct2017-Feb2018\"\n",
    "period_2 = \"Mar2018-Sep2018\"\n",
    "period_3 = \"Oct2018-Feb2019\"\n",
    "period_4 = \"Mar2019-Sep2019\"\n",
    "period_5 = \"Oct2019-Feb2020\"\n",
    "period_6 = \"Mar2020-Sep2020\"\n",
    "period_7 = \"Oct2020-Feb2021\"\n",
    "period_8 = \"Mar2021-Sep2021\"\n",
    "period_9 = \"Oct2021-Feb2022\"\n",
    "period_10 = \"Mar2022-Sep2022\"\n",
    "period_11 = \"Oct2022-Feb2023\"\n",
    "period_12 = \"Mar2023-Sep2023\"\n",
    "period_13 = \"Oct2023-Feb2024\"\n",
    "period_14 = \"Mar2024-Sep2024\""
   ]
  },
  {
   "cell_type": "code",
   "execution_count": 7,
   "id": "ce2d5888",
   "metadata": {},
   "outputs": [
    {
     "data": {
      "text/html": [
       "\n",
       "            <style>\n",
       "                .geemap-dark {\n",
       "                    --jp-widgets-color: white;\n",
       "                    --jp-widgets-label-color: white;\n",
       "                    --jp-ui-font-color1: white;\n",
       "                    --jp-layout-color2: #454545;\n",
       "                    background-color: #383838;\n",
       "                }\n",
       "\n",
       "                .geemap-dark .jupyter-button {\n",
       "                    --jp-layout-color3: #383838;\n",
       "                }\n",
       "\n",
       "                .geemap-colab {\n",
       "                    background-color: var(--colab-primary-surface-color, white);\n",
       "                }\n",
       "\n",
       "                .geemap-colab .jupyter-button {\n",
       "                    --jp-layout-color3: var(--colab-primary-surface-color, white);\n",
       "                }\n",
       "            </style>\n",
       "            "
      ],
      "text/plain": [
       "<IPython.core.display.HTML object>"
      ]
     },
     "metadata": {},
     "output_type": "display_data"
    }
   ],
   "source": [
    "\n",
    "period_min = period_1_min\n",
    "period_max = period_1_max\n",
    "period = period_1\n",
    "\n",
    "\n",
    "pop_seuil = 50\n",
    "\n",
    "\n",
    "nb_events = 3\n",
    "\n"
   ]
  },
  {
   "cell_type": "code",
   "execution_count": 8,
   "id": "c2d395bf",
   "metadata": {},
   "outputs": [
    {
     "data": {
      "text/html": [
       "\n",
       "            <style>\n",
       "                .geemap-dark {\n",
       "                    --jp-widgets-color: white;\n",
       "                    --jp-widgets-label-color: white;\n",
       "                    --jp-ui-font-color1: white;\n",
       "                    --jp-layout-color2: #454545;\n",
       "                    background-color: #383838;\n",
       "                }\n",
       "\n",
       "                .geemap-dark .jupyter-button {\n",
       "                    --jp-layout-color3: #383838;\n",
       "                }\n",
       "\n",
       "                .geemap-colab {\n",
       "                    background-color: var(--colab-primary-surface-color, white);\n",
       "                }\n",
       "\n",
       "                .geemap-colab .jupyter-button {\n",
       "                    --jp-layout-color3: var(--colab-primary-surface-color, white);\n",
       "                }\n",
       "            </style>\n",
       "            "
      ],
      "text/plain": [
       "<IPython.core.display.HTML object>"
      ]
     },
     "metadata": {},
     "output_type": "display_data"
    },
    {
     "data": {
      "text/plain": [
       "{'type': 'Projection',\n",
       " 'crs': 'EPSG:4326',\n",
       " 'transform': [0.000833333330003155,\n",
       "  0,\n",
       "  -17.06624991685372,\n",
       "  0,\n",
       "  -0.0008333333300088002,\n",
       "  27.297916759268993]}"
      ]
     },
     "execution_count": 8,
     "metadata": {},
     "output_type": "execute_result"
    }
   ],
   "source": [
    "# Extract the projection before doing any computation\n",
    "projection = pop_sahel.projection()\n",
    "projection.getInfo()\n"
   ]
  },
  {
   "cell_type": "code",
   "execution_count": 9,
   "id": "5d32c217",
   "metadata": {},
   "outputs": [
    {
     "data": {
      "text/html": [
       "\n",
       "            <style>\n",
       "                .geemap-dark {\n",
       "                    --jp-widgets-color: white;\n",
       "                    --jp-widgets-label-color: white;\n",
       "                    --jp-ui-font-color1: white;\n",
       "                    --jp-layout-color2: #454545;\n",
       "                    background-color: #383838;\n",
       "                }\n",
       "\n",
       "                .geemap-dark .jupyter-button {\n",
       "                    --jp-layout-color3: #383838;\n",
       "                }\n",
       "\n",
       "                .geemap-colab {\n",
       "                    background-color: var(--colab-primary-surface-color, white);\n",
       "                }\n",
       "\n",
       "                .geemap-colab .jupyter-button {\n",
       "                    --jp-layout-color3: var(--colab-primary-surface-color, white);\n",
       "                }\n",
       "            </style>\n",
       "            "
      ],
      "text/plain": [
       "<IPython.core.display.HTML object>"
      ]
     },
     "metadata": {},
     "output_type": "display_data"
    },
    {
     "data": {
      "text/html": [
       "<div><style>:root {\n",
       "  --font-color-primary: var(--jp-content-font-color0, rgba(0, 0, 0, 1));\n",
       "  --font-color-secondary: var(--jp-content-font-color2, rgba(0, 0, 0, 0.6));\n",
       "  --font-color-accent: rgba(123, 31, 162, 1);\n",
       "  --border-color: var(--jp-border-color2, #e0e0e0);\n",
       "  --background-color: var(--jp-layout-color0, white);\n",
       "  --background-color-row-even: var(--jp-layout-color1, white);\n",
       "  --background-color-row-odd: var(--jp-layout-color2, #eeeeee);\n",
       "}\n",
       "\n",
       "html[theme=\"dark\"],\n",
       "body[data-theme=\"dark\"],\n",
       "body.vscode-dark {\n",
       "  --font-color-primary: rgba(255, 255, 255, 1);\n",
       "  --font-color-secondary: rgba(255, 255, 255, 0.6);\n",
       "  --font-color-accent: rgb(173, 132, 190);\n",
       "  --border-color: #2e2e2e;\n",
       "  --background-color: #111111;\n",
       "  --background-color-row-even: #111111;\n",
       "  --background-color-row-odd: #313131;\n",
       "}\n",
       "\n",
       ".ee {\n",
       "  padding: 1em;\n",
       "  line-height: 1.5em;\n",
       "  min-width: 300px;\n",
       "  max-width: 1200px;\n",
       "  overflow-y: scroll;\n",
       "  max-height: 600px;\n",
       "  border: 1px solid var(--border-color);\n",
       "  font-family: monospace;\n",
       "}\n",
       "\n",
       ".ee li {\n",
       "  list-style-type: none;\n",
       "}\n",
       "\n",
       ".ee ul {\n",
       "  padding-left: 1.5em !important;\n",
       "  margin: 0;\n",
       "}\n",
       "\n",
       ".ee > ul {\n",
       "  padding-left: 0 !important;\n",
       "}\n",
       "\n",
       ".ee-open,\n",
       ".ee-shut {\n",
       "  color: var(--font-color-secondary);\n",
       "  cursor: pointer;\n",
       "  margin: 0;\n",
       "}\n",
       "\n",
       ".ee-open:hover,\n",
       ".ee-shut:hover {\n",
       "  color: var(--font-color-primary);\n",
       "}\n",
       "\n",
       ".ee-k {\n",
       "  color: var(--font-color-accent);\n",
       "  margin-right: 6px;\n",
       "}\n",
       "\n",
       ".ee-v {\n",
       "  color: var(--font-color-primary);\n",
       "}\n",
       "\n",
       ".ee-toggle {\n",
       "  display: none;\n",
       "}\n",
       "\n",
       ".ee-shut + ul {\n",
       "  display: none;\n",
       "}\n",
       "\n",
       ".ee-open + ul {\n",
       "  display: block;\n",
       "}\n",
       "\n",
       ".ee-shut::before {\n",
       "  display: inline-block;\n",
       "  content: \"▼\";\n",
       "  margin-right: 6px;\n",
       "  transform: rotate(-90deg);\n",
       "  transition: transform 0.2s;\n",
       "}\n",
       "\n",
       ".ee-open::before {\n",
       "  transform: rotate(0deg);\n",
       "  display: inline-block;\n",
       "  content: \"▼\";\n",
       "  margin-right: 6px;\n",
       "  transition: transform 0.2s;\n",
       "}\n",
       "</style><div class='ee'><ul><li><span class='ee-v'>92.76624195732843</span></li></ul></div><script>function toggleHeader() {\n",
       "    const parent = this.parentElement;\n",
       "    parent.className = parent.className === \"ee-open\" ? \"ee-shut\" : \"ee-open\";\n",
       "}\n",
       "\n",
       "for (let c of document.getElementsByClassName(\"ee-toggle\")) {\n",
       "    c.onclick = toggleHeader;\n",
       "}</script></div>"
      ],
      "text/plain": [
       "<ee.ee_number.Number at 0x1c743934110>"
      ]
     },
     "execution_count": 9,
     "metadata": {},
     "output_type": "execute_result"
    }
   ],
   "source": [
    "# Native Resolution:\n",
    "projection.nominalScale()"
   ]
  },
  {
   "cell_type": "code",
   "execution_count": 10,
   "id": "89e2d31e",
   "metadata": {},
   "outputs": [
    {
     "data": {
      "text/html": [
       "\n",
       "            <style>\n",
       "                .geemap-dark {\n",
       "                    --jp-widgets-color: white;\n",
       "                    --jp-widgets-label-color: white;\n",
       "                    --jp-ui-font-color1: white;\n",
       "                    --jp-layout-color2: #454545;\n",
       "                    background-color: #383838;\n",
       "                }\n",
       "\n",
       "                .geemap-dark .jupyter-button {\n",
       "                    --jp-layout-color3: #383838;\n",
       "                }\n",
       "\n",
       "                .geemap-colab {\n",
       "                    background-color: var(--colab-primary-surface-color, white);\n",
       "                }\n",
       "\n",
       "                .geemap-colab .jupyter-button {\n",
       "                    --jp-layout-color3: var(--colab-primary-surface-color, white);\n",
       "                }\n",
       "            </style>\n",
       "            "
      ],
      "text/plain": [
       "<IPython.core.display.HTML object>"
      ]
     },
     "metadata": {},
     "output_type": "display_data"
    },
    {
     "data": {
      "text/plain": [
       "{'max': {'b1': 4269.693359375},\n",
       " 'mean': {'b1': 13.01768505881743},\n",
       " 'min': {'b1': 0},\n",
       " 'std': {'b1': 20.775038775581848},\n",
       " 'sum': {'b1': 74382024.02896315}}"
      ]
     },
     "execution_count": 10,
     "metadata": {},
     "output_type": "execute_result"
    }
   ],
   "source": [
    "pop_sahel_stats = geemap.image_stats(pop_sahel, scale=100)\n",
    "pop_sahel_stats.getInfo()"
   ]
  },
  {
   "cell_type": "code",
   "execution_count": null,
   "id": "6c4a3ba4",
   "metadata": {},
   "outputs": [],
   "source": [
    "'''\n",
    "pop_sahel_stats = 'pop_sahel_stats.csv'\n",
    "geemap.zonal_stats(\n",
    "    pop_sahel,\n",
    "    sahel_adm2,\n",
    "    pop_sahel_stats,\n",
    "    statistics_type='SUM',\n",
    "    scale=100, \n",
    "    return_fc=False\n",
    ")\n",
    "'''"
   ]
  },
  {
   "cell_type": "code",
   "execution_count": 11,
   "id": "a62f7521",
   "metadata": {},
   "outputs": [
    {
     "data": {
      "text/html": [
       "\n",
       "            <style>\n",
       "                .geemap-dark {\n",
       "                    --jp-widgets-color: white;\n",
       "                    --jp-widgets-label-color: white;\n",
       "                    --jp-ui-font-color1: white;\n",
       "                    --jp-layout-color2: #454545;\n",
       "                    background-color: #383838;\n",
       "                }\n",
       "\n",
       "                .geemap-dark .jupyter-button {\n",
       "                    --jp-layout-color3: #383838;\n",
       "                }\n",
       "\n",
       "                .geemap-colab {\n",
       "                    background-color: var(--colab-primary-surface-color, white);\n",
       "                }\n",
       "\n",
       "                .geemap-colab .jupyter-button {\n",
       "                    --jp-layout-color3: var(--colab-primary-surface-color, white);\n",
       "                }\n",
       "            </style>\n",
       "            "
      ],
      "text/plain": [
       "<IPython.core.display.HTML object>"
      ]
     },
     "metadata": {},
     "output_type": "display_data"
    }
   ],
   "source": [
    "#Initialize a Map\n",
    "Map = geemap.Map()\n",
    "Map.centerObject(sahel_adm2)"
   ]
  },
  {
   "cell_type": "code",
   "execution_count": 12,
   "id": "c25f1486",
   "metadata": {},
   "outputs": [
    {
     "data": {
      "text/html": [
       "\n",
       "            <style>\n",
       "                .geemap-dark {\n",
       "                    --jp-widgets-color: white;\n",
       "                    --jp-widgets-label-color: white;\n",
       "                    --jp-ui-font-color1: white;\n",
       "                    --jp-layout-color2: #454545;\n",
       "                    background-color: #383838;\n",
       "                }\n",
       "\n",
       "                .geemap-dark .jupyter-button {\n",
       "                    --jp-layout-color3: #383838;\n",
       "                }\n",
       "\n",
       "                .geemap-colab {\n",
       "                    background-color: var(--colab-primary-surface-color, white);\n",
       "                }\n",
       "\n",
       "                .geemap-colab .jupyter-button {\n",
       "                    --jp-layout-color3: var(--colab-primary-surface-color, white);\n",
       "                }\n",
       "            </style>\n",
       "            "
      ],
      "text/plain": [
       "<IPython.core.display.HTML object>"
      ]
     },
     "metadata": {},
     "output_type": "display_data"
    },
    {
     "data": {
      "application/vnd.jupyter.widget-view+json": {
       "model_id": "69e8939333444b80baae656be5999fc2",
       "version_major": 2,
       "version_minor": 0
      },
      "text/plain": [
       "Map(center=[17.369569793340958, 3.4630404598133353], controls=(WidgetControl(options=['position', 'transparent…"
      ]
     },
     "execution_count": 12,
     "metadata": {},
     "output_type": "execute_result"
    }
   ],
   "source": [
    "# Set visualization/style parameters\n",
    "sahel_adm2_style = {\n",
    "    \"fillColor\": \"00000000\", # transparent color code\n",
    "    \"color\": \"black\", # color of the stroke\n",
    "    \"width\": 0.5 # stroke width\n",
    "}\n",
    "\n",
    "# Display the layer\n",
    "Map.addLayer(sahel_adm2.style(**sahel_adm2_style), {}, \" G5 Sahel Administrative two Boundaries\")\n",
    "Map"
   ]
  },
  {
   "cell_type": "code",
   "execution_count": 13,
   "id": "cfc7e975",
   "metadata": {},
   "outputs": [
    {
     "data": {
      "text/html": [
       "\n",
       "            <style>\n",
       "                .geemap-dark {\n",
       "                    --jp-widgets-color: white;\n",
       "                    --jp-widgets-label-color: white;\n",
       "                    --jp-ui-font-color1: white;\n",
       "                    --jp-layout-color2: #454545;\n",
       "                    background-color: #383838;\n",
       "                }\n",
       "\n",
       "                .geemap-dark .jupyter-button {\n",
       "                    --jp-layout-color3: #383838;\n",
       "                }\n",
       "\n",
       "                .geemap-colab {\n",
       "                    background-color: var(--colab-primary-surface-color, white);\n",
       "                }\n",
       "\n",
       "                .geemap-colab .jupyter-button {\n",
       "                    --jp-layout-color3: var(--colab-primary-surface-color, white);\n",
       "                }\n",
       "            </style>\n",
       "            "
      ],
      "text/plain": [
       "<IPython.core.display.HTML object>"
      ]
     },
     "metadata": {},
     "output_type": "display_data"
    },
    {
     "data": {
      "text/html": [
       "<div>\n",
       "<style scoped>\n",
       "    .dataframe tbody tr th:only-of-type {\n",
       "        vertical-align: middle;\n",
       "    }\n",
       "\n",
       "    .dataframe tbody tr th {\n",
       "        vertical-align: top;\n",
       "    }\n",
       "\n",
       "    .dataframe thead th {\n",
       "        text-align: right;\n",
       "    }\n",
       "</style>\n",
       "<table border=\"1\" class=\"dataframe\">\n",
       "  <thead>\n",
       "    <tr style=\"text-align: right;\">\n",
       "      <th></th>\n",
       "      <th>ADMIN0NAME</th>\n",
       "      <th>ADMIN0PCOD</th>\n",
       "      <th>ADMIN1NAME</th>\n",
       "      <th>ADMIN1PCOD</th>\n",
       "      <th>ADMIN2NAME</th>\n",
       "      <th>ADMIN2PCOD</th>\n",
       "      <th>INITIAL</th>\n",
       "      <th>OBJECTID</th>\n",
       "      <th>Shape_Area</th>\n",
       "      <th>Shape_Leng</th>\n",
       "    </tr>\n",
       "  </thead>\n",
       "  <tbody>\n",
       "    <tr>\n",
       "      <th>0</th>\n",
       "      <td>Burkina Faso</td>\n",
       "      <td>BF</td>\n",
       "      <td>Boucle du Mouhoun</td>\n",
       "      <td>BF46</td>\n",
       "      <td>Bale</td>\n",
       "      <td>BF4601</td>\n",
       "      <td>49</td>\n",
       "      <td>1</td>\n",
       "      <td>0.376722</td>\n",
       "      <td>4.830069</td>\n",
       "    </tr>\n",
       "    <tr>\n",
       "      <th>176</th>\n",
       "      <td>Mauritania</td>\n",
       "      <td>MR</td>\n",
       "      <td>Brakna</td>\n",
       "      <td>MR03</td>\n",
       "      <td>Boghe</td>\n",
       "      <td>MR0303</td>\n",
       "      <td>155</td>\n",
       "      <td>177</td>\n",
       "      <td>0.141859</td>\n",
       "      <td>2.621931</td>\n",
       "    </tr>\n",
       "    <tr>\n",
       "      <th>177</th>\n",
       "      <td>Mauritania</td>\n",
       "      <td>MR</td>\n",
       "      <td>Brakna</td>\n",
       "      <td>MR03</td>\n",
       "      <td>M'Bagne</td>\n",
       "      <td>MR0305</td>\n",
       "      <td>148</td>\n",
       "      <td>178</td>\n",
       "      <td>0.056010</td>\n",
       "      <td>1.128084</td>\n",
       "    </tr>\n",
       "    <tr>\n",
       "      <th>178</th>\n",
       "      <td>Mauritania</td>\n",
       "      <td>MR</td>\n",
       "      <td>Brakna</td>\n",
       "      <td>MR03</td>\n",
       "      <td>Maghta Lahjar</td>\n",
       "      <td>MR0304</td>\n",
       "      <td>178</td>\n",
       "      <td>179</td>\n",
       "      <td>1.177650</td>\n",
       "      <td>4.641148</td>\n",
       "    </tr>\n",
       "    <tr>\n",
       "      <th>179</th>\n",
       "      <td>Mauritania</td>\n",
       "      <td>MR</td>\n",
       "      <td>Dakhlet Nouadhibou</td>\n",
       "      <td>MR04</td>\n",
       "      <td>Chami</td>\n",
       "      <td>MR0402</td>\n",
       "      <td>285</td>\n",
       "      <td>180</td>\n",
       "      <td>1.960411</td>\n",
       "      <td>12.939259</td>\n",
       "    </tr>\n",
       "    <tr>\n",
       "      <th>180</th>\n",
       "      <td>Mauritania</td>\n",
       "      <td>MR</td>\n",
       "      <td>Dakhlet Nouadhibou</td>\n",
       "      <td>MR04</td>\n",
       "      <td>Nouadhibou</td>\n",
       "      <td>MR0401</td>\n",
       "      <td>284</td>\n",
       "      <td>181</td>\n",
       "      <td>1.314143</td>\n",
       "      <td>6.941920</td>\n",
       "    </tr>\n",
       "    <tr>\n",
       "      <th>181</th>\n",
       "      <td>Mauritania</td>\n",
       "      <td>MR</td>\n",
       "      <td>Gorgol</td>\n",
       "      <td>MR05</td>\n",
       "      <td>Kaedi</td>\n",
       "      <td>MR0501</td>\n",
       "      <td>147</td>\n",
       "      <td>182</td>\n",
       "      <td>0.352751</td>\n",
       "      <td>3.095653</td>\n",
       "    </tr>\n",
       "    <tr>\n",
       "      <th>182</th>\n",
       "      <td>Mauritania</td>\n",
       "      <td>MR</td>\n",
       "      <td>Gorgol</td>\n",
       "      <td>MR05</td>\n",
       "      <td>M'Bout</td>\n",
       "      <td>MR0503</td>\n",
       "      <td>149</td>\n",
       "      <td>183</td>\n",
       "      <td>0.464840</td>\n",
       "      <td>3.419231</td>\n",
       "    </tr>\n",
       "    <tr>\n",
       "      <th>183</th>\n",
       "      <td>Mauritania</td>\n",
       "      <td>MR</td>\n",
       "      <td>Gorgol</td>\n",
       "      <td>MR05</td>\n",
       "      <td>Maghama</td>\n",
       "      <td>MR0502</td>\n",
       "      <td>137</td>\n",
       "      <td>184</td>\n",
       "      <td>0.197272</td>\n",
       "      <td>2.483626</td>\n",
       "    </tr>\n",
       "    <tr>\n",
       "      <th>184</th>\n",
       "      <td>Mauritania</td>\n",
       "      <td>MR</td>\n",
       "      <td>Gorgol</td>\n",
       "      <td>MR05</td>\n",
       "      <td>Monguel</td>\n",
       "      <td>MR0504</td>\n",
       "      <td>158</td>\n",
       "      <td>185</td>\n",
       "      <td>0.147683</td>\n",
       "      <td>1.892978</td>\n",
       "    </tr>\n",
       "  </tbody>\n",
       "</table>\n",
       "</div>"
      ],
      "text/plain": [
       "       ADMIN0NAME ADMIN0PCOD          ADMIN1NAME ADMIN1PCOD     ADMIN2NAME  \\\n",
       "0    Burkina Faso         BF   Boucle du Mouhoun       BF46           Bale   \n",
       "176    Mauritania         MR              Brakna       MR03          Boghe   \n",
       "177    Mauritania         MR              Brakna       MR03        M'Bagne   \n",
       "178    Mauritania         MR              Brakna       MR03  Maghta Lahjar   \n",
       "179    Mauritania         MR  Dakhlet Nouadhibou       MR04          Chami   \n",
       "180    Mauritania         MR  Dakhlet Nouadhibou       MR04     Nouadhibou   \n",
       "181    Mauritania         MR              Gorgol       MR05          Kaedi   \n",
       "182    Mauritania         MR              Gorgol       MR05         M'Bout   \n",
       "183    Mauritania         MR              Gorgol       MR05        Maghama   \n",
       "184    Mauritania         MR              Gorgol       MR05        Monguel   \n",
       "\n",
       "    ADMIN2PCOD  INITIAL  OBJECTID  Shape_Area  Shape_Leng  \n",
       "0       BF4601       49         1    0.376722    4.830069  \n",
       "176     MR0303      155       177    0.141859    2.621931  \n",
       "177     MR0305      148       178    0.056010    1.128084  \n",
       "178     MR0304      178       179    1.177650    4.641148  \n",
       "179     MR0402      285       180    1.960411   12.939259  \n",
       "180     MR0401      284       181    1.314143    6.941920  \n",
       "181     MR0501      147       182    0.352751    3.095653  \n",
       "182     MR0503      149       183    0.464840    3.419231  \n",
       "183     MR0502      137       184    0.197272    2.483626  \n",
       "184     MR0504      158       185    0.147683    1.892978  "
      ]
     },
     "execution_count": 13,
     "metadata": {},
     "output_type": "execute_result"
    }
   ],
   "source": [
    "# To preview first five rows. \n",
    "def preview(df, n=5):\n",
    "    \"\"\"return n rows that have fewest number of nulls\"\"\"\n",
    "    order = df.isnull().sum(axis=1).sort_values().head(n).index\n",
    "    return df.loc[order]\n",
    "\n",
    "# View the Datasets\n",
    "df_sahel_adm2 = geemap.ee_to_df(sahel_adm2, sort_columns=True)\n",
    "\n",
    "preview(df_sahel_adm2, 10)"
   ]
  },
  {
   "cell_type": "code",
   "execution_count": 14,
   "id": "3e02ac2b",
   "metadata": {},
   "outputs": [
    {
     "data": {
      "text/html": [
       "\n",
       "            <style>\n",
       "                .geemap-dark {\n",
       "                    --jp-widgets-color: white;\n",
       "                    --jp-widgets-label-color: white;\n",
       "                    --jp-ui-font-color1: white;\n",
       "                    --jp-layout-color2: #454545;\n",
       "                    background-color: #383838;\n",
       "                }\n",
       "\n",
       "                .geemap-dark .jupyter-button {\n",
       "                    --jp-layout-color3: #383838;\n",
       "                }\n",
       "\n",
       "                .geemap-colab {\n",
       "                    background-color: var(--colab-primary-surface-color, white);\n",
       "                }\n",
       "\n",
       "                .geemap-colab .jupyter-button {\n",
       "                    --jp-layout-color3: var(--colab-primary-surface-color, white);\n",
       "                }\n",
       "            </style>\n",
       "            "
      ],
      "text/plain": [
       "<IPython.core.display.HTML object>"
      ]
     },
     "metadata": {},
     "output_type": "display_data"
    },
    {
     "data": {
      "text/html": [
       "<div>\n",
       "<style scoped>\n",
       "    .dataframe tbody tr th:only-of-type {\n",
       "        vertical-align: middle;\n",
       "    }\n",
       "\n",
       "    .dataframe tbody tr th {\n",
       "        vertical-align: top;\n",
       "    }\n",
       "\n",
       "    .dataframe thead th {\n",
       "        text-align: right;\n",
       "    }\n",
       "</style>\n",
       "<table border=\"1\" class=\"dataframe\">\n",
       "  <thead>\n",
       "    <tr style=\"text-align: right;\">\n",
       "      <th></th>\n",
       "      <th>ADMIN0NAME</th>\n",
       "      <th>ADMIN0PCOD</th>\n",
       "      <th>ADMIN1NAME</th>\n",
       "      <th>ADMIN1PCOD</th>\n",
       "      <th>ADMIN2NAME</th>\n",
       "      <th>ADMIN2PCOD</th>\n",
       "      <th>INITIAL</th>\n",
       "      <th>OBJECTID</th>\n",
       "      <th>Shape_Area</th>\n",
       "      <th>Shape_Leng</th>\n",
       "    </tr>\n",
       "  </thead>\n",
       "  <tbody>\n",
       "    <tr>\n",
       "      <th>0</th>\n",
       "      <td>Burkina Faso</td>\n",
       "      <td>BF</td>\n",
       "      <td>Boucle du Mouhoun</td>\n",
       "      <td>BF46</td>\n",
       "      <td>Bale</td>\n",
       "      <td>BF4601</td>\n",
       "      <td>49</td>\n",
       "      <td>1</td>\n",
       "      <td>0.376722</td>\n",
       "      <td>4.830069</td>\n",
       "    </tr>\n",
       "    <tr>\n",
       "      <th>1</th>\n",
       "      <td>Burkina Faso</td>\n",
       "      <td>BF</td>\n",
       "      <td>Boucle du Mouhoun</td>\n",
       "      <td>BF46</td>\n",
       "      <td>Banwa</td>\n",
       "      <td>BF4602</td>\n",
       "      <td>66</td>\n",
       "      <td>2</td>\n",
       "      <td>0.490583</td>\n",
       "      <td>5.015746</td>\n",
       "    </tr>\n",
       "    <tr>\n",
       "      <th>2</th>\n",
       "      <td>Burkina Faso</td>\n",
       "      <td>BF</td>\n",
       "      <td>Boucle du Mouhoun</td>\n",
       "      <td>BF46</td>\n",
       "      <td>Kossi</td>\n",
       "      <td>BF4603</td>\n",
       "      <td>90</td>\n",
       "      <td>3</td>\n",
       "      <td>0.622852</td>\n",
       "      <td>4.115810</td>\n",
       "    </tr>\n",
       "    <tr>\n",
       "      <th>3</th>\n",
       "      <td>Burkina Faso</td>\n",
       "      <td>BF</td>\n",
       "      <td>Boucle du Mouhoun</td>\n",
       "      <td>BF46</td>\n",
       "      <td>Mouhoun</td>\n",
       "      <td>BF4604</td>\n",
       "      <td>67</td>\n",
       "      <td>4</td>\n",
       "      <td>0.571324</td>\n",
       "      <td>5.523416</td>\n",
       "    </tr>\n",
       "    <tr>\n",
       "      <th>4</th>\n",
       "      <td>Burkina Faso</td>\n",
       "      <td>BF</td>\n",
       "      <td>Boucle du Mouhoun</td>\n",
       "      <td>BF46</td>\n",
       "      <td>Nayala</td>\n",
       "      <td>BF4605</td>\n",
       "      <td>76</td>\n",
       "      <td>5</td>\n",
       "      <td>0.309684</td>\n",
       "      <td>2.757532</td>\n",
       "    </tr>\n",
       "  </tbody>\n",
       "</table>\n",
       "</div>"
      ],
      "text/plain": [
       "     ADMIN0NAME ADMIN0PCOD         ADMIN1NAME ADMIN1PCOD ADMIN2NAME  \\\n",
       "0  Burkina Faso         BF  Boucle du Mouhoun       BF46       Bale   \n",
       "1  Burkina Faso         BF  Boucle du Mouhoun       BF46      Banwa   \n",
       "2  Burkina Faso         BF  Boucle du Mouhoun       BF46      Kossi   \n",
       "3  Burkina Faso         BF  Boucle du Mouhoun       BF46    Mouhoun   \n",
       "4  Burkina Faso         BF  Boucle du Mouhoun       BF46     Nayala   \n",
       "\n",
       "  ADMIN2PCOD  INITIAL  OBJECTID  Shape_Area  Shape_Leng  \n",
       "0     BF4601       49         1    0.376722    4.830069  \n",
       "1     BF4602       66         2    0.490583    5.015746  \n",
       "2     BF4603       90         3    0.622852    4.115810  \n",
       "3     BF4604       67         4    0.571324    5.523416  \n",
       "4     BF4605       76         5    0.309684    2.757532  "
      ]
     },
     "execution_count": 14,
     "metadata": {},
     "output_type": "execute_result"
    }
   ],
   "source": [
    "#Let's check the first five rows of the data\n",
    "df_sahel_adm2.head()"
   ]
  },
  {
   "cell_type": "code",
   "execution_count": 15,
   "id": "ec6b48e9",
   "metadata": {},
   "outputs": [
    {
     "data": {
      "text/html": [
       "\n",
       "            <style>\n",
       "                .geemap-dark {\n",
       "                    --jp-widgets-color: white;\n",
       "                    --jp-widgets-label-color: white;\n",
       "                    --jp-ui-font-color1: white;\n",
       "                    --jp-layout-color2: #454545;\n",
       "                    background-color: #383838;\n",
       "                }\n",
       "\n",
       "                .geemap-dark .jupyter-button {\n",
       "                    --jp-layout-color3: #383838;\n",
       "                }\n",
       "\n",
       "                .geemap-colab {\n",
       "                    background-color: var(--colab-primary-surface-color, white);\n",
       "                }\n",
       "\n",
       "                .geemap-colab .jupyter-button {\n",
       "                    --jp-layout-color3: var(--colab-primary-surface-color, white);\n",
       "                }\n",
       "            </style>\n",
       "            "
      ],
      "text/plain": [
       "<IPython.core.display.HTML object>"
      ]
     },
     "metadata": {},
     "output_type": "display_data"
    },
    {
     "name": "stdout",
     "output_type": "stream",
     "text": [
      "<class 'pandas.core.frame.DataFrame'>\n",
      "RangeIndex: 279 entries, 0 to 278\n",
      "Data columns (total 10 columns):\n",
      " #   Column      Non-Null Count  Dtype  \n",
      "---  ------      --------------  -----  \n",
      " 0   ADMIN0NAME  279 non-null    object \n",
      " 1   ADMIN0PCOD  279 non-null    object \n",
      " 2   ADMIN1NAME  279 non-null    object \n",
      " 3   ADMIN1PCOD  279 non-null    object \n",
      " 4   ADMIN2NAME  279 non-null    object \n",
      " 5   ADMIN2PCOD  279 non-null    object \n",
      " 6   INITIAL     279 non-null    int64  \n",
      " 7   OBJECTID    279 non-null    int64  \n",
      " 8   Shape_Area  279 non-null    float64\n",
      " 9   Shape_Leng  279 non-null    float64\n",
      "dtypes: float64(2), int64(2), object(6)\n",
      "memory usage: 21.9+ KB\n"
     ]
    }
   ],
   "source": [
    "# Checking the info of the dataset\n",
    "df_sahel_adm2.info()"
   ]
  },
  {
   "cell_type": "code",
   "execution_count": 16,
   "id": "2be3497e",
   "metadata": {},
   "outputs": [
    {
     "data": {
      "text/html": [
       "\n",
       "            <style>\n",
       "                .geemap-dark {\n",
       "                    --jp-widgets-color: white;\n",
       "                    --jp-widgets-label-color: white;\n",
       "                    --jp-ui-font-color1: white;\n",
       "                    --jp-layout-color2: #454545;\n",
       "                    background-color: #383838;\n",
       "                }\n",
       "\n",
       "                .geemap-dark .jupyter-button {\n",
       "                    --jp-layout-color3: #383838;\n",
       "                }\n",
       "\n",
       "                .geemap-colab {\n",
       "                    background-color: var(--colab-primary-surface-color, white);\n",
       "                }\n",
       "\n",
       "                .geemap-colab .jupyter-button {\n",
       "                    --jp-layout-color3: var(--colab-primary-surface-color, white);\n",
       "                }\n",
       "            </style>\n",
       "            "
      ],
      "text/plain": [
       "<IPython.core.display.HTML object>"
      ]
     },
     "metadata": {},
     "output_type": "display_data"
    },
    {
     "data": {
      "text/plain": [
       "<Axes: xlabel='ADMIN0PCOD'>"
      ]
     },
     "execution_count": 16,
     "metadata": {},
     "output_type": "execute_result"
    },
    {
     "data": {
      "image/png": "[encoded data removed]",
      "text/plain": [
       "<Figure size 500x500 with 1 Axes>"
      ]
     },
     "metadata": {},
     "output_type": "display_data"
    }
   ],
   "source": [
    "# Plotting countplot for admin0Pcod (G5 Sahel Countries)\n",
    "df_sahel_adm2.ADMIN0PCOD.value_counts().sort_values(ascending=False).plot(kind='bar' ,figsize=(5,5))"
   ]
  },
  {
   "cell_type": "code",
   "execution_count": 18,
   "id": "726f7e93",
   "metadata": {},
   "outputs": [
    {
     "data": {
      "text/html": [
       "\n",
       "            <style>\n",
       "                .geemap-dark {\n",
       "                    --jp-widgets-color: white;\n",
       "                    --jp-widgets-label-color: white;\n",
       "                    --jp-ui-font-color1: white;\n",
       "                    --jp-layout-color2: #454545;\n",
       "                    background-color: #383838;\n",
       "                }\n",
       "\n",
       "                .geemap-dark .jupyter-button {\n",
       "                    --jp-layout-color3: #383838;\n",
       "                }\n",
       "\n",
       "                .geemap-colab {\n",
       "                    background-color: var(--colab-primary-surface-color, white);\n",
       "                }\n",
       "\n",
       "                .geemap-colab .jupyter-button {\n",
       "                    --jp-layout-color3: var(--colab-primary-surface-color, white);\n",
       "                }\n",
       "            </style>\n",
       "            "
      ],
      "text/plain": [
       "<IPython.core.display.HTML object>"
      ]
     },
     "metadata": {},
     "output_type": "display_data"
    },
    {
     "data": {
      "text/plain": [
       "ADMIN0PCOD\n",
       "TD    70\n",
       "NE    67\n",
       "ML    50\n",
       "MR    47\n",
       "BF    45\n",
       "Name: count, dtype: int64"
      ]
     },
     "execution_count": 18,
     "metadata": {},
     "output_type": "execute_result"
    }
   ],
   "source": [
    "# Plotting countplot for admin2Pcod (G5 Sahel Countries)\n",
    "#df_sahel_adm2.admin2Pcod.value_counts().sort_values(ascending=False).plot(kind='bar' ,figsize=(20,8))\n",
    "# \n",
    "df_sahel_adm2.ADMIN0PCOD.value_counts()"
   ]
  },
  {
   "cell_type": "code",
   "execution_count": 19,
   "id": "75a6b6c9",
   "metadata": {},
   "outputs": [
    {
     "data": {
      "text/html": [
       "\n",
       "            <style>\n",
       "                .geemap-dark {\n",
       "                    --jp-widgets-color: white;\n",
       "                    --jp-widgets-label-color: white;\n",
       "                    --jp-ui-font-color1: white;\n",
       "                    --jp-layout-color2: #454545;\n",
       "                    background-color: #383838;\n",
       "                }\n",
       "\n",
       "                .geemap-dark .jupyter-button {\n",
       "                    --jp-layout-color3: #383838;\n",
       "                }\n",
       "\n",
       "                .geemap-colab {\n",
       "                    background-color: var(--colab-primary-surface-color, white);\n",
       "                }\n",
       "\n",
       "                .geemap-colab .jupyter-button {\n",
       "                    --jp-layout-color3: var(--colab-primary-surface-color, white);\n",
       "                }\n",
       "            </style>\n",
       "            "
      ],
      "text/plain": [
       "<IPython.core.display.HTML object>"
      ]
     },
     "metadata": {},
     "output_type": "display_data"
    }
   ],
   "source": [
    "df_events_diffusion = geemap.ee_to_df(events_diffusion_period, sort_columns=True)\n"
   ]
  },
  {
   "cell_type": "code",
   "execution_count": 20,
   "id": "b9835e09",
   "metadata": {},
   "outputs": [
    {
     "data": {
      "text/html": [
       "\n",
       "            <style>\n",
       "                .geemap-dark {\n",
       "                    --jp-widgets-color: white;\n",
       "                    --jp-widgets-label-color: white;\n",
       "                    --jp-ui-font-color1: white;\n",
       "                    --jp-layout-color2: #454545;\n",
       "                    background-color: #383838;\n",
       "                }\n",
       "\n",
       "                .geemap-dark .jupyter-button {\n",
       "                    --jp-layout-color3: #383838;\n",
       "                }\n",
       "\n",
       "                .geemap-colab {\n",
       "                    background-color: var(--colab-primary-surface-color, white);\n",
       "                }\n",
       "\n",
       "                .geemap-colab .jupyter-button {\n",
       "                    --jp-layout-color3: var(--colab-primary-surface-color, white);\n",
       "                }\n",
       "            </style>\n",
       "            "
      ],
      "text/plain": [
       "<IPython.core.display.HTML object>"
      ]
     },
     "metadata": {},
     "output_type": "display_data"
    },
    {
     "data": {
      "text/html": [
       "<div>\n",
       "<style scoped>\n",
       "    .dataframe tbody tr th:only-of-type {\n",
       "        vertical-align: middle;\n",
       "    }\n",
       "\n",
       "    .dataframe tbody tr th {\n",
       "        vertical-align: top;\n",
       "    }\n",
       "\n",
       "    .dataframe thead th {\n",
       "        text-align: right;\n",
       "    }\n",
       "</style>\n",
       "<table border=\"1\" class=\"dataframe\">\n",
       "  <thead>\n",
       "    <tr style=\"text-align: right;\">\n",
       "      <th></th>\n",
       "      <th>actor1</th>\n",
       "      <th>actor2</th>\n",
       "      <th>admin0Name</th>\n",
       "      <th>admin0Pcod</th>\n",
       "      <th>admin1</th>\n",
       "      <th>admin1Name</th>\n",
       "      <th>admin1Pcod</th>\n",
       "      <th>admin2</th>\n",
       "      <th>admin2Na_1</th>\n",
       "      <th>admin2Name</th>\n",
       "      <th>...</th>\n",
       "      <th>longitude</th>\n",
       "      <th>period</th>\n",
       "      <th>region</th>\n",
       "      <th>source</th>\n",
       "      <th>source_sca</th>\n",
       "      <th>sub_event_</th>\n",
       "      <th>tags</th>\n",
       "      <th>time_preci</th>\n",
       "      <th>timestamp</th>\n",
       "      <th>year</th>\n",
       "    </tr>\n",
       "  </thead>\n",
       "  <tbody>\n",
       "    <tr>\n",
       "      <th>0</th>\n",
       "      <td>Mutiny of Military Forces of Burkina Faso (201...</td>\n",
       "      <td>Military Forces of Burkina Faso (2015-2022)</td>\n",
       "      <td>Burkina Faso</td>\n",
       "      <td>BF</td>\n",
       "      <td>Centre</td>\n",
       "      <td>Centre</td>\n",
       "      <td>BF13</td>\n",
       "      <td>Kadiogo</td>\n",
       "      <td>Kadiogo</td>\n",
       "      <td>Kadiogo</td>\n",
       "      <td>...</td>\n",
       "      <td>-1.5247</td>\n",
       "      <td>Oct2021-Feb2022</td>\n",
       "      <td>Western Africa</td>\n",
       "      <td>AIB (Burkina Faso); Burkina24; Jeune Afrique; ...</td>\n",
       "      <td>New media-Subnational</td>\n",
       "      <td>Armed clash</td>\n",
       "      <td></td>\n",
       "      <td>1</td>\n",
       "      <td>1702343240</td>\n",
       "      <td>2022</td>\n",
       "    </tr>\n",
       "    <tr>\n",
       "      <th>1</th>\n",
       "      <td>Military Forces of Burkina Faso (2022-)</td>\n",
       "      <td></td>\n",
       "      <td>Burkina Faso</td>\n",
       "      <td>BF</td>\n",
       "      <td>Boucle du Mouhoun</td>\n",
       "      <td>Boucle du Mouhoun</td>\n",
       "      <td>BF46</td>\n",
       "      <td>Kossi</td>\n",
       "      <td>Kossi</td>\n",
       "      <td>Kossi</td>\n",
       "      <td>...</td>\n",
       "      <td>-3.7285</td>\n",
       "      <td>Mar2022-Sep2022</td>\n",
       "      <td>Western Africa</td>\n",
       "      <td>Undisclosed Source; Facebook</td>\n",
       "      <td>Local partner-Other</td>\n",
       "      <td>Air/drone strike</td>\n",
       "      <td></td>\n",
       "      <td>1</td>\n",
       "      <td>1663010290</td>\n",
       "      <td>2022</td>\n",
       "    </tr>\n",
       "    <tr>\n",
       "      <th>2</th>\n",
       "      <td>Military Forces of Burkina Faso (2022-)</td>\n",
       "      <td></td>\n",
       "      <td>Burkina Faso</td>\n",
       "      <td>BF</td>\n",
       "      <td>Boucle du Mouhoun</td>\n",
       "      <td>Boucle du Mouhoun</td>\n",
       "      <td>BF46</td>\n",
       "      <td>Nayala</td>\n",
       "      <td>Nayala</td>\n",
       "      <td>Nayala</td>\n",
       "      <td>...</td>\n",
       "      <td>-2.9833</td>\n",
       "      <td>Mar2022-Sep2022</td>\n",
       "      <td>Western Africa</td>\n",
       "      <td>AIB (Burkina Faso); Facebook; Undisclosed Source</td>\n",
       "      <td>Local partner-Other</td>\n",
       "      <td>Air/drone strike</td>\n",
       "      <td></td>\n",
       "      <td>1</td>\n",
       "      <td>1702343220</td>\n",
       "      <td>2022</td>\n",
       "    </tr>\n",
       "    <tr>\n",
       "      <th>3</th>\n",
       "      <td>Military Forces of Burkina Faso (2015-2022)</td>\n",
       "      <td>Military Forces of Burkina Faso (2015-2022)</td>\n",
       "      <td>Burkina Faso</td>\n",
       "      <td>BF</td>\n",
       "      <td>Boucle du Mouhoun</td>\n",
       "      <td>Boucle du Mouhoun</td>\n",
       "      <td>BF46</td>\n",
       "      <td>Sourou</td>\n",
       "      <td>Sourou</td>\n",
       "      <td>Sourou</td>\n",
       "      <td>...</td>\n",
       "      <td>-3.1985</td>\n",
       "      <td>Mar2021-Sep2021</td>\n",
       "      <td>Western Africa</td>\n",
       "      <td>Undisclosed Source</td>\n",
       "      <td>Local partner-Other</td>\n",
       "      <td>Air/drone strike</td>\n",
       "      <td></td>\n",
       "      <td>1</td>\n",
       "      <td>1675727770</td>\n",
       "      <td>2021</td>\n",
       "    </tr>\n",
       "    <tr>\n",
       "      <th>4</th>\n",
       "      <td>Police Forces of Burkina Faso (2022-)</td>\n",
       "      <td>Military Forces of Burkina Faso (2022-)</td>\n",
       "      <td>Burkina Faso</td>\n",
       "      <td>BF</td>\n",
       "      <td>Centre-Nord</td>\n",
       "      <td>Centre-Nord</td>\n",
       "      <td>BF49</td>\n",
       "      <td>Sanmatenga</td>\n",
       "      <td>Sanmatenga</td>\n",
       "      <td>Sanmatenga</td>\n",
       "      <td>...</td>\n",
       "      <td>-1.0844</td>\n",
       "      <td>Mar2022-Sep2022</td>\n",
       "      <td>Western Africa</td>\n",
       "      <td>Undisclosed Source</td>\n",
       "      <td>Local partner-Other</td>\n",
       "      <td>Armed clash</td>\n",
       "      <td></td>\n",
       "      <td>1</td>\n",
       "      <td>1653327030</td>\n",
       "      <td>2022</td>\n",
       "    </tr>\n",
       "  </tbody>\n",
       "</table>\n",
       "<p>5 rows × 40 columns</p>\n",
       "</div>"
      ],
      "text/plain": [
       "                                              actor1  \\\n",
       "0  Mutiny of Military Forces of Burkina Faso (201...   \n",
       "1            Military Forces of Burkina Faso (2022-)   \n",
       "2            Military Forces of Burkina Faso (2022-)   \n",
       "3        Military Forces of Burkina Faso (2015-2022)   \n",
       "4              Police Forces of Burkina Faso (2022-)   \n",
       "\n",
       "                                        actor2    admin0Name admin0Pcod  \\\n",
       "0  Military Forces of Burkina Faso (2015-2022)  Burkina Faso         BF   \n",
       "1                                               Burkina Faso         BF   \n",
       "2                                               Burkina Faso         BF   \n",
       "3  Military Forces of Burkina Faso (2015-2022)  Burkina Faso         BF   \n",
       "4      Military Forces of Burkina Faso (2022-)  Burkina Faso         BF   \n",
       "\n",
       "              admin1         admin1Name admin1Pcod      admin2  admin2Na_1  \\\n",
       "0             Centre             Centre       BF13     Kadiogo     Kadiogo   \n",
       "1  Boucle du Mouhoun  Boucle du Mouhoun       BF46       Kossi       Kossi   \n",
       "2  Boucle du Mouhoun  Boucle du Mouhoun       BF46      Nayala      Nayala   \n",
       "3  Boucle du Mouhoun  Boucle du Mouhoun       BF46      Sourou      Sourou   \n",
       "4        Centre-Nord        Centre-Nord       BF49  Sanmatenga  Sanmatenga   \n",
       "\n",
       "   admin2Name  ... longitude           period          region  \\\n",
       "0     Kadiogo  ...   -1.5247  Oct2021-Feb2022  Western Africa   \n",
       "1       Kossi  ...   -3.7285  Mar2022-Sep2022  Western Africa   \n",
       "2      Nayala  ...   -2.9833  Mar2022-Sep2022  Western Africa   \n",
       "3      Sourou  ...   -3.1985  Mar2021-Sep2021  Western Africa   \n",
       "4  Sanmatenga  ...   -1.0844  Mar2022-Sep2022  Western Africa   \n",
       "\n",
       "                                              source             source_sca  \\\n",
       "0  AIB (Burkina Faso); Burkina24; Jeune Afrique; ...  New media-Subnational   \n",
       "1                       Undisclosed Source; Facebook    Local partner-Other   \n",
       "2   AIB (Burkina Faso); Facebook; Undisclosed Source    Local partner-Other   \n",
       "3                                 Undisclosed Source    Local partner-Other   \n",
       "4                                 Undisclosed Source    Local partner-Other   \n",
       "\n",
       "         sub_event_ tags time_preci   timestamp  year  \n",
       "0       Armed clash               1  1702343240  2022  \n",
       "1  Air/drone strike               1  1663010290  2022  \n",
       "2  Air/drone strike               1  1702343220  2022  \n",
       "3  Air/drone strike               1  1675727770  2021  \n",
       "4       Armed clash               1  1653327030  2022  \n",
       "\n",
       "[5 rows x 40 columns]"
      ]
     },
     "execution_count": 20,
     "metadata": {},
     "output_type": "execute_result"
    }
   ],
   "source": [
    "#Let's check the first five rows of the data\n",
    "df_events_diffusion.head()\n"
   ]
  },
  {
   "cell_type": "code",
   "execution_count": 21,
   "id": "8dea98bf",
   "metadata": {},
   "outputs": [
    {
     "data": {
      "text/html": [
       "\n",
       "            <style>\n",
       "                .geemap-dark {\n",
       "                    --jp-widgets-color: white;\n",
       "                    --jp-widgets-label-color: white;\n",
       "                    --jp-ui-font-color1: white;\n",
       "                    --jp-layout-color2: #454545;\n",
       "                    background-color: #383838;\n",
       "                }\n",
       "\n",
       "                .geemap-dark .jupyter-button {\n",
       "                    --jp-layout-color3: #383838;\n",
       "                }\n",
       "\n",
       "                .geemap-colab {\n",
       "                    background-color: var(--colab-primary-surface-color, white);\n",
       "                }\n",
       "\n",
       "                .geemap-colab .jupyter-button {\n",
       "                    --jp-layout-color3: var(--colab-primary-surface-color, white);\n",
       "                }\n",
       "            </style>\n",
       "            "
      ],
      "text/plain": [
       "<IPython.core.display.HTML object>"
      ]
     },
     "metadata": {},
     "output_type": "display_data"
    },
    {
     "name": "stdout",
     "output_type": "stream",
     "text": [
      "<class 'pandas.core.frame.DataFrame'>\n",
      "RangeIndex: 16578 entries, 0 to 16577\n",
      "Data columns (total 40 columns):\n",
      " #   Column      Non-Null Count  Dtype  \n",
      "---  ------      --------------  -----  \n",
      " 0   actor1      16578 non-null  object \n",
      " 1   actor2      16578 non-null  object \n",
      " 2   admin0Name  16578 non-null  object \n",
      " 3   admin0Pcod  16578 non-null  object \n",
      " 4   admin1      16578 non-null  object \n",
      " 5   admin1Name  16578 non-null  object \n",
      " 6   admin1Pcod  16578 non-null  object \n",
      " 7   admin2      16578 non-null  object \n",
      " 8   admin2Na_1  16578 non-null  object \n",
      " 9   admin2Name  16578 non-null  object \n",
      " 10  admin2Pc_1  16578 non-null  object \n",
      " 11  admin2Pcod  16578 non-null  object \n",
      " 12  admin3      16578 non-null  object \n",
      " 13  assoc_ac_1  16578 non-null  object \n",
      " 14  assoc_acto  16578 non-null  object \n",
      " 15  civilian_t  16578 non-null  object \n",
      " 16  country     16578 non-null  object \n",
      " 17  disorder_t  16578 non-null  object \n",
      " 18  event_date  16578 non-null  int64  \n",
      " 19  event_id_c  16578 non-null  object \n",
      " 20  event_type  16578 non-null  object \n",
      " 21  fatalities  16578 non-null  int64  \n",
      " 22  flag        16578 non-null  int64  \n",
      " 23  geo_precis  16578 non-null  int64  \n",
      " 24  inter1      16578 non-null  int64  \n",
      " 25  inter2      16578 non-null  int64  \n",
      " 26  interactio  16578 non-null  int64  \n",
      " 27  iso         16578 non-null  int64  \n",
      " 28  latitude    16578 non-null  float64\n",
      " 29  location    16578 non-null  object \n",
      " 30  longitude   16578 non-null  float64\n",
      " 31  period      16578 non-null  object \n",
      " 32  region      16578 non-null  object \n",
      " 33  source      16578 non-null  object \n",
      " 34  source_sca  16578 non-null  object \n",
      " 35  sub_event_  16578 non-null  object \n",
      " 36  tags        16578 non-null  object \n",
      " 37  time_preci  16578 non-null  int64  \n",
      " 38  timestamp   16578 non-null  int64  \n",
      " 39  year        16578 non-null  int64  \n",
      "dtypes: float64(2), int64(11), object(27)\n",
      "memory usage: 5.1+ MB\n"
     ]
    }
   ],
   "source": [
    "# Checking the info of the dataset\n",
    "df_events_diffusion.info()\n"
   ]
  },
  {
   "cell_type": "code",
   "execution_count": 22,
   "id": "bdc50f59",
   "metadata": {},
   "outputs": [
    {
     "data": {
      "text/html": [
       "\n",
       "            <style>\n",
       "                .geemap-dark {\n",
       "                    --jp-widgets-color: white;\n",
       "                    --jp-widgets-label-color: white;\n",
       "                    --jp-ui-font-color1: white;\n",
       "                    --jp-layout-color2: #454545;\n",
       "                    background-color: #383838;\n",
       "                }\n",
       "\n",
       "                .geemap-dark .jupyter-button {\n",
       "                    --jp-layout-color3: #383838;\n",
       "                }\n",
       "\n",
       "                .geemap-colab {\n",
       "                    background-color: var(--colab-primary-surface-color, white);\n",
       "                }\n",
       "\n",
       "                .geemap-colab .jupyter-button {\n",
       "                    --jp-layout-color3: var(--colab-primary-surface-color, white);\n",
       "                }\n",
       "            </style>\n",
       "            "
      ],
      "text/plain": [
       "<IPython.core.display.HTML object>"
      ]
     },
     "metadata": {},
     "output_type": "display_data"
    },
    {
     "data": {
      "text/plain": [
       "<Axes: xlabel='admin0Pcod'>"
      ]
     },
     "execution_count": 22,
     "metadata": {},
     "output_type": "execute_result"
    },
    {
     "data": {
      "image/png": "[encoded data removed]",
      "text/plain": [
       "<Figure size 500x500 with 1 Axes>"
      ]
     },
     "metadata": {},
     "output_type": "display_data"
    }
   ],
   "source": [
    "\n",
    "# Plotting countplot for admin0Pcod (G5 Sahel Countries)\n",
    "df_events_diffusion.admin0Pcod.value_counts().sort_values(ascending=False).plot(kind='bar' ,figsize=(5,5))\n"
   ]
  },
  {
   "cell_type": "code",
   "execution_count": 23,
   "id": "b2a88c5b",
   "metadata": {},
   "outputs": [
    {
     "data": {
      "text/html": [
       "\n",
       "            <style>\n",
       "                .geemap-dark {\n",
       "                    --jp-widgets-color: white;\n",
       "                    --jp-widgets-label-color: white;\n",
       "                    --jp-ui-font-color1: white;\n",
       "                    --jp-layout-color2: #454545;\n",
       "                    background-color: #383838;\n",
       "                }\n",
       "\n",
       "                .geemap-dark .jupyter-button {\n",
       "                    --jp-layout-color3: #383838;\n",
       "                }\n",
       "\n",
       "                .geemap-colab {\n",
       "                    background-color: var(--colab-primary-surface-color, white);\n",
       "                }\n",
       "\n",
       "                .geemap-colab .jupyter-button {\n",
       "                    --jp-layout-color3: var(--colab-primary-surface-color, white);\n",
       "                }\n",
       "            </style>\n",
       "            "
      ],
      "text/plain": [
       "<IPython.core.display.HTML object>"
      ]
     },
     "metadata": {},
     "output_type": "display_data"
    },
    {
     "data": {
      "text/plain": [
       "admin0Pcod\n",
       "ML    6922\n",
       "BF    6586\n",
       "NE    2306\n",
       "TD     713\n",
       "MR      51\n",
       "Name: count, dtype: int64"
      ]
     },
     "execution_count": 23,
     "metadata": {},
     "output_type": "execute_result"
    }
   ],
   "source": [
    "df_events_diffusion.admin0Pcod.value_counts()"
   ]
  },
  {
   "cell_type": "code",
   "execution_count": 24,
   "id": "1a6fc24d",
   "metadata": {},
   "outputs": [
    {
     "data": {
      "text/html": [
       "\n",
       "            <style>\n",
       "                .geemap-dark {\n",
       "                    --jp-widgets-color: white;\n",
       "                    --jp-widgets-label-color: white;\n",
       "                    --jp-ui-font-color1: white;\n",
       "                    --jp-layout-color2: #454545;\n",
       "                    background-color: #383838;\n",
       "                }\n",
       "\n",
       "                .geemap-dark .jupyter-button {\n",
       "                    --jp-layout-color3: #383838;\n",
       "                }\n",
       "\n",
       "                .geemap-colab {\n",
       "                    background-color: var(--colab-primary-surface-color, white);\n",
       "                }\n",
       "\n",
       "                .geemap-colab .jupyter-button {\n",
       "                    --jp-layout-color3: var(--colab-primary-surface-color, white);\n",
       "                }\n",
       "            </style>\n",
       "            "
      ],
      "text/plain": [
       "<IPython.core.display.HTML object>"
      ]
     },
     "metadata": {},
     "output_type": "display_data"
    },
    {
     "data": {
      "application/vnd.jupyter.widget-view+json": {
       "model_id": "69e8939333444b80baae656be5999fc2",
       "version_major": 2,
       "version_minor": 0
      },
      "text/plain": [
       "Map(bottom=3995.0, center=[17.369569793340958, 3.4630404598133353], controls=(WidgetControl(options=['position…"
      ]
     },
     "execution_count": 24,
     "metadata": {},
     "output_type": "execute_result"
    }
   ],
   "source": [
    "# Use style() to visualize the points\n",
    "eventsStyled = {\n",
    "    'color': 'red',\n",
    "    'pointSize': 1,\n",
    "    'pointShape': 'triangle',\n",
    "    'width': 1,\n",
    "}\n",
    "\n",
    "Map.addLayer(events_diffusion_period.style(**eventsStyled), {}, \"conflict events from 2018 to 2023\")\n",
    "Map"
   ]
  },
  {
   "cell_type": "code",
   "execution_count": 25,
   "id": "267be795",
   "metadata": {},
   "outputs": [
    {
     "data": {
      "text/html": [
       "\n",
       "            <style>\n",
       "                .geemap-dark {\n",
       "                    --jp-widgets-color: white;\n",
       "                    --jp-widgets-label-color: white;\n",
       "                    --jp-ui-font-color1: white;\n",
       "                    --jp-layout-color2: #454545;\n",
       "                    background-color: #383838;\n",
       "                }\n",
       "\n",
       "                .geemap-dark .jupyter-button {\n",
       "                    --jp-layout-color3: #383838;\n",
       "                }\n",
       "\n",
       "                .geemap-colab {\n",
       "                    background-color: var(--colab-primary-surface-color, white);\n",
       "                }\n",
       "\n",
       "                .geemap-colab .jupyter-button {\n",
       "                    --jp-layout-color3: var(--colab-primary-surface-color, white);\n",
       "                }\n",
       "            </style>\n",
       "            "
      ],
      "text/plain": [
       "<IPython.core.display.HTML object>"
      ]
     },
     "metadata": {},
     "output_type": "display_data"
    },
    {
     "data": {
      "application/vnd.jupyter.widget-view+json": {
       "model_id": "69e8939333444b80baae656be5999fc2",
       "version_major": 2,
       "version_minor": 0
      },
      "text/plain": [
       "Map(bottom=3995.0, center=[17.369569793340958, 3.4630404598133353], controls=(WidgetControl(options=['position…"
      ]
     },
     "execution_count": 25,
     "metadata": {},
     "output_type": "execute_result"
    }
   ],
   "source": [
    "# Add Population Sahel layer\n",
    "viz_pop = { # Set visualization parameters\n",
    "  'min': 0.0,\n",
    "  'max': 4270.0,\n",
    "  'palette': ['24126c', '1fff4f', 'd4ff50'],\n",
    "}\n",
    "Map.addLayer(pop_sahel,viz_pop,'Population Sahel', True, 1)\n",
    "\n",
    "Map"
   ]
  },
  {
   "cell_type": "markdown",
   "id": "313da3fb",
   "metadata": {},
   "source": [
    "-----------------\n",
    "## **Start conflict diffusion indicator per period computation**\n",
    "-----------------\n"
   ]
  },
  {
   "cell_type": "markdown",
   "id": "0cfe0e23",
   "metadata": {},
   "source": [
    "\n",
    "-----------------\n",
    "### **1. Create a spatial grid of 10km-by-10km (Population Sahel)**\n",
    "-----------------\n"
   ]
  },
  {
   "cell_type": "code",
   "execution_count": 26,
   "id": "1704adb0",
   "metadata": {},
   "outputs": [
    {
     "data": {
      "text/html": [
       "\n",
       "            <style>\n",
       "                .geemap-dark {\n",
       "                    --jp-widgets-color: white;\n",
       "                    --jp-widgets-label-color: white;\n",
       "                    --jp-ui-font-color1: white;\n",
       "                    --jp-layout-color2: #454545;\n",
       "                    background-color: #383838;\n",
       "                }\n",
       "\n",
       "                .geemap-dark .jupyter-button {\n",
       "                    --jp-layout-color3: #383838;\n",
       "                }\n",
       "\n",
       "                .geemap-colab {\n",
       "                    background-color: var(--colab-primary-surface-color, white);\n",
       "                }\n",
       "\n",
       "                .geemap-colab .jupyter-button {\n",
       "                    --jp-layout-color3: var(--colab-primary-surface-color, white);\n",
       "                }\n",
       "            </style>\n",
       "            "
      ],
      "text/plain": [
       "<IPython.core.display.HTML object>"
      ]
     },
     "metadata": {},
     "output_type": "display_data"
    }
   ],
   "source": [
    "# ****** Aggregation to 10km ****** #\n",
    "country_pop = pop_sahel\n",
    "\n",
    "# Get the projection at required scale\n",
    "projectionAt1k = projection.atScale(1000)\n",
    "projectionAt10k = projection.atScale(10000)\n",
    "\n",
    "# Step1: 100m to 1000m\n",
    "country_popAt1k = country_pop \\\n",
    "  .reduceResolution(**{\n",
    "    'reducer': ee.Reducer.sum().unweighted(),\n",
    "    'maxPixels': 1024\n",
    "  }) \\\n",
    "  .reproject(**{\n",
    "    'crs': projectionAt1k\n",
    "  })\n",
    "# Step2: 1000m to 10000m\n",
    "country_popAt10k = country_popAt1k \\\n",
    "  .reduceResolution(**{\n",
    "    'reducer': ee.Reducer.sum().unweighted(),\n",
    "    'maxPixels': 1024\n",
    "  }) \\\n",
    "  .reproject(**{\n",
    "    'crs': projectionAt10k\n",
    "  })"
   ]
  },
  {
   "cell_type": "code",
   "execution_count": 27,
   "id": "8afe3afa",
   "metadata": {},
   "outputs": [
    {
     "data": {
      "text/html": [
       "\n",
       "            <style>\n",
       "                .geemap-dark {\n",
       "                    --jp-widgets-color: white;\n",
       "                    --jp-widgets-label-color: white;\n",
       "                    --jp-ui-font-color1: white;\n",
       "                    --jp-layout-color2: #454545;\n",
       "                    background-color: #383838;\n",
       "                }\n",
       "\n",
       "                .geemap-dark .jupyter-button {\n",
       "                    --jp-layout-color3: #383838;\n",
       "                }\n",
       "\n",
       "                .geemap-colab {\n",
       "                    background-color: var(--colab-primary-surface-color, white);\n",
       "                }\n",
       "\n",
       "                .geemap-colab .jupyter-button {\n",
       "                    --jp-layout-color3: var(--colab-primary-surface-color, white);\n",
       "                }\n",
       "            </style>\n",
       "            "
      ],
      "text/plain": [
       "<IPython.core.display.HTML object>"
      ]
     },
     "metadata": {},
     "output_type": "display_data"
    },
    {
     "data": {
      "text/plain": [
       "{'max': {'b1': 67297.87694835663},\n",
       " 'mean': {'b1': 657.2242802944393},\n",
       " 'min': {'b1': 0},\n",
       " 'std': {'b1': 637.830157259124},\n",
       " 'sum': {'b1': 37681923.182533026}}"
      ]
     },
     "execution_count": 27,
     "metadata": {},
     "output_type": "execute_result"
    }
   ],
   "source": [
    "country_popAt1k_stats = geemap.image_stats(country_popAt1k, scale=1000)\n",
    "country_popAt1k_stats.getInfo()"
   ]
  },
  {
   "cell_type": "code",
   "execution_count": null,
   "id": "58260b9b",
   "metadata": {},
   "outputs": [],
   "source": [
    "##country_popAt10k_stats = geemap.image_stats(country_popAt10k, scale=10000)\n",
    "##country_popAt10k_stats.getInfo()"
   ]
  },
  {
   "cell_type": "code",
   "execution_count": 28,
   "id": "b0e599c9",
   "metadata": {},
   "outputs": [
    {
     "data": {
      "text/html": [
       "\n",
       "            <style>\n",
       "                .geemap-dark {\n",
       "                    --jp-widgets-color: white;\n",
       "                    --jp-widgets-label-color: white;\n",
       "                    --jp-ui-font-color1: white;\n",
       "                    --jp-layout-color2: #454545;\n",
       "                    background-color: #383838;\n",
       "                }\n",
       "\n",
       "                .geemap-dark .jupyter-button {\n",
       "                    --jp-layout-color3: #383838;\n",
       "                }\n",
       "\n",
       "                .geemap-colab {\n",
       "                    background-color: var(--colab-primary-surface-color, white);\n",
       "                }\n",
       "\n",
       "                .geemap-colab .jupyter-button {\n",
       "                    --jp-layout-color3: var(--colab-primary-surface-color, white);\n",
       "                }\n",
       "            </style>\n",
       "            "
      ],
      "text/plain": [
       "<IPython.core.display.HTML object>"
      ]
     },
     "metadata": {},
     "output_type": "display_data"
    },
    {
     "data": {
      "application/vnd.jupyter.widget-view+json": {
       "model_id": "69e8939333444b80baae656be5999fc2",
       "version_major": 2,
       "version_minor": 0
      },
      "text/plain": [
       "Map(bottom=3995.0, center=[17.369569793340958, 3.4630404598133353], controls=(WidgetControl(options=['position…"
      ]
     },
     "execution_count": 28,
     "metadata": {},
     "output_type": "execute_result"
    }
   ],
   "source": [
    "Map.addLayer(country_popAt1k.clip(sahel_adm2), viz_pop, 'Population Sahel 1km', 1)\n",
    "Map.addLayer(country_popAt10k.clip(sahel_adm2), viz_pop, 'Population Sahel 10km', 1)\n",
    "Map"
   ]
  },
  {
   "cell_type": "markdown",
   "id": "8b4fc90e",
   "metadata": {},
   "source": [
    "\n",
    "-----------------\n",
    "### **2. Remove grid cells with less than (pop_seuil) inhabitants using population data (pop_sahel)**\n",
    "-----------------\n"
   ]
  },
  {
   "cell_type": "code",
   "execution_count": 30,
   "id": "b61a61b9",
   "metadata": {},
   "outputs": [
    {
     "data": {
      "text/html": [
       "\n",
       "            <style>\n",
       "                .geemap-dark {\n",
       "                    --jp-widgets-color: white;\n",
       "                    --jp-widgets-label-color: white;\n",
       "                    --jp-ui-font-color1: white;\n",
       "                    --jp-layout-color2: #454545;\n",
       "                    background-color: #383838;\n",
       "                }\n",
       "\n",
       "                .geemap-dark .jupyter-button {\n",
       "                    --jp-layout-color3: #383838;\n",
       "                }\n",
       "\n",
       "                .geemap-colab {\n",
       "                    background-color: var(--colab-primary-surface-color, white);\n",
       "                }\n",
       "\n",
       "                .geemap-colab .jupyter-button {\n",
       "                    --jp-layout-color3: var(--colab-primary-surface-color, white);\n",
       "                }\n",
       "            </style>\n",
       "            "
      ],
      "text/plain": [
       "<IPython.core.display.HTML object>"
      ]
     },
     "metadata": {},
     "output_type": "display_data"
    },
    {
     "data": {
      "application/vnd.jupyter.widget-view+json": {
       "model_id": "69e8939333444b80baae656be5999fc2",
       "version_major": 2,
       "version_minor": 0
      },
      "text/plain": [
       "Map(bottom=3995.0, center=[17.369569793340958, 3.4630404598133353], controls=(WidgetControl(options=['position…"
      ]
     },
     "execution_count": 30,
     "metadata": {},
     "output_type": "execute_result"
    }
   ],
   "source": [
    "country_popAt10k_100 = country_popAt10k.gte(pop_seuil)\n",
    "country_popAt10k_100_viz = country_popAt10k_100.updateMask(country_popAt10k_100.neq(0))\n",
    "bin = {'min': 0, 'max': 1, 'palette': ['red', 'green']}\n",
    "Map.addLayer(country_popAt10k_100_viz, bin, 'grid cells with more than (pop_seuil) inhabitants in 10km' , 1)\n",
    "Map"
   ]
  },
  {
   "cell_type": "code",
   "execution_count": 31,
   "id": "085e7829",
   "metadata": {},
   "outputs": [
    {
     "data": {
      "text/html": [
       "\n",
       "            <style>\n",
       "                .geemap-dark {\n",
       "                    --jp-widgets-color: white;\n",
       "                    --jp-widgets-label-color: white;\n",
       "                    --jp-ui-font-color1: white;\n",
       "                    --jp-layout-color2: #454545;\n",
       "                    background-color: #383838;\n",
       "                }\n",
       "\n",
       "                .geemap-dark .jupyter-button {\n",
       "                    --jp-layout-color3: #383838;\n",
       "                }\n",
       "\n",
       "                .geemap-colab {\n",
       "                    background-color: var(--colab-primary-surface-color, white);\n",
       "                }\n",
       "\n",
       "                .geemap-colab .jupyter-button {\n",
       "                    --jp-layout-color3: var(--colab-primary-surface-color, white);\n",
       "                }\n",
       "            </style>\n",
       "            "
      ],
      "text/plain": [
       "<IPython.core.display.HTML object>"
      ]
     },
     "metadata": {},
     "output_type": "display_data"
    }
   ],
   "source": [
    "country_popAt10k_100 = country_popAt10k_100_viz.unmask(0).rename('grid_cells_gte_threshold_inhabitants')"
   ]
  },
  {
   "cell_type": "markdown",
   "id": "aa5226f0",
   "metadata": {},
   "source": [
    "\n",
    "-----------------\n",
    "### **3. Identify grid cells with at least (nb_events) conflict events per year using events_diffusion layer**\n",
    "-----------------\n"
   ]
  },
  {
   "cell_type": "markdown",
   "id": "f4347157",
   "metadata": {},
   "source": [
    "-----------------\n",
    "#### **3.1 Number of Conflict events for the specific year**\n",
    "-----------------"
   ]
  },
  {
   "cell_type": "code",
   "execution_count": 32,
   "id": "d7734b50",
   "metadata": {},
   "outputs": [
    {
     "data": {
      "text/html": [
       "\n",
       "            <style>\n",
       "                .geemap-dark {\n",
       "                    --jp-widgets-color: white;\n",
       "                    --jp-widgets-label-color: white;\n",
       "                    --jp-ui-font-color1: white;\n",
       "                    --jp-layout-color2: #454545;\n",
       "                    background-color: #383838;\n",
       "                }\n",
       "\n",
       "                .geemap-dark .jupyter-button {\n",
       "                    --jp-layout-color3: #383838;\n",
       "                }\n",
       "\n",
       "                .geemap-colab {\n",
       "                    background-color: var(--colab-primary-surface-color, white);\n",
       "                }\n",
       "\n",
       "                .geemap-colab .jupyter-button {\n",
       "                    --jp-layout-color3: var(--colab-primary-surface-color, white);\n",
       "                }\n",
       "            </style>\n",
       "            "
      ],
      "text/plain": [
       "<IPython.core.display.HTML object>"
      ]
     },
     "metadata": {},
     "output_type": "display_data"
    },
    {
     "data": {
      "text/plain": [
       "16578"
      ]
     },
     "execution_count": 32,
     "metadata": {},
     "output_type": "execute_result"
    }
   ],
   "source": [
    "events = events_diffusion_period.aggregate_count('event_type')\n",
    "events.getInfo()"
   ]
  },
  {
   "cell_type": "code",
   "execution_count": 33,
   "id": "48e044d2",
   "metadata": {},
   "outputs": [
    {
     "data": {
      "text/html": [
       "\n",
       "            <style>\n",
       "                .geemap-dark {\n",
       "                    --jp-widgets-color: white;\n",
       "                    --jp-widgets-label-color: white;\n",
       "                    --jp-ui-font-color1: white;\n",
       "                    --jp-layout-color2: #454545;\n",
       "                    background-color: #383838;\n",
       "                }\n",
       "\n",
       "                .geemap-dark .jupyter-button {\n",
       "                    --jp-layout-color3: #383838;\n",
       "                }\n",
       "\n",
       "                .geemap-colab {\n",
       "                    background-color: var(--colab-primary-surface-color, white);\n",
       "                }\n",
       "\n",
       "                .geemap-colab .jupyter-button {\n",
       "                    --jp-layout-color3: var(--colab-primary-surface-color, white);\n",
       "                }\n",
       "            </style>\n",
       "            "
      ],
      "text/plain": [
       "<IPython.core.display.HTML object>"
      ]
     },
     "metadata": {},
     "output_type": "display_data"
    }
   ],
   "source": [
    "events_diffusion_year_period = events_diffusion_period\n",
    "\n",
    "def func_izg(feature):\n",
    "    num = ee.Number.parse(feature.get('event_date'))\n",
    "    readableDate = ee.Date(num)\n",
    "    stringDate = readableDate.format(\"YYYY-MM-dd\")\n",
    "    return feature.set('Date', stringDate)\n",
    "\n",
    "\n",
    "events_diffusion_year_period = ee.FeatureCollection(events_diffusion_year_period).map(func_izg)\n",
    "\n",
    "events_diffusion_period_needed = events_diffusion_year_period \\\n",
    ".filter(ee.Filter.gte('Date', period_min)) \\\n",
    ".filter(ee.Filter.lte('Date', period_max ))\n",
    "\n"
   ]
  },
  {
   "cell_type": "code",
   "execution_count": 34,
   "id": "6b5949be",
   "metadata": {},
   "outputs": [
    {
     "data": {
      "text/html": [
       "\n",
       "            <style>\n",
       "                .geemap-dark {\n",
       "                    --jp-widgets-color: white;\n",
       "                    --jp-widgets-label-color: white;\n",
       "                    --jp-ui-font-color1: white;\n",
       "                    --jp-layout-color2: #454545;\n",
       "                    background-color: #383838;\n",
       "                }\n",
       "\n",
       "                .geemap-dark .jupyter-button {\n",
       "                    --jp-layout-color3: #383838;\n",
       "                }\n",
       "\n",
       "                .geemap-colab {\n",
       "                    background-color: var(--colab-primary-surface-color, white);\n",
       "                }\n",
       "\n",
       "                .geemap-colab .jupyter-button {\n",
       "                    --jp-layout-color3: var(--colab-primary-surface-color, white);\n",
       "                }\n",
       "            </style>\n",
       "            "
      ],
      "text/plain": [
       "<IPython.core.display.HTML object>"
      ]
     },
     "metadata": {},
     "output_type": "display_data"
    },
    {
     "data": {
      "text/plain": [
       "242"
      ]
     },
     "execution_count": 34,
     "metadata": {},
     "output_type": "execute_result"
    }
   ],
   "source": [
    "events = events_diffusion_period_needed.aggregate_count('event_type')\n",
    "events.getInfo()"
   ]
  },
  {
   "cell_type": "markdown",
   "id": "9a60dc82",
   "metadata": {},
   "source": [
    "3.2 Vizualise Conflict event layer"
   ]
  },
  {
   "cell_type": "code",
   "execution_count": 35,
   "id": "a22e44e2",
   "metadata": {},
   "outputs": [
    {
     "data": {
      "text/html": [
       "\n",
       "            <style>\n",
       "                .geemap-dark {\n",
       "                    --jp-widgets-color: white;\n",
       "                    --jp-widgets-label-color: white;\n",
       "                    --jp-ui-font-color1: white;\n",
       "                    --jp-layout-color2: #454545;\n",
       "                    background-color: #383838;\n",
       "                }\n",
       "\n",
       "                .geemap-dark .jupyter-button {\n",
       "                    --jp-layout-color3: #383838;\n",
       "                }\n",
       "\n",
       "                .geemap-colab {\n",
       "                    background-color: var(--colab-primary-surface-color, white);\n",
       "                }\n",
       "\n",
       "                .geemap-colab .jupyter-button {\n",
       "                    --jp-layout-color3: var(--colab-primary-surface-color, white);\n",
       "                }\n",
       "            </style>\n",
       "            "
      ],
      "text/plain": [
       "<IPython.core.display.HTML object>"
      ]
     },
     "metadata": {},
     "output_type": "display_data"
    },
    {
     "data": {
      "application/vnd.jupyter.widget-view+json": {
       "model_id": "69e8939333444b80baae656be5999fc2",
       "version_major": 2,
       "version_minor": 0
      },
      "text/plain": [
       "Map(bottom=3995.0, center=[17.369569793340958, 3.4630404598133353], controls=(WidgetControl(options=['position…"
      ]
     },
     "execution_count": 35,
     "metadata": {},
     "output_type": "execute_result"
    }
   ],
   "source": [
    "# Use style() to visualize the points\n",
    "eventsStyled = {\n",
    "    'color': 'red',\n",
    "    'pointSize': 1,\n",
    "    'pointShape': 'triangle',\n",
    "    'width': 3,\n",
    "}\n",
    "\n",
    "Map.addLayer(events_diffusion_period_needed.style(**eventsStyled), {}, \"conflict events\")\n",
    "Map"
   ]
  },
  {
   "cell_type": "markdown",
   "id": "067ec4f0",
   "metadata": {},
   "source": [
    "-----------------\n",
    "#### **3.3 Create image from conflict events layer**\n",
    "-----------------"
   ]
  },
  {
   "cell_type": "code",
   "execution_count": 36,
   "id": "9f1dd3fa",
   "metadata": {},
   "outputs": [
    {
     "data": {
      "text/html": [
       "\n",
       "            <style>\n",
       "                .geemap-dark {\n",
       "                    --jp-widgets-color: white;\n",
       "                    --jp-widgets-label-color: white;\n",
       "                    --jp-ui-font-color1: white;\n",
       "                    --jp-layout-color2: #454545;\n",
       "                    background-color: #383838;\n",
       "                }\n",
       "\n",
       "                .geemap-dark .jupyter-button {\n",
       "                    --jp-layout-color3: #383838;\n",
       "                }\n",
       "\n",
       "                .geemap-colab {\n",
       "                    background-color: var(--colab-primary-surface-color, white);\n",
       "                }\n",
       "\n",
       "                .geemap-colab .jupyter-button {\n",
       "                    --jp-layout-color3: var(--colab-primary-surface-color, white);\n",
       "                }\n",
       "            </style>\n",
       "            "
      ],
      "text/plain": [
       "<IPython.core.display.HTML object>"
      ]
     },
     "metadata": {},
     "output_type": "display_data"
    }
   ],
   "source": [
    "#/ add dummy property to use for reduceToImage\n",
    "\n",
    "def func_dlg(feature):\n",
    "  return feature.set('dummy',1)\n",
    "\n",
    "if_events = ee.FeatureCollection(events_diffusion_period_needed).map(func_dlg)"
   ]
  },
  {
   "cell_type": "code",
   "execution_count": 37,
   "id": "340237c5",
   "metadata": {},
   "outputs": [
    {
     "data": {
      "text/html": [
       "\n",
       "            <style>\n",
       "                .geemap-dark {\n",
       "                    --jp-widgets-color: white;\n",
       "                    --jp-widgets-label-color: white;\n",
       "                    --jp-ui-font-color1: white;\n",
       "                    --jp-layout-color2: #454545;\n",
       "                    background-color: #383838;\n",
       "                }\n",
       "\n",
       "                .geemap-dark .jupyter-button {\n",
       "                    --jp-layout-color3: #383838;\n",
       "                }\n",
       "\n",
       "                .geemap-colab {\n",
       "                    background-color: var(--colab-primary-surface-color, white);\n",
       "                }\n",
       "\n",
       "                .geemap-colab .jupyter-button {\n",
       "                    --jp-layout-color3: var(--colab-primary-surface-color, white);\n",
       "                }\n",
       "            </style>\n",
       "            "
      ],
      "text/plain": [
       "<IPython.core.display.HTML object>"
      ]
     },
     "metadata": {},
     "output_type": "display_data"
    }
   ],
   "source": [
    "eventsImg = if_events.reduceToImage(['dummy'], ee.Reducer.sum().unweighted()) \\\n",
    "  .unmask(0) \\\n",
    "  .reproject('epsg:4326', None, 10000) \\\n",
    "  .clip(geometry)\n"
   ]
  },
  {
   "cell_type": "code",
   "execution_count": 38,
   "id": "9c4e595b",
   "metadata": {},
   "outputs": [
    {
     "data": {
      "text/html": [
       "\n",
       "            <style>\n",
       "                .geemap-dark {\n",
       "                    --jp-widgets-color: white;\n",
       "                    --jp-widgets-label-color: white;\n",
       "                    --jp-ui-font-color1: white;\n",
       "                    --jp-layout-color2: #454545;\n",
       "                    background-color: #383838;\n",
       "                }\n",
       "\n",
       "                .geemap-dark .jupyter-button {\n",
       "                    --jp-layout-color3: #383838;\n",
       "                }\n",
       "\n",
       "                .geemap-colab {\n",
       "                    background-color: var(--colab-primary-surface-color, white);\n",
       "                }\n",
       "\n",
       "                .geemap-colab .jupyter-button {\n",
       "                    --jp-layout-color3: var(--colab-primary-surface-color, white);\n",
       "                }\n",
       "            </style>\n",
       "            "
      ],
      "text/plain": [
       "<IPython.core.display.HTML object>"
      ]
     },
     "metadata": {},
     "output_type": "display_data"
    },
    {
     "data": {
      "text/plain": [
       "{'max': {'sum': 13},\n",
       " 'mean': {'sum': 0.0016774647627744756},\n",
       " 'min': {'sum': 0},\n",
       " 'std': {'sum': 0.07047144897363503},\n",
       " 'sum': {'sum': 242}}"
      ]
     },
     "execution_count": 38,
     "metadata": {},
     "output_type": "execute_result"
    }
   ],
   "source": [
    "eventsImg_stats = geemap.image_stats(eventsImg, scale=10000)\n",
    "eventsImg_stats.getInfo()"
   ]
  },
  {
   "cell_type": "code",
   "execution_count": 39,
   "id": "5c73a4b4",
   "metadata": {},
   "outputs": [
    {
     "data": {
      "text/html": [
       "\n",
       "            <style>\n",
       "                .geemap-dark {\n",
       "                    --jp-widgets-color: white;\n",
       "                    --jp-widgets-label-color: white;\n",
       "                    --jp-ui-font-color1: white;\n",
       "                    --jp-layout-color2: #454545;\n",
       "                    background-color: #383838;\n",
       "                }\n",
       "\n",
       "                .geemap-dark .jupyter-button {\n",
       "                    --jp-layout-color3: #383838;\n",
       "                }\n",
       "\n",
       "                .geemap-colab {\n",
       "                    background-color: var(--colab-primary-surface-color, white);\n",
       "                }\n",
       "\n",
       "                .geemap-colab .jupyter-button {\n",
       "                    --jp-layout-color3: var(--colab-primary-surface-color, white);\n",
       "                }\n",
       "            </style>\n",
       "            "
      ],
      "text/plain": [
       "<IPython.core.display.HTML object>"
      ]
     },
     "metadata": {},
     "output_type": "display_data"
    },
    {
     "data": {
      "application/vnd.jupyter.widget-view+json": {
       "model_id": "69e8939333444b80baae656be5999fc2",
       "version_major": 2,
       "version_minor": 0
      },
      "text/plain": [
       "Map(bottom=3995.0, center=[17.369569793340958, 3.4630404598133353], controls=(WidgetControl(options=['position…"
      ]
     },
     "execution_count": 39,
     "metadata": {},
     "output_type": "execute_result"
    }
   ],
   "source": [
    "viz_events = {\n",
    "  'min': 0.0,\n",
    "  'max': 34.0,\n",
    "  'palette': [\n",
    "    \"00ff00\",\"1A492C\",\"071EC4\",\"B5CA36\",\"729EAC\",\"8EA5DE\",\n",
    "    \"818991\",\"62A3C3\",\"CCF4FE\",\"74F0B9\",\"yellow\",\"C72144\",\n",
    "    \"56613B\",\"C14683\",\"C31C25\",\"5F6253\",\"11BF85\",\"A61B26\",\n",
    "    \"99FBC5\",\"188AAA\",\"C2D7F1\",\"B7D9D8\",\"856F96\",\"109C6B\",\n",
    "    \"2DE3F4\",\"9A777D\",\"151796\",\"C033D8\",\"510037\",\"640C21\",\n",
    "    \"31A191\",\"223AB0\",\"B692AC\",\"2DE3F4\",\n",
    "  ]\n",
    "}\n",
    "eventsImg_viz = eventsImg.updateMask(eventsImg.neq(0))\n",
    "Map.addLayer(eventsImg_viz.clip(sahel_adm2), viz_events , 'Number of Conflict event',1)\n",
    "Map"
   ]
  },
  {
   "cell_type": "code",
   "execution_count": null,
   "id": "a8aacc88",
   "metadata": {},
   "outputs": [],
   "source": [
    "events_sahel_stats = 'events_sahel_stats.csv'\n",
    "geemap.zonal_stats(\n",
    "    eventsImg,\n",
    "    sahel_adm2,\n",
    "    events_sahel_stats,\n",
    "    statistics_type='SUM',\n",
    "    scale=10000, \n",
    "    return_fc=False\n",
    ")"
   ]
  },
  {
   "cell_type": "markdown",
   "id": "b0cd9744",
   "metadata": {},
   "source": [
    "-----------------\n",
    "#### **3.4 Identify grid cells with at least (nb_events) conflict events**\n",
    "-----------------"
   ]
  },
  {
   "cell_type": "code",
   "execution_count": 40,
   "id": "e92f10c9",
   "metadata": {
    "scrolled": true
   },
   "outputs": [
    {
     "data": {
      "text/html": [
       "\n",
       "            <style>\n",
       "                .geemap-dark {\n",
       "                    --jp-widgets-color: white;\n",
       "                    --jp-widgets-label-color: white;\n",
       "                    --jp-ui-font-color1: white;\n",
       "                    --jp-layout-color2: #454545;\n",
       "                    background-color: #383838;\n",
       "                }\n",
       "\n",
       "                .geemap-dark .jupyter-button {\n",
       "                    --jp-layout-color3: #383838;\n",
       "                }\n",
       "\n",
       "                .geemap-colab {\n",
       "                    background-color: var(--colab-primary-surface-color, white);\n",
       "                }\n",
       "\n",
       "                .geemap-colab .jupyter-button {\n",
       "                    --jp-layout-color3: var(--colab-primary-surface-color, white);\n",
       "                }\n",
       "            </style>\n",
       "            "
      ],
      "text/plain": [
       "<IPython.core.display.HTML object>"
      ]
     },
     "metadata": {},
     "output_type": "display_data"
    },
    {
     "data": {
      "application/vnd.jupyter.widget-view+json": {
       "model_id": "69e8939333444b80baae656be5999fc2",
       "version_major": 2,
       "version_minor": 0
      },
      "text/plain": [
       "Map(bottom=3995.0, center=[17.369569793340958, 3.4630404598133353], controls=(WidgetControl(options=['position…"
      ]
     },
     "execution_count": 40,
     "metadata": {},
     "output_type": "execute_result"
    }
   ],
   "source": [
    "grid_cells = country_popAt10k_100.multiply(eventsImg)\n",
    "grid_cells_needed = grid_cells.gte(nb_events)\n",
    "grid_cells_needed_viz = grid_cells_needed.updateMask(grid_cells_needed.neq(0))\n",
    "Map.addLayer(grid_cells_needed_viz.clip(sahel_adm2), bin, 'grid cells needed', 1)\n",
    "Map"
   ]
  },
  {
   "cell_type": "code",
   "execution_count": 41,
   "id": "ed36fcf9",
   "metadata": {},
   "outputs": [
    {
     "data": {
      "text/html": [
       "\n",
       "            <style>\n",
       "                .geemap-dark {\n",
       "                    --jp-widgets-color: white;\n",
       "                    --jp-widgets-label-color: white;\n",
       "                    --jp-ui-font-color1: white;\n",
       "                    --jp-layout-color2: #454545;\n",
       "                    background-color: #383838;\n",
       "                }\n",
       "\n",
       "                .geemap-dark .jupyter-button {\n",
       "                    --jp-layout-color3: #383838;\n",
       "                }\n",
       "\n",
       "                .geemap-colab {\n",
       "                    background-color: var(--colab-primary-surface-color, white);\n",
       "                }\n",
       "\n",
       "                .geemap-colab .jupyter-button {\n",
       "                    --jp-layout-color3: var(--colab-primary-surface-color, white);\n",
       "                }\n",
       "            </style>\n",
       "            "
      ],
      "text/plain": [
       "<IPython.core.display.HTML object>"
      ]
     },
     "metadata": {},
     "output_type": "display_data"
    }
   ],
   "source": [
    "grid_cells_needed = grid_cells_needed_viz.unmask(0).rename('grid_cells_needed')\n"
   ]
  },
  {
   "cell_type": "markdown",
   "id": "d575996b",
   "metadata": {},
   "source": [
    "-----------------\n",
    "## **4 Compute the proportion of high violence grid cells to total cells per adm2**\n",
    "-----------------\n",
    "\n",
    "-----------------\n",
    "#### **4.1**\n",
    "-----------------"
   ]
  },
  {
   "cell_type": "code",
   "execution_count": 43,
   "id": "75f120f4",
   "metadata": {},
   "outputs": [
    {
     "data": {
      "text/html": [
       "\n",
       "            <style>\n",
       "                .geemap-dark {\n",
       "                    --jp-widgets-color: white;\n",
       "                    --jp-widgets-label-color: white;\n",
       "                    --jp-ui-font-color1: white;\n",
       "                    --jp-layout-color2: #454545;\n",
       "                    background-color: #383838;\n",
       "                }\n",
       "\n",
       "                .geemap-dark .jupyter-button {\n",
       "                    --jp-layout-color3: #383838;\n",
       "                }\n",
       "\n",
       "                .geemap-colab {\n",
       "                    background-color: var(--colab-primary-surface-color, white);\n",
       "                }\n",
       "\n",
       "                .geemap-colab .jupyter-button {\n",
       "                    --jp-layout-color3: var(--colab-primary-surface-color, white);\n",
       "                }\n",
       "            </style>\n",
       "            "
      ],
      "text/plain": [
       "<IPython.core.display.HTML object>"
      ]
     },
     "metadata": {},
     "output_type": "display_data"
    }
   ],
   "source": [
    "stacked_image = grid_cells_needed.addBands(country_popAt10k_100)\n",
    "#Create a function to calculate the feature class with ADM2 Name\n",
    "def calculateFeatureSum(feature):\n",
    "    events = stacked_image.reduceRegion(**{\n",
    "    'reducer': ee.Reducer.sum().unweighted(),\n",
    "    'geometry': feature.geometry(),#.buffer(10),\n",
    "    'scale': projectionAt10k.nominalScale(),\n",
    "    'maxPixels': 1e20\n",
    "    })\n",
    "    adm_level = feature.get('ADMIN2PCOD')\n",
    "    return ee.Feature(\n",
    "      feature.geometry(),\n",
    "      events.set('ADMIN2PCOD', adm_level))"
   ]
  },
  {
   "cell_type": "code",
   "execution_count": 44,
   "id": "dd814372",
   "metadata": {},
   "outputs": [
    {
     "data": {
      "text/html": [
       "\n",
       "            <style>\n",
       "                .geemap-dark {\n",
       "                    --jp-widgets-color: white;\n",
       "                    --jp-widgets-label-color: white;\n",
       "                    --jp-ui-font-color1: white;\n",
       "                    --jp-layout-color2: #454545;\n",
       "                    background-color: #383838;\n",
       "                }\n",
       "\n",
       "                .geemap-dark .jupyter-button {\n",
       "                    --jp-layout-color3: #383838;\n",
       "                }\n",
       "\n",
       "                .geemap-colab {\n",
       "                    background-color: var(--colab-primary-surface-color, white);\n",
       "                }\n",
       "\n",
       "                .geemap-colab .jupyter-button {\n",
       "                    --jp-layout-color3: var(--colab-primary-surface-color, white);\n",
       "                }\n",
       "            </style>\n",
       "            "
      ],
      "text/plain": [
       "<IPython.core.display.HTML object>"
      ]
     },
     "metadata": {},
     "output_type": "display_data"
    }
   ],
   "source": [
    "#Map Function to Create\n",
    "Feature_byADM2 = sahel_adm2.map(calculateFeatureSum)\n",
    "#geemap.ee_to_csv(Feature_byADM2, filename='conflict_diffusion_indicator.csv')"
   ]
  },
  {
   "cell_type": "code",
   "execution_count": 45,
   "id": "979218de",
   "metadata": {},
   "outputs": [
    {
     "data": {
      "text/html": [
       "\n",
       "            <style>\n",
       "                .geemap-dark {\n",
       "                    --jp-widgets-color: white;\n",
       "                    --jp-widgets-label-color: white;\n",
       "                    --jp-ui-font-color1: white;\n",
       "                    --jp-layout-color2: #454545;\n",
       "                    background-color: #383838;\n",
       "                }\n",
       "\n",
       "                .geemap-dark .jupyter-button {\n",
       "                    --jp-layout-color3: #383838;\n",
       "                }\n",
       "\n",
       "                .geemap-colab {\n",
       "                    background-color: var(--colab-primary-surface-color, white);\n",
       "                }\n",
       "\n",
       "                .geemap-colab .jupyter-button {\n",
       "                    --jp-layout-color3: var(--colab-primary-surface-color, white);\n",
       "                }\n",
       "            </style>\n",
       "            "
      ],
      "text/plain": [
       "<IPython.core.display.HTML object>"
      ]
     },
     "metadata": {},
     "output_type": "display_data"
    }
   ],
   "source": [
    "df_Feature_byADM2 = geemap.ee_to_df(Feature_byADM2, sort_columns=True)\n"
   ]
  },
  {
   "cell_type": "code",
   "execution_count": 46,
   "id": "96961f45",
   "metadata": {},
   "outputs": [
    {
     "data": {
      "text/html": [
       "\n",
       "            <style>\n",
       "                .geemap-dark {\n",
       "                    --jp-widgets-color: white;\n",
       "                    --jp-widgets-label-color: white;\n",
       "                    --jp-ui-font-color1: white;\n",
       "                    --jp-layout-color2: #454545;\n",
       "                    background-color: #383838;\n",
       "                }\n",
       "\n",
       "                .geemap-dark .jupyter-button {\n",
       "                    --jp-layout-color3: #383838;\n",
       "                }\n",
       "\n",
       "                .geemap-colab {\n",
       "                    background-color: var(--colab-primary-surface-color, white);\n",
       "                }\n",
       "\n",
       "                .geemap-colab .jupyter-button {\n",
       "                    --jp-layout-color3: var(--colab-primary-surface-color, white);\n",
       "                }\n",
       "            </style>\n",
       "            "
      ],
      "text/plain": [
       "<IPython.core.display.HTML object>"
      ]
     },
     "metadata": {},
     "output_type": "display_data"
    },
    {
     "data": {
      "text/html": [
       "<div>\n",
       "<style scoped>\n",
       "    .dataframe tbody tr th:only-of-type {\n",
       "        vertical-align: middle;\n",
       "    }\n",
       "\n",
       "    .dataframe tbody tr th {\n",
       "        vertical-align: top;\n",
       "    }\n",
       "\n",
       "    .dataframe thead th {\n",
       "        text-align: right;\n",
       "    }\n",
       "</style>\n",
       "<table border=\"1\" class=\"dataframe\">\n",
       "  <thead>\n",
       "    <tr style=\"text-align: right;\">\n",
       "      <th></th>\n",
       "      <th>ADMIN2PCOD</th>\n",
       "      <th>grid_cells_gte_threshold_inhabitants</th>\n",
       "      <th>grid_cells_needed</th>\n",
       "    </tr>\n",
       "  </thead>\n",
       "  <tbody>\n",
       "    <tr>\n",
       "      <th>0</th>\n",
       "      <td>BF4601</td>\n",
       "      <td>49</td>\n",
       "      <td>0</td>\n",
       "    </tr>\n",
       "    <tr>\n",
       "      <th>1</th>\n",
       "      <td>BF4602</td>\n",
       "      <td>60</td>\n",
       "      <td>0</td>\n",
       "    </tr>\n",
       "    <tr>\n",
       "      <th>2</th>\n",
       "      <td>BF4603</td>\n",
       "      <td>76</td>\n",
       "      <td>0</td>\n",
       "    </tr>\n",
       "    <tr>\n",
       "      <th>3</th>\n",
       "      <td>BF4604</td>\n",
       "      <td>70</td>\n",
       "      <td>0</td>\n",
       "    </tr>\n",
       "    <tr>\n",
       "      <th>4</th>\n",
       "      <td>BF4605</td>\n",
       "      <td>40</td>\n",
       "      <td>0</td>\n",
       "    </tr>\n",
       "  </tbody>\n",
       "</table>\n",
       "</div>"
      ],
      "text/plain": [
       "  ADMIN2PCOD  grid_cells_gte_threshold_inhabitants  grid_cells_needed\n",
       "0     BF4601                                    49                  0\n",
       "1     BF4602                                    60                  0\n",
       "2     BF4603                                    76                  0\n",
       "3     BF4604                                    70                  0\n",
       "4     BF4605                                    40                  0"
      ]
     },
     "execution_count": 46,
     "metadata": {},
     "output_type": "execute_result"
    }
   ],
   "source": [
    "df_Feature_byADM2.head()"
   ]
  },
  {
   "cell_type": "code",
   "execution_count": 47,
   "id": "25a806b0",
   "metadata": {},
   "outputs": [
    {
     "data": {
      "text/html": [
       "\n",
       "            <style>\n",
       "                .geemap-dark {\n",
       "                    --jp-widgets-color: white;\n",
       "                    --jp-widgets-label-color: white;\n",
       "                    --jp-ui-font-color1: white;\n",
       "                    --jp-layout-color2: #454545;\n",
       "                    background-color: #383838;\n",
       "                }\n",
       "\n",
       "                .geemap-dark .jupyter-button {\n",
       "                    --jp-layout-color3: #383838;\n",
       "                }\n",
       "\n",
       "                .geemap-colab {\n",
       "                    background-color: var(--colab-primary-surface-color, white);\n",
       "                }\n",
       "\n",
       "                .geemap-colab .jupyter-button {\n",
       "                    --jp-layout-color3: var(--colab-primary-surface-color, white);\n",
       "                }\n",
       "            </style>\n",
       "            "
      ],
      "text/plain": [
       "<IPython.core.display.HTML object>"
      ]
     },
     "metadata": {},
     "output_type": "display_data"
    },
    {
     "name": "stdout",
     "output_type": "stream",
     "text": [
      "<class 'pandas.core.frame.DataFrame'>\n",
      "RangeIndex: 279 entries, 0 to 278\n",
      "Data columns (total 3 columns):\n",
      " #   Column                                Non-Null Count  Dtype \n",
      "---  ------                                --------------  ----- \n",
      " 0   ADMIN2PCOD                            279 non-null    object\n",
      " 1   grid_cells_gte_threshold_inhabitants  279 non-null    int64 \n",
      " 2   grid_cells_needed                     279 non-null    int64 \n",
      "dtypes: int64(2), object(1)\n",
      "memory usage: 6.7+ KB\n"
     ]
    }
   ],
   "source": [
    "# Checking the info of the dataset\n",
    "df_Feature_byADM2.info()"
   ]
  },
  {
   "cell_type": "markdown",
   "id": "d7673d30",
   "metadata": {},
   "source": [
    "-----------------\n",
    "#### **4.2 Compute the proportion of high violence grid cells to total cells per adm2**\n",
    "-----------------"
   ]
  },
  {
   "cell_type": "code",
   "execution_count": 48,
   "id": "544e30a7",
   "metadata": {},
   "outputs": [
    {
     "data": {
      "text/html": [
       "\n",
       "            <style>\n",
       "                .geemap-dark {\n",
       "                    --jp-widgets-color: white;\n",
       "                    --jp-widgets-label-color: white;\n",
       "                    --jp-ui-font-color1: white;\n",
       "                    --jp-layout-color2: #454545;\n",
       "                    background-color: #383838;\n",
       "                }\n",
       "\n",
       "                .geemap-dark .jupyter-button {\n",
       "                    --jp-layout-color3: #383838;\n",
       "                }\n",
       "\n",
       "                .geemap-colab {\n",
       "                    background-color: var(--colab-primary-surface-color, white);\n",
       "                }\n",
       "\n",
       "                .geemap-colab .jupyter-button {\n",
       "                    --jp-layout-color3: var(--colab-primary-surface-color, white);\n",
       "                }\n",
       "            </style>\n",
       "            "
      ],
      "text/plain": [
       "<IPython.core.display.HTML object>"
      ]
     },
     "metadata": {},
     "output_type": "display_data"
    }
   ],
   "source": [
    "def indicator(feature):\n",
    "  #\n",
    "  val = ee.Number(feature.get('grid_cells_needed')).divide(ee.Number(feature.get('grid_cells_gte_threshold_inhabitants')))\n",
    "  return feature.set('conflict_diffusion_indicator', val)\n",
    "\n",
    "Feature_byADM2 = Feature_byADM2.map(indicator)"
   ]
  },
  {
   "cell_type": "code",
   "execution_count": 49,
   "id": "52af5124",
   "metadata": {},
   "outputs": [
    {
     "data": {
      "text/html": [
       "\n",
       "            <style>\n",
       "                .geemap-dark {\n",
       "                    --jp-widgets-color: white;\n",
       "                    --jp-widgets-label-color: white;\n",
       "                    --jp-ui-font-color1: white;\n",
       "                    --jp-layout-color2: #454545;\n",
       "                    background-color: #383838;\n",
       "                }\n",
       "\n",
       "                .geemap-dark .jupyter-button {\n",
       "                    --jp-layout-color3: #383838;\n",
       "                }\n",
       "\n",
       "                .geemap-colab {\n",
       "                    background-color: var(--colab-primary-surface-color, white);\n",
       "                }\n",
       "\n",
       "                .geemap-colab .jupyter-button {\n",
       "                    --jp-layout-color3: var(--colab-primary-surface-color, white);\n",
       "                }\n",
       "            </style>\n",
       "            "
      ],
      "text/plain": [
       "<IPython.core.display.HTML object>"
      ]
     },
     "metadata": {},
     "output_type": "display_data"
    }
   ],
   "source": [
    "df_indicator_Feature_byADM2 = geemap.ee_to_df(Feature_byADM2, sort_columns=True)"
   ]
  },
  {
   "cell_type": "code",
   "execution_count": 50,
   "id": "f64ed71c",
   "metadata": {},
   "outputs": [
    {
     "data": {
      "text/html": [
       "\n",
       "            <style>\n",
       "                .geemap-dark {\n",
       "                    --jp-widgets-color: white;\n",
       "                    --jp-widgets-label-color: white;\n",
       "                    --jp-ui-font-color1: white;\n",
       "                    --jp-layout-color2: #454545;\n",
       "                    background-color: #383838;\n",
       "                }\n",
       "\n",
       "                .geemap-dark .jupyter-button {\n",
       "                    --jp-layout-color3: #383838;\n",
       "                }\n",
       "\n",
       "                .geemap-colab {\n",
       "                    background-color: var(--colab-primary-surface-color, white);\n",
       "                }\n",
       "\n",
       "                .geemap-colab .jupyter-button {\n",
       "                    --jp-layout-color3: var(--colab-primary-surface-color, white);\n",
       "                }\n",
       "            </style>\n",
       "            "
      ],
      "text/plain": [
       "<IPython.core.display.HTML object>"
      ]
     },
     "metadata": {},
     "output_type": "display_data"
    },
    {
     "data": {
      "text/html": [
       "<div>\n",
       "<style scoped>\n",
       "    .dataframe tbody tr th:only-of-type {\n",
       "        vertical-align: middle;\n",
       "    }\n",
       "\n",
       "    .dataframe tbody tr th {\n",
       "        vertical-align: top;\n",
       "    }\n",
       "\n",
       "    .dataframe thead th {\n",
       "        text-align: right;\n",
       "    }\n",
       "</style>\n",
       "<table border=\"1\" class=\"dataframe\">\n",
       "  <thead>\n",
       "    <tr style=\"text-align: right;\">\n",
       "      <th></th>\n",
       "      <th>ADMIN2PCOD</th>\n",
       "      <th>conflict_diffusion_indicator</th>\n",
       "      <th>grid_cells_gte_threshold_inhabitants</th>\n",
       "      <th>grid_cells_needed</th>\n",
       "    </tr>\n",
       "  </thead>\n",
       "  <tbody>\n",
       "    <tr>\n",
       "      <th>0</th>\n",
       "      <td>BF4601</td>\n",
       "      <td>0.0</td>\n",
       "      <td>49</td>\n",
       "      <td>0</td>\n",
       "    </tr>\n",
       "    <tr>\n",
       "      <th>1</th>\n",
       "      <td>BF4602</td>\n",
       "      <td>0.0</td>\n",
       "      <td>60</td>\n",
       "      <td>0</td>\n",
       "    </tr>\n",
       "    <tr>\n",
       "      <th>2</th>\n",
       "      <td>BF4603</td>\n",
       "      <td>0.0</td>\n",
       "      <td>76</td>\n",
       "      <td>0</td>\n",
       "    </tr>\n",
       "    <tr>\n",
       "      <th>3</th>\n",
       "      <td>BF4604</td>\n",
       "      <td>0.0</td>\n",
       "      <td>70</td>\n",
       "      <td>0</td>\n",
       "    </tr>\n",
       "    <tr>\n",
       "      <th>4</th>\n",
       "      <td>BF4605</td>\n",
       "      <td>0.0</td>\n",
       "      <td>40</td>\n",
       "      <td>0</td>\n",
       "    </tr>\n",
       "  </tbody>\n",
       "</table>\n",
       "</div>"
      ],
      "text/plain": [
       "  ADMIN2PCOD  conflict_diffusion_indicator  \\\n",
       "0     BF4601                           0.0   \n",
       "1     BF4602                           0.0   \n",
       "2     BF4603                           0.0   \n",
       "3     BF4604                           0.0   \n",
       "4     BF4605                           0.0   \n",
       "\n",
       "   grid_cells_gte_threshold_inhabitants  grid_cells_needed  \n",
       "0                                    49                  0  \n",
       "1                                    60                  0  \n",
       "2                                    76                  0  \n",
       "3                                    70                  0  \n",
       "4                                    40                  0  "
      ]
     },
     "execution_count": 50,
     "metadata": {},
     "output_type": "execute_result"
    }
   ],
   "source": [
    "df_indicator_Feature_byADM2.head()"
   ]
  },
  {
   "cell_type": "code",
   "execution_count": 51,
   "id": "a54b9906",
   "metadata": {},
   "outputs": [
    {
     "data": {
      "text/html": [
       "\n",
       "            <style>\n",
       "                .geemap-dark {\n",
       "                    --jp-widgets-color: white;\n",
       "                    --jp-widgets-label-color: white;\n",
       "                    --jp-ui-font-color1: white;\n",
       "                    --jp-layout-color2: #454545;\n",
       "                    background-color: #383838;\n",
       "                }\n",
       "\n",
       "                .geemap-dark .jupyter-button {\n",
       "                    --jp-layout-color3: #383838;\n",
       "                }\n",
       "\n",
       "                .geemap-colab {\n",
       "                    background-color: var(--colab-primary-surface-color, white);\n",
       "                }\n",
       "\n",
       "                .geemap-colab .jupyter-button {\n",
       "                    --jp-layout-color3: var(--colab-primary-surface-color, white);\n",
       "                }\n",
       "            </style>\n",
       "            "
      ],
      "text/plain": [
       "<IPython.core.display.HTML object>"
      ]
     },
     "metadata": {},
     "output_type": "display_data"
    },
    {
     "name": "stdout",
     "output_type": "stream",
     "text": [
      "<class 'pandas.core.frame.DataFrame'>\n",
      "RangeIndex: 279 entries, 0 to 278\n",
      "Data columns (total 4 columns):\n",
      " #   Column                                Non-Null Count  Dtype  \n",
      "---  ------                                --------------  -----  \n",
      " 0   ADMIN2PCOD                            279 non-null    object \n",
      " 1   conflict_diffusion_indicator          279 non-null    float64\n",
      " 2   grid_cells_gte_threshold_inhabitants  279 non-null    int64  \n",
      " 3   grid_cells_needed                     279 non-null    int64  \n",
      "dtypes: float64(1), int64(2), object(1)\n",
      "memory usage: 8.8+ KB\n"
     ]
    }
   ],
   "source": [
    "# Checking the info of the dataset\n",
    "df_indicator_Feature_byADM2.info()"
   ]
  },
  {
   "cell_type": "code",
   "execution_count": 52,
   "id": "5fc0da47",
   "metadata": {},
   "outputs": [
    {
     "data": {
      "text/html": [
       "\n",
       "            <style>\n",
       "                .geemap-dark {\n",
       "                    --jp-widgets-color: white;\n",
       "                    --jp-widgets-label-color: white;\n",
       "                    --jp-ui-font-color1: white;\n",
       "                    --jp-layout-color2: #454545;\n",
       "                    background-color: #383838;\n",
       "                }\n",
       "\n",
       "                .geemap-dark .jupyter-button {\n",
       "                    --jp-layout-color3: #383838;\n",
       "                }\n",
       "\n",
       "                .geemap-colab {\n",
       "                    background-color: var(--colab-primary-surface-color, white);\n",
       "                }\n",
       "\n",
       "                .geemap-colab .jupyter-button {\n",
       "                    --jp-layout-color3: var(--colab-primary-surface-color, white);\n",
       "                }\n",
       "            </style>\n",
       "            "
      ],
      "text/plain": [
       "<IPython.core.display.HTML object>"
      ]
     },
     "metadata": {},
     "output_type": "display_data"
    },
    {
     "data": {
      "application/vnd.jupyter.widget-view+json": {
       "model_id": "46f09e826e2e49019c9c5ecc7c95a073",
       "version_major": 2,
       "version_minor": 0
      },
      "text/plain": [
       "Map(center=[0, 0], controls=(ZoomControl(options=['position', 'zoom_in_text', 'zoom_in_title', 'zoom_out_text'…"
      ]
     },
     "execution_count": 52,
     "metadata": {},
     "output_type": "execute_result"
    }
   ],
   "source": [
    "left_layer = geemap.ee_tile_layer(country_popAt10k_100_viz, bin, 'grid cells with more than (pop_seuil) inhabitants in 10km' , 1)\n",
    "right_layer = geemap.ee_tile_layer(grid_cells_needed_viz.clip(sahel_adm2), bin, 'grid cells needed', 1)\n",
    "\n",
    "Map = geemap.Map()\n",
    "Map.centerObject(sahel_adm2)\n",
    "Map.split_map(left_layer, right_layer)\n",
    "Map"
   ]
  },
  {
   "cell_type": "markdown",
   "id": "38a38863",
   "metadata": {},
   "source": [
    "-----------------\n",
    "## **Export to CSV**\n",
    "-----------------"
   ]
  },
  {
   "cell_type": "code",
   "execution_count": 53,
   "id": "e910b0f3",
   "metadata": {},
   "outputs": [
    {
     "data": {
      "text/html": [
       "\n",
       "            <style>\n",
       "                .geemap-dark {\n",
       "                    --jp-widgets-color: white;\n",
       "                    --jp-widgets-label-color: white;\n",
       "                    --jp-ui-font-color1: white;\n",
       "                    --jp-layout-color2: #454545;\n",
       "                    background-color: #383838;\n",
       "                }\n",
       "\n",
       "                .geemap-dark .jupyter-button {\n",
       "                    --jp-layout-color3: #383838;\n",
       "                }\n",
       "\n",
       "                .geemap-colab {\n",
       "                    background-color: var(--colab-primary-surface-color, white);\n",
       "                }\n",
       "\n",
       "                .geemap-colab .jupyter-button {\n",
       "                    --jp-layout-color3: var(--colab-primary-surface-color, white);\n",
       "                }\n",
       "            </style>\n",
       "            "
      ],
      "text/plain": [
       "<IPython.core.display.HTML object>"
      ]
     },
     "metadata": {},
     "output_type": "display_data"
    }
   ],
   "source": [
    "geemap.ee_to_csv(Feature_byADM2, filename='conflict_diffusion_indicator_per_period.csv')"
   ]
  },
  {
   "cell_type": "code",
   "execution_count": 69,
   "id": "156536be",
   "metadata": {},
   "outputs": [
    {
     "data": {
      "text/html": [
       "\n",
       "            <style>\n",
       "                .geemap-dark {\n",
       "                    --jp-widgets-color: white;\n",
       "                    --jp-widgets-label-color: white;\n",
       "                    --jp-ui-font-color1: white;\n",
       "                    --jp-layout-color2: #454545;\n",
       "                    background-color: #383838;\n",
       "                }\n",
       "\n",
       "                .geemap-dark .jupyter-button {\n",
       "                    --jp-layout-color3: #383838;\n",
       "                }\n",
       "\n",
       "                .geemap-colab {\n",
       "                    background-color: var(--colab-primary-surface-color, white);\n",
       "                }\n",
       "\n",
       "                .geemap-colab .jupyter-button {\n",
       "                    --jp-layout-color3: var(--colab-primary-surface-color, white);\n",
       "                }\n",
       "            </style>\n",
       "            "
      ],
      "text/plain": [
       "<IPython.core.display.HTML object>"
      ]
     },
     "metadata": {},
     "output_type": "display_data"
    }
   ],
   "source": [
    "\n",
    "snippet = \"\"\"\n",
    "print('Number of Conflict events',\n",
    "      events_diffusion_year_period.aggregate_count('event_type'));\n",
    "\"\"\"\n",
    "\n",
    "geemap.js_snippet_to_py(snippet, add_new_cell=True, import_ee=False)\n"
   ]
  }
 ],
 "metadata": {
  "kernelspec": {
   "display_name": "Python 3 (ipykernel)",
   "language": "python",
   "name": "python3"
  },
  "language_info": {
   "codemirror_mode": {
    "name": "ipython",
    "version": 3
   },
   "file_extension": ".py",
   "mimetype": "text/x-python",
   "name": "python",
   "nbconvert_exporter": "python",
   "pygments_lexer": "ipython3",
   "version": "3.11.5"
  }
 },
 "nbformat": 4,
 "nbformat_minor": 5
}
