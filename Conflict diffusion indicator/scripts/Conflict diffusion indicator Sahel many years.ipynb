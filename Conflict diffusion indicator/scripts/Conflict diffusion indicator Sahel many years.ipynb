{
 "cells": [
  {
   "cell_type": "markdown",
   "id": "a16abca7",
   "metadata": {},
   "source": [
    "# **Political Violence in the G5 Sahel Countries (2018-2023)**\n",
    "\n",
    "**An Application of ACLED’s Conflict Index Methodology**"
   ]
  },
  {
   "cell_type": "markdown",
   "id": "75b1f167",
   "metadata": {},
   "source": [
    "\n",
    "```bash\n",
    "Author : Aboubacar HEMA\n",
    "Supervision : Wim MARIVOET\n",
    "Contact : a.hema@cgiar.org / w.marivoet@cgiar.org\n",
    "Role : Research Analyst at IFPRI\n",
    "Year : 2023\n",
    "```"
   ]
  },
  {
   "cell_type": "markdown",
   "id": "b536d37f",
   "metadata": {},
   "source": [
    "-----------------\n",
    "## **Objective**\n",
    "-----------------\n",
    "\n",
    "- To compute the **conflict diffusion indicator** per adm2/year by using ACLED’s Conflict Index Methodology , comprising the following steps: \n",
    "1. Create a spatial grid of 10km-by-10km \n",
    "2. Remove grid cells with less than 100 habitants using population data from WorldPop (pop_country)\n",
    "3. Identify grid cells with at least 10 conflict events per year using events_diffusion layer\n",
    "4. Compute the proportion of high violence grid cells to total cells per adm2/year\n",
    "\n"
   ]
  },
  {
   "cell_type": "markdown",
   "id": "4e995304",
   "metadata": {},
   "source": [
    "-----------------\n",
    "## **Output**\n",
    "-----------------\n",
    "\n",
    "- [Political violence in the G5 Sahel Countries (2018-2023): An application of ACLED’s conflict index methodology](https://cgspace.cgiar.org/items/1d0dd9f6-e3b6-4be2-bc08-bd9a7171ee69) \n",
    "\n",
    "- [ACLED Conflict Index G5 Sahel (2018-2023)](https://dataverse.harvard.edu/dataset.xhtml?persistentId=doi:10.7910/DVN/T6UT9O)\n",
    "\n"
   ]
  },
  {
   "cell_type": "markdown",
   "id": "a18be270",
   "metadata": {},
   "source": [
    "-----------------\n",
    "## **Dataset**\n",
    "-----------------\n",
    "\n",
    "* ``pop_sahel`` [Constrained individual countries 2020 UN adjusted (100-meter resolution)](https://www.worldpop.org/) datasets for Mauritania, Mali, Burkina Faso, Niger, and Chad. Given the midpoint reference of 2020, it is assumed that any demographic change between 2018 and 2023 will have only a minor effect on the estimated diffusion indicator\n",
    "* ``sahel_adm2`` [UNOCHA Geographic dataset for Sahel (Administrative boundaries and settlements)](https://data.humdata.org/dataset/sahel-administrative-boundaries)\n",
    "* ``events_diffusion`` \t[ACLED Curated dataset for Africa (5 January 2024)](https://acleddata.com/data-export-tool/)\n",
    "* ``geometry`` the time stamp for drop-off"
   ]
  },
  {
   "cell_type": "markdown",
   "id": "24741d99",
   "metadata": {},
   "source": [
    "\n",
    "From ACLED site:\n",
    "\n",
    "* ``Indicator`` Diffusion\n",
    "* ``Measure`` What proportion of the country experiences a high level of violence?\n",
    "* ``Significance`` Many conflicts can occur in a country simultaneously, adding to the geographic spread of conflict across states. This measure is an assessment of the geographic distribution of conflict. Each country is divided into a 10km-by-10km spatial grid. Grid cells that have a population of fewer than 100 people are excluded. Next, ACLED determines how many of a country’s geographic grid cells experience a high level of violence, defined as at least 10 events per year (representing the top 10% of cases).\n",
    "* ``The Diffusion indicator represents the proportion of high violence grid cells to total cells (i.e. the percentage of geographic area experiencing high levels of violence)`` "
   ]
  },
  {
   "cell_type": "markdown",
   "id": "b3cb0f13",
   "metadata": {},
   "source": [
    "-----------------\n",
    "## **Technical requirements**\n",
    "-----------------\n",
    "\n",
    "\n",
    "```bash\n",
    "conda create -n gee python\n",
    "conda activate gee\n",
    "conda install -c conda-forge mamba\n",
    "mamba install -c conda-forge pygis\n",
    "pip install geemap\n",
    "pip install ee\n",
    "```\n"
   ]
  },
  {
   "cell_type": "markdown",
   "id": "1c0d0cdc",
   "metadata": {},
   "source": [
    "-----------------\n",
    "## **Import the necessary libraries**\n",
    "-----------------\n"
   ]
  },
  {
   "cell_type": "code",
   "execution_count": 4,
   "id": "246fa7f6",
   "metadata": {},
   "outputs": [],
   "source": [
    "# Uncomment the code given below, and run the line of code to install pygis library\n",
    "#%pip install pygis\n"
   ]
  },
  {
   "cell_type": "code",
   "execution_count": 1,
   "id": "2640c6a7",
   "metadata": {},
   "outputs": [],
   "source": [
    "import ee\n",
    "import geemap\n",
    "\n",
    "# Basic libraries of python for numeric and dataframe computations\n",
    "import numpy as np                              \n",
    "import pandas as pd\n",
    "\n",
    "# Basic library for data visualization\n",
    "import matplotlib.pyplot as plt \n",
    "\n",
    "# Slightly advanced library for data visualization            \n",
    "import seaborn as sns   "
   ]
  },
  {
   "cell_type": "code",
   "execution_count": 2,
   "id": "53d0026c",
   "metadata": {},
   "outputs": [
    {
     "data": {
      "text/html": [
       "\n",
       "            <style>\n",
       "                .geemap-dark {\n",
       "                    --jp-widgets-color: white;\n",
       "                    --jp-widgets-label-color: white;\n",
       "                    --jp-ui-font-color1: white;\n",
       "                    --jp-layout-color2: #454545;\n",
       "                    background-color: #383838;\n",
       "                }\n",
       "\n",
       "                .geemap-dark .jupyter-button {\n",
       "                    --jp-layout-color3: #383838;\n",
       "                }\n",
       "\n",
       "                .geemap-colab {\n",
       "                    background-color: var(--colab-primary-surface-color, white);\n",
       "                }\n",
       "\n",
       "                .geemap-colab .jupyter-button {\n",
       "                    --jp-layout-color3: var(--colab-primary-surface-color, white);\n",
       "                }\n",
       "            </style>\n",
       "            "
      ],
      "text/plain": [
       "<IPython.core.display.HTML object>"
      ]
     },
     "metadata": {},
     "output_type": "display_data"
    }
   ],
   "source": [
    "# Authenticate and Initialize Earth Engine\n",
    "geemap.ee_initialize()"
   ]
  },
  {
   "cell_type": "markdown",
   "id": "537b60ac",
   "metadata": {},
   "source": [
    "-----------------\n",
    "## **Load data**\n",
    "-----------------"
   ]
  },
  {
   "cell_type": "code",
   "execution_count": 3,
   "id": "9bb0f4be",
   "metadata": {},
   "outputs": [
    {
     "data": {
      "text/html": [
       "\n",
       "            <style>\n",
       "                .geemap-dark {\n",
       "                    --jp-widgets-color: white;\n",
       "                    --jp-widgets-label-color: white;\n",
       "                    --jp-ui-font-color1: white;\n",
       "                    --jp-layout-color2: #454545;\n",
       "                    background-color: #383838;\n",
       "                }\n",
       "\n",
       "                .geemap-dark .jupyter-button {\n",
       "                    --jp-layout-color3: #383838;\n",
       "                }\n",
       "\n",
       "                .geemap-colab {\n",
       "                    background-color: var(--colab-primary-surface-color, white);\n",
       "                }\n",
       "\n",
       "                .geemap-colab .jupyter-button {\n",
       "                    --jp-layout-color3: var(--colab-primary-surface-color, white);\n",
       "                }\n",
       "            </style>\n",
       "            "
      ],
      "text/plain": [
       "<IPython.core.display.HTML object>"
      ]
     },
     "metadata": {},
     "output_type": "display_data"
    }
   ],
   "source": [
    "#WorldPop = ee.ImageCollection(\"WorldPop/GP/100m/pop\")\n",
    "pop_sahel = ee.Image(\"projects/ee-aboubacarhema94/assets/ACLED/Sahel_pop_2020_UNadj_constrained\")\n",
    "sahel_adm2 = ee.FeatureCollection(\"projects/ee-aboubacarhema94/assets/ACLED/G5_Sahel_adm2\")\n",
    "events_diffusion = ee.FeatureCollection(\"projects/ee-aboubacarhema94/assets/ACLED/G5_Sahel_Diffusion\")\n",
    "geometry = ee.Geometry.Polygon(\n",
    "        [[[-19.7019400534855, 29.93665627910383],\n",
    "          [-19.7019400534855, 5.813630636937255],\n",
    "          [26.967981821514496, 5.813630636937255],\n",
    "          [26.967981821514496, 29.93665627910383]]])"
   ]
  },
  {
   "cell_type": "code",
   "execution_count": 179,
   "id": "2f9fcc30",
   "metadata": {},
   "outputs": [
    {
     "data": {
      "text/html": [
       "\n",
       "            <style>\n",
       "                .geemap-dark {\n",
       "                    --jp-widgets-color: white;\n",
       "                    --jp-widgets-label-color: white;\n",
       "                    --jp-ui-font-color1: white;\n",
       "                    --jp-layout-color2: #454545;\n",
       "                    background-color: #383838;\n",
       "                }\n",
       "\n",
       "                .geemap-dark .jupyter-button {\n",
       "                    --jp-layout-color3: #383838;\n",
       "                }\n",
       "\n",
       "                .geemap-colab {\n",
       "                    background-color: var(--colab-primary-surface-color, white);\n",
       "                }\n",
       "\n",
       "                .geemap-colab .jupyter-button {\n",
       "                    --jp-layout-color3: var(--colab-primary-surface-color, white);\n",
       "                }\n",
       "            </style>\n",
       "            "
      ],
      "text/plain": [
       "<IPython.core.display.HTML object>"
      ]
     },
     "metadata": {},
     "output_type": "display_data"
    }
   ],
   "source": []
  },
  {
   "cell_type": "code",
   "execution_count": 4,
   "id": "5c1f931c",
   "metadata": {
    "scrolled": true
   },
   "outputs": [
    {
     "data": {
      "text/html": [
       "\n",
       "            <style>\n",
       "                .geemap-dark {\n",
       "                    --jp-widgets-color: white;\n",
       "                    --jp-widgets-label-color: white;\n",
       "                    --jp-ui-font-color1: white;\n",
       "                    --jp-layout-color2: #454545;\n",
       "                    background-color: #383838;\n",
       "                }\n",
       "\n",
       "                .geemap-dark .jupyter-button {\n",
       "                    --jp-layout-color3: #383838;\n",
       "                }\n",
       "\n",
       "                .geemap-colab {\n",
       "                    background-color: var(--colab-primary-surface-color, white);\n",
       "                }\n",
       "\n",
       "                .geemap-colab .jupyter-button {\n",
       "                    --jp-layout-color3: var(--colab-primary-surface-color, white);\n",
       "                }\n",
       "            </style>\n",
       "            "
      ],
      "text/plain": [
       "<IPython.core.display.HTML object>"
      ]
     },
     "metadata": {},
     "output_type": "display_data"
    },
    {
     "data": {
      "text/plain": [
       "{'type': 'Projection',\n",
       " 'crs': 'EPSG:4326',\n",
       " 'transform': [0.000833333330003155,\n",
       "  0,\n",
       "  -17.06624991685372,\n",
       "  0,\n",
       "  -0.0008333333300088002,\n",
       "  27.297916759268993]}"
      ]
     },
     "execution_count": 4,
     "metadata": {},
     "output_type": "execute_result"
    }
   ],
   "source": [
    "# Extract the projection before doing any computation\n",
    "projection = pop_sahel.projection()\n",
    "projection.getInfo()\n"
   ]
  },
  {
   "cell_type": "code",
   "execution_count": 5,
   "id": "53f8069f",
   "metadata": {},
   "outputs": [
    {
     "data": {
      "text/html": [
       "\n",
       "            <style>\n",
       "                .geemap-dark {\n",
       "                    --jp-widgets-color: white;\n",
       "                    --jp-widgets-label-color: white;\n",
       "                    --jp-ui-font-color1: white;\n",
       "                    --jp-layout-color2: #454545;\n",
       "                    background-color: #383838;\n",
       "                }\n",
       "\n",
       "                .geemap-dark .jupyter-button {\n",
       "                    --jp-layout-color3: #383838;\n",
       "                }\n",
       "\n",
       "                .geemap-colab {\n",
       "                    background-color: var(--colab-primary-surface-color, white);\n",
       "                }\n",
       "\n",
       "                .geemap-colab .jupyter-button {\n",
       "                    --jp-layout-color3: var(--colab-primary-surface-color, white);\n",
       "                }\n",
       "            </style>\n",
       "            "
      ],
      "text/plain": [
       "<IPython.core.display.HTML object>"
      ]
     },
     "metadata": {},
     "output_type": "display_data"
    },
    {
     "data": {
      "text/html": [
       "<div><style>:root {\n",
       "  --font-color-primary: var(--jp-content-font-color0, rgba(0, 0, 0, 1));\n",
       "  --font-color-secondary: var(--jp-content-font-color2, rgba(0, 0, 0, 0.6));\n",
       "  --font-color-accent: rgba(123, 31, 162, 1);\n",
       "  --border-color: var(--jp-border-color2, #e0e0e0);\n",
       "  --background-color: var(--jp-layout-color0, white);\n",
       "  --background-color-row-even: var(--jp-layout-color1, white);\n",
       "  --background-color-row-odd: var(--jp-layout-color2, #eeeeee);\n",
       "}\n",
       "\n",
       "html[theme=\"dark\"],\n",
       "body[data-theme=\"dark\"],\n",
       "body.vscode-dark {\n",
       "  --font-color-primary: rgba(255, 255, 255, 1);\n",
       "  --font-color-secondary: rgba(255, 255, 255, 0.6);\n",
       "  --font-color-accent: rgb(173, 132, 190);\n",
       "  --border-color: #2e2e2e;\n",
       "  --background-color: #111111;\n",
       "  --background-color-row-even: #111111;\n",
       "  --background-color-row-odd: #313131;\n",
       "}\n",
       "\n",
       ".ee {\n",
       "  padding: 1em;\n",
       "  line-height: 1.5em;\n",
       "  min-width: 300px;\n",
       "  max-width: 1200px;\n",
       "  overflow-y: scroll;\n",
       "  max-height: 600px;\n",
       "  border: 1px solid var(--border-color);\n",
       "  font-family: monospace;\n",
       "}\n",
       "\n",
       ".ee li {\n",
       "  list-style-type: none;\n",
       "}\n",
       "\n",
       ".ee ul {\n",
       "  padding-left: 1.5em !important;\n",
       "  margin: 0;\n",
       "}\n",
       "\n",
       ".ee > ul {\n",
       "  padding-left: 0 !important;\n",
       "}\n",
       "\n",
       ".ee-open,\n",
       ".ee-shut {\n",
       "  color: var(--font-color-secondary);\n",
       "  cursor: pointer;\n",
       "  margin: 0;\n",
       "}\n",
       "\n",
       ".ee-open:hover,\n",
       ".ee-shut:hover {\n",
       "  color: var(--font-color-primary);\n",
       "}\n",
       "\n",
       ".ee-k {\n",
       "  color: var(--font-color-accent);\n",
       "  margin-right: 6px;\n",
       "}\n",
       "\n",
       ".ee-v {\n",
       "  color: var(--font-color-primary);\n",
       "}\n",
       "\n",
       ".ee-toggle {\n",
       "  display: none;\n",
       "}\n",
       "\n",
       ".ee-shut + ul {\n",
       "  display: none;\n",
       "}\n",
       "\n",
       ".ee-open + ul {\n",
       "  display: block;\n",
       "}\n",
       "\n",
       ".ee-shut::before {\n",
       "  display: inline-block;\n",
       "  content: \"▼\";\n",
       "  margin-right: 6px;\n",
       "  transform: rotate(-90deg);\n",
       "  transition: transform 0.2s;\n",
       "}\n",
       "\n",
       ".ee-open::before {\n",
       "  transform: rotate(0deg);\n",
       "  display: inline-block;\n",
       "  content: \"▼\";\n",
       "  margin-right: 6px;\n",
       "  transition: transform 0.2s;\n",
       "}\n",
       "</style><div class='ee'><ul><li><span class='ee-v'>92.76624195732843</span></li></ul></div><script>function toggleHeader() {\n",
       "    const parent = this.parentElement;\n",
       "    parent.className = parent.className === \"ee-open\" ? \"ee-shut\" : \"ee-open\";\n",
       "}\n",
       "\n",
       "for (let c of document.getElementsByClassName(\"ee-toggle\")) {\n",
       "    c.onclick = toggleHeader;\n",
       "}</script></div>"
      ],
      "text/plain": [
       "<ee.ee_number.Number at 0x1bd0ef6b0d0>"
      ]
     },
     "execution_count": 5,
     "metadata": {},
     "output_type": "execute_result"
    }
   ],
   "source": [
    "# Native Resolution:\n",
    "projection.nominalScale()"
   ]
  },
  {
   "cell_type": "code",
   "execution_count": 6,
   "id": "e656e1c0",
   "metadata": {},
   "outputs": [
    {
     "data": {
      "text/html": [
       "\n",
       "            <style>\n",
       "                .geemap-dark {\n",
       "                    --jp-widgets-color: white;\n",
       "                    --jp-widgets-label-color: white;\n",
       "                    --jp-ui-font-color1: white;\n",
       "                    --jp-layout-color2: #454545;\n",
       "                    background-color: #383838;\n",
       "                }\n",
       "\n",
       "                .geemap-dark .jupyter-button {\n",
       "                    --jp-layout-color3: #383838;\n",
       "                }\n",
       "\n",
       "                .geemap-colab {\n",
       "                    background-color: var(--colab-primary-surface-color, white);\n",
       "                }\n",
       "\n",
       "                .geemap-colab .jupyter-button {\n",
       "                    --jp-layout-color3: var(--colab-primary-surface-color, white);\n",
       "                }\n",
       "            </style>\n",
       "            "
      ],
      "text/plain": [
       "<IPython.core.display.HTML object>"
      ]
     },
     "metadata": {},
     "output_type": "display_data"
    },
    {
     "data": {
      "text/plain": [
       "{'max': {'b1': 4269.693359375},\n",
       " 'mean': {'b1': 13.01768505881743},\n",
       " 'min': {'b1': 0},\n",
       " 'std': {'b1': 20.775038775581848},\n",
       " 'sum': {'b1': 74382024.02896315}}"
      ]
     },
     "execution_count": 6,
     "metadata": {},
     "output_type": "execute_result"
    }
   ],
   "source": [
    "pop_sahel_stats = geemap.image_stats(pop_sahel, scale=100)\n",
    "pop_sahel_stats.getInfo()"
   ]
  },
  {
   "cell_type": "code",
   "execution_count": null,
   "id": "eef2f7a3",
   "metadata": {},
   "outputs": [],
   "source": [
    "'''\n",
    "pop_sahel_stats = 'pop_sahel_stats.csv'\n",
    "geemap.zonal_stats(\n",
    "    pop_sahel,\n",
    "    sahel_adm2,\n",
    "    pop_sahel_stats,\n",
    "    statistics_type='SUM',\n",
    "    scale=100, \n",
    "    return_fc=False\n",
    ")\n",
    "'''"
   ]
  },
  {
   "cell_type": "code",
   "execution_count": 28,
   "id": "8a066852",
   "metadata": {},
   "outputs": [
    {
     "data": {
      "text/html": [
       "\n",
       "            <style>\n",
       "                .geemap-dark {\n",
       "                    --jp-widgets-color: white;\n",
       "                    --jp-widgets-label-color: white;\n",
       "                    --jp-ui-font-color1: white;\n",
       "                    --jp-layout-color2: #454545;\n",
       "                    background-color: #383838;\n",
       "                }\n",
       "\n",
       "                .geemap-dark .jupyter-button {\n",
       "                    --jp-layout-color3: #383838;\n",
       "                }\n",
       "\n",
       "                .geemap-colab {\n",
       "                    background-color: var(--colab-primary-surface-color, white);\n",
       "                }\n",
       "\n",
       "                .geemap-colab .jupyter-button {\n",
       "                    --jp-layout-color3: var(--colab-primary-surface-color, white);\n",
       "                }\n",
       "            </style>\n",
       "            "
      ],
      "text/plain": [
       "<IPython.core.display.HTML object>"
      ]
     },
     "metadata": {},
     "output_type": "display_data"
    }
   ],
   "source": [
    "#Initialize a Map\n",
    "Map = geemap.Map()\n",
    "Map.centerObject(sahel_adm2)"
   ]
  },
  {
   "cell_type": "code",
   "execution_count": 29,
   "id": "54abe166",
   "metadata": {
    "scrolled": true
   },
   "outputs": [
    {
     "data": {
      "text/html": [
       "\n",
       "            <style>\n",
       "                .geemap-dark {\n",
       "                    --jp-widgets-color: white;\n",
       "                    --jp-widgets-label-color: white;\n",
       "                    --jp-ui-font-color1: white;\n",
       "                    --jp-layout-color2: #454545;\n",
       "                    background-color: #383838;\n",
       "                }\n",
       "\n",
       "                .geemap-dark .jupyter-button {\n",
       "                    --jp-layout-color3: #383838;\n",
       "                }\n",
       "\n",
       "                .geemap-colab {\n",
       "                    background-color: var(--colab-primary-surface-color, white);\n",
       "                }\n",
       "\n",
       "                .geemap-colab .jupyter-button {\n",
       "                    --jp-layout-color3: var(--colab-primary-surface-color, white);\n",
       "                }\n",
       "            </style>\n",
       "            "
      ],
      "text/plain": [
       "<IPython.core.display.HTML object>"
      ]
     },
     "metadata": {},
     "output_type": "display_data"
    },
    {
     "data": {
      "application/vnd.jupyter.widget-view+json": {
       "model_id": "f48b493089b444e9ab77b638336dd558",
       "version_major": 2,
       "version_minor": 0
      },
      "text/plain": [
       "Map(center=[17.369569793340958, 3.4630404598133353], controls=(WidgetControl(options=['position', 'transparent…"
      ]
     },
     "execution_count": 29,
     "metadata": {},
     "output_type": "execute_result"
    }
   ],
   "source": [
    "# Set visualization/style parameters\n",
    "sahel_adm2_style = {\n",
    "    \"fillColor\": \"00000000\", # transparent color code\n",
    "    \"color\": \"black\", # color of the stroke\n",
    "    \"width\": 0.5 # stroke width\n",
    "}\n",
    "\n",
    "# Display the layer\n",
    "Map.addLayer(sahel_adm2.style(**sahel_adm2_style), {}, \" G5 Sahel Administrative two Boundaries\")\n",
    "Map"
   ]
  },
  {
   "cell_type": "code",
   "execution_count": 18,
   "id": "87944cc9",
   "metadata": {},
   "outputs": [
    {
     "data": {
      "text/html": [
       "\n",
       "            <style>\n",
       "                .geemap-dark {\n",
       "                    --jp-widgets-color: white;\n",
       "                    --jp-widgets-label-color: white;\n",
       "                    --jp-ui-font-color1: white;\n",
       "                    --jp-layout-color2: #454545;\n",
       "                    background-color: #383838;\n",
       "                }\n",
       "\n",
       "                .geemap-dark .jupyter-button {\n",
       "                    --jp-layout-color3: #383838;\n",
       "                }\n",
       "\n",
       "                .geemap-colab {\n",
       "                    background-color: var(--colab-primary-surface-color, white);\n",
       "                }\n",
       "\n",
       "                .geemap-colab .jupyter-button {\n",
       "                    --jp-layout-color3: var(--colab-primary-surface-color, white);\n",
       "                }\n",
       "            </style>\n",
       "            "
      ],
      "text/plain": [
       "<IPython.core.display.HTML object>"
      ]
     },
     "metadata": {},
     "output_type": "display_data"
    }
   ],
   "source": [
    "Map.save('sahel_adm2.html')"
   ]
  },
  {
   "cell_type": "code",
   "execution_count": 30,
   "id": "fdf85a71",
   "metadata": {},
   "outputs": [
    {
     "data": {
      "text/html": [
       "\n",
       "            <style>\n",
       "                .geemap-dark {\n",
       "                    --jp-widgets-color: white;\n",
       "                    --jp-widgets-label-color: white;\n",
       "                    --jp-ui-font-color1: white;\n",
       "                    --jp-layout-color2: #454545;\n",
       "                    background-color: #383838;\n",
       "                }\n",
       "\n",
       "                .geemap-dark .jupyter-button {\n",
       "                    --jp-layout-color3: #383838;\n",
       "                }\n",
       "\n",
       "                .geemap-colab {\n",
       "                    background-color: var(--colab-primary-surface-color, white);\n",
       "                }\n",
       "\n",
       "                .geemap-colab .jupyter-button {\n",
       "                    --jp-layout-color3: var(--colab-primary-surface-color, white);\n",
       "                }\n",
       "            </style>\n",
       "            "
      ],
      "text/plain": [
       "<IPython.core.display.HTML object>"
      ]
     },
     "metadata": {},
     "output_type": "display_data"
    },
    {
     "data": {
      "text/html": [
       "<div>\n",
       "<style scoped>\n",
       "    .dataframe tbody tr th:only-of-type {\n",
       "        vertical-align: middle;\n",
       "    }\n",
       "\n",
       "    .dataframe tbody tr th {\n",
       "        vertical-align: top;\n",
       "    }\n",
       "\n",
       "    .dataframe thead th {\n",
       "        text-align: right;\n",
       "    }\n",
       "</style>\n",
       "<table border=\"1\" class=\"dataframe\">\n",
       "  <thead>\n",
       "    <tr style=\"text-align: right;\">\n",
       "      <th></th>\n",
       "      <th>OBJECTID</th>\n",
       "      <th>Shape_Area</th>\n",
       "      <th>Shape_Le_1</th>\n",
       "      <th>Shape_Leng</th>\n",
       "      <th>admin0Name</th>\n",
       "      <th>admin0Pcod</th>\n",
       "      <th>admin1Name</th>\n",
       "      <th>admin1Pcod</th>\n",
       "      <th>admin2Name</th>\n",
       "      <th>admin2Pcod</th>\n",
       "    </tr>\n",
       "  </thead>\n",
       "  <tbody>\n",
       "    <tr>\n",
       "      <th>0</th>\n",
       "      <td>1516</td>\n",
       "      <td>0.238447</td>\n",
       "      <td>2.981459</td>\n",
       "      <td>2.981459</td>\n",
       "      <td>Burkina Faso</td>\n",
       "      <td>BF</td>\n",
       "      <td>Centre</td>\n",
       "      <td>BF13</td>\n",
       "      <td>Kadiogo</td>\n",
       "      <td>BF1300</td>\n",
       "    </tr>\n",
       "    <tr>\n",
       "      <th>194</th>\n",
       "      <td>2010</td>\n",
       "      <td>0.116923</td>\n",
       "      <td>1.679108</td>\n",
       "      <td>1.679108</td>\n",
       "      <td>Niger</td>\n",
       "      <td>NE</td>\n",
       "      <td>Tillabéri</td>\n",
       "      <td>NE06</td>\n",
       "      <td>Balleyara</td>\n",
       "      <td>NE0603</td>\n",
       "    </tr>\n",
       "    <tr>\n",
       "      <th>193</th>\n",
       "      <td>2008</td>\n",
       "      <td>0.255135</td>\n",
       "      <td>2.578268</td>\n",
       "      <td>2.578268</td>\n",
       "      <td>Niger</td>\n",
       "      <td>NE</td>\n",
       "      <td>Tillabéri</td>\n",
       "      <td>NE06</td>\n",
       "      <td>Ayerou</td>\n",
       "      <td>NE0602</td>\n",
       "    </tr>\n",
       "    <tr>\n",
       "      <th>192</th>\n",
       "      <td>2003</td>\n",
       "      <td>1.041300</td>\n",
       "      <td>5.377827</td>\n",
       "      <td>5.378735</td>\n",
       "      <td>Niger</td>\n",
       "      <td>NE</td>\n",
       "      <td>Tillabéri</td>\n",
       "      <td>NE06</td>\n",
       "      <td>Abala</td>\n",
       "      <td>NE0601</td>\n",
       "    </tr>\n",
       "    <tr>\n",
       "      <th>191</th>\n",
       "      <td>2068</td>\n",
       "      <td>0.063368</td>\n",
       "      <td>0.992387</td>\n",
       "      <td>0.992387</td>\n",
       "      <td>Niger</td>\n",
       "      <td>NE</td>\n",
       "      <td>Tahoua</td>\n",
       "      <td>NE05</td>\n",
       "      <td>Ville de Tahoua</td>\n",
       "      <td>NE0513</td>\n",
       "    </tr>\n",
       "    <tr>\n",
       "      <th>190</th>\n",
       "      <td>2066</td>\n",
       "      <td>1.487823</td>\n",
       "      <td>5.187640</td>\n",
       "      <td>5.187640</td>\n",
       "      <td>Niger</td>\n",
       "      <td>NE</td>\n",
       "      <td>Tahoua</td>\n",
       "      <td>NE05</td>\n",
       "      <td>Tillia</td>\n",
       "      <td>NE0512</td>\n",
       "    </tr>\n",
       "    <tr>\n",
       "      <th>189</th>\n",
       "      <td>2059</td>\n",
       "      <td>0.926053</td>\n",
       "      <td>5.056305</td>\n",
       "      <td>5.056305</td>\n",
       "      <td>Niger</td>\n",
       "      <td>NE</td>\n",
       "      <td>Tahoua</td>\n",
       "      <td>NE05</td>\n",
       "      <td>Tchintabaraden</td>\n",
       "      <td>NE0511</td>\n",
       "    </tr>\n",
       "    <tr>\n",
       "      <th>195</th>\n",
       "      <td>2011</td>\n",
       "      <td>0.542171</td>\n",
       "      <td>3.585039</td>\n",
       "      <td>3.585039</td>\n",
       "      <td>Niger</td>\n",
       "      <td>NE</td>\n",
       "      <td>Tillabéri</td>\n",
       "      <td>NE06</td>\n",
       "      <td>Banibangou</td>\n",
       "      <td>NE0604</td>\n",
       "    </tr>\n",
       "    <tr>\n",
       "      <th>188</th>\n",
       "      <td>2058</td>\n",
       "      <td>2.498677</td>\n",
       "      <td>8.031381</td>\n",
       "      <td>8.031530</td>\n",
       "      <td>Niger</td>\n",
       "      <td>NE</td>\n",
       "      <td>Tahoua</td>\n",
       "      <td>NE05</td>\n",
       "      <td>Tassara</td>\n",
       "      <td>NE0510</td>\n",
       "    </tr>\n",
       "    <tr>\n",
       "      <th>186</th>\n",
       "      <td>2046</td>\n",
       "      <td>0.121863</td>\n",
       "      <td>1.680674</td>\n",
       "      <td>1.680674</td>\n",
       "      <td>Niger</td>\n",
       "      <td>NE</td>\n",
       "      <td>Tahoua</td>\n",
       "      <td>NE05</td>\n",
       "      <td>Malbaza</td>\n",
       "      <td>NE0508</td>\n",
       "    </tr>\n",
       "  </tbody>\n",
       "</table>\n",
       "</div>"
      ],
      "text/plain": [
       "     OBJECTID  Shape_Area  Shape_Le_1  Shape_Leng    admin0Name admin0Pcod  \\\n",
       "0        1516    0.238447    2.981459    2.981459  Burkina Faso         BF   \n",
       "194      2010    0.116923    1.679108    1.679108         Niger         NE   \n",
       "193      2008    0.255135    2.578268    2.578268         Niger         NE   \n",
       "192      2003    1.041300    5.377827    5.378735         Niger         NE   \n",
       "191      2068    0.063368    0.992387    0.992387         Niger         NE   \n",
       "190      2066    1.487823    5.187640    5.187640         Niger         NE   \n",
       "189      2059    0.926053    5.056305    5.056305         Niger         NE   \n",
       "195      2011    0.542171    3.585039    3.585039         Niger         NE   \n",
       "188      2058    2.498677    8.031381    8.031530         Niger         NE   \n",
       "186      2046    0.121863    1.680674    1.680674         Niger         NE   \n",
       "\n",
       "    admin1Name admin1Pcod       admin2Name admin2Pcod  \n",
       "0       Centre       BF13          Kadiogo     BF1300  \n",
       "194  Tillabéri       NE06        Balleyara     NE0603  \n",
       "193  Tillabéri       NE06           Ayerou     NE0602  \n",
       "192  Tillabéri       NE06            Abala     NE0601  \n",
       "191     Tahoua       NE05  Ville de Tahoua     NE0513  \n",
       "190     Tahoua       NE05           Tillia     NE0512  \n",
       "189     Tahoua       NE05   Tchintabaraden     NE0511  \n",
       "195  Tillabéri       NE06       Banibangou     NE0604  \n",
       "188     Tahoua       NE05          Tassara     NE0510  \n",
       "186     Tahoua       NE05          Malbaza     NE0508  "
      ]
     },
     "execution_count": 30,
     "metadata": {},
     "output_type": "execute_result"
    }
   ],
   "source": [
    "# To preview first five rows. \n",
    "def preview(df, n=5):\n",
    "    \"\"\"return n rows that have fewest number of nulls\"\"\"\n",
    "    order = df.isnull().sum(axis=1).sort_values().head(n).index\n",
    "    return df.loc[order]\n",
    "\n",
    "# View the Datasets\n",
    "df_sahel_adm2 = geemap.ee_to_df(sahel_adm2, sort_columns=True)\n",
    "\n",
    "preview(df_sahel_adm2, 10)"
   ]
  },
  {
   "cell_type": "code",
   "execution_count": 20,
   "id": "c7796d86",
   "metadata": {},
   "outputs": [
    {
     "data": {
      "text/html": [
       "\n",
       "            <style>\n",
       "                .geemap-dark {\n",
       "                    --jp-widgets-color: white;\n",
       "                    --jp-widgets-label-color: white;\n",
       "                    --jp-ui-font-color1: white;\n",
       "                    --jp-layout-color2: #454545;\n",
       "                    background-color: #383838;\n",
       "                }\n",
       "\n",
       "                .geemap-dark .jupyter-button {\n",
       "                    --jp-layout-color3: #383838;\n",
       "                }\n",
       "\n",
       "                .geemap-colab {\n",
       "                    background-color: var(--colab-primary-surface-color, white);\n",
       "                }\n",
       "\n",
       "                .geemap-colab .jupyter-button {\n",
       "                    --jp-layout-color3: var(--colab-primary-surface-color, white);\n",
       "                }\n",
       "            </style>\n",
       "            "
      ],
      "text/plain": [
       "<IPython.core.display.HTML object>"
      ]
     },
     "metadata": {},
     "output_type": "display_data"
    },
    {
     "data": {
      "text/html": [
       "<div>\n",
       "<style scoped>\n",
       "    .dataframe tbody tr th:only-of-type {\n",
       "        vertical-align: middle;\n",
       "    }\n",
       "\n",
       "    .dataframe tbody tr th {\n",
       "        vertical-align: top;\n",
       "    }\n",
       "\n",
       "    .dataframe thead th {\n",
       "        text-align: right;\n",
       "    }\n",
       "</style>\n",
       "<table border=\"1\" class=\"dataframe\">\n",
       "  <thead>\n",
       "    <tr style=\"text-align: right;\">\n",
       "      <th></th>\n",
       "      <th>OBJECTID</th>\n",
       "      <th>Shape_Area</th>\n",
       "      <th>Shape_Le_1</th>\n",
       "      <th>Shape_Leng</th>\n",
       "      <th>admin0Name</th>\n",
       "      <th>admin0Pcod</th>\n",
       "      <th>admin1Name</th>\n",
       "      <th>admin1Pcod</th>\n",
       "      <th>admin2Name</th>\n",
       "      <th>admin2Pcod</th>\n",
       "    </tr>\n",
       "  </thead>\n",
       "  <tbody>\n",
       "    <tr>\n",
       "      <th>0</th>\n",
       "      <td>1516</td>\n",
       "      <td>0.238447</td>\n",
       "      <td>2.981459</td>\n",
       "      <td>2.981459</td>\n",
       "      <td>Burkina Faso</td>\n",
       "      <td>BF</td>\n",
       "      <td>Centre</td>\n",
       "      <td>BF13</td>\n",
       "      <td>Kadiogo</td>\n",
       "      <td>BF1300</td>\n",
       "    </tr>\n",
       "    <tr>\n",
       "      <th>1</th>\n",
       "      <td>1417</td>\n",
       "      <td>0.376722</td>\n",
       "      <td>4.830069</td>\n",
       "      <td>4.830069</td>\n",
       "      <td>Burkina Faso</td>\n",
       "      <td>BF</td>\n",
       "      <td>Boucle du Mouhoun</td>\n",
       "      <td>BF46</td>\n",
       "      <td>Bale</td>\n",
       "      <td>BF4601</td>\n",
       "    </tr>\n",
       "    <tr>\n",
       "      <th>2</th>\n",
       "      <td>1527</td>\n",
       "      <td>0.490583</td>\n",
       "      <td>5.015746</td>\n",
       "      <td>5.015746</td>\n",
       "      <td>Burkina Faso</td>\n",
       "      <td>BF</td>\n",
       "      <td>Boucle du Mouhoun</td>\n",
       "      <td>BF46</td>\n",
       "      <td>Banwa</td>\n",
       "      <td>BF4602</td>\n",
       "    </tr>\n",
       "    <tr>\n",
       "      <th>3</th>\n",
       "      <td>1530</td>\n",
       "      <td>0.571324</td>\n",
       "      <td>5.523416</td>\n",
       "      <td>5.523416</td>\n",
       "      <td>Burkina Faso</td>\n",
       "      <td>BF</td>\n",
       "      <td>Boucle du Mouhoun</td>\n",
       "      <td>BF46</td>\n",
       "      <td>Mouhoun</td>\n",
       "      <td>BF4604</td>\n",
       "    </tr>\n",
       "    <tr>\n",
       "      <th>4</th>\n",
       "      <td>1559</td>\n",
       "      <td>0.309684</td>\n",
       "      <td>2.757532</td>\n",
       "      <td>2.757532</td>\n",
       "      <td>Burkina Faso</td>\n",
       "      <td>BF</td>\n",
       "      <td>Boucle du Mouhoun</td>\n",
       "      <td>BF46</td>\n",
       "      <td>Nayala</td>\n",
       "      <td>BF4605</td>\n",
       "    </tr>\n",
       "  </tbody>\n",
       "</table>\n",
       "</div>"
      ],
      "text/plain": [
       "   OBJECTID  Shape_Area  Shape_Le_1  Shape_Leng    admin0Name admin0Pcod  \\\n",
       "0      1516    0.238447    2.981459    2.981459  Burkina Faso         BF   \n",
       "1      1417    0.376722    4.830069    4.830069  Burkina Faso         BF   \n",
       "2      1527    0.490583    5.015746    5.015746  Burkina Faso         BF   \n",
       "3      1530    0.571324    5.523416    5.523416  Burkina Faso         BF   \n",
       "4      1559    0.309684    2.757532    2.757532  Burkina Faso         BF   \n",
       "\n",
       "          admin1Name admin1Pcod admin2Name admin2Pcod  \n",
       "0             Centre       BF13    Kadiogo     BF1300  \n",
       "1  Boucle du Mouhoun       BF46       Bale     BF4601  \n",
       "2  Boucle du Mouhoun       BF46      Banwa     BF4602  \n",
       "3  Boucle du Mouhoun       BF46    Mouhoun     BF4604  \n",
       "4  Boucle du Mouhoun       BF46     Nayala     BF4605  "
      ]
     },
     "execution_count": 20,
     "metadata": {},
     "output_type": "execute_result"
    }
   ],
   "source": [
    "#Let's check the first five rows of the data\n",
    "df_sahel_adm2.head()"
   ]
  },
  {
   "cell_type": "markdown",
   "id": "7a2f724c",
   "metadata": {},
   "source": [
    "Let's check the **info** of the data"
   ]
  },
  {
   "cell_type": "code",
   "execution_count": 21,
   "id": "6a06e76c",
   "metadata": {},
   "outputs": [
    {
     "data": {
      "text/html": [
       "\n",
       "            <style>\n",
       "                .geemap-dark {\n",
       "                    --jp-widgets-color: white;\n",
       "                    --jp-widgets-label-color: white;\n",
       "                    --jp-ui-font-color1: white;\n",
       "                    --jp-layout-color2: #454545;\n",
       "                    background-color: #383838;\n",
       "                }\n",
       "\n",
       "                .geemap-dark .jupyter-button {\n",
       "                    --jp-layout-color3: #383838;\n",
       "                }\n",
       "\n",
       "                .geemap-colab {\n",
       "                    background-color: var(--colab-primary-surface-color, white);\n",
       "                }\n",
       "\n",
       "                .geemap-colab .jupyter-button {\n",
       "                    --jp-layout-color3: var(--colab-primary-surface-color, white);\n",
       "                }\n",
       "            </style>\n",
       "            "
      ],
      "text/plain": [
       "<IPython.core.display.HTML object>"
      ]
     },
     "metadata": {},
     "output_type": "display_data"
    },
    {
     "name": "stdout",
     "output_type": "stream",
     "text": [
      "<class 'pandas.core.frame.DataFrame'>\n",
      "RangeIndex: 287 entries, 0 to 286\n",
      "Data columns (total 10 columns):\n",
      " #   Column      Non-Null Count  Dtype  \n",
      "---  ------      --------------  -----  \n",
      " 0   OBJECTID    287 non-null    int64  \n",
      " 1   Shape_Area  287 non-null    float64\n",
      " 2   Shape_Le_1  287 non-null    float64\n",
      " 3   Shape_Leng  287 non-null    float64\n",
      " 4   admin0Name  287 non-null    object \n",
      " 5   admin0Pcod  287 non-null    object \n",
      " 6   admin1Name  287 non-null    object \n",
      " 7   admin1Pcod  287 non-null    object \n",
      " 8   admin2Name  287 non-null    object \n",
      " 9   admin2Pcod  287 non-null    object \n",
      "dtypes: float64(3), int64(1), object(6)\n",
      "memory usage: 22.6+ KB\n"
     ]
    }
   ],
   "source": [
    "# Checking the info of the dataset\n",
    "df_sahel_adm2.info()"
   ]
  },
  {
   "cell_type": "markdown",
   "id": "c968cb93",
   "metadata": {},
   "source": [
    "- There are 287 non null values in the dataset."
   ]
  },
  {
   "cell_type": "code",
   "execution_count": 24,
   "id": "b156df81",
   "metadata": {},
   "outputs": [
    {
     "data": {
      "text/html": [
       "\n",
       "            <style>\n",
       "                .geemap-dark {\n",
       "                    --jp-widgets-color: white;\n",
       "                    --jp-widgets-label-color: white;\n",
       "                    --jp-ui-font-color1: white;\n",
       "                    --jp-layout-color2: #454545;\n",
       "                    background-color: #383838;\n",
       "                }\n",
       "\n",
       "                .geemap-dark .jupyter-button {\n",
       "                    --jp-layout-color3: #383838;\n",
       "                }\n",
       "\n",
       "                .geemap-colab {\n",
       "                    background-color: var(--colab-primary-surface-color, white);\n",
       "                }\n",
       "\n",
       "                .geemap-colab .jupyter-button {\n",
       "                    --jp-layout-color3: var(--colab-primary-surface-color, white);\n",
       "                }\n",
       "            </style>\n",
       "            "
      ],
      "text/plain": [
       "<IPython.core.display.HTML object>"
      ]
     },
     "metadata": {},
     "output_type": "display_data"
    },
    {
     "data": {
      "text/plain": [
       "<Axes: xlabel='admin0Pcod'>"
      ]
     },
     "execution_count": 24,
     "metadata": {},
     "output_type": "execute_result"
    },
    {
     "data": {
      "image/png": "[encoded data removed]",
      "text/plain": [
       "<Figure size 500x500 with 1 Axes>"
      ]
     },
     "metadata": {},
     "output_type": "display_data"
    }
   ],
   "source": [
    "# Plotting countplot for admin0Pcod (G5 Sahel Countries)\n",
    "df_sahel_adm2.admin0Pcod.value_counts().sort_values(ascending=False).plot(kind='bar' ,figsize=(5,5))"
   ]
  },
  {
   "cell_type": "code",
   "execution_count": 25,
   "id": "90b01309",
   "metadata": {},
   "outputs": [
    {
     "data": {
      "text/html": [
       "\n",
       "            <style>\n",
       "                .geemap-dark {\n",
       "                    --jp-widgets-color: white;\n",
       "                    --jp-widgets-label-color: white;\n",
       "                    --jp-ui-font-color1: white;\n",
       "                    --jp-layout-color2: #454545;\n",
       "                    background-color: #383838;\n",
       "                }\n",
       "\n",
       "                .geemap-dark .jupyter-button {\n",
       "                    --jp-layout-color3: #383838;\n",
       "                }\n",
       "\n",
       "                .geemap-colab {\n",
       "                    background-color: var(--colab-primary-surface-color, white);\n",
       "                }\n",
       "\n",
       "                .geemap-colab .jupyter-button {\n",
       "                    --jp-layout-color3: var(--colab-primary-surface-color, white);\n",
       "                }\n",
       "            </style>\n",
       "            "
      ],
      "text/plain": [
       "<IPython.core.display.HTML object>"
      ]
     },
     "metadata": {},
     "output_type": "display_data"
    },
    {
     "data": {
      "text/plain": [
       "admin0Pcod\n",
       "TD    70\n",
       "NE    67\n",
       "MR    55\n",
       "ML    50\n",
       "BF    45\n",
       "Name: count, dtype: int64"
      ]
     },
     "execution_count": 25,
     "metadata": {},
     "output_type": "execute_result"
    }
   ],
   "source": [
    "# Plotting countplot for admin2Pcod (G5 Sahel Countries)\n",
    "#df_sahel_adm2.admin2Pcod.value_counts().sort_values(ascending=False).plot(kind='bar' ,figsize=(20,8))\n",
    "# \n",
    "df_sahel_adm2.admin0Pcod.value_counts()"
   ]
  },
  {
   "cell_type": "code",
   "execution_count": 26,
   "id": "684839a3",
   "metadata": {},
   "outputs": [
    {
     "data": {
      "text/html": [
       "\n",
       "            <style>\n",
       "                .geemap-dark {\n",
       "                    --jp-widgets-color: white;\n",
       "                    --jp-widgets-label-color: white;\n",
       "                    --jp-ui-font-color1: white;\n",
       "                    --jp-layout-color2: #454545;\n",
       "                    background-color: #383838;\n",
       "                }\n",
       "\n",
       "                .geemap-dark .jupyter-button {\n",
       "                    --jp-layout-color3: #383838;\n",
       "                }\n",
       "\n",
       "                .geemap-colab {\n",
       "                    background-color: var(--colab-primary-surface-color, white);\n",
       "                }\n",
       "\n",
       "                .geemap-colab .jupyter-button {\n",
       "                    --jp-layout-color3: var(--colab-primary-surface-color, white);\n",
       "                }\n",
       "            </style>\n",
       "            "
      ],
      "text/plain": [
       "<IPython.core.display.HTML object>"
      ]
     },
     "metadata": {},
     "output_type": "display_data"
    },
    {
     "data": {
      "image/png": "[encoded data removed]",
      "text/plain": [
       "<Figure size 640x480 with 1 Axes>"
      ]
     },
     "metadata": {},
     "output_type": "display_data"
    }
   ],
   "source": [
    "# plot the occurrence of different days in the dataset\n",
    "\n",
    "# 'autopct' displays the percentage upto 1 decimal place\n",
    "# 'radius' sets the radius of the pie plot\n",
    "plt.pie(df_sahel_adm2.admin0Pcod.value_counts(), autopct = '%.1f%%', radius = 1.2, labels = ['TD', 'NE','MR','ML', 'BF'],\n",
    "        explode = [0,0,0,0,0.5])\n",
    "\n",
    "# display the plot\n",
    "plt.show()"
   ]
  },
  {
   "cell_type": "code",
   "execution_count": null,
   "id": "85e34fcb",
   "metadata": {},
   "outputs": [],
   "source": []
  },
  {
   "cell_type": "code",
   "execution_count": 330,
   "id": "cd6ee0e1",
   "metadata": {},
   "outputs": [
    {
     "data": {
      "text/html": [
       "\n",
       "            <style>\n",
       "                .geemap-dark {\n",
       "                    --jp-widgets-color: white;\n",
       "                    --jp-widgets-label-color: white;\n",
       "                    --jp-ui-font-color1: white;\n",
       "                    --jp-layout-color2: #454545;\n",
       "                    background-color: #383838;\n",
       "                }\n",
       "\n",
       "                .geemap-dark .jupyter-button {\n",
       "                    --jp-layout-color3: #383838;\n",
       "                }\n",
       "\n",
       "                .geemap-colab {\n",
       "                    background-color: var(--colab-primary-surface-color, white);\n",
       "                }\n",
       "\n",
       "                .geemap-colab .jupyter-button {\n",
       "                    --jp-layout-color3: var(--colab-primary-surface-color, white);\n",
       "                }\n",
       "            </style>\n",
       "            "
      ],
      "text/plain": [
       "<IPython.core.display.HTML object>"
      ]
     },
     "metadata": {},
     "output_type": "display_data"
    }
   ],
   "source": [
    "df_events_diffusion = geemap.ee_to_df(events_diffusion, sort_columns=True)\n"
   ]
  },
  {
   "cell_type": "code",
   "execution_count": 331,
   "id": "d4ac0693",
   "metadata": {},
   "outputs": [
    {
     "data": {
      "text/html": [
       "\n",
       "            <style>\n",
       "                .geemap-dark {\n",
       "                    --jp-widgets-color: white;\n",
       "                    --jp-widgets-label-color: white;\n",
       "                    --jp-ui-font-color1: white;\n",
       "                    --jp-layout-color2: #454545;\n",
       "                    background-color: #383838;\n",
       "                }\n",
       "\n",
       "                .geemap-dark .jupyter-button {\n",
       "                    --jp-layout-color3: #383838;\n",
       "                }\n",
       "\n",
       "                .geemap-colab {\n",
       "                    background-color: var(--colab-primary-surface-color, white);\n",
       "                }\n",
       "\n",
       "                .geemap-colab .jupyter-button {\n",
       "                    --jp-layout-color3: var(--colab-primary-surface-color, white);\n",
       "                }\n",
       "            </style>\n",
       "            "
      ],
      "text/plain": [
       "<IPython.core.display.HTML object>"
      ]
     },
     "metadata": {},
     "output_type": "display_data"
    },
    {
     "data": {
      "text/html": [
       "<div>\n",
       "<style scoped>\n",
       "    .dataframe tbody tr th:only-of-type {\n",
       "        vertical-align: middle;\n",
       "    }\n",
       "\n",
       "    .dataframe tbody tr th {\n",
       "        vertical-align: top;\n",
       "    }\n",
       "\n",
       "    .dataframe thead th {\n",
       "        text-align: right;\n",
       "    }\n",
       "</style>\n",
       "<table border=\"1\" class=\"dataframe\">\n",
       "  <thead>\n",
       "    <tr style=\"text-align: right;\">\n",
       "      <th></th>\n",
       "      <th>actor1</th>\n",
       "      <th>actor2</th>\n",
       "      <th>admin0Name</th>\n",
       "      <th>admin0Pcod</th>\n",
       "      <th>admin1</th>\n",
       "      <th>admin1Name</th>\n",
       "      <th>admin1Pcod</th>\n",
       "      <th>admin2</th>\n",
       "      <th>admin2Na_1</th>\n",
       "      <th>admin2Name</th>\n",
       "      <th>...</th>\n",
       "      <th>longitude</th>\n",
       "      <th>notes</th>\n",
       "      <th>region</th>\n",
       "      <th>source</th>\n",
       "      <th>source_sca</th>\n",
       "      <th>sub_event_</th>\n",
       "      <th>tags</th>\n",
       "      <th>time_preci</th>\n",
       "      <th>timestamp</th>\n",
       "      <th>year</th>\n",
       "    </tr>\n",
       "  </thead>\n",
       "  <tbody>\n",
       "    <tr>\n",
       "      <th>0</th>\n",
       "      <td>JNIM: Group for Support of Islam and Muslims</td>\n",
       "      <td>Military Forces of Burkina Faso (2015-2022)</td>\n",
       "      <td>Burkina Faso</td>\n",
       "      <td>BF</td>\n",
       "      <td>Centre</td>\n",
       "      <td>Centre</td>\n",
       "      <td>BF13</td>\n",
       "      <td>Kadiogo</td>\n",
       "      <td>Kadiogo</td>\n",
       "      <td>Kadiogo</td>\n",
       "      <td>...</td>\n",
       "      <td>-1.525</td>\n",
       "      <td>High-profile attack in Ouagadougou simultaneou...</td>\n",
       "      <td>Western Africa</td>\n",
       "      <td>AFP; Africa News</td>\n",
       "      <td>International</td>\n",
       "      <td>Armed clash</td>\n",
       "      <td></td>\n",
       "      <td>1</td>\n",
       "      <td>1675727770</td>\n",
       "      <td>2018</td>\n",
       "    </tr>\n",
       "    <tr>\n",
       "      <th>1</th>\n",
       "      <td>JNIM: Group for Support of Islam and Muslims</td>\n",
       "      <td>Police Forces of Burkina Faso (2022-)</td>\n",
       "      <td>Burkina Faso</td>\n",
       "      <td>BF</td>\n",
       "      <td>Boucle du Mouhoun</td>\n",
       "      <td>Boucle du Mouhoun</td>\n",
       "      <td>BF46</td>\n",
       "      <td>Banwa</td>\n",
       "      <td>Banwa</td>\n",
       "      <td>Banwa</td>\n",
       "      <td>...</td>\n",
       "      <td>-4.338</td>\n",
       "      <td>On 26 August 2022, presumed JNIM militants ble...</td>\n",
       "      <td>Western Africa</td>\n",
       "      <td>AIB (Burkina Faso); Facebook; Radio Omega; Sah...</td>\n",
       "      <td>New media-National</td>\n",
       "      <td>Remote explosive/landmine/IED</td>\n",
       "      <td></td>\n",
       "      <td>1</td>\n",
       "      <td>1702343220</td>\n",
       "      <td>2022</td>\n",
       "    </tr>\n",
       "    <tr>\n",
       "      <th>2</th>\n",
       "      <td>JNIM: Group for Support of Islam and Muslims</td>\n",
       "      <td>Police Forces of Burkina Faso (2022-)</td>\n",
       "      <td>Burkina Faso</td>\n",
       "      <td>BF</td>\n",
       "      <td>Boucle du Mouhoun</td>\n",
       "      <td>Boucle du Mouhoun</td>\n",
       "      <td>BF46</td>\n",
       "      <td>Banwa</td>\n",
       "      <td>Banwa</td>\n",
       "      <td>Banwa</td>\n",
       "      <td>...</td>\n",
       "      <td>-4.090</td>\n",
       "      <td>On 22 April 2022, presumed JNIM militants simu...</td>\n",
       "      <td>Western Africa</td>\n",
       "      <td>AIB (Burkina Faso); Le Faso; Sahel Security Al...</td>\n",
       "      <td>New media-National</td>\n",
       "      <td>Armed clash</td>\n",
       "      <td></td>\n",
       "      <td>1</td>\n",
       "      <td>1702343240</td>\n",
       "      <td>2022</td>\n",
       "    </tr>\n",
       "    <tr>\n",
       "      <th>3</th>\n",
       "      <td>JNIM: Group for Support of Islam and Muslims</td>\n",
       "      <td>Police Forces of Burkina Faso (2022-) Gendarmerie</td>\n",
       "      <td>Burkina Faso</td>\n",
       "      <td>BF</td>\n",
       "      <td>Boucle du Mouhoun</td>\n",
       "      <td>Boucle du Mouhoun</td>\n",
       "      <td>BF46</td>\n",
       "      <td>Banwa</td>\n",
       "      <td>Banwa</td>\n",
       "      <td>Banwa</td>\n",
       "      <td>...</td>\n",
       "      <td>-4.090</td>\n",
       "      <td>On 11 August 2022, presumed JNIM militants att...</td>\n",
       "      <td>Western Africa</td>\n",
       "      <td>AIB (Burkina Faso); Sahel Security Alerts; Und...</td>\n",
       "      <td>Local partner-Other</td>\n",
       "      <td>Armed clash</td>\n",
       "      <td></td>\n",
       "      <td>1</td>\n",
       "      <td>1702343230</td>\n",
       "      <td>2022</td>\n",
       "    </tr>\n",
       "    <tr>\n",
       "      <th>4</th>\n",
       "      <td>JNIM: Group for Support of Islam and Muslims</td>\n",
       "      <td>Police Forces of Burkina Faso (2022-)</td>\n",
       "      <td>Burkina Faso</td>\n",
       "      <td>BF</td>\n",
       "      <td>Boucle du Mouhoun</td>\n",
       "      <td>Boucle du Mouhoun</td>\n",
       "      <td>BF46</td>\n",
       "      <td>Banwa</td>\n",
       "      <td>Banwa</td>\n",
       "      <td>Banwa</td>\n",
       "      <td>...</td>\n",
       "      <td>-4.156</td>\n",
       "      <td>On 13 April 2022, presumed JNIM militants atta...</td>\n",
       "      <td>Western Africa</td>\n",
       "      <td>AIB (Burkina Faso); Infowakat; MinuteBf; Undis...</td>\n",
       "      <td>Local partner-Other</td>\n",
       "      <td>Armed clash</td>\n",
       "      <td></td>\n",
       "      <td>1</td>\n",
       "      <td>1702343240</td>\n",
       "      <td>2022</td>\n",
       "    </tr>\n",
       "  </tbody>\n",
       "</table>\n",
       "<p>5 rows × 40 columns</p>\n",
       "</div>"
      ],
      "text/plain": [
       "                                         actor1  \\\n",
       "0  JNIM: Group for Support of Islam and Muslims   \n",
       "1  JNIM: Group for Support of Islam and Muslims   \n",
       "2  JNIM: Group for Support of Islam and Muslims   \n",
       "3  JNIM: Group for Support of Islam and Muslims   \n",
       "4  JNIM: Group for Support of Islam and Muslims   \n",
       "\n",
       "                                              actor2    admin0Name admin0Pcod  \\\n",
       "0        Military Forces of Burkina Faso (2015-2022)  Burkina Faso         BF   \n",
       "1              Police Forces of Burkina Faso (2022-)  Burkina Faso         BF   \n",
       "2              Police Forces of Burkina Faso (2022-)  Burkina Faso         BF   \n",
       "3  Police Forces of Burkina Faso (2022-) Gendarmerie  Burkina Faso         BF   \n",
       "4              Police Forces of Burkina Faso (2022-)  Burkina Faso         BF   \n",
       "\n",
       "              admin1         admin1Name admin1Pcod   admin2 admin2Na_1  \\\n",
       "0             Centre             Centre       BF13  Kadiogo    Kadiogo   \n",
       "1  Boucle du Mouhoun  Boucle du Mouhoun       BF46    Banwa      Banwa   \n",
       "2  Boucle du Mouhoun  Boucle du Mouhoun       BF46    Banwa      Banwa   \n",
       "3  Boucle du Mouhoun  Boucle du Mouhoun       BF46    Banwa      Banwa   \n",
       "4  Boucle du Mouhoun  Boucle du Mouhoun       BF46    Banwa      Banwa   \n",
       "\n",
       "  admin2Name  ... longitude  \\\n",
       "0    Kadiogo  ...    -1.525   \n",
       "1      Banwa  ...    -4.338   \n",
       "2      Banwa  ...    -4.090   \n",
       "3      Banwa  ...    -4.090   \n",
       "4      Banwa  ...    -4.156   \n",
       "\n",
       "                                               notes          region  \\\n",
       "0  High-profile attack in Ouagadougou simultaneou...  Western Africa   \n",
       "1  On 26 August 2022, presumed JNIM militants ble...  Western Africa   \n",
       "2  On 22 April 2022, presumed JNIM militants simu...  Western Africa   \n",
       "3  On 11 August 2022, presumed JNIM militants att...  Western Africa   \n",
       "4  On 13 April 2022, presumed JNIM militants atta...  Western Africa   \n",
       "\n",
       "                                              source           source_sca  \\\n",
       "0                                   AFP; Africa News        International   \n",
       "1  AIB (Burkina Faso); Facebook; Radio Omega; Sah...   New media-National   \n",
       "2  AIB (Burkina Faso); Le Faso; Sahel Security Al...   New media-National   \n",
       "3  AIB (Burkina Faso); Sahel Security Alerts; Und...  Local partner-Other   \n",
       "4  AIB (Burkina Faso); Infowakat; MinuteBf; Undis...  Local partner-Other   \n",
       "\n",
       "                      sub_event_ tags time_preci   timestamp  year  \n",
       "0                    Armed clash               1  1675727770  2018  \n",
       "1  Remote explosive/landmine/IED               1  1702343220  2022  \n",
       "2                    Armed clash               1  1702343240  2022  \n",
       "3                    Armed clash               1  1702343230  2022  \n",
       "4                    Armed clash               1  1702343240  2022  \n",
       "\n",
       "[5 rows x 40 columns]"
      ]
     },
     "execution_count": 331,
     "metadata": {},
     "output_type": "execute_result"
    }
   ],
   "source": [
    "#Let's check the first five rows of the data\n",
    "df_events_diffusion.head()\n"
   ]
  },
  {
   "cell_type": "code",
   "execution_count": 295,
   "id": "e1d0a5c4",
   "metadata": {},
   "outputs": [
    {
     "data": {
      "text/html": [
       "\n",
       "            <style>\n",
       "                .geemap-dark {\n",
       "                    --jp-widgets-color: white;\n",
       "                    --jp-widgets-label-color: white;\n",
       "                    --jp-ui-font-color1: white;\n",
       "                    --jp-layout-color2: #454545;\n",
       "                    background-color: #383838;\n",
       "                }\n",
       "\n",
       "                .geemap-dark .jupyter-button {\n",
       "                    --jp-layout-color3: #383838;\n",
       "                }\n",
       "\n",
       "                .geemap-colab {\n",
       "                    background-color: var(--colab-primary-surface-color, white);\n",
       "                }\n",
       "\n",
       "                .geemap-colab .jupyter-button {\n",
       "                    --jp-layout-color3: var(--colab-primary-surface-color, white);\n",
       "                }\n",
       "            </style>\n",
       "            "
      ],
      "text/plain": [
       "<IPython.core.display.HTML object>"
      ]
     },
     "metadata": {},
     "output_type": "display_data"
    },
    {
     "name": "stdout",
     "output_type": "stream",
     "text": [
      "<class 'pandas.core.frame.DataFrame'>\n",
      "RangeIndex: 15237 entries, 0 to 15236\n",
      "Data columns (total 40 columns):\n",
      " #   Column      Non-Null Count  Dtype  \n",
      "---  ------      --------------  -----  \n",
      " 0   actor1      15237 non-null  object \n",
      " 1   actor2      15237 non-null  object \n",
      " 2   admin0Name  15237 non-null  object \n",
      " 3   admin0Pcod  15237 non-null  object \n",
      " 4   admin1      15237 non-null  object \n",
      " 5   admin1Name  15237 non-null  object \n",
      " 6   admin1Pcod  15237 non-null  object \n",
      " 7   admin2      15237 non-null  object \n",
      " 8   admin2Na_1  15237 non-null  object \n",
      " 9   admin2Name  15237 non-null  object \n",
      " 10  admin2Pc_1  15237 non-null  object \n",
      " 11  admin2Pcod  15237 non-null  object \n",
      " 12  admin3      15237 non-null  object \n",
      " 13  assoc_ac_1  15237 non-null  object \n",
      " 14  assoc_acto  15237 non-null  object \n",
      " 15  civilian_t  15237 non-null  object \n",
      " 16  country     15237 non-null  object \n",
      " 17  disorder_t  15237 non-null  object \n",
      " 18  event_date  15237 non-null  int64  \n",
      " 19  event_id_c  15237 non-null  object \n",
      " 20  event_type  15237 non-null  object \n",
      " 21  fatalities  15237 non-null  int64  \n",
      " 22  flag        15237 non-null  int64  \n",
      " 23  geo_precis  15237 non-null  int64  \n",
      " 24  inter1      15237 non-null  int64  \n",
      " 25  inter2      15237 non-null  int64  \n",
      " 26  interactio  15237 non-null  int64  \n",
      " 27  iso         15237 non-null  int64  \n",
      " 28  latitude    15237 non-null  float64\n",
      " 29  location    15237 non-null  object \n",
      " 30  longitude   15237 non-null  float64\n",
      " 31  notes       15237 non-null  object \n",
      " 32  region      15237 non-null  object \n",
      " 33  source      15237 non-null  object \n",
      " 34  source_sca  15237 non-null  object \n",
      " 35  sub_event_  15237 non-null  object \n",
      " 36  tags        15237 non-null  object \n",
      " 37  time_preci  15237 non-null  int64  \n",
      " 38  timestamp   15237 non-null  int64  \n",
      " 39  year        15237 non-null  int64  \n",
      "dtypes: float64(2), int64(11), object(27)\n",
      "memory usage: 4.7+ MB\n"
     ]
    }
   ],
   "source": [
    "# Checking the info of the dataset\n",
    "df_events_diffusion.info()\n"
   ]
  },
  {
   "cell_type": "code",
   "execution_count": 332,
   "id": "43141660",
   "metadata": {},
   "outputs": [
    {
     "data": {
      "text/html": [
       "\n",
       "            <style>\n",
       "                .geemap-dark {\n",
       "                    --jp-widgets-color: white;\n",
       "                    --jp-widgets-label-color: white;\n",
       "                    --jp-ui-font-color1: white;\n",
       "                    --jp-layout-color2: #454545;\n",
       "                    background-color: #383838;\n",
       "                }\n",
       "\n",
       "                .geemap-dark .jupyter-button {\n",
       "                    --jp-layout-color3: #383838;\n",
       "                }\n",
       "\n",
       "                .geemap-colab {\n",
       "                    background-color: var(--colab-primary-surface-color, white);\n",
       "                }\n",
       "\n",
       "                .geemap-colab .jupyter-button {\n",
       "                    --jp-layout-color3: var(--colab-primary-surface-color, white);\n",
       "                }\n",
       "            </style>\n",
       "            "
      ],
      "text/plain": [
       "<IPython.core.display.HTML object>"
      ]
     },
     "metadata": {},
     "output_type": "display_data"
    },
    {
     "data": {
      "text/plain": [
       "<Axes: xlabel='admin0Pcod'>"
      ]
     },
     "execution_count": 332,
     "metadata": {},
     "output_type": "execute_result"
    },
    {
     "data": {
      "image/png": "[encoded data removed]",
      "text/plain": [
       "<Figure size 2000x800 with 1 Axes>"
      ]
     },
     "metadata": {},
     "output_type": "display_data"
    }
   ],
   "source": [
    "\n",
    "# Plotting countplot for admin0Pcod (G5 Sahel Countries)\n",
    "df_events_diffusion.admin0Pcod.value_counts().sort_values(ascending=False).plot(kind='bar' ,figsize=(5,5))\n"
   ]
  },
  {
   "cell_type": "code",
   "execution_count": 333,
   "id": "91189704",
   "metadata": {},
   "outputs": [
    {
     "data": {
      "text/html": [
       "\n",
       "            <style>\n",
       "                .geemap-dark {\n",
       "                    --jp-widgets-color: white;\n",
       "                    --jp-widgets-label-color: white;\n",
       "                    --jp-ui-font-color1: white;\n",
       "                    --jp-layout-color2: #454545;\n",
       "                    background-color: #383838;\n",
       "                }\n",
       "\n",
       "                .geemap-dark .jupyter-button {\n",
       "                    --jp-layout-color3: #383838;\n",
       "                }\n",
       "\n",
       "                .geemap-colab {\n",
       "                    background-color: var(--colab-primary-surface-color, white);\n",
       "                }\n",
       "\n",
       "                .geemap-colab .jupyter-button {\n",
       "                    --jp-layout-color3: var(--colab-primary-surface-color, white);\n",
       "                }\n",
       "            </style>\n",
       "            "
      ],
      "text/plain": [
       "<IPython.core.display.HTML object>"
      ]
     },
     "metadata": {},
     "output_type": "display_data"
    },
    {
     "data": {
      "text/plain": [
       "admin0Pcod\n",
       "BF    6233\n",
       "ML    6149\n",
       "NE    2141\n",
       "TD     673\n",
       "MR      41\n",
       "Name: count, dtype: int64"
      ]
     },
     "execution_count": 333,
     "metadata": {},
     "output_type": "execute_result"
    }
   ],
   "source": [
    "df_events_diffusion.admin0Pcod.value_counts()\n"
   ]
  },
  {
   "cell_type": "code",
   "execution_count": 300,
   "id": "5c45758d",
   "metadata": {},
   "outputs": [
    {
     "data": {
      "text/html": [
       "\n",
       "            <style>\n",
       "                .geemap-dark {\n",
       "                    --jp-widgets-color: white;\n",
       "                    --jp-widgets-label-color: white;\n",
       "                    --jp-ui-font-color1: white;\n",
       "                    --jp-layout-color2: #454545;\n",
       "                    background-color: #383838;\n",
       "                }\n",
       "\n",
       "                .geemap-dark .jupyter-button {\n",
       "                    --jp-layout-color3: #383838;\n",
       "                }\n",
       "\n",
       "                .geemap-colab {\n",
       "                    background-color: var(--colab-primary-surface-color, white);\n",
       "                }\n",
       "\n",
       "                .geemap-colab .jupyter-button {\n",
       "                    --jp-layout-color3: var(--colab-primary-surface-color, white);\n",
       "                }\n",
       "            </style>\n",
       "            "
      ],
      "text/plain": [
       "<IPython.core.display.HTML object>"
      ]
     },
     "metadata": {},
     "output_type": "display_data"
    },
    {
     "data": {
      "image/png": "[encoded data removed]",
      "text/plain": [
       "<Figure size 640x480 with 1 Axes>"
      ]
     },
     "metadata": {},
     "output_type": "display_data"
    }
   ],
   "source": [
    "\n",
    "plt.pie(df_events_diffusion.admin0Pcod.value_counts(), autopct = '%.1f%%', radius = 1.2, labels = ['BF', 'ML','NE','TD', 'MR'],\n",
    "        explode = [0.5,0,0,0,0])\n",
    "\n",
    "# display the plot\n",
    "plt.show()"
   ]
  },
  {
   "cell_type": "code",
   "execution_count": 31,
   "id": "052aa2d1",
   "metadata": {},
   "outputs": [
    {
     "data": {
      "text/html": [
       "\n",
       "            <style>\n",
       "                .geemap-dark {\n",
       "                    --jp-widgets-color: white;\n",
       "                    --jp-widgets-label-color: white;\n",
       "                    --jp-ui-font-color1: white;\n",
       "                    --jp-layout-color2: #454545;\n",
       "                    background-color: #383838;\n",
       "                }\n",
       "\n",
       "                .geemap-dark .jupyter-button {\n",
       "                    --jp-layout-color3: #383838;\n",
       "                }\n",
       "\n",
       "                .geemap-colab {\n",
       "                    background-color: var(--colab-primary-surface-color, white);\n",
       "                }\n",
       "\n",
       "                .geemap-colab .jupyter-button {\n",
       "                    --jp-layout-color3: var(--colab-primary-surface-color, white);\n",
       "                }\n",
       "            </style>\n",
       "            "
      ],
      "text/plain": [
       "<IPython.core.display.HTML object>"
      ]
     },
     "metadata": {},
     "output_type": "display_data"
    },
    {
     "data": {
      "application/vnd.jupyter.widget-view+json": {
       "model_id": "f48b493089b444e9ab77b638336dd558",
       "version_major": 2,
       "version_minor": 0
      },
      "text/plain": [
       "Map(bottom=3995.0, center=[17.369569793340958, 3.4630404598133353], controls=(WidgetControl(options=['position…"
      ]
     },
     "execution_count": 31,
     "metadata": {},
     "output_type": "execute_result"
    }
   ],
   "source": [
    "# Use style() to visualize the points\n",
    "eventsStyled = {\n",
    "    'color': 'red',\n",
    "    'pointSize': 1,\n",
    "    'pointShape': 'triangle',\n",
    "    'width': 1,\n",
    "}\n",
    "\n",
    "Map.addLayer(events_diffusion.style(**eventsStyled), {}, \"conflict events from 2018 to 2023\")\n",
    "Map"
   ]
  },
  {
   "cell_type": "code",
   "execution_count": 33,
   "id": "7aae947b",
   "metadata": {},
   "outputs": [
    {
     "data": {
      "text/html": [
       "\n",
       "            <style>\n",
       "                .geemap-dark {\n",
       "                    --jp-widgets-color: white;\n",
       "                    --jp-widgets-label-color: white;\n",
       "                    --jp-ui-font-color1: white;\n",
       "                    --jp-layout-color2: #454545;\n",
       "                    background-color: #383838;\n",
       "                }\n",
       "\n",
       "                .geemap-dark .jupyter-button {\n",
       "                    --jp-layout-color3: #383838;\n",
       "                }\n",
       "\n",
       "                .geemap-colab {\n",
       "                    background-color: var(--colab-primary-surface-color, white);\n",
       "                }\n",
       "\n",
       "                .geemap-colab .jupyter-button {\n",
       "                    --jp-layout-color3: var(--colab-primary-surface-color, white);\n",
       "                }\n",
       "            </style>\n",
       "            "
      ],
      "text/plain": [
       "<IPython.core.display.HTML object>"
      ]
     },
     "metadata": {},
     "output_type": "display_data"
    },
    {
     "data": {
      "application/vnd.jupyter.widget-view+json": {
       "model_id": "f48b493089b444e9ab77b638336dd558",
       "version_major": 2,
       "version_minor": 0
      },
      "text/plain": [
       "Map(bottom=3995.0, center=[17.369569793340958, 3.4630404598133353], controls=(WidgetControl(options=['position…"
      ]
     },
     "execution_count": 33,
     "metadata": {},
     "output_type": "execute_result"
    }
   ],
   "source": [
    "# Add Population Sahel layer\n",
    "viz_pop = { # Set visualization parameters\n",
    "  'min': 0.0,\n",
    "  'max': 4270.0,\n",
    "  'palette': ['24126c', '1fff4f', 'd4ff50'],\n",
    "}\n",
    "Map.addLayer(pop_sahel,viz_pop,'Population Sahel', True, 1)\n",
    "\n",
    "Map"
   ]
  },
  {
   "cell_type": "markdown",
   "id": "343fb41f",
   "metadata": {},
   "source": [
    "-----------------\n",
    "## **Start conflict diffusion indicator computation**\n",
    "-----------------\n"
   ]
  },
  {
   "cell_type": "markdown",
   "id": "1cfdce1d",
   "metadata": {},
   "source": [
    "-----------------\n",
    "### **Set parameters**\n",
    "-----------------"
   ]
  },
  {
   "cell_type": "code",
   "execution_count": 34,
   "id": "ec8ab8a2",
   "metadata": {},
   "outputs": [
    {
     "data": {
      "text/html": [
       "\n",
       "            <style>\n",
       "                .geemap-dark {\n",
       "                    --jp-widgets-color: white;\n",
       "                    --jp-widgets-label-color: white;\n",
       "                    --jp-ui-font-color1: white;\n",
       "                    --jp-layout-color2: #454545;\n",
       "                    background-color: #383838;\n",
       "                }\n",
       "\n",
       "                .geemap-dark .jupyter-button {\n",
       "                    --jp-layout-color3: #383838;\n",
       "                }\n",
       "\n",
       "                .geemap-colab {\n",
       "                    background-color: var(--colab-primary-surface-color, white);\n",
       "                }\n",
       "\n",
       "                .geemap-colab .jupyter-button {\n",
       "                    --jp-layout-color3: var(--colab-primary-surface-color, white);\n",
       "                }\n",
       "            </style>\n",
       "            "
      ],
      "text/plain": [
       "<IPython.core.display.HTML object>"
      ]
     },
     "metadata": {},
     "output_type": "display_data"
    }
   ],
   "source": [
    "\n",
    "# year of event\n",
    "year = 2018\n",
    "\n",
    "# inhabitants treshold\n",
    "pop_seuil = 50\n",
    "\n",
    "# events treshold\n",
    "nb_events = 3"
   ]
  },
  {
   "cell_type": "markdown",
   "id": "90885232",
   "metadata": {},
   "source": [
    "\n",
    "-----------------\n",
    "### **1. Create a spatial grid of 10km-by-10km (Population Sahel)**\n",
    "-----------------\n"
   ]
  },
  {
   "cell_type": "code",
   "execution_count": 35,
   "id": "fafb0dcd",
   "metadata": {},
   "outputs": [
    {
     "data": {
      "text/html": [
       "\n",
       "            <style>\n",
       "                .geemap-dark {\n",
       "                    --jp-widgets-color: white;\n",
       "                    --jp-widgets-label-color: white;\n",
       "                    --jp-ui-font-color1: white;\n",
       "                    --jp-layout-color2: #454545;\n",
       "                    background-color: #383838;\n",
       "                }\n",
       "\n",
       "                .geemap-dark .jupyter-button {\n",
       "                    --jp-layout-color3: #383838;\n",
       "                }\n",
       "\n",
       "                .geemap-colab {\n",
       "                    background-color: var(--colab-primary-surface-color, white);\n",
       "                }\n",
       "\n",
       "                .geemap-colab .jupyter-button {\n",
       "                    --jp-layout-color3: var(--colab-primary-surface-color, white);\n",
       "                }\n",
       "            </style>\n",
       "            "
      ],
      "text/plain": [
       "<IPython.core.display.HTML object>"
      ]
     },
     "metadata": {},
     "output_type": "display_data"
    }
   ],
   "source": [
    "# ****** Aggregation to 10km ****** #\n",
    "country_pop = pop_sahel\n",
    "\n",
    "# Get the projection at required scale\n",
    "projectionAt1k = projection.atScale(1000)\n",
    "projectionAt10k = projection.atScale(10000)\n",
    "\n",
    "# Step1: 100m to 1000m\n",
    "country_popAt1k = country_pop \\\n",
    "  .reduceResolution(**{\n",
    "    'reducer': ee.Reducer.sum().unweighted(),\n",
    "    'maxPixels': 1024\n",
    "  }) \\\n",
    "  .reproject(**{\n",
    "    'crs': projectionAt1k\n",
    "  })\n",
    "# Step2: 1000m to 10000m\n",
    "country_popAt10k = country_popAt1k \\\n",
    "  .reduceResolution(**{\n",
    "    'reducer': ee.Reducer.sum().unweighted(),\n",
    "    'maxPixels': 1024\n",
    "  }) \\\n",
    "  .reproject(**{\n",
    "    'crs': projectionAt10k\n",
    "  })"
   ]
  },
  {
   "cell_type": "code",
   "execution_count": 36,
   "id": "fcdeabcb",
   "metadata": {},
   "outputs": [
    {
     "data": {
      "text/html": [
       "\n",
       "            <style>\n",
       "                .geemap-dark {\n",
       "                    --jp-widgets-color: white;\n",
       "                    --jp-widgets-label-color: white;\n",
       "                    --jp-ui-font-color1: white;\n",
       "                    --jp-layout-color2: #454545;\n",
       "                    background-color: #383838;\n",
       "                }\n",
       "\n",
       "                .geemap-dark .jupyter-button {\n",
       "                    --jp-layout-color3: #383838;\n",
       "                }\n",
       "\n",
       "                .geemap-colab {\n",
       "                    background-color: var(--colab-primary-surface-color, white);\n",
       "                }\n",
       "\n",
       "                .geemap-colab .jupyter-button {\n",
       "                    --jp-layout-color3: var(--colab-primary-surface-color, white);\n",
       "                }\n",
       "            </style>\n",
       "            "
      ],
      "text/plain": [
       "<IPython.core.display.HTML object>"
      ]
     },
     "metadata": {},
     "output_type": "display_data"
    },
    {
     "data": {
      "text/plain": [
       "{'max': {'b1': 67297.87694835663},\n",
       " 'mean': {'b1': 657.2242802944393},\n",
       " 'min': {'b1': 0},\n",
       " 'std': {'b1': 637.830157259124},\n",
       " 'sum': {'b1': 37681923.182533026}}"
      ]
     },
     "execution_count": 36,
     "metadata": {},
     "output_type": "execute_result"
    }
   ],
   "source": [
    "country_popAt1k_stats = geemap.image_stats(country_popAt1k, scale=1000)\n",
    "country_popAt1k_stats.getInfo()"
   ]
  },
  {
   "cell_type": "code",
   "execution_count": 226,
   "id": "48277564",
   "metadata": {},
   "outputs": [
    {
     "data": {
      "text/html": [
       "\n",
       "            <style>\n",
       "                .geemap-dark {\n",
       "                    --jp-widgets-color: white;\n",
       "                    --jp-widgets-label-color: white;\n",
       "                    --jp-ui-font-color1: white;\n",
       "                    --jp-layout-color2: #454545;\n",
       "                    background-color: #383838;\n",
       "                }\n",
       "\n",
       "                .geemap-dark .jupyter-button {\n",
       "                    --jp-layout-color3: #383838;\n",
       "                }\n",
       "\n",
       "                .geemap-colab {\n",
       "                    background-color: var(--colab-primary-surface-color, white);\n",
       "                }\n",
       "\n",
       "                .geemap-colab .jupyter-button {\n",
       "                    --jp-layout-color3: var(--colab-primary-surface-color, white);\n",
       "                }\n",
       "            </style>\n",
       "            "
      ],
      "text/plain": [
       "<IPython.core.display.HTML object>"
      ]
     },
     "metadata": {},
     "output_type": "display_data"
    }
   ],
   "source": [
    "##country_popAt10k_stats = geemap.image_stats(country_popAt10k, scale=10000)\n",
    "##country_popAt10k_stats.getInfo()"
   ]
  },
  {
   "cell_type": "code",
   "execution_count": 37,
   "id": "abf5cb1e",
   "metadata": {},
   "outputs": [
    {
     "data": {
      "text/html": [
       "\n",
       "            <style>\n",
       "                .geemap-dark {\n",
       "                    --jp-widgets-color: white;\n",
       "                    --jp-widgets-label-color: white;\n",
       "                    --jp-ui-font-color1: white;\n",
       "                    --jp-layout-color2: #454545;\n",
       "                    background-color: #383838;\n",
       "                }\n",
       "\n",
       "                .geemap-dark .jupyter-button {\n",
       "                    --jp-layout-color3: #383838;\n",
       "                }\n",
       "\n",
       "                .geemap-colab {\n",
       "                    background-color: var(--colab-primary-surface-color, white);\n",
       "                }\n",
       "\n",
       "                .geemap-colab .jupyter-button {\n",
       "                    --jp-layout-color3: var(--colab-primary-surface-color, white);\n",
       "                }\n",
       "            </style>\n",
       "            "
      ],
      "text/plain": [
       "<IPython.core.display.HTML object>"
      ]
     },
     "metadata": {},
     "output_type": "display_data"
    },
    {
     "data": {
      "application/vnd.jupyter.widget-view+json": {
       "model_id": "f48b493089b444e9ab77b638336dd558",
       "version_major": 2,
       "version_minor": 0
      },
      "text/plain": [
       "Map(bottom=3995.0, center=[17.369569793340958, 3.4630404598133353], controls=(WidgetControl(options=['position…"
      ]
     },
     "execution_count": 37,
     "metadata": {},
     "output_type": "execute_result"
    }
   ],
   "source": [
    "Map.addLayer(country_popAt1k.clip(sahel_adm2), viz_pop, 'Population Sahel 1km', 1)\n",
    "Map.addLayer(country_popAt10k.clip(sahel_adm2), viz_pop, 'Population Sahel 10km', 1)\n",
    "Map"
   ]
  },
  {
   "cell_type": "markdown",
   "id": "c1fef0e9",
   "metadata": {},
   "source": [
    "\n",
    "\n",
    "-----------------\n",
    "### **2. Remove grid cells with less than (pop_seuil) inhabitants using population data (pop_sahel)**\n",
    "-----------------\n"
   ]
  },
  {
   "cell_type": "code",
   "execution_count": 38,
   "id": "de2a1f2f",
   "metadata": {},
   "outputs": [
    {
     "data": {
      "text/html": [
       "\n",
       "            <style>\n",
       "                .geemap-dark {\n",
       "                    --jp-widgets-color: white;\n",
       "                    --jp-widgets-label-color: white;\n",
       "                    --jp-ui-font-color1: white;\n",
       "                    --jp-layout-color2: #454545;\n",
       "                    background-color: #383838;\n",
       "                }\n",
       "\n",
       "                .geemap-dark .jupyter-button {\n",
       "                    --jp-layout-color3: #383838;\n",
       "                }\n",
       "\n",
       "                .geemap-colab {\n",
       "                    background-color: var(--colab-primary-surface-color, white);\n",
       "                }\n",
       "\n",
       "                .geemap-colab .jupyter-button {\n",
       "                    --jp-layout-color3: var(--colab-primary-surface-color, white);\n",
       "                }\n",
       "            </style>\n",
       "            "
      ],
      "text/plain": [
       "<IPython.core.display.HTML object>"
      ]
     },
     "metadata": {},
     "output_type": "display_data"
    }
   ],
   "source": [
    "country_popAt10k_100 = country_popAt10k.gte(pop_seuil)\n",
    "country_popAt10k_100_viz = country_popAt10k_100.updateMask(country_popAt10k_100.neq(0))\n",
    "bin = {'min': 0, 'max': 1, 'palette': ['red', 'green']}\n",
    "Map.addLayer(country_popAt10k_100_viz, bin, 'grid cells with more than (pop_seuil) inhabitants in 10km' , 1)\n"
   ]
  },
  {
   "cell_type": "code",
   "execution_count": 39,
   "id": "f0e79395",
   "metadata": {},
   "outputs": [
    {
     "data": {
      "text/html": [
       "\n",
       "            <style>\n",
       "                .geemap-dark {\n",
       "                    --jp-widgets-color: white;\n",
       "                    --jp-widgets-label-color: white;\n",
       "                    --jp-ui-font-color1: white;\n",
       "                    --jp-layout-color2: #454545;\n",
       "                    background-color: #383838;\n",
       "                }\n",
       "\n",
       "                .geemap-dark .jupyter-button {\n",
       "                    --jp-layout-color3: #383838;\n",
       "                }\n",
       "\n",
       "                .geemap-colab {\n",
       "                    background-color: var(--colab-primary-surface-color, white);\n",
       "                }\n",
       "\n",
       "                .geemap-colab .jupyter-button {\n",
       "                    --jp-layout-color3: var(--colab-primary-surface-color, white);\n",
       "                }\n",
       "            </style>\n",
       "            "
      ],
      "text/plain": [
       "<IPython.core.display.HTML object>"
      ]
     },
     "metadata": {},
     "output_type": "display_data"
    }
   ],
   "source": [
    "country_popAt10k_100 = country_popAt10k_100_viz.unmask(0).rename('grid_cells_gte_threshold_inhabitants')"
   ]
  },
  {
   "cell_type": "code",
   "execution_count": 306,
   "id": "90dd7caa",
   "metadata": {},
   "outputs": [
    {
     "data": {
      "text/html": [
       "\n",
       "            <style>\n",
       "                .geemap-dark {\n",
       "                    --jp-widgets-color: white;\n",
       "                    --jp-widgets-label-color: white;\n",
       "                    --jp-ui-font-color1: white;\n",
       "                    --jp-layout-color2: #454545;\n",
       "                    background-color: #383838;\n",
       "                }\n",
       "\n",
       "                .geemap-dark .jupyter-button {\n",
       "                    --jp-layout-color3: #383838;\n",
       "                }\n",
       "\n",
       "                .geemap-colab {\n",
       "                    background-color: var(--colab-primary-surface-color, white);\n",
       "                }\n",
       "\n",
       "                .geemap-colab .jupyter-button {\n",
       "                    --jp-layout-color3: var(--colab-primary-surface-color, white);\n",
       "                }\n",
       "            </style>\n",
       "            "
      ],
      "text/plain": [
       "<IPython.core.display.HTML object>"
      ]
     },
     "metadata": {},
     "output_type": "display_data"
    }
   ],
   "source": []
  },
  {
   "cell_type": "markdown",
   "id": "1303db4b",
   "metadata": {},
   "source": [
    "\n",
    "-----------------\n",
    "### **3. Identify grid cells with at least (nb_events) conflict events per year using events_diffusion layer**\n",
    "-----------------\n"
   ]
  },
  {
   "cell_type": "markdown",
   "id": "08dc6ae1",
   "metadata": {},
   "source": [
    "-----------------\n",
    "#### **3.1 Number of Conflict events for the specific year**\n",
    "-----------------\n"
   ]
  },
  {
   "cell_type": "code",
   "execution_count": 40,
   "id": "581dfd22",
   "metadata": {},
   "outputs": [
    {
     "data": {
      "text/html": [
       "\n",
       "            <style>\n",
       "                .geemap-dark {\n",
       "                    --jp-widgets-color: white;\n",
       "                    --jp-widgets-label-color: white;\n",
       "                    --jp-ui-font-color1: white;\n",
       "                    --jp-layout-color2: #454545;\n",
       "                    background-color: #383838;\n",
       "                }\n",
       "\n",
       "                .geemap-dark .jupyter-button {\n",
       "                    --jp-layout-color3: #383838;\n",
       "                }\n",
       "\n",
       "                .geemap-colab {\n",
       "                    background-color: var(--colab-primary-surface-color, white);\n",
       "                }\n",
       "\n",
       "                .geemap-colab .jupyter-button {\n",
       "                    --jp-layout-color3: var(--colab-primary-surface-color, white);\n",
       "                }\n",
       "            </style>\n",
       "            "
      ],
      "text/plain": [
       "<IPython.core.display.HTML object>"
      ]
     },
     "metadata": {},
     "output_type": "display_data"
    }
   ],
   "source": [
    "events_diffusion_country_year = events_diffusion.filter(ee.Filter.eq('year', year))"
   ]
  },
  {
   "cell_type": "markdown",
   "id": "8feca8e7",
   "metadata": {},
   "source": [
    "\n",
    "-----------------\n",
    "#### **3.2 Vizualise Conflict event layer**\n",
    "-----------------"
   ]
  },
  {
   "cell_type": "code",
   "execution_count": 41,
   "id": "e8821aac",
   "metadata": {},
   "outputs": [
    {
     "data": {
      "text/html": [
       "\n",
       "            <style>\n",
       "                .geemap-dark {\n",
       "                    --jp-widgets-color: white;\n",
       "                    --jp-widgets-label-color: white;\n",
       "                    --jp-ui-font-color1: white;\n",
       "                    --jp-layout-color2: #454545;\n",
       "                    background-color: #383838;\n",
       "                }\n",
       "\n",
       "                .geemap-dark .jupyter-button {\n",
       "                    --jp-layout-color3: #383838;\n",
       "                }\n",
       "\n",
       "                .geemap-colab {\n",
       "                    background-color: var(--colab-primary-surface-color, white);\n",
       "                }\n",
       "\n",
       "                .geemap-colab .jupyter-button {\n",
       "                    --jp-layout-color3: var(--colab-primary-surface-color, white);\n",
       "                }\n",
       "            </style>\n",
       "            "
      ],
      "text/plain": [
       "<IPython.core.display.HTML object>"
      ]
     },
     "metadata": {},
     "output_type": "display_data"
    },
    {
     "data": {
      "application/vnd.jupyter.widget-view+json": {
       "model_id": "f48b493089b444e9ab77b638336dd558",
       "version_major": 2,
       "version_minor": 0
      },
      "text/plain": [
       "Map(bottom=3955.0, center=[19.02057711096681, 6.130371093750001], controls=(WidgetControl(options=['position',…"
      ]
     },
     "execution_count": 41,
     "metadata": {},
     "output_type": "execute_result"
    }
   ],
   "source": [
    "\n",
    "Map.addLayer(events_diffusion_country_year.style(**eventsStyled), {}, \"conflict events\")\n",
    "Map"
   ]
  },
  {
   "cell_type": "markdown",
   "id": "c29955ba",
   "metadata": {},
   "source": [
    "\n",
    "-----------------\n",
    "#### **3.3 Create image from conflict events layer**\n",
    "-----------------"
   ]
  },
  {
   "cell_type": "code",
   "execution_count": 42,
   "id": "3d47c8db",
   "metadata": {},
   "outputs": [
    {
     "data": {
      "text/html": [
       "\n",
       "            <style>\n",
       "                .geemap-dark {\n",
       "                    --jp-widgets-color: white;\n",
       "                    --jp-widgets-label-color: white;\n",
       "                    --jp-ui-font-color1: white;\n",
       "                    --jp-layout-color2: #454545;\n",
       "                    background-color: #383838;\n",
       "                }\n",
       "\n",
       "                .geemap-dark .jupyter-button {\n",
       "                    --jp-layout-color3: #383838;\n",
       "                }\n",
       "\n",
       "                .geemap-colab {\n",
       "                    background-color: var(--colab-primary-surface-color, white);\n",
       "                }\n",
       "\n",
       "                .geemap-colab .jupyter-button {\n",
       "                    --jp-layout-color3: var(--colab-primary-surface-color, white);\n",
       "                }\n",
       "            </style>\n",
       "            "
      ],
      "text/plain": [
       "<IPython.core.display.HTML object>"
      ]
     },
     "metadata": {},
     "output_type": "display_data"
    }
   ],
   "source": [
    "#/ add dummy property to use for reduceToImage\n",
    "\n",
    "def func_dlg(feature):\n",
    "  return feature.set('dummy',1)\n",
    "\n",
    "if_events = ee.FeatureCollection(events_diffusion_country_year).map(func_dlg)\n"
   ]
  },
  {
   "cell_type": "code",
   "execution_count": 43,
   "id": "4a72a8c6",
   "metadata": {},
   "outputs": [
    {
     "data": {
      "text/html": [
       "\n",
       "            <style>\n",
       "                .geemap-dark {\n",
       "                    --jp-widgets-color: white;\n",
       "                    --jp-widgets-label-color: white;\n",
       "                    --jp-ui-font-color1: white;\n",
       "                    --jp-layout-color2: #454545;\n",
       "                    background-color: #383838;\n",
       "                }\n",
       "\n",
       "                .geemap-dark .jupyter-button {\n",
       "                    --jp-layout-color3: #383838;\n",
       "                }\n",
       "\n",
       "                .geemap-colab {\n",
       "                    background-color: var(--colab-primary-surface-color, white);\n",
       "                }\n",
       "\n",
       "                .geemap-colab .jupyter-button {\n",
       "                    --jp-layout-color3: var(--colab-primary-surface-color, white);\n",
       "                }\n",
       "            </style>\n",
       "            "
      ],
      "text/plain": [
       "<IPython.core.display.HTML object>"
      ]
     },
     "metadata": {},
     "output_type": "display_data"
    }
   ],
   "source": [
    "eventsImg = if_events.reduceToImage(['dummy'], ee.Reducer.sum().unweighted()) \\\n",
    "  .unmask(0) \\\n",
    "  .reproject('epsg:4326', None, 10000) \\\n",
    "  .clip(geometry)\n"
   ]
  },
  {
   "cell_type": "code",
   "execution_count": 44,
   "id": "4649f836",
   "metadata": {},
   "outputs": [
    {
     "data": {
      "text/html": [
       "\n",
       "            <style>\n",
       "                .geemap-dark {\n",
       "                    --jp-widgets-color: white;\n",
       "                    --jp-widgets-label-color: white;\n",
       "                    --jp-ui-font-color1: white;\n",
       "                    --jp-layout-color2: #454545;\n",
       "                    background-color: #383838;\n",
       "                }\n",
       "\n",
       "                .geemap-dark .jupyter-button {\n",
       "                    --jp-layout-color3: #383838;\n",
       "                }\n",
       "\n",
       "                .geemap-colab {\n",
       "                    background-color: var(--colab-primary-surface-color, white);\n",
       "                }\n",
       "\n",
       "                .geemap-colab .jupyter-button {\n",
       "                    --jp-layout-color3: var(--colab-primary-surface-color, white);\n",
       "                }\n",
       "            </style>\n",
       "            "
      ],
      "text/plain": [
       "<IPython.core.display.HTML object>"
      ]
     },
     "metadata": {},
     "output_type": "display_data"
    },
    {
     "data": {
      "text/plain": [
       "{'max': {'sum': 18},\n",
       " 'mean': {'sum': 0.0067928044759913},\n",
       " 'min': {'sum': 0},\n",
       " 'std': {'sum': 0.1670179005464115},\n",
       " 'sum': {'sum': 990}}"
      ]
     },
     "execution_count": 44,
     "metadata": {},
     "output_type": "execute_result"
    }
   ],
   "source": [
    "eventsImg_stats = geemap.image_stats(eventsImg, scale=10000)\n",
    "eventsImg_stats.getInfo()"
   ]
  },
  {
   "cell_type": "code",
   "execution_count": 192,
   "id": "adfd9316",
   "metadata": {},
   "outputs": [
    {
     "data": {
      "text/html": [
       "\n",
       "            <style>\n",
       "                .geemap-dark {\n",
       "                    --jp-widgets-color: white;\n",
       "                    --jp-widgets-label-color: white;\n",
       "                    --jp-ui-font-color1: white;\n",
       "                    --jp-layout-color2: #454545;\n",
       "                    background-color: #383838;\n",
       "                }\n",
       "\n",
       "                .geemap-dark .jupyter-button {\n",
       "                    --jp-layout-color3: #383838;\n",
       "                }\n",
       "\n",
       "                .geemap-colab {\n",
       "                    background-color: var(--colab-primary-surface-color, white);\n",
       "                }\n",
       "\n",
       "                .geemap-colab .jupyter-button {\n",
       "                    --jp-layout-color3: var(--colab-primary-surface-color, white);\n",
       "                }\n",
       "            </style>\n",
       "            "
      ],
      "text/plain": [
       "<IPython.core.display.HTML object>"
      ]
     },
     "metadata": {},
     "output_type": "display_data"
    },
    {
     "name": "stdout",
     "output_type": "stream",
     "text": [
      "Computing statistics ...\n",
      "Generating URL ...\n",
      "Downloading data from https://earthengine.googleapis.com/v1/projects/earthengine-legacy/tables/03dbe698a7cb64ef3012987a85adac07-223f0b06c5ab43859feb4be14125a8bb:getFeatures\n",
      "Please wait ...\n",
      "Data downloaded to C:\\Users\\AHema\\OneDrive - CGIAR\\Desktop\\2023\\NORAD\\Political Violence in the G5 Sahel Countries\\Conflict diffusion indicator\\scripts\\events_sahel_stats.csv\n"
     ]
    }
   ],
   "source": [
    "events_sahel_stats = 'events_sahel_stats.csv'\n",
    "geemap.zonal_stats(\n",
    "    eventsImg,\n",
    "    sahel_adm2,\n",
    "    events_sahel_stats,\n",
    "    statistics_type='SUM',\n",
    "    scale=10000, \n",
    "    return_fc=False\n",
    ")"
   ]
  },
  {
   "cell_type": "code",
   "execution_count": 45,
   "id": "d51cba8a",
   "metadata": {},
   "outputs": [
    {
     "data": {
      "text/html": [
       "\n",
       "            <style>\n",
       "                .geemap-dark {\n",
       "                    --jp-widgets-color: white;\n",
       "                    --jp-widgets-label-color: white;\n",
       "                    --jp-ui-font-color1: white;\n",
       "                    --jp-layout-color2: #454545;\n",
       "                    background-color: #383838;\n",
       "                }\n",
       "\n",
       "                .geemap-dark .jupyter-button {\n",
       "                    --jp-layout-color3: #383838;\n",
       "                }\n",
       "\n",
       "                .geemap-colab {\n",
       "                    background-color: var(--colab-primary-surface-color, white);\n",
       "                }\n",
       "\n",
       "                .geemap-colab .jupyter-button {\n",
       "                    --jp-layout-color3: var(--colab-primary-surface-color, white);\n",
       "                }\n",
       "            </style>\n",
       "            "
      ],
      "text/plain": [
       "<IPython.core.display.HTML object>"
      ]
     },
     "metadata": {},
     "output_type": "display_data"
    },
    {
     "data": {
      "application/vnd.jupyter.widget-view+json": {
       "model_id": "f48b493089b444e9ab77b638336dd558",
       "version_major": 2,
       "version_minor": 0
      },
      "text/plain": [
       "Map(bottom=3955.0, center=[19.02057711096681, 6.130371093750001], controls=(WidgetControl(options=['position',…"
      ]
     },
     "execution_count": 45,
     "metadata": {},
     "output_type": "execute_result"
    }
   ],
   "source": [
    "viz_events = {\n",
    "  'min': 0.0,\n",
    "  'max': 34.0,\n",
    "  'palette': [\n",
    "    \"00ff00\",\"1A492C\",\"071EC4\",\"B5CA36\",\"729EAC\",\"8EA5DE\",\n",
    "    \"818991\",\"62A3C3\",\"CCF4FE\",\"74F0B9\",\"yellow\",\"C72144\",\n",
    "    \"56613B\",\"C14683\",\"C31C25\",\"5F6253\",\"11BF85\",\"A61B26\",\n",
    "    \"99FBC5\",\"188AAA\",\"C2D7F1\",\"B7D9D8\",\"856F96\",\"109C6B\",\n",
    "    \"2DE3F4\",\"9A777D\",\"151796\",\"C033D8\",\"510037\",\"640C21\",\n",
    "    \"31A191\",\"223AB0\",\"B692AC\",\"2DE3F4\",\n",
    "  ]\n",
    "}\n",
    "eventsImg_viz = eventsImg.updateMask(eventsImg.neq(0))\n",
    "Map.addLayer(eventsImg_viz.clip(sahel_adm2), viz_events , 'Number of Conflict event',1)\n",
    "Map"
   ]
  },
  {
   "cell_type": "markdown",
   "id": "96a15112",
   "metadata": {},
   "source": [
    "\n",
    "-----------------\n",
    "#### **3.4 Identify grid cells with at least (nb_events) conflict events**\n",
    "-----------------"
   ]
  },
  {
   "cell_type": "code",
   "execution_count": 48,
   "id": "87189c0d",
   "metadata": {
    "scrolled": true
   },
   "outputs": [
    {
     "data": {
      "text/html": [
       "\n",
       "            <style>\n",
       "                .geemap-dark {\n",
       "                    --jp-widgets-color: white;\n",
       "                    --jp-widgets-label-color: white;\n",
       "                    --jp-ui-font-color1: white;\n",
       "                    --jp-layout-color2: #454545;\n",
       "                    background-color: #383838;\n",
       "                }\n",
       "\n",
       "                .geemap-dark .jupyter-button {\n",
       "                    --jp-layout-color3: #383838;\n",
       "                }\n",
       "\n",
       "                .geemap-colab {\n",
       "                    background-color: var(--colab-primary-surface-color, white);\n",
       "                }\n",
       "\n",
       "                .geemap-colab .jupyter-button {\n",
       "                    --jp-layout-color3: var(--colab-primary-surface-color, white);\n",
       "                }\n",
       "            </style>\n",
       "            "
      ],
      "text/plain": [
       "<IPython.core.display.HTML object>"
      ]
     },
     "metadata": {},
     "output_type": "display_data"
    },
    {
     "data": {
      "application/vnd.jupyter.widget-view+json": {
       "model_id": "f48b493089b444e9ab77b638336dd558",
       "version_major": 2,
       "version_minor": 0
      },
      "text/plain": [
       "Map(bottom=2305.0, center=[3.7765593098768635, 6.987304687500001], controls=(WidgetControl(options=['position'…"
      ]
     },
     "execution_count": 48,
     "metadata": {},
     "output_type": "execute_result"
    }
   ],
   "source": [
    "grid_cells = country_popAt10k_100.multiply(eventsImg)\n",
    "grid_cells_needed = grid_cells.gte(nb_events)\n",
    "grid_cells_needed_viz = grid_cells_needed.updateMask(grid_cells_needed.neq(0))\n",
    "Map.addLayer(grid_cells_needed_viz.clip(sahel_adm2), bin, 'grid cells needed', 1)\n",
    "Map"
   ]
  },
  {
   "cell_type": "code",
   "execution_count": 49,
   "id": "e1d92bfa",
   "metadata": {},
   "outputs": [
    {
     "data": {
      "text/html": [
       "\n",
       "            <style>\n",
       "                .geemap-dark {\n",
       "                    --jp-widgets-color: white;\n",
       "                    --jp-widgets-label-color: white;\n",
       "                    --jp-ui-font-color1: white;\n",
       "                    --jp-layout-color2: #454545;\n",
       "                    background-color: #383838;\n",
       "                }\n",
       "\n",
       "                .geemap-dark .jupyter-button {\n",
       "                    --jp-layout-color3: #383838;\n",
       "                }\n",
       "\n",
       "                .geemap-colab {\n",
       "                    background-color: var(--colab-primary-surface-color, white);\n",
       "                }\n",
       "\n",
       "                .geemap-colab .jupyter-button {\n",
       "                    --jp-layout-color3: var(--colab-primary-surface-color, white);\n",
       "                }\n",
       "            </style>\n",
       "            "
      ],
      "text/plain": [
       "<IPython.core.display.HTML object>"
      ]
     },
     "metadata": {},
     "output_type": "display_data"
    }
   ],
   "source": [
    "grid_cells_needed = grid_cells_needed_viz.unmask(0).rename('grid_cells_needed')\n"
   ]
  },
  {
   "cell_type": "markdown",
   "id": "6301a167",
   "metadata": {},
   "source": [
    "-----------------\n",
    "## **4 Compute the proportion of high violence grid cells to total cells per adm2**\n",
    "-----------------"
   ]
  },
  {
   "cell_type": "markdown",
   "id": "635caa81",
   "metadata": {},
   "source": [
    "-----------------\n",
    "#### **4.1**\n",
    "-----------------"
   ]
  },
  {
   "cell_type": "code",
   "execution_count": 50,
   "id": "3388729d",
   "metadata": {},
   "outputs": [
    {
     "data": {
      "text/html": [
       "\n",
       "            <style>\n",
       "                .geemap-dark {\n",
       "                    --jp-widgets-color: white;\n",
       "                    --jp-widgets-label-color: white;\n",
       "                    --jp-ui-font-color1: white;\n",
       "                    --jp-layout-color2: #454545;\n",
       "                    background-color: #383838;\n",
       "                }\n",
       "\n",
       "                .geemap-dark .jupyter-button {\n",
       "                    --jp-layout-color3: #383838;\n",
       "                }\n",
       "\n",
       "                .geemap-colab {\n",
       "                    background-color: var(--colab-primary-surface-color, white);\n",
       "                }\n",
       "\n",
       "                .geemap-colab .jupyter-button {\n",
       "                    --jp-layout-color3: var(--colab-primary-surface-color, white);\n",
       "                }\n",
       "            </style>\n",
       "            "
      ],
      "text/plain": [
       "<IPython.core.display.HTML object>"
      ]
     },
     "metadata": {},
     "output_type": "display_data"
    }
   ],
   "source": [
    "stacked_image = grid_cells_needed.addBands(country_popAt10k_100)\n",
    "#Create a function to calculate the feature class with ADM2 Name\n",
    "def calculateFeatureSum(feature):\n",
    "    events = stacked_image.reduceRegion(**{\n",
    "    'reducer': ee.Reducer.sum().unweighted(),\n",
    "    'geometry': feature.geometry(),#.buffer(10),\n",
    "    'scale': projectionAt10k.nominalScale(),\n",
    "    'maxPixels': 1e20\n",
    "    })\n",
    "    adm_level = feature.get('admin2Pcod')\n",
    "    return ee.Feature(\n",
    "      feature.geometry(),\n",
    "      events.set('admin2Pcod', adm_level))"
   ]
  },
  {
   "cell_type": "code",
   "execution_count": 51,
   "id": "50d257c7",
   "metadata": {},
   "outputs": [
    {
     "data": {
      "text/html": [
       "\n",
       "            <style>\n",
       "                .geemap-dark {\n",
       "                    --jp-widgets-color: white;\n",
       "                    --jp-widgets-label-color: white;\n",
       "                    --jp-ui-font-color1: white;\n",
       "                    --jp-layout-color2: #454545;\n",
       "                    background-color: #383838;\n",
       "                }\n",
       "\n",
       "                .geemap-dark .jupyter-button {\n",
       "                    --jp-layout-color3: #383838;\n",
       "                }\n",
       "\n",
       "                .geemap-colab {\n",
       "                    background-color: var(--colab-primary-surface-color, white);\n",
       "                }\n",
       "\n",
       "                .geemap-colab .jupyter-button {\n",
       "                    --jp-layout-color3: var(--colab-primary-surface-color, white);\n",
       "                }\n",
       "            </style>\n",
       "            "
      ],
      "text/plain": [
       "<IPython.core.display.HTML object>"
      ]
     },
     "metadata": {},
     "output_type": "display_data"
    }
   ],
   "source": [
    "#Map Function to Create\n",
    "Feature_byADM2 = sahel_adm2.map(calculateFeatureSum)\n",
    "#geemap.ee_to_csv(Feature_byADM2, filename='conflict_diffusion_indicator.csv')"
   ]
  },
  {
   "cell_type": "code",
   "execution_count": 52,
   "id": "ac3312ca",
   "metadata": {},
   "outputs": [
    {
     "data": {
      "text/html": [
       "\n",
       "            <style>\n",
       "                .geemap-dark {\n",
       "                    --jp-widgets-color: white;\n",
       "                    --jp-widgets-label-color: white;\n",
       "                    --jp-ui-font-color1: white;\n",
       "                    --jp-layout-color2: #454545;\n",
       "                    background-color: #383838;\n",
       "                }\n",
       "\n",
       "                .geemap-dark .jupyter-button {\n",
       "                    --jp-layout-color3: #383838;\n",
       "                }\n",
       "\n",
       "                .geemap-colab {\n",
       "                    background-color: var(--colab-primary-surface-color, white);\n",
       "                }\n",
       "\n",
       "                .geemap-colab .jupyter-button {\n",
       "                    --jp-layout-color3: var(--colab-primary-surface-color, white);\n",
       "                }\n",
       "            </style>\n",
       "            "
      ],
      "text/plain": [
       "<IPython.core.display.HTML object>"
      ]
     },
     "metadata": {},
     "output_type": "display_data"
    }
   ],
   "source": [
    "df_Feature_byADM2 = geemap.ee_to_df(Feature_byADM2, sort_columns=True)\n"
   ]
  },
  {
   "cell_type": "code",
   "execution_count": 353,
   "id": "134be7f0",
   "metadata": {},
   "outputs": [
    {
     "data": {
      "text/html": [
       "\n",
       "            <style>\n",
       "                .geemap-dark {\n",
       "                    --jp-widgets-color: white;\n",
       "                    --jp-widgets-label-color: white;\n",
       "                    --jp-ui-font-color1: white;\n",
       "                    --jp-layout-color2: #454545;\n",
       "                    background-color: #383838;\n",
       "                }\n",
       "\n",
       "                .geemap-dark .jupyter-button {\n",
       "                    --jp-layout-color3: #383838;\n",
       "                }\n",
       "\n",
       "                .geemap-colab {\n",
       "                    background-color: var(--colab-primary-surface-color, white);\n",
       "                }\n",
       "\n",
       "                .geemap-colab .jupyter-button {\n",
       "                    --jp-layout-color3: var(--colab-primary-surface-color, white);\n",
       "                }\n",
       "            </style>\n",
       "            "
      ],
      "text/plain": [
       "<IPython.core.display.HTML object>"
      ]
     },
     "metadata": {},
     "output_type": "display_data"
    },
    {
     "data": {
      "text/html": [
       "<div>\n",
       "<style scoped>\n",
       "    .dataframe tbody tr th:only-of-type {\n",
       "        vertical-align: middle;\n",
       "    }\n",
       "\n",
       "    .dataframe tbody tr th {\n",
       "        vertical-align: top;\n",
       "    }\n",
       "\n",
       "    .dataframe thead th {\n",
       "        text-align: right;\n",
       "    }\n",
       "</style>\n",
       "<table border=\"1\" class=\"dataframe\">\n",
       "  <thead>\n",
       "    <tr style=\"text-align: right;\">\n",
       "      <th></th>\n",
       "      <th>admin2Pcod</th>\n",
       "      <th>grid_cells_gte</th>\n",
       "      <th>grid_cells_needed</th>\n",
       "    </tr>\n",
       "  </thead>\n",
       "  <tbody>\n",
       "    <tr>\n",
       "      <th>0</th>\n",
       "      <td>BF1300</td>\n",
       "      <td>30</td>\n",
       "      <td>1</td>\n",
       "    </tr>\n",
       "    <tr>\n",
       "      <th>1</th>\n",
       "      <td>BF4601</td>\n",
       "      <td>49</td>\n",
       "      <td>0</td>\n",
       "    </tr>\n",
       "    <tr>\n",
       "      <th>2</th>\n",
       "      <td>BF4602</td>\n",
       "      <td>60</td>\n",
       "      <td>0</td>\n",
       "    </tr>\n",
       "    <tr>\n",
       "      <th>3</th>\n",
       "      <td>BF4604</td>\n",
       "      <td>70</td>\n",
       "      <td>0</td>\n",
       "    </tr>\n",
       "    <tr>\n",
       "      <th>4</th>\n",
       "      <td>BF4605</td>\n",
       "      <td>40</td>\n",
       "      <td>0</td>\n",
       "    </tr>\n",
       "  </tbody>\n",
       "</table>\n",
       "</div>"
      ],
      "text/plain": [
       "  admin2Pcod  grid_cells_gte  grid_cells_needed\n",
       "0     BF1300              30                  1\n",
       "1     BF4601              49                  0\n",
       "2     BF4602              60                  0\n",
       "3     BF4604              70                  0\n",
       "4     BF4605              40                  0"
      ]
     },
     "execution_count": 353,
     "metadata": {},
     "output_type": "execute_result"
    }
   ],
   "source": [
    "df_Feature_byADM2.head()"
   ]
  },
  {
   "cell_type": "code",
   "execution_count": 53,
   "id": "b009de25",
   "metadata": {},
   "outputs": [
    {
     "data": {
      "text/html": [
       "\n",
       "            <style>\n",
       "                .geemap-dark {\n",
       "                    --jp-widgets-color: white;\n",
       "                    --jp-widgets-label-color: white;\n",
       "                    --jp-ui-font-color1: white;\n",
       "                    --jp-layout-color2: #454545;\n",
       "                    background-color: #383838;\n",
       "                }\n",
       "\n",
       "                .geemap-dark .jupyter-button {\n",
       "                    --jp-layout-color3: #383838;\n",
       "                }\n",
       "\n",
       "                .geemap-colab {\n",
       "                    background-color: var(--colab-primary-surface-color, white);\n",
       "                }\n",
       "\n",
       "                .geemap-colab .jupyter-button {\n",
       "                    --jp-layout-color3: var(--colab-primary-surface-color, white);\n",
       "                }\n",
       "            </style>\n",
       "            "
      ],
      "text/plain": [
       "<IPython.core.display.HTML object>"
      ]
     },
     "metadata": {},
     "output_type": "display_data"
    },
    {
     "name": "stdout",
     "output_type": "stream",
     "text": [
      "<class 'pandas.core.frame.DataFrame'>\n",
      "RangeIndex: 287 entries, 0 to 286\n",
      "Data columns (total 3 columns):\n",
      " #   Column                                Non-Null Count  Dtype \n",
      "---  ------                                --------------  ----- \n",
      " 0   admin2Pcod                            287 non-null    object\n",
      " 1   grid_cells_gte_threshold_inhabitants  287 non-null    int64 \n",
      " 2   grid_cells_needed                     287 non-null    int64 \n",
      "dtypes: int64(2), object(1)\n",
      "memory usage: 6.9+ KB\n"
     ]
    }
   ],
   "source": [
    "# Checking the info of the dataset\n",
    "df_Feature_byADM2.info()"
   ]
  },
  {
   "cell_type": "markdown",
   "id": "00a7269a",
   "metadata": {},
   "source": [
    "\n",
    "-----------------\n",
    "#### **4.2 Compute the proportion of high violence grid cells to total cells per adm2**\n",
    "-----------------"
   ]
  },
  {
   "cell_type": "code",
   "execution_count": 54,
   "id": "34db23e3",
   "metadata": {},
   "outputs": [
    {
     "data": {
      "text/html": [
       "\n",
       "            <style>\n",
       "                .geemap-dark {\n",
       "                    --jp-widgets-color: white;\n",
       "                    --jp-widgets-label-color: white;\n",
       "                    --jp-ui-font-color1: white;\n",
       "                    --jp-layout-color2: #454545;\n",
       "                    background-color: #383838;\n",
       "                }\n",
       "\n",
       "                .geemap-dark .jupyter-button {\n",
       "                    --jp-layout-color3: #383838;\n",
       "                }\n",
       "\n",
       "                .geemap-colab {\n",
       "                    background-color: var(--colab-primary-surface-color, white);\n",
       "                }\n",
       "\n",
       "                .geemap-colab .jupyter-button {\n",
       "                    --jp-layout-color3: var(--colab-primary-surface-color, white);\n",
       "                }\n",
       "            </style>\n",
       "            "
      ],
      "text/plain": [
       "<IPython.core.display.HTML object>"
      ]
     },
     "metadata": {},
     "output_type": "display_data"
    }
   ],
   "source": [
    "def indicator(feature):\n",
    "  #\n",
    "  val = ee.Number(feature.get('grid_cells_needed')).divide(ee.Number(feature.get('grid_cells_gte_threshold_inhabitants')))\n",
    "  return feature.set('conflict_diffusion_indicator', val)\n",
    "\n",
    "Feature_byADM2 = Feature_byADM2.map(indicator)"
   ]
  },
  {
   "cell_type": "code",
   "execution_count": 55,
   "id": "7b63f73b",
   "metadata": {},
   "outputs": [
    {
     "data": {
      "text/html": [
       "\n",
       "            <style>\n",
       "                .geemap-dark {\n",
       "                    --jp-widgets-color: white;\n",
       "                    --jp-widgets-label-color: white;\n",
       "                    --jp-ui-font-color1: white;\n",
       "                    --jp-layout-color2: #454545;\n",
       "                    background-color: #383838;\n",
       "                }\n",
       "\n",
       "                .geemap-dark .jupyter-button {\n",
       "                    --jp-layout-color3: #383838;\n",
       "                }\n",
       "\n",
       "                .geemap-colab {\n",
       "                    background-color: var(--colab-primary-surface-color, white);\n",
       "                }\n",
       "\n",
       "                .geemap-colab .jupyter-button {\n",
       "                    --jp-layout-color3: var(--colab-primary-surface-color, white);\n",
       "                }\n",
       "            </style>\n",
       "            "
      ],
      "text/plain": [
       "<IPython.core.display.HTML object>"
      ]
     },
     "metadata": {},
     "output_type": "display_data"
    }
   ],
   "source": [
    "df_indicator_Feature_byADM2 = geemap.ee_to_df(Feature_byADM2, sort_columns=True)"
   ]
  },
  {
   "cell_type": "code",
   "execution_count": 56,
   "id": "af82f804",
   "metadata": {},
   "outputs": [
    {
     "data": {
      "text/html": [
       "\n",
       "            <style>\n",
       "                .geemap-dark {\n",
       "                    --jp-widgets-color: white;\n",
       "                    --jp-widgets-label-color: white;\n",
       "                    --jp-ui-font-color1: white;\n",
       "                    --jp-layout-color2: #454545;\n",
       "                    background-color: #383838;\n",
       "                }\n",
       "\n",
       "                .geemap-dark .jupyter-button {\n",
       "                    --jp-layout-color3: #383838;\n",
       "                }\n",
       "\n",
       "                .geemap-colab {\n",
       "                    background-color: var(--colab-primary-surface-color, white);\n",
       "                }\n",
       "\n",
       "                .geemap-colab .jupyter-button {\n",
       "                    --jp-layout-color3: var(--colab-primary-surface-color, white);\n",
       "                }\n",
       "            </style>\n",
       "            "
      ],
      "text/plain": [
       "<IPython.core.display.HTML object>"
      ]
     },
     "metadata": {},
     "output_type": "display_data"
    },
    {
     "data": {
      "text/html": [
       "<div>\n",
       "<style scoped>\n",
       "    .dataframe tbody tr th:only-of-type {\n",
       "        vertical-align: middle;\n",
       "    }\n",
       "\n",
       "    .dataframe tbody tr th {\n",
       "        vertical-align: top;\n",
       "    }\n",
       "\n",
       "    .dataframe thead th {\n",
       "        text-align: right;\n",
       "    }\n",
       "</style>\n",
       "<table border=\"1\" class=\"dataframe\">\n",
       "  <thead>\n",
       "    <tr style=\"text-align: right;\">\n",
       "      <th></th>\n",
       "      <th>admin2Pcod</th>\n",
       "      <th>conflict_diffusion_indicator</th>\n",
       "      <th>grid_cells_gte_threshold_inhabitants</th>\n",
       "      <th>grid_cells_needed</th>\n",
       "    </tr>\n",
       "  </thead>\n",
       "  <tbody>\n",
       "    <tr>\n",
       "      <th>0</th>\n",
       "      <td>BF1300</td>\n",
       "      <td>0.033333</td>\n",
       "      <td>30</td>\n",
       "      <td>1</td>\n",
       "    </tr>\n",
       "    <tr>\n",
       "      <th>1</th>\n",
       "      <td>BF4601</td>\n",
       "      <td>0.000000</td>\n",
       "      <td>49</td>\n",
       "      <td>0</td>\n",
       "    </tr>\n",
       "    <tr>\n",
       "      <th>2</th>\n",
       "      <td>BF4602</td>\n",
       "      <td>0.000000</td>\n",
       "      <td>60</td>\n",
       "      <td>0</td>\n",
       "    </tr>\n",
       "    <tr>\n",
       "      <th>3</th>\n",
       "      <td>BF4604</td>\n",
       "      <td>0.000000</td>\n",
       "      <td>70</td>\n",
       "      <td>0</td>\n",
       "    </tr>\n",
       "    <tr>\n",
       "      <th>4</th>\n",
       "      <td>BF4605</td>\n",
       "      <td>0.000000</td>\n",
       "      <td>40</td>\n",
       "      <td>0</td>\n",
       "    </tr>\n",
       "  </tbody>\n",
       "</table>\n",
       "</div>"
      ],
      "text/plain": [
       "  admin2Pcod  conflict_diffusion_indicator  \\\n",
       "0     BF1300                      0.033333   \n",
       "1     BF4601                      0.000000   \n",
       "2     BF4602                      0.000000   \n",
       "3     BF4604                      0.000000   \n",
       "4     BF4605                      0.000000   \n",
       "\n",
       "   grid_cells_gte_threshold_inhabitants  grid_cells_needed  \n",
       "0                                    30                  1  \n",
       "1                                    49                  0  \n",
       "2                                    60                  0  \n",
       "3                                    70                  0  \n",
       "4                                    40                  0  "
      ]
     },
     "execution_count": 56,
     "metadata": {},
     "output_type": "execute_result"
    }
   ],
   "source": [
    "df_indicator_Feature_byADM2.head()"
   ]
  },
  {
   "cell_type": "code",
   "execution_count": 57,
   "id": "605dc9d9",
   "metadata": {},
   "outputs": [
    {
     "data": {
      "text/html": [
       "\n",
       "            <style>\n",
       "                .geemap-dark {\n",
       "                    --jp-widgets-color: white;\n",
       "                    --jp-widgets-label-color: white;\n",
       "                    --jp-ui-font-color1: white;\n",
       "                    --jp-layout-color2: #454545;\n",
       "                    background-color: #383838;\n",
       "                }\n",
       "\n",
       "                .geemap-dark .jupyter-button {\n",
       "                    --jp-layout-color3: #383838;\n",
       "                }\n",
       "\n",
       "                .geemap-colab {\n",
       "                    background-color: var(--colab-primary-surface-color, white);\n",
       "                }\n",
       "\n",
       "                .geemap-colab .jupyter-button {\n",
       "                    --jp-layout-color3: var(--colab-primary-surface-color, white);\n",
       "                }\n",
       "            </style>\n",
       "            "
      ],
      "text/plain": [
       "<IPython.core.display.HTML object>"
      ]
     },
     "metadata": {},
     "output_type": "display_data"
    },
    {
     "name": "stdout",
     "output_type": "stream",
     "text": [
      "<class 'pandas.core.frame.DataFrame'>\n",
      "RangeIndex: 287 entries, 0 to 286\n",
      "Data columns (total 4 columns):\n",
      " #   Column                                Non-Null Count  Dtype  \n",
      "---  ------                                --------------  -----  \n",
      " 0   admin2Pcod                            287 non-null    object \n",
      " 1   conflict_diffusion_indicator          287 non-null    float64\n",
      " 2   grid_cells_gte_threshold_inhabitants  287 non-null    int64  \n",
      " 3   grid_cells_needed                     287 non-null    int64  \n",
      "dtypes: float64(1), int64(2), object(1)\n",
      "memory usage: 9.1+ KB\n"
     ]
    }
   ],
   "source": [
    "# Checking the info of the dataset\n",
    "df_indicator_Feature_byADM2.info()"
   ]
  },
  {
   "cell_type": "code",
   "execution_count": 58,
   "id": "60f8c295",
   "metadata": {},
   "outputs": [
    {
     "data": {
      "text/html": [
       "\n",
       "            <style>\n",
       "                .geemap-dark {\n",
       "                    --jp-widgets-color: white;\n",
       "                    --jp-widgets-label-color: white;\n",
       "                    --jp-ui-font-color1: white;\n",
       "                    --jp-layout-color2: #454545;\n",
       "                    background-color: #383838;\n",
       "                }\n",
       "\n",
       "                .geemap-dark .jupyter-button {\n",
       "                    --jp-layout-color3: #383838;\n",
       "                }\n",
       "\n",
       "                .geemap-colab {\n",
       "                    background-color: var(--colab-primary-surface-color, white);\n",
       "                }\n",
       "\n",
       "                .geemap-colab .jupyter-button {\n",
       "                    --jp-layout-color3: var(--colab-primary-surface-color, white);\n",
       "                }\n",
       "            </style>\n",
       "            "
      ],
      "text/plain": [
       "<IPython.core.display.HTML object>"
      ]
     },
     "metadata": {},
     "output_type": "display_data"
    },
    {
     "data": {
      "application/vnd.jupyter.widget-view+json": {
       "model_id": "2d48951de9f04538904392250bad12a1",
       "version_major": 2,
       "version_minor": 0
      },
      "text/plain": [
       "Map(center=[0, 0], controls=(ZoomControl(options=['position', 'zoom_in_text', 'zoom_in_title', 'zoom_out_text'…"
      ]
     },
     "execution_count": 58,
     "metadata": {},
     "output_type": "execute_result"
    }
   ],
   "source": [
    "left_layer = geemap.ee_tile_layer(country_popAt10k_100_viz, bin, 'grid cells with more than (pop_seuil) inhabitants in 10km' , 1)\n",
    "right_layer = geemap.ee_tile_layer(grid_cells_needed_viz.clip(sahel_adm2), bin, 'grid cells needed', 1)\n",
    "\n",
    "Map = geemap.Map()\n",
    "Map.centerObject(sahel_adm2)\n",
    "Map.split_map(left_layer, right_layer)\n",
    "Map"
   ]
  },
  {
   "cell_type": "markdown",
   "id": "ad741c95",
   "metadata": {},
   "source": [
    "-----------------\n",
    "## **Export to CSV**\n",
    "-----------------"
   ]
  },
  {
   "cell_type": "code",
   "execution_count": 203,
   "id": "79ab03dc",
   "metadata": {},
   "outputs": [
    {
     "data": {
      "text/html": [
       "\n",
       "            <style>\n",
       "                .geemap-dark {\n",
       "                    --jp-widgets-color: white;\n",
       "                    --jp-widgets-label-color: white;\n",
       "                    --jp-ui-font-color1: white;\n",
       "                    --jp-layout-color2: #454545;\n",
       "                    background-color: #383838;\n",
       "                }\n",
       "\n",
       "                .geemap-dark .jupyter-button {\n",
       "                    --jp-layout-color3: #383838;\n",
       "                }\n",
       "\n",
       "                .geemap-colab {\n",
       "                    background-color: var(--colab-primary-surface-color, white);\n",
       "                }\n",
       "\n",
       "                .geemap-colab .jupyter-button {\n",
       "                    --jp-layout-color3: var(--colab-primary-surface-color, white);\n",
       "                }\n",
       "            </style>\n",
       "            "
      ],
      "text/plain": [
       "<IPython.core.display.HTML object>"
      ]
     },
     "metadata": {},
     "output_type": "display_data"
    }
   ],
   "source": [
    "geemap.ee_to_csv(Feature_byADM2, filename='conflict_diffusion_indicator.csv')"
   ]
  },
  {
   "cell_type": "code",
   "execution_count": 239,
   "id": "7bfe42d6",
   "metadata": {},
   "outputs": [
    {
     "data": {
      "text/html": [
       "\n",
       "            <style>\n",
       "                .geemap-dark {\n",
       "                    --jp-widgets-color: white;\n",
       "                    --jp-widgets-label-color: white;\n",
       "                    --jp-ui-font-color1: white;\n",
       "                    --jp-layout-color2: #454545;\n",
       "                    background-color: #383838;\n",
       "                }\n",
       "\n",
       "                .geemap-dark .jupyter-button {\n",
       "                    --jp-layout-color3: #383838;\n",
       "                }\n",
       "\n",
       "                .geemap-colab {\n",
       "                    background-color: var(--colab-primary-surface-color, white);\n",
       "                }\n",
       "\n",
       "                .geemap-colab .jupyter-button {\n",
       "                    --jp-layout-color3: var(--colab-primary-surface-color, white);\n",
       "                }\n",
       "            </style>\n",
       "            "
      ],
      "text/plain": [
       "<IPython.core.display.HTML object>"
      ]
     },
     "metadata": {},
     "output_type": "display_data"
    }
   ],
   "source": [
    "'''\n",
    "snippet = \"\"\"\n",
    "chart_function(eventsImg,10000,'Number of Conflict event');\n",
    "\"\"\"\n",
    "\n",
    "geemap.js_snippet_to_py(snippet, add_new_cell=True, import_ee=False)\n",
    "'''"
   ]
  },
  {
   "cell_type": "markdown",
   "id": "3dc3d3ec",
   "metadata": {},
   "source": [
    "## References"
   ]
  },
  {
   "cell_type": "code",
   "execution_count": 27,
   "id": "ce7e1e56",
   "metadata": {},
   "outputs": [
    {
     "data": {
      "text/html": [
       "\n",
       "            <style>\n",
       "                .geemap-dark {\n",
       "                    --jp-widgets-color: white;\n",
       "                    --jp-widgets-label-color: white;\n",
       "                    --jp-ui-font-color1: white;\n",
       "                    --jp-layout-color2: #454545;\n",
       "                    background-color: #383838;\n",
       "                }\n",
       "\n",
       "                .geemap-dark .jupyter-button {\n",
       "                    --jp-layout-color3: #383838;\n",
       "                }\n",
       "\n",
       "                .geemap-colab {\n",
       "                    background-color: var(--colab-primary-surface-color, white);\n",
       "                }\n",
       "\n",
       "                .geemap-colab .jupyter-button {\n",
       "                    --jp-layout-color3: var(--colab-primary-surface-color, white);\n",
       "                }\n",
       "            </style>\n",
       "            "
      ],
      "text/plain": [
       "<IPython.core.display.HTML object>"
      ]
     },
     "metadata": {},
     "output_type": "display_data"
    },
    {
     "data": {
      "text/plain": [
       "'\\nleft_layer = geemap.ee_tile_layer(multiplication_10.clip(sahel_adm2), bin, \"NLCD 2001\")\\nright_layer = geemap.ee_tile_layer(country_popAt10k_100.clip(sahel_adm2), bin, \"NLCD 2016\")\\n\\nMap = geemap.Map()\\nMap.centerObject(sahel_adm2)\\nMap.split_map(left_layer, right_layer)\\nMap\\n'"
      ]
     },
     "execution_count": 27,
     "metadata": {},
     "output_type": "execute_result"
    }
   ],
   "source": [
    "\n",
    "'''\n",
    "left_layer = geemap.ee_tile_layer(country_popAt10k_100_viz, bin, 'grid cells with more than (pop_seuil) inhabitants in 10km' , 1)\n",
    "right_layer = geemap.ee_tile_layer(grid_cells_needed_viz.clip(sahel_adm2), bin, 'grid cells needed', 1)\n",
    "\n",
    "Map = geemap.Map()\n",
    "Map.centerObject(sahel_adm2)\n",
    "Map.split_map(left_layer, right_layer)\n",
    "Map\n",
    "'''"
   ]
  }
 ],
 "metadata": {
  "kernelspec": {
   "display_name": "Python 3 (ipykernel)",
   "language": "python",
   "name": "python3"
  },
  "language_info": {
   "codemirror_mode": {
    "name": "ipython",
    "version": 3
   },
   "file_extension": ".py",
   "mimetype": "text/x-python",
   "name": "python",
   "nbconvert_exporter": "python",
   "pygments_lexer": "ipython3",
   "version": "3.11.5"
  }
 },
 "nbformat": 4,
 "nbformat_minor": 5
}
