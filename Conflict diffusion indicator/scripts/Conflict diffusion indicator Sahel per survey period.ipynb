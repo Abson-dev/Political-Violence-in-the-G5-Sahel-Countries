{
 "cells": [
  {
   "cell_type": "markdown",
   "id": "f509c6a1",
   "metadata": {},
   "source": [
    "## Technical requirements\n",
    "\n",
    "```bash\n",
    "conda create -n gee python\n",
    "conda activate gee\n",
    "conda install -c conda-forge mamba\n",
    "mamba install -c conda-forge pygis\n",
    "```\n"
   ]
  },
  {
   "cell_type": "code",
   "execution_count": null,
   "id": "ef2df1d0",
   "metadata": {},
   "outputs": [],
   "source": [
    "#%pip install pygis"
   ]
  },
  {
   "cell_type": "code",
   "execution_count": 1,
   "id": "a5acb014",
   "metadata": {},
   "outputs": [],
   "source": [
    "import ee\n",
    "import geemap"
   ]
  },
  {
   "cell_type": "code",
   "execution_count": 2,
   "id": "925e47fb",
   "metadata": {},
   "outputs": [
    {
     "data": {
      "text/html": [
       "\n",
       "            <style>\n",
       "                .geemap-dark {\n",
       "                    --jp-widgets-color: white;\n",
       "                    --jp-widgets-label-color: white;\n",
       "                    --jp-ui-font-color1: white;\n",
       "                    --jp-layout-color2: #454545;\n",
       "                    background-color: #383838;\n",
       "                }\n",
       "\n",
       "                .geemap-dark .jupyter-button {\n",
       "                    --jp-layout-color3: #383838;\n",
       "                }\n",
       "\n",
       "                .geemap-colab {\n",
       "                    background-color: var(--colab-primary-surface-color, white);\n",
       "                }\n",
       "\n",
       "                .geemap-colab .jupyter-button {\n",
       "                    --jp-layout-color3: var(--colab-primary-surface-color, white);\n",
       "                }\n",
       "            </style>\n",
       "            "
      ],
      "text/plain": [
       "<IPython.core.display.HTML object>"
      ]
     },
     "metadata": {},
     "output_type": "display_data"
    }
   ],
   "source": [
    "geemap.ee_initialize()"
   ]
  },
  {
   "cell_type": "markdown",
   "id": "f7329c14",
   "metadata": {},
   "source": [
    "## Load data"
   ]
  },
  {
   "cell_type": "code",
   "execution_count": 4,
   "id": "5bc40e02",
   "metadata": {},
   "outputs": [
    {
     "data": {
      "text/html": [
       "\n",
       "            <style>\n",
       "                .geemap-dark {\n",
       "                    --jp-widgets-color: white;\n",
       "                    --jp-widgets-label-color: white;\n",
       "                    --jp-ui-font-color1: white;\n",
       "                    --jp-layout-color2: #454545;\n",
       "                    background-color: #383838;\n",
       "                }\n",
       "\n",
       "                .geemap-dark .jupyter-button {\n",
       "                    --jp-layout-color3: #383838;\n",
       "                }\n",
       "\n",
       "                .geemap-colab {\n",
       "                    background-color: var(--colab-primary-surface-color, white);\n",
       "                }\n",
       "\n",
       "                .geemap-colab .jupyter-button {\n",
       "                    --jp-layout-color3: var(--colab-primary-surface-color, white);\n",
       "                }\n",
       "            </style>\n",
       "            "
      ],
      "text/plain": [
       "<IPython.core.display.HTML object>"
      ]
     },
     "metadata": {},
     "output_type": "display_data"
    }
   ],
   "source": [
    "WorldPop = ee.ImageCollection(\"WorldPop/GP/100m/pop\")\n",
    "pop_sahel = ee.Image(\"projects/ee-aboubacarhema94/assets/ACLED/Sahel_pop_2020_UNadj_constrained\")\n",
    "sahel_adm2 = ee.FeatureCollection(\"projects/ee-aboubacarhema94/assets/ACLED/G5_Sahel_adm2\")\n",
    "events_diffusion = ee.FeatureCollection(\"projects/ee-aboubacarhema94/assets/ACLED/G5_Sahel_Diffusion\")\n",
    "geometry =ee.Geometry.Polygon(\n",
    "        [[[-18.199748102330243, 28.38016082795913],\n",
    "          [-18.199748102330243, 2.8095840714382856],\n",
    "          [27.327595647669753, 2.8095840714382856],\n",
    "          [27.327595647669753, 28.38016082795913]]], None, False)\n",
    "events_diffusion_period = ee.FeatureCollection(\"projects/ee-aboubacarhema94/assets/ACLED/G5_Sahel_Diffusion_period\")"
   ]
  },
  {
   "cell_type": "code",
   "execution_count": 6,
   "id": "5466965a",
   "metadata": {},
   "outputs": [
    {
     "data": {
      "text/html": [
       "\n",
       "            <style>\n",
       "                .geemap-dark {\n",
       "                    --jp-widgets-color: white;\n",
       "                    --jp-widgets-label-color: white;\n",
       "                    --jp-ui-font-color1: white;\n",
       "                    --jp-layout-color2: #454545;\n",
       "                    background-color: #383838;\n",
       "                }\n",
       "\n",
       "                .geemap-dark .jupyter-button {\n",
       "                    --jp-layout-color3: #383838;\n",
       "                }\n",
       "\n",
       "                .geemap-colab {\n",
       "                    background-color: var(--colab-primary-surface-color, white);\n",
       "                }\n",
       "\n",
       "                .geemap-colab .jupyter-button {\n",
       "                    --jp-layout-color3: var(--colab-primary-surface-color, white);\n",
       "                }\n",
       "            </style>\n",
       "            "
      ],
      "text/plain": [
       "<IPython.core.display.HTML object>"
      ]
     },
     "metadata": {},
     "output_type": "display_data"
    }
   ],
   "source": [
    "period_1_min = '2017-10-01'\n",
    "period_1_max = '2018-02-29'\n",
    "period_2_min = '2018-03-01'\n",
    "period_2_max = '2018-09-30'\n",
    "period_3_min = '2018-10-01'\n",
    "period_3_max = '2019-02-29'\n",
    "period_4_min = '2019-03-01'\n",
    "period_4_max = '2019-09-30'\n",
    "period_5_min = '2019-10-01'\n",
    "period_5_max = '2020-02-29'\n",
    "period_6_min = '2020-03-01'\n",
    "period_6_max = '2020-09-30'\n",
    "period_7_min = '2020-10-01'\n",
    "period_7_max = '2021-02-29'\n",
    "period_8_min = '2021-03-01'\n",
    "period_8_max = '2021-09-30'\n",
    "period_9_min = '2021-10-01'\n",
    "period_9_max = '2022-02-29'\n",
    "period_10_min = '2022-03-01'\n",
    "period_10_max = '2022-09-30'\n",
    "period_11_min = '2022-10-01'\n",
    "period_11_max = '2023-02-29'\n",
    "period_12_min = '2023-03-01'\n",
    "period_12_max = '2023-09-30'\n",
    "period_13_min = '2023-10-01'\n",
    "period_13_max = '2024-02-29'\n",
    "period_14_min = '2024-03-01'\n",
    "period_14_max = '2024-09-30'\n",
    "\n",
    "period_1 = \"Oct2017-Feb2018\"\n",
    "period_2 = \"Mar2018-Sep2018\"\n",
    "period_3 = \"Oct2018-Feb2019\"\n",
    "period_4 = \"Mar2019-Sep2019\"\n",
    "period_5 = \"Oct2019-Feb2020\"\n",
    "period_6 = \"Mar2020-Sep2020\"\n",
    "period_7 = \"Oct2020-Feb2021\"\n",
    "period_8 = \"Mar2021-Sep2021\"\n",
    "period_9 = \"Oct2021-Feb2022\"\n",
    "period_10 = \"Mar2022-Sep2022\"\n",
    "period_11 = \"Oct2022-Feb2023\"\n",
    "period_12 = \"Mar2023-Sep2023\"\n",
    "period_13 = \"Oct2023-Feb2024\"\n",
    "period_14 = \"Mar2024-Sep2024\""
   ]
  },
  {
   "cell_type": "code",
   "execution_count": 5,
   "id": "89728b05",
   "metadata": {},
   "outputs": [
    {
     "data": {
      "text/html": [
       "\n",
       "            <style>\n",
       "                .geemap-dark {\n",
       "                    --jp-widgets-color: white;\n",
       "                    --jp-widgets-label-color: white;\n",
       "                    --jp-ui-font-color1: white;\n",
       "                    --jp-layout-color2: #454545;\n",
       "                    background-color: #383838;\n",
       "                }\n",
       "\n",
       "                .geemap-dark .jupyter-button {\n",
       "                    --jp-layout-color3: #383838;\n",
       "                }\n",
       "\n",
       "                .geemap-colab {\n",
       "                    background-color: var(--colab-primary-surface-color, white);\n",
       "                }\n",
       "\n",
       "                .geemap-colab .jupyter-button {\n",
       "                    --jp-layout-color3: var(--colab-primary-surface-color, white);\n",
       "                }\n",
       "            </style>\n",
       "            "
      ],
      "text/plain": [
       "<IPython.core.display.HTML object>"
      ]
     },
     "metadata": {},
     "output_type": "display_data"
    }
   ],
   "source": [
    "\n",
    "snippet = \"\"\"\n",
    "\n",
    " \n",
    "\"\"\"\n",
    "\n",
    "geemap.js_snippet_to_py(snippet, add_new_cell=True, import_ee=False)\n"
   ]
  },
  {
   "cell_type": "code",
   "execution_count": null,
   "id": "961ed2ea",
   "metadata": {},
   "outputs": [],
   "source": [
    "\n",
    "\n"
   ]
  },
  {
   "cell_type": "code",
   "execution_count": null,
   "id": "f3745e2f",
   "metadata": {},
   "outputs": [],
   "source": []
  },
  {
   "cell_type": "code",
   "execution_count": null,
   "id": "6c662b89",
   "metadata": {},
   "outputs": [],
   "source": []
  }
 ],
 "metadata": {
  "kernelspec": {
   "display_name": "Python 3 (ipykernel)",
   "language": "python",
   "name": "python3"
  },
  "language_info": {
   "codemirror_mode": {
    "name": "ipython",
    "version": 3
   },
   "file_extension": ".py",
   "mimetype": "text/x-python",
   "name": "python",
   "nbconvert_exporter": "python",
   "pygments_lexer": "ipython3",
   "version": "3.11.5"
  }
 },
 "nbformat": 4,
 "nbformat_minor": 5
}
