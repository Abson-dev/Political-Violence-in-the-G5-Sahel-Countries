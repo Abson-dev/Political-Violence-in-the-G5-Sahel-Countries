{
 "cells": [
  {
   "cell_type": "markdown",
   "id": "61fe9041",
   "metadata": {},
   "source": [
    "# **Political Violence in the G5 Sahel Countries (2018-2023)**\n",
    "\n",
    "**An Application of ACLED’s Conflict Index Methodology**"
   ]
  },
  {
   "cell_type": "markdown",
   "id": "1fba621b",
   "metadata": {},
   "source": [
    "```bash\n",
    "Author : Aboubacar HEMA\n",
    "Supervision : Wim MARIVOET\n",
    "Contact : a.hema@cgiar.org / w.marivoet@cgiar.org\n",
    "Role : Research Analyst at IFPRI\n",
    "Year : 2023\n",
    "```\n",
    "\n",
    "-----------------\n",
    "## **Objective**\n",
    "-----------------\n",
    "\n",
    "- To compute the **conflict diffusion indicator** per adm2/year by using ACLED’s Conflict Index Methodology , comprising the following steps: \n",
    "1. Create a spatial grid of 10km-by-10km \n",
    "2. Remove grid cells with less than 100 habitants using population data from WorldPop (pop_country)\n",
    "3. Identify grid cells with at least 10 conflict events per year using events_diffusion layer\n",
    "4. Compute the proportion of high violence grid cells to total cells per adm2/year\n"
   ]
  },
  {
   "cell_type": "markdown",
   "id": "da141b5e",
   "metadata": {},
   "source": [
    "-----------------\n",
    "## **Output**\n",
    "-----------------\n",
    "\n",
    "- [Political violence in the G5 Sahel Countries (2018-2023): An application of ACLED’s conflict index methodology](https://cgspace.cgiar.org/items/1d0dd9f6-e3b6-4be2-bc08-bd9a7171ee69) \n",
    "\n",
    "- [ACLED Conflict Index G5 Sahel (2018-2023)](https://dataverse.harvard.edu/dataset.xhtml?persistentId=doi:10.7910/DVN/T6UT9O)\n"
   ]
  },
  {
   "cell_type": "markdown",
   "id": "82904f12",
   "metadata": {},
   "source": [
    "-----------------\n",
    "## **Dataset**\n",
    "-----------------\n",
    "\n",
    "* ``pop_sahel`` [Constrained individual countries 2020 UN adjusted (100-meter resolution)](https://www.worldpop.org/) datasets for Mauritania, Mali, Burkina Faso, Niger, and Chad. Given the midpoint reference of 2020, it is assumed that any demographic change between 2018 and 2023 will have only a minor effect on the estimated diffusion indicator\n",
    "* ``sahel_adm2`` [UNOCHA Geographic dataset for Sahel (Administrative boundaries and settlements)](https://data.humdata.org/dataset/sahel-administrative-boundaries)\n",
    "* ``events_diffusion`` \t[ACLED Curated dataset for Africa (5 January 2024)](https://acleddata.com/data-export-tool/)\n",
    "* ``geometry`` the time stamp for drop-off\n",
    "\n",
    "\n",
    "From ACLED site:\n",
    "\n",
    "* ``Indicator`` Diffusion\n",
    "* ``Measure`` What proportion of the country experiences a high level of violence?\n",
    "* ``Significance`` Many conflicts can occur in a country simultaneously, adding to the geographic spread of conflict across states. This measure is an assessment of the geographic distribution of conflict. Each country is divided into a 10km-by-10km spatial grid. Grid cells that have a population of fewer than 100 people are excluded. Next, ACLED determines how many of a country’s geographic grid cells experience a high level of violence, defined as at least 10 events per year (representing the top 10% of cases).\n",
    "* ``The Diffusion indicator represents the proportion of high violence grid cells to total cells (i.e. the percentage of geographic area experiencing high levels of violence)`` "
   ]
  },
  {
   "cell_type": "markdown",
   "id": "54337ffc",
   "metadata": {},
   "source": [
    "-----------------\n",
    "## **Technical requirements**\n",
    "-----------------\n",
    "\n",
    "\n",
    "```bash\n",
    "conda create -n gee python\n",
    "conda activate gee\n",
    "conda install -c conda-forge mamba\n",
    "mamba install -c conda-forge pygis\n",
    "pip install geemap\n",
    "pip install ee\n",
    "```\n",
    "\n",
    "-----------------\n",
    "## **Import the necessary libraries**\n",
    "-----------------\n",
    "\n",
    "-----------------\n",
    "## **Import the necessary libraries**\n",
    "-----------------\n"
   ]
  },
  {
   "cell_type": "code",
   "execution_count": 2,
   "id": "f1ded762",
   "metadata": {},
   "outputs": [],
   "source": [
    "\n",
    "import ee\n",
    "import geemap\n",
    "\n",
    "# Basic libraries of python for numeric and dataframe computations\n",
    "import numpy as np                              \n",
    "import pandas as pd\n",
    "\n",
    "# Basic library for data visualization\n",
    "import matplotlib.pyplot as plt \n",
    "\n",
    "# Slightly advanced library for data visualization            \n",
    "import seaborn as sns   "
   ]
  },
  {
   "cell_type": "code",
   "execution_count": null,
   "id": "acd9a10d",
   "metadata": {},
   "outputs": [
    {
     "data": {
      "text/html": [
       "\n",
       "            <style>\n",
       "                .geemap-dark {\n",
       "                    --jp-widgets-color: white;\n",
       "                    --jp-widgets-label-color: white;\n",
       "                    --jp-ui-font-color1: white;\n",
       "                    --jp-layout-color2: #454545;\n",
       "                    background-color: #383838;\n",
       "                }\n",
       "\n",
       "                .geemap-dark .jupyter-button {\n",
       "                    --jp-layout-color3: #383838;\n",
       "                }\n",
       "\n",
       "                .geemap-colab {\n",
       "                    background-color: var(--colab-primary-surface-color, white);\n",
       "                }\n",
       "\n",
       "                .geemap-colab .jupyter-button {\n",
       "                    --jp-layout-color3: var(--colab-primary-surface-color, white);\n",
       "                }\n",
       "            </style>\n",
       "            "
      ],
      "text/plain": [
       "<IPython.core.display.HTML object>"
      ]
     },
     "metadata": {},
     "output_type": "display_data"
    },
    {
     "data": {
      "text/html": [
       "<p>To authorize access needed by Earth Engine, open the following\n",
       "        URL in a web browser and follow the instructions:</p>\n",
       "        <p><a href=https://code.earthengine.google.com/client-auth?scopes=https%3A//www.googleapis.com/auth/earthengine%20https%3A//www.googleapis.com/auth/cloud-platform%20https%3A//www.googleapis.com/auth/devstorage.full_control&request_id=ouB1qjWzT-cDMrTXGzXZaF92s3iHSm68zXa6MDmnGGU&tc=9SHXWIQ4JIZXK0sgSIDr8TbB6exzRmEMgXH-Q02627Y&cc=8JdpTRrkL9hGAA--kxG4Kh3rOWoDEbWU-X7s0-Igx1Y>https://code.earthengine.google.com/client-auth?scopes=https%3A//www.googleapis.com/auth/earthengine%20https%3A//www.googleapis.com/auth/cloud-platform%20https%3A//www.googleapis.com/auth/devstorage.full_control&request_id=ouB1qjWzT-cDMrTXGzXZaF92s3iHSm68zXa6MDmnGGU&tc=9SHXWIQ4JIZXK0sgSIDr8TbB6exzRmEMgXH-Q02627Y&cc=8JdpTRrkL9hGAA--kxG4Kh3rOWoDEbWU-X7s0-Igx1Y</a></p>\n",
       "        <p>The authorization workflow will generate a code, which you should paste in the box below.</p>\n",
       "        "
      ],
      "text/plain": [
       "<IPython.core.display.HTML object>"
      ]
     },
     "metadata": {},
     "output_type": "display_data"
    },
    {
     "name": "stdout",
     "output_type": "stream",
     "text": [
      "Enter verification code: 4/1AeaYSHAZPK8B05kbCymI_mM88U6Z6gvRk2nBl6XA81fmlGpv2piBw0DmAOc\n",
      "\n",
      "Successfully saved authorization token.\n"
     ]
    }
   ],
   "source": [
    "# Authenticate and Initialize Earth Engine\n",
    "geemap.ee_initialize()"
   ]
  },
  {
   "cell_type": "markdown",
   "id": "9c1c6bbd",
   "metadata": {},
   "source": [
    "-----------------\n",
    "## **Load data**\n",
    "-----------------"
   ]
  },
  {
   "cell_type": "code",
   "execution_count": null,
   "id": "284d7ba2",
   "metadata": {},
   "outputs": [],
   "source": []
  }
 ],
 "metadata": {
  "kernelspec": {
   "display_name": "Python 3 (ipykernel)",
   "language": "python",
   "name": "python3"
  },
  "language_info": {
   "codemirror_mode": {
    "name": "ipython",
    "version": 3
   },
   "file_extension": ".py",
   "mimetype": "text/x-python",
   "name": "python",
   "nbconvert_exporter": "python",
   "pygments_lexer": "ipython3",
   "version": "3.11.5"
  }
 },
 "nbformat": 4,
 "nbformat_minor": 5
}
