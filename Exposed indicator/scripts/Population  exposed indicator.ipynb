{
 "cells": [
  {
   "cell_type": "markdown",
   "id": "056701f4",
   "metadata": {},
   "source": [
    "# **Political Violence in the G5 Sahel Countries (2018-2023)**\n",
    "\n",
    "**An Application of ACLED’s Conflict Index Methodology**"
   ]
  },
  {
   "cell_type": "markdown",
   "id": "0a492a35",
   "metadata": {},
   "source": [
    "```bash\n",
    "Author : Aboubacar HEMA\n",
    "Supervision : Wim MARIVOET\n",
    "Contact : a.hema@cgiar.org / w.marivoet@cgiar.org\n",
    "Role : Research Analyst at IFPRI\n",
    "Year : 2023\n",
    "```\n",
    "\n",
    "-----------------\n",
    "## **Objective**\n",
    "-----------------\n",
    "\n",
    "- To compute the **conflict diffusion indicator** per adm2/year by using ACLED’s Conflict Index Methodology , comprising the following steps: \n",
    "1. Create a spatial grid of 10km-by-10km \n",
    "2. Remove grid cells with less than 100 habitants using population data from WorldPop (pop_country)\n",
    "3. Identify grid cells with at least 10 conflict events per year using events_diffusion layer\n",
    "4. Compute the proportion of high violence grid cells to total cells per adm2/year\n"
   ]
  },
  {
   "cell_type": "markdown",
   "id": "bfe1ac2a",
   "metadata": {},
   "source": [
    "-----------------\n",
    "## **Output**\n",
    "-----------------\n",
    "\n",
    "- [Political violence in the G5 Sahel Countries (2018-2023): An application of ACLED’s conflict index methodology](https://cgspace.cgiar.org/items/1d0dd9f6-e3b6-4be2-bc08-bd9a7171ee69) \n",
    "\n",
    "- [ACLED Conflict Index G5 Sahel (2018-2023)](https://dataverse.harvard.edu/dataset.xhtml?persistentId=doi:10.7910/DVN/T6UT9O)\n"
   ]
  },
  {
   "cell_type": "markdown",
   "id": "102d1e44",
   "metadata": {},
   "source": [
    "-----------------\n",
    "## **Dataset**\n",
    "-----------------\n",
    "\n",
    "* ``pop_sahel`` [Constrained individual countries 2020 UN adjusted (100-meter resolution)](https://www.worldpop.org/) datasets for Mauritania, Mali, Burkina Faso, Niger, and Chad. Given the midpoint reference of 2020, it is assumed that any demographic change between 2018 and 2023 will have only a minor effect on the estimated diffusion indicator\n",
    "* ``sahel_adm2`` [UNOCHA Geographic dataset for Sahel (Administrative boundaries and settlements)](https://data.humdata.org/dataset/sahel-administrative-boundaries)\n",
    "* ``events_diffusion`` \t[ACLED Curated dataset for Africa (5 January 2024)](https://acleddata.com/data-export-tool/)\n",
    "* ``geometry`` the time stamp for drop-off\n",
    "\n",
    "\n",
    "From ACLED site:\n",
    "\n",
    "* ``Indicator`` Diffusion\n",
    "* ``Measure`` What proportion of the country experiences a high level of violence?\n",
    "* ``Significance`` Many conflicts can occur in a country simultaneously, adding to the geographic spread of conflict across states. This measure is an assessment of the geographic distribution of conflict. Each country is divided into a 10km-by-10km spatial grid. Grid cells that have a population of fewer than 100 people are excluded. Next, ACLED determines how many of a country’s geographic grid cells experience a high level of violence, defined as at least 10 events per year (representing the top 10% of cases).\n",
    "* ``The Diffusion indicator represents the proportion of high violence grid cells to total cells (i.e. the percentage of geographic area experiencing high levels of violence)`` "
   ]
  },
  {
   "cell_type": "markdown",
   "id": "ada0a18d",
   "metadata": {},
   "source": [
    "-----------------\n",
    "## **Technical requirements**\n",
    "-----------------\n",
    "\n",
    "\n",
    "```bash\n",
    "conda create -n gee python\n",
    "conda activate gee\n",
    "conda install -c conda-forge mamba\n",
    "mamba install -c conda-forge pygis\n",
    "pip install geemap\n",
    "pip install ee\n",
    "```\n",
    "\n",
    "-----------------\n",
    "## **Import the necessary libraries**\n",
    "-----------------\n",
    "\n",
    "-----------------\n",
    "## **Import the necessary libraries**\n",
    "-----------------\n"
   ]
  },
  {
   "cell_type": "code",
   "execution_count": 2,
   "id": "dfb685e3",
   "metadata": {},
   "outputs": [],
   "source": [
    "\n",
    "import ee\n",
    "import geemap\n",
    "\n",
    "# Basic libraries of python for numeric and dataframe computations\n",
    "import numpy as np                              \n",
    "import pandas as pd\n",
    "\n",
    "# Basic library for data visualization\n",
    "import matplotlib.pyplot as plt \n",
    "\n",
    "# Slightly advanced library for data visualization            \n",
    "import seaborn as sns   "
   ]
  },
  {
   "cell_type": "code",
   "execution_count": 3,
   "id": "1c2ab1c1",
   "metadata": {},
   "outputs": [
    {
     "data": {
      "text/html": [
       "\n",
       "            <style>\n",
       "                .geemap-dark {\n",
       "                    --jp-widgets-color: white;\n",
       "                    --jp-widgets-label-color: white;\n",
       "                    --jp-ui-font-color1: white;\n",
       "                    --jp-layout-color2: #454545;\n",
       "                    background-color: #383838;\n",
       "                }\n",
       "\n",
       "                .geemap-dark .jupyter-button {\n",
       "                    --jp-layout-color3: #383838;\n",
       "                }\n",
       "\n",
       "                .geemap-colab {\n",
       "                    background-color: var(--colab-primary-surface-color, white);\n",
       "                }\n",
       "\n",
       "                .geemap-colab .jupyter-button {\n",
       "                    --jp-layout-color3: var(--colab-primary-surface-color, white);\n",
       "                }\n",
       "            </style>\n",
       "            "
      ],
      "text/plain": [
       "<IPython.core.display.HTML object>"
      ]
     },
     "metadata": {},
     "output_type": "display_data"
    },
    {
     "data": {
      "text/html": [
       "<p>To authorize access needed by Earth Engine, open the following\n",
       "        URL in a web browser and follow the instructions:</p>\n",
       "        <p><a href=https://code.earthengine.google.com/client-auth?scopes=https%3A//www.googleapis.com/auth/earthengine%20https%3A//www.googleapis.com/auth/cloud-platform%20https%3A//www.googleapis.com/auth/devstorage.full_control&request_id=ouB1qjWzT-cDMrTXGzXZaF92s3iHSm68zXa6MDmnGGU&tc=9SHXWIQ4JIZXK0sgSIDr8TbB6exzRmEMgXH-Q02627Y&cc=8JdpTRrkL9hGAA--kxG4Kh3rOWoDEbWU-X7s0-Igx1Y>https://code.earthengine.google.com/client-auth?scopes=https%3A//www.googleapis.com/auth/earthengine%20https%3A//www.googleapis.com/auth/cloud-platform%20https%3A//www.googleapis.com/auth/devstorage.full_control&request_id=ouB1qjWzT-cDMrTXGzXZaF92s3iHSm68zXa6MDmnGGU&tc=9SHXWIQ4JIZXK0sgSIDr8TbB6exzRmEMgXH-Q02627Y&cc=8JdpTRrkL9hGAA--kxG4Kh3rOWoDEbWU-X7s0-Igx1Y</a></p>\n",
       "        <p>The authorization workflow will generate a code, which you should paste in the box below.</p>\n",
       "        "
      ],
      "text/plain": [
       "<IPython.core.display.HTML object>"
      ]
     },
     "metadata": {},
     "output_type": "display_data"
    },
    {
     "name": "stdout",
     "output_type": "stream",
     "text": [
      "Enter verification code: 4/1AeaYSHAZPK8B05kbCymI_mM88U6Z6gvRk2nBl6XA81fmlGpv2piBw0DmAOc\n",
      "\n",
      "Successfully saved authorization token.\n"
     ]
    }
   ],
   "source": [
    "# Authenticate and Initialize Earth Engine\n",
    "geemap.ee_initialize()"
   ]
  },
  {
   "cell_type": "markdown",
   "id": "48533469",
   "metadata": {},
   "source": [
    "-----------------\n",
    "## **Load data**\n",
    "-----------------"
   ]
  },
  {
   "cell_type": "code",
   "execution_count": 4,
   "id": "de9715ac",
   "metadata": {},
   "outputs": [
    {
     "data": {
      "text/html": [
       "\n",
       "            <style>\n",
       "                .geemap-dark {\n",
       "                    --jp-widgets-color: white;\n",
       "                    --jp-widgets-label-color: white;\n",
       "                    --jp-ui-font-color1: white;\n",
       "                    --jp-layout-color2: #454545;\n",
       "                    background-color: #383838;\n",
       "                }\n",
       "\n",
       "                .geemap-dark .jupyter-button {\n",
       "                    --jp-layout-color3: #383838;\n",
       "                }\n",
       "\n",
       "                .geemap-colab {\n",
       "                    background-color: var(--colab-primary-surface-color, white);\n",
       "                }\n",
       "\n",
       "                .geemap-colab .jupyter-button {\n",
       "                    --jp-layout-color3: var(--colab-primary-surface-color, white);\n",
       "                }\n",
       "            </style>\n",
       "            "
      ],
      "text/plain": [
       "<IPython.core.display.HTML object>"
      ]
     },
     "metadata": {},
     "output_type": "display_data"
    }
   ],
   "source": [
    "#WorldPop = ee.ImageCollection(\"WorldPop/GP/100m/pop\")\n",
    "pop_sahel = ee.Image(\"projects/ee-aboubacarhema94/assets/ACLED/Sahel_pop_2020_UNadj_constrained\")\n",
    "sahel_adm2 = ee.FeatureCollection(\"projects/ee-aboubacarhema94/assets/ACLED/G5_Sahel_adm2\")\n",
    "events_diffusion = ee.FeatureCollection(\"projects/ee-aboubacarhema94/assets/ACLED/G5_Sahel_Diffusion\")\n",
    "geometry = ee.Geometry.Polygon(\n",
    "        [[[-19.7019400534855, 29.93665627910383],\n",
    "          [-19.7019400534855, 5.813630636937255],\n",
    "          [26.967981821514496, 5.813630636937255],\n",
    "          [26.967981821514496, 29.93665627910383]]])"
   ]
  },
  {
   "cell_type": "code",
   "execution_count": 5,
   "id": "dbb57eda",
   "metadata": {},
   "outputs": [
    {
     "data": {
      "text/html": [
       "\n",
       "            <style>\n",
       "                .geemap-dark {\n",
       "                    --jp-widgets-color: white;\n",
       "                    --jp-widgets-label-color: white;\n",
       "                    --jp-ui-font-color1: white;\n",
       "                    --jp-layout-color2: #454545;\n",
       "                    background-color: #383838;\n",
       "                }\n",
       "\n",
       "                .geemap-dark .jupyter-button {\n",
       "                    --jp-layout-color3: #383838;\n",
       "                }\n",
       "\n",
       "                .geemap-colab {\n",
       "                    background-color: var(--colab-primary-surface-color, white);\n",
       "                }\n",
       "\n",
       "                .geemap-colab .jupyter-button {\n",
       "                    --jp-layout-color3: var(--colab-primary-surface-color, white);\n",
       "                }\n",
       "            </style>\n",
       "            "
      ],
      "text/plain": [
       "<IPython.core.display.HTML object>"
      ]
     },
     "metadata": {},
     "output_type": "display_data"
    },
    {
     "data": {
      "text/plain": [
       "{'type': 'Projection',\n",
       " 'crs': 'EPSG:4326',\n",
       " 'transform': [0.000833333330003155,\n",
       "  0,\n",
       "  -17.06624991685372,\n",
       "  0,\n",
       "  -0.0008333333300088002,\n",
       "  27.297916759268993]}"
      ]
     },
     "execution_count": 5,
     "metadata": {},
     "output_type": "execute_result"
    }
   ],
   "source": [
    "# Extract the projection before doing any computation\n",
    "projection = pop_sahel.projection()\n",
    "projection.getInfo()"
   ]
  },
  {
   "cell_type": "code",
   "execution_count": 6,
   "id": "8213e328",
   "metadata": {},
   "outputs": [
    {
     "data": {
      "text/html": [
       "\n",
       "            <style>\n",
       "                .geemap-dark {\n",
       "                    --jp-widgets-color: white;\n",
       "                    --jp-widgets-label-color: white;\n",
       "                    --jp-ui-font-color1: white;\n",
       "                    --jp-layout-color2: #454545;\n",
       "                    background-color: #383838;\n",
       "                }\n",
       "\n",
       "                .geemap-dark .jupyter-button {\n",
       "                    --jp-layout-color3: #383838;\n",
       "                }\n",
       "\n",
       "                .geemap-colab {\n",
       "                    background-color: var(--colab-primary-surface-color, white);\n",
       "                }\n",
       "\n",
       "                .geemap-colab .jupyter-button {\n",
       "                    --jp-layout-color3: var(--colab-primary-surface-color, white);\n",
       "                }\n",
       "            </style>\n",
       "            "
      ],
      "text/plain": [
       "<IPython.core.display.HTML object>"
      ]
     },
     "metadata": {},
     "output_type": "display_data"
    },
    {
     "data": {
      "text/html": [
       "<div><style>:root {\n",
       "  --font-color-primary: var(--jp-content-font-color0, rgba(0, 0, 0, 1));\n",
       "  --font-color-secondary: var(--jp-content-font-color2, rgba(0, 0, 0, 0.6));\n",
       "  --font-color-accent: rgba(123, 31, 162, 1);\n",
       "  --border-color: var(--jp-border-color2, #e0e0e0);\n",
       "  --background-color: var(--jp-layout-color0, white);\n",
       "  --background-color-row-even: var(--jp-layout-color1, white);\n",
       "  --background-color-row-odd: var(--jp-layout-color2, #eeeeee);\n",
       "}\n",
       "\n",
       "html[theme=\"dark\"],\n",
       "body[data-theme=\"dark\"],\n",
       "body.vscode-dark {\n",
       "  --font-color-primary: rgba(255, 255, 255, 1);\n",
       "  --font-color-secondary: rgba(255, 255, 255, 0.6);\n",
       "  --font-color-accent: rgb(173, 132, 190);\n",
       "  --border-color: #2e2e2e;\n",
       "  --background-color: #111111;\n",
       "  --background-color-row-even: #111111;\n",
       "  --background-color-row-odd: #313131;\n",
       "}\n",
       "\n",
       ".ee {\n",
       "  padding: 1em;\n",
       "  line-height: 1.5em;\n",
       "  min-width: 300px;\n",
       "  max-width: 1200px;\n",
       "  overflow-y: scroll;\n",
       "  max-height: 600px;\n",
       "  border: 1px solid var(--border-color);\n",
       "  font-family: monospace;\n",
       "}\n",
       "\n",
       ".ee li {\n",
       "  list-style-type: none;\n",
       "}\n",
       "\n",
       ".ee ul {\n",
       "  padding-left: 1.5em !important;\n",
       "  margin: 0;\n",
       "}\n",
       "\n",
       ".ee > ul {\n",
       "  padding-left: 0 !important;\n",
       "}\n",
       "\n",
       ".ee-open,\n",
       ".ee-shut {\n",
       "  color: var(--font-color-secondary);\n",
       "  cursor: pointer;\n",
       "  margin: 0;\n",
       "}\n",
       "\n",
       ".ee-open:hover,\n",
       ".ee-shut:hover {\n",
       "  color: var(--font-color-primary);\n",
       "}\n",
       "\n",
       ".ee-k {\n",
       "  color: var(--font-color-accent);\n",
       "  margin-right: 6px;\n",
       "}\n",
       "\n",
       ".ee-v {\n",
       "  color: var(--font-color-primary);\n",
       "}\n",
       "\n",
       ".ee-toggle {\n",
       "  display: none;\n",
       "}\n",
       "\n",
       ".ee-shut + ul {\n",
       "  display: none;\n",
       "}\n",
       "\n",
       ".ee-open + ul {\n",
       "  display: block;\n",
       "}\n",
       "\n",
       ".ee-shut::before {\n",
       "  display: inline-block;\n",
       "  content: \"▼\";\n",
       "  margin-right: 6px;\n",
       "  transform: rotate(-90deg);\n",
       "  transition: transform 0.2s;\n",
       "}\n",
       "\n",
       ".ee-open::before {\n",
       "  transform: rotate(0deg);\n",
       "  display: inline-block;\n",
       "  content: \"▼\";\n",
       "  margin-right: 6px;\n",
       "  transition: transform 0.2s;\n",
       "}\n",
       "</style><div class='ee'><ul><li><span class='ee-v'>92.76624195732843</span></li></ul></div><script>function toggleHeader() {\n",
       "    const parent = this.parentElement;\n",
       "    parent.className = parent.className === \"ee-open\" ? \"ee-shut\" : \"ee-open\";\n",
       "}\n",
       "\n",
       "for (let c of document.getElementsByClassName(\"ee-toggle\")) {\n",
       "    c.onclick = toggleHeader;\n",
       "}</script></div>"
      ],
      "text/plain": [
       "<ee.ee_number.Number at 0x2294041bad0>"
      ]
     },
     "execution_count": 6,
     "metadata": {},
     "output_type": "execute_result"
    }
   ],
   "source": [
    "# Native Resolution:\n",
    "projection.nominalScale()"
   ]
  },
  {
   "cell_type": "code",
   "execution_count": 7,
   "id": "531fd584",
   "metadata": {},
   "outputs": [
    {
     "data": {
      "text/html": [
       "\n",
       "            <style>\n",
       "                .geemap-dark {\n",
       "                    --jp-widgets-color: white;\n",
       "                    --jp-widgets-label-color: white;\n",
       "                    --jp-ui-font-color1: white;\n",
       "                    --jp-layout-color2: #454545;\n",
       "                    background-color: #383838;\n",
       "                }\n",
       "\n",
       "                .geemap-dark .jupyter-button {\n",
       "                    --jp-layout-color3: #383838;\n",
       "                }\n",
       "\n",
       "                .geemap-colab {\n",
       "                    background-color: var(--colab-primary-surface-color, white);\n",
       "                }\n",
       "\n",
       "                .geemap-colab .jupyter-button {\n",
       "                    --jp-layout-color3: var(--colab-primary-surface-color, white);\n",
       "                }\n",
       "            </style>\n",
       "            "
      ],
      "text/plain": [
       "<IPython.core.display.HTML object>"
      ]
     },
     "metadata": {},
     "output_type": "display_data"
    },
    {
     "data": {
      "text/plain": [
       "{'max': {'b1': 4269.693359375},\n",
       " 'mean': {'b1': 13.01768505881743},\n",
       " 'min': {'b1': 0},\n",
       " 'std': {'b1': 20.775038775581844},\n",
       " 'sum': {'b1': 74382024.02896315}}"
      ]
     },
     "execution_count": 7,
     "metadata": {},
     "output_type": "execute_result"
    }
   ],
   "source": [
    "pop_sahel_stats = geemap.image_stats(pop_sahel, scale=100)\n",
    "pop_sahel_stats.getInfo()"
   ]
  },
  {
   "cell_type": "code",
   "execution_count": null,
   "id": "07f1018b",
   "metadata": {},
   "outputs": [],
   "source": [
    "'''\n",
    "pop_sahel_stats = 'pop_sahel_stats.csv'\n",
    "geemap.zonal_stats(\n",
    "    pop_sahel,\n",
    "    sahel_adm2,\n",
    "    pop_sahel_stats,\n",
    "    statistics_type='SUM',\n",
    "    scale=100, \n",
    "    return_fc=False\n",
    ")\n",
    "'''"
   ]
  },
  {
   "cell_type": "code",
   "execution_count": 9,
   "id": "a34a5db9",
   "metadata": {},
   "outputs": [
    {
     "data": {
      "text/html": [
       "\n",
       "            <style>\n",
       "                .geemap-dark {\n",
       "                    --jp-widgets-color: white;\n",
       "                    --jp-widgets-label-color: white;\n",
       "                    --jp-ui-font-color1: white;\n",
       "                    --jp-layout-color2: #454545;\n",
       "                    background-color: #383838;\n",
       "                }\n",
       "\n",
       "                .geemap-dark .jupyter-button {\n",
       "                    --jp-layout-color3: #383838;\n",
       "                }\n",
       "\n",
       "                .geemap-colab {\n",
       "                    background-color: var(--colab-primary-surface-color, white);\n",
       "                }\n",
       "\n",
       "                .geemap-colab .jupyter-button {\n",
       "                    --jp-layout-color3: var(--colab-primary-surface-color, white);\n",
       "                }\n",
       "            </style>\n",
       "            "
      ],
      "text/plain": [
       "<IPython.core.display.HTML object>"
      ]
     },
     "metadata": {},
     "output_type": "display_data"
    },
    {
     "data": {
      "application/vnd.jupyter.widget-view+json": {
       "model_id": "06684c296c0246d9a6aa383cefced289",
       "version_major": 2,
       "version_minor": 0
      },
      "text/plain": [
       "Map(center=[0, 0], controls=(WidgetControl(options=['position', 'transparent_bg'], widget=SearchDataGUI(childr…"
      ]
     },
     "execution_count": 9,
     "metadata": {},
     "output_type": "execute_result"
    }
   ],
   "source": [
    "#Initialize a Map\n",
    "Map = geemap.Map()\n",
    "Map.centerObject(sahel_adm2)\n",
    "Map"
   ]
  },
  {
   "cell_type": "code",
   "execution_count": 10,
   "id": "861914f1",
   "metadata": {},
   "outputs": [
    {
     "data": {
      "text/html": [
       "\n",
       "            <style>\n",
       "                .geemap-dark {\n",
       "                    --jp-widgets-color: white;\n",
       "                    --jp-widgets-label-color: white;\n",
       "                    --jp-ui-font-color1: white;\n",
       "                    --jp-layout-color2: #454545;\n",
       "                    background-color: #383838;\n",
       "                }\n",
       "\n",
       "                .geemap-dark .jupyter-button {\n",
       "                    --jp-layout-color3: #383838;\n",
       "                }\n",
       "\n",
       "                .geemap-colab {\n",
       "                    background-color: var(--colab-primary-surface-color, white);\n",
       "                }\n",
       "\n",
       "                .geemap-colab .jupyter-button {\n",
       "                    --jp-layout-color3: var(--colab-primary-surface-color, white);\n",
       "                }\n",
       "            </style>\n",
       "            "
      ],
      "text/plain": [
       "<IPython.core.display.HTML object>"
      ]
     },
     "metadata": {},
     "output_type": "display_data"
    },
    {
     "data": {
      "application/vnd.jupyter.widget-view+json": {
       "model_id": "06684c296c0246d9a6aa383cefced289",
       "version_major": 2,
       "version_minor": 0
      },
      "text/plain": [
       "Map(bottom=3995.0, center=[17.369569793340958, 3.4630404598133353], controls=(WidgetControl(options=['position…"
      ]
     },
     "execution_count": 10,
     "metadata": {},
     "output_type": "execute_result"
    }
   ],
   "source": [
    "# Set visualization/style parameters\n",
    "sahel_adm2_style = {\n",
    "    \"fillColor\": \"00000000\", # transparent color code\n",
    "    \"color\": \"black\", # color of the stroke\n",
    "    \"width\": 0.5 # stroke width\n",
    "}\n",
    "\n",
    "# Display the layer\n",
    "Map.addLayer(sahel_adm2.style(**sahel_adm2_style), {}, \" G5 Sahel Administrative two Boundaries\")\n",
    "Map"
   ]
  },
  {
   "cell_type": "code",
   "execution_count": 11,
   "id": "bb3061ec",
   "metadata": {},
   "outputs": [
    {
     "data": {
      "text/html": [
       "\n",
       "            <style>\n",
       "                .geemap-dark {\n",
       "                    --jp-widgets-color: white;\n",
       "                    --jp-widgets-label-color: white;\n",
       "                    --jp-ui-font-color1: white;\n",
       "                    --jp-layout-color2: #454545;\n",
       "                    background-color: #383838;\n",
       "                }\n",
       "\n",
       "                .geemap-dark .jupyter-button {\n",
       "                    --jp-layout-color3: #383838;\n",
       "                }\n",
       "\n",
       "                .geemap-colab {\n",
       "                    background-color: var(--colab-primary-surface-color, white);\n",
       "                }\n",
       "\n",
       "                .geemap-colab .jupyter-button {\n",
       "                    --jp-layout-color3: var(--colab-primary-surface-color, white);\n",
       "                }\n",
       "            </style>\n",
       "            "
      ],
      "text/plain": [
       "<IPython.core.display.HTML object>"
      ]
     },
     "metadata": {},
     "output_type": "display_data"
    },
    {
     "data": {
      "text/html": [
       "<div>\n",
       "<style scoped>\n",
       "    .dataframe tbody tr th:only-of-type {\n",
       "        vertical-align: middle;\n",
       "    }\n",
       "\n",
       "    .dataframe tbody tr th {\n",
       "        vertical-align: top;\n",
       "    }\n",
       "\n",
       "    .dataframe thead th {\n",
       "        text-align: right;\n",
       "    }\n",
       "</style>\n",
       "<table border=\"1\" class=\"dataframe\">\n",
       "  <thead>\n",
       "    <tr style=\"text-align: right;\">\n",
       "      <th></th>\n",
       "      <th>OBJECTID</th>\n",
       "      <th>Shape_Area</th>\n",
       "      <th>Shape_Le_1</th>\n",
       "      <th>Shape_Leng</th>\n",
       "      <th>admin0Name</th>\n",
       "      <th>admin0Pcod</th>\n",
       "      <th>admin1Name</th>\n",
       "      <th>admin1Pcod</th>\n",
       "      <th>admin2Name</th>\n",
       "      <th>admin2Pcod</th>\n",
       "    </tr>\n",
       "  </thead>\n",
       "  <tbody>\n",
       "    <tr>\n",
       "      <th>0</th>\n",
       "      <td>1516</td>\n",
       "      <td>0.238447</td>\n",
       "      <td>2.981459</td>\n",
       "      <td>2.981459</td>\n",
       "      <td>Burkina Faso</td>\n",
       "      <td>BF</td>\n",
       "      <td>Centre</td>\n",
       "      <td>BF13</td>\n",
       "      <td>Kadiogo</td>\n",
       "      <td>BF1300</td>\n",
       "    </tr>\n",
       "    <tr>\n",
       "      <th>194</th>\n",
       "      <td>2010</td>\n",
       "      <td>0.116923</td>\n",
       "      <td>1.679108</td>\n",
       "      <td>1.679108</td>\n",
       "      <td>Niger</td>\n",
       "      <td>NE</td>\n",
       "      <td>Tillabéri</td>\n",
       "      <td>NE06</td>\n",
       "      <td>Balleyara</td>\n",
       "      <td>NE0603</td>\n",
       "    </tr>\n",
       "    <tr>\n",
       "      <th>193</th>\n",
       "      <td>2008</td>\n",
       "      <td>0.255135</td>\n",
       "      <td>2.578268</td>\n",
       "      <td>2.578268</td>\n",
       "      <td>Niger</td>\n",
       "      <td>NE</td>\n",
       "      <td>Tillabéri</td>\n",
       "      <td>NE06</td>\n",
       "      <td>Ayerou</td>\n",
       "      <td>NE0602</td>\n",
       "    </tr>\n",
       "    <tr>\n",
       "      <th>192</th>\n",
       "      <td>2003</td>\n",
       "      <td>1.041300</td>\n",
       "      <td>5.377827</td>\n",
       "      <td>5.378735</td>\n",
       "      <td>Niger</td>\n",
       "      <td>NE</td>\n",
       "      <td>Tillabéri</td>\n",
       "      <td>NE06</td>\n",
       "      <td>Abala</td>\n",
       "      <td>NE0601</td>\n",
       "    </tr>\n",
       "    <tr>\n",
       "      <th>191</th>\n",
       "      <td>2068</td>\n",
       "      <td>0.063368</td>\n",
       "      <td>0.992387</td>\n",
       "      <td>0.992387</td>\n",
       "      <td>Niger</td>\n",
       "      <td>NE</td>\n",
       "      <td>Tahoua</td>\n",
       "      <td>NE05</td>\n",
       "      <td>Ville de Tahoua</td>\n",
       "      <td>NE0513</td>\n",
       "    </tr>\n",
       "    <tr>\n",
       "      <th>190</th>\n",
       "      <td>2066</td>\n",
       "      <td>1.487823</td>\n",
       "      <td>5.187640</td>\n",
       "      <td>5.187640</td>\n",
       "      <td>Niger</td>\n",
       "      <td>NE</td>\n",
       "      <td>Tahoua</td>\n",
       "      <td>NE05</td>\n",
       "      <td>Tillia</td>\n",
       "      <td>NE0512</td>\n",
       "    </tr>\n",
       "    <tr>\n",
       "      <th>189</th>\n",
       "      <td>2059</td>\n",
       "      <td>0.926053</td>\n",
       "      <td>5.056305</td>\n",
       "      <td>5.056305</td>\n",
       "      <td>Niger</td>\n",
       "      <td>NE</td>\n",
       "      <td>Tahoua</td>\n",
       "      <td>NE05</td>\n",
       "      <td>Tchintabaraden</td>\n",
       "      <td>NE0511</td>\n",
       "    </tr>\n",
       "    <tr>\n",
       "      <th>195</th>\n",
       "      <td>2011</td>\n",
       "      <td>0.542171</td>\n",
       "      <td>3.585039</td>\n",
       "      <td>3.585039</td>\n",
       "      <td>Niger</td>\n",
       "      <td>NE</td>\n",
       "      <td>Tillabéri</td>\n",
       "      <td>NE06</td>\n",
       "      <td>Banibangou</td>\n",
       "      <td>NE0604</td>\n",
       "    </tr>\n",
       "    <tr>\n",
       "      <th>188</th>\n",
       "      <td>2058</td>\n",
       "      <td>2.498677</td>\n",
       "      <td>8.031381</td>\n",
       "      <td>8.031530</td>\n",
       "      <td>Niger</td>\n",
       "      <td>NE</td>\n",
       "      <td>Tahoua</td>\n",
       "      <td>NE05</td>\n",
       "      <td>Tassara</td>\n",
       "      <td>NE0510</td>\n",
       "    </tr>\n",
       "    <tr>\n",
       "      <th>186</th>\n",
       "      <td>2046</td>\n",
       "      <td>0.121863</td>\n",
       "      <td>1.680674</td>\n",
       "      <td>1.680674</td>\n",
       "      <td>Niger</td>\n",
       "      <td>NE</td>\n",
       "      <td>Tahoua</td>\n",
       "      <td>NE05</td>\n",
       "      <td>Malbaza</td>\n",
       "      <td>NE0508</td>\n",
       "    </tr>\n",
       "  </tbody>\n",
       "</table>\n",
       "</div>"
      ],
      "text/plain": [
       "     OBJECTID  Shape_Area  Shape_Le_1  Shape_Leng    admin0Name admin0Pcod  \\\n",
       "0        1516    0.238447    2.981459    2.981459  Burkina Faso         BF   \n",
       "194      2010    0.116923    1.679108    1.679108         Niger         NE   \n",
       "193      2008    0.255135    2.578268    2.578268         Niger         NE   \n",
       "192      2003    1.041300    5.377827    5.378735         Niger         NE   \n",
       "191      2068    0.063368    0.992387    0.992387         Niger         NE   \n",
       "190      2066    1.487823    5.187640    5.187640         Niger         NE   \n",
       "189      2059    0.926053    5.056305    5.056305         Niger         NE   \n",
       "195      2011    0.542171    3.585039    3.585039         Niger         NE   \n",
       "188      2058    2.498677    8.031381    8.031530         Niger         NE   \n",
       "186      2046    0.121863    1.680674    1.680674         Niger         NE   \n",
       "\n",
       "    admin1Name admin1Pcod       admin2Name admin2Pcod  \n",
       "0       Centre       BF13          Kadiogo     BF1300  \n",
       "194  Tillabéri       NE06        Balleyara     NE0603  \n",
       "193  Tillabéri       NE06           Ayerou     NE0602  \n",
       "192  Tillabéri       NE06            Abala     NE0601  \n",
       "191     Tahoua       NE05  Ville de Tahoua     NE0513  \n",
       "190     Tahoua       NE05           Tillia     NE0512  \n",
       "189     Tahoua       NE05   Tchintabaraden     NE0511  \n",
       "195  Tillabéri       NE06       Banibangou     NE0604  \n",
       "188     Tahoua       NE05          Tassara     NE0510  \n",
       "186     Tahoua       NE05          Malbaza     NE0508  "
      ]
     },
     "execution_count": 11,
     "metadata": {},
     "output_type": "execute_result"
    }
   ],
   "source": [
    "# To preview first five rows. \n",
    "def preview(df, n=5):\n",
    "    \"\"\"return n rows that have fewest number of nulls\"\"\"\n",
    "    order = df.isnull().sum(axis=1).sort_values().head(n).index\n",
    "    return df.loc[order]\n",
    "\n",
    "# View the Datasets\n",
    "df_sahel_adm2 = geemap.ee_to_df(sahel_adm2, sort_columns=True)\n",
    "\n",
    "preview(df_sahel_adm2, 10)"
   ]
  },
  {
   "cell_type": "code",
   "execution_count": 12,
   "id": "0b078296",
   "metadata": {},
   "outputs": [
    {
     "data": {
      "text/html": [
       "\n",
       "            <style>\n",
       "                .geemap-dark {\n",
       "                    --jp-widgets-color: white;\n",
       "                    --jp-widgets-label-color: white;\n",
       "                    --jp-ui-font-color1: white;\n",
       "                    --jp-layout-color2: #454545;\n",
       "                    background-color: #383838;\n",
       "                }\n",
       "\n",
       "                .geemap-dark .jupyter-button {\n",
       "                    --jp-layout-color3: #383838;\n",
       "                }\n",
       "\n",
       "                .geemap-colab {\n",
       "                    background-color: var(--colab-primary-surface-color, white);\n",
       "                }\n",
       "\n",
       "                .geemap-colab .jupyter-button {\n",
       "                    --jp-layout-color3: var(--colab-primary-surface-color, white);\n",
       "                }\n",
       "            </style>\n",
       "            "
      ],
      "text/plain": [
       "<IPython.core.display.HTML object>"
      ]
     },
     "metadata": {},
     "output_type": "display_data"
    },
    {
     "data": {
      "text/html": [
       "<div>\n",
       "<style scoped>\n",
       "    .dataframe tbody tr th:only-of-type {\n",
       "        vertical-align: middle;\n",
       "    }\n",
       "\n",
       "    .dataframe tbody tr th {\n",
       "        vertical-align: top;\n",
       "    }\n",
       "\n",
       "    .dataframe thead th {\n",
       "        text-align: right;\n",
       "    }\n",
       "</style>\n",
       "<table border=\"1\" class=\"dataframe\">\n",
       "  <thead>\n",
       "    <tr style=\"text-align: right;\">\n",
       "      <th></th>\n",
       "      <th>OBJECTID</th>\n",
       "      <th>Shape_Area</th>\n",
       "      <th>Shape_Le_1</th>\n",
       "      <th>Shape_Leng</th>\n",
       "      <th>admin0Name</th>\n",
       "      <th>admin0Pcod</th>\n",
       "      <th>admin1Name</th>\n",
       "      <th>admin1Pcod</th>\n",
       "      <th>admin2Name</th>\n",
       "      <th>admin2Pcod</th>\n",
       "    </tr>\n",
       "  </thead>\n",
       "  <tbody>\n",
       "    <tr>\n",
       "      <th>0</th>\n",
       "      <td>1516</td>\n",
       "      <td>0.238447</td>\n",
       "      <td>2.981459</td>\n",
       "      <td>2.981459</td>\n",
       "      <td>Burkina Faso</td>\n",
       "      <td>BF</td>\n",
       "      <td>Centre</td>\n",
       "      <td>BF13</td>\n",
       "      <td>Kadiogo</td>\n",
       "      <td>BF1300</td>\n",
       "    </tr>\n",
       "    <tr>\n",
       "      <th>1</th>\n",
       "      <td>1417</td>\n",
       "      <td>0.376722</td>\n",
       "      <td>4.830069</td>\n",
       "      <td>4.830069</td>\n",
       "      <td>Burkina Faso</td>\n",
       "      <td>BF</td>\n",
       "      <td>Boucle du Mouhoun</td>\n",
       "      <td>BF46</td>\n",
       "      <td>Bale</td>\n",
       "      <td>BF4601</td>\n",
       "    </tr>\n",
       "    <tr>\n",
       "      <th>2</th>\n",
       "      <td>1527</td>\n",
       "      <td>0.490583</td>\n",
       "      <td>5.015746</td>\n",
       "      <td>5.015746</td>\n",
       "      <td>Burkina Faso</td>\n",
       "      <td>BF</td>\n",
       "      <td>Boucle du Mouhoun</td>\n",
       "      <td>BF46</td>\n",
       "      <td>Banwa</td>\n",
       "      <td>BF4602</td>\n",
       "    </tr>\n",
       "    <tr>\n",
       "      <th>3</th>\n",
       "      <td>1530</td>\n",
       "      <td>0.571324</td>\n",
       "      <td>5.523416</td>\n",
       "      <td>5.523416</td>\n",
       "      <td>Burkina Faso</td>\n",
       "      <td>BF</td>\n",
       "      <td>Boucle du Mouhoun</td>\n",
       "      <td>BF46</td>\n",
       "      <td>Mouhoun</td>\n",
       "      <td>BF4604</td>\n",
       "    </tr>\n",
       "    <tr>\n",
       "      <th>4</th>\n",
       "      <td>1559</td>\n",
       "      <td>0.309684</td>\n",
       "      <td>2.757532</td>\n",
       "      <td>2.757532</td>\n",
       "      <td>Burkina Faso</td>\n",
       "      <td>BF</td>\n",
       "      <td>Boucle du Mouhoun</td>\n",
       "      <td>BF46</td>\n",
       "      <td>Nayala</td>\n",
       "      <td>BF4605</td>\n",
       "    </tr>\n",
       "  </tbody>\n",
       "</table>\n",
       "</div>"
      ],
      "text/plain": [
       "   OBJECTID  Shape_Area  Shape_Le_1  Shape_Leng    admin0Name admin0Pcod  \\\n",
       "0      1516    0.238447    2.981459    2.981459  Burkina Faso         BF   \n",
       "1      1417    0.376722    4.830069    4.830069  Burkina Faso         BF   \n",
       "2      1527    0.490583    5.015746    5.015746  Burkina Faso         BF   \n",
       "3      1530    0.571324    5.523416    5.523416  Burkina Faso         BF   \n",
       "4      1559    0.309684    2.757532    2.757532  Burkina Faso         BF   \n",
       "\n",
       "          admin1Name admin1Pcod admin2Name admin2Pcod  \n",
       "0             Centre       BF13    Kadiogo     BF1300  \n",
       "1  Boucle du Mouhoun       BF46       Bale     BF4601  \n",
       "2  Boucle du Mouhoun       BF46      Banwa     BF4602  \n",
       "3  Boucle du Mouhoun       BF46    Mouhoun     BF4604  \n",
       "4  Boucle du Mouhoun       BF46     Nayala     BF4605  "
      ]
     },
     "execution_count": 12,
     "metadata": {},
     "output_type": "execute_result"
    }
   ],
   "source": [
    "#Let's check the first five rows of the data\n",
    "df_sahel_adm2.head()"
   ]
  },
  {
   "cell_type": "markdown",
   "id": "5dcebdbc",
   "metadata": {},
   "source": [
    "Let's check the **info** of the data"
   ]
  },
  {
   "cell_type": "code",
   "execution_count": 13,
   "id": "9215bbdf",
   "metadata": {},
   "outputs": [
    {
     "data": {
      "text/html": [
       "\n",
       "            <style>\n",
       "                .geemap-dark {\n",
       "                    --jp-widgets-color: white;\n",
       "                    --jp-widgets-label-color: white;\n",
       "                    --jp-ui-font-color1: white;\n",
       "                    --jp-layout-color2: #454545;\n",
       "                    background-color: #383838;\n",
       "                }\n",
       "\n",
       "                .geemap-dark .jupyter-button {\n",
       "                    --jp-layout-color3: #383838;\n",
       "                }\n",
       "\n",
       "                .geemap-colab {\n",
       "                    background-color: var(--colab-primary-surface-color, white);\n",
       "                }\n",
       "\n",
       "                .geemap-colab .jupyter-button {\n",
       "                    --jp-layout-color3: var(--colab-primary-surface-color, white);\n",
       "                }\n",
       "            </style>\n",
       "            "
      ],
      "text/plain": [
       "<IPython.core.display.HTML object>"
      ]
     },
     "metadata": {},
     "output_type": "display_data"
    },
    {
     "name": "stdout",
     "output_type": "stream",
     "text": [
      "<class 'pandas.core.frame.DataFrame'>\n",
      "RangeIndex: 287 entries, 0 to 286\n",
      "Data columns (total 10 columns):\n",
      " #   Column      Non-Null Count  Dtype  \n",
      "---  ------      --------------  -----  \n",
      " 0   OBJECTID    287 non-null    int64  \n",
      " 1   Shape_Area  287 non-null    float64\n",
      " 2   Shape_Le_1  287 non-null    float64\n",
      " 3   Shape_Leng  287 non-null    float64\n",
      " 4   admin0Name  287 non-null    object \n",
      " 5   admin0Pcod  287 non-null    object \n",
      " 6   admin1Name  287 non-null    object \n",
      " 7   admin1Pcod  287 non-null    object \n",
      " 8   admin2Name  287 non-null    object \n",
      " 9   admin2Pcod  287 non-null    object \n",
      "dtypes: float64(3), int64(1), object(6)\n",
      "memory usage: 22.6+ KB\n"
     ]
    }
   ],
   "source": [
    "# Checking the info of the dataset\n",
    "df_sahel_adm2.info()"
   ]
  },
  {
   "cell_type": "markdown",
   "id": "0a9979c6",
   "metadata": {},
   "source": [
    "- There are 287 non null values in the dataset."
   ]
  },
  {
   "cell_type": "code",
   "execution_count": 14,
   "id": "1eba4e69",
   "metadata": {},
   "outputs": [
    {
     "data": {
      "text/html": [
       "\n",
       "            <style>\n",
       "                .geemap-dark {\n",
       "                    --jp-widgets-color: white;\n",
       "                    --jp-widgets-label-color: white;\n",
       "                    --jp-ui-font-color1: white;\n",
       "                    --jp-layout-color2: #454545;\n",
       "                    background-color: #383838;\n",
       "                }\n",
       "\n",
       "                .geemap-dark .jupyter-button {\n",
       "                    --jp-layout-color3: #383838;\n",
       "                }\n",
       "\n",
       "                .geemap-colab {\n",
       "                    background-color: var(--colab-primary-surface-color, white);\n",
       "                }\n",
       "\n",
       "                .geemap-colab .jupyter-button {\n",
       "                    --jp-layout-color3: var(--colab-primary-surface-color, white);\n",
       "                }\n",
       "            </style>\n",
       "            "
      ],
      "text/plain": [
       "<IPython.core.display.HTML object>"
      ]
     },
     "metadata": {},
     "output_type": "display_data"
    },
    {
     "data": {
      "text/plain": [
       "<Axes: xlabel='admin0Pcod'>"
      ]
     },
     "execution_count": 14,
     "metadata": {},
     "output_type": "execute_result"
    },
    {
     "data": {
      "image/png": "[encoded data removed]",
      "text/plain": [
       "<Figure size 500x500 with 1 Axes>"
      ]
     },
     "metadata": {},
     "output_type": "display_data"
    }
   ],
   "source": [
    "# Plotting countplot for admin0Pcod (G5 Sahel Countries)\n",
    "df_sahel_adm2.admin0Pcod.value_counts().sort_values(ascending=False).plot(kind='bar' ,figsize=(5,5))"
   ]
  },
  {
   "cell_type": "code",
   "execution_count": null,
   "id": "b5ba9236",
   "metadata": {},
   "outputs": [],
   "source": []
  }
 ],
 "metadata": {
  "kernelspec": {
   "display_name": "Python 3 (ipykernel)",
   "language": "python",
   "name": "python3"
  },
  "language_info": {
   "codemirror_mode": {
    "name": "ipython",
    "version": 3
   },
   "file_extension": ".py",
   "mimetype": "text/x-python",
   "name": "python",
   "nbconvert_exporter": "python",
   "pygments_lexer": "ipython3",
   "version": "3.11.5"
  }
 },
 "nbformat": 4,
 "nbformat_minor": 5
}
